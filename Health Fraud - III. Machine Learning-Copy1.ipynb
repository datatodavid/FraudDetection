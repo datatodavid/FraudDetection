{
 "cells": [
  {
   "cell_type": "markdown",
   "id": "15c5589c",
   "metadata": {},
   "source": [
    "# Machine Learning Processing\n",
    "\n",
    "### Contents\n",
    "\n",
    " - I. [Data Importing & Processing](#Data-Import-and-Processing)\n",
    " - II. [Modling Plan](#Modeling-Plan)\n",
    "     - [Iteration 0](#Iteration-0:-Tree-based-Naivete)\n",
    "     - [Iteration 1](#Iteration-1:-Baby's-First-Pipe)\n",
    "     - [Iteration 2](#Iteration-2:-Give-the-Computer-a-Chance)\n",
    "     - [Progress So Far](#Progress-Report-Card)\n",
    "     - [Optimization]\n",
    " - III. [Results & Discussion]\n",
    "     - [Business Impact]\n",
    "     - [Permutation Importance]"
   ]
  },
  {
   "cell_type": "code",
   "execution_count": 90,
   "id": "88e3f429",
   "metadata": {},
   "outputs": [],
   "source": [
    "# Import packages etc.\n",
    "import pandas as pd\n",
    "import seaborn as sns\n",
    "import numpy as np\n",
    "import matplotlib.pyplot as plt\n",
    "from scipy import stats\n",
    "import pickle"
   ]
  },
  {
   "cell_type": "markdown",
   "id": "a22f8be7",
   "metadata": {},
   "source": [
    "## Data Import and Processing"
   ]
  },
  {
   "cell_type": "code",
   "execution_count": 91,
   "id": "8375dcdf",
   "metadata": {},
   "outputs": [],
   "source": [
    "provdat = pickle.load(open('Xtrain.pickle', 'rb'))\n",
    "provtarg = pickle.load(open('Xtest.pickle', 'rb'))\n",
    "provgroup = pickle.load(open('Xdata.pickle', 'rb'))"
   ]
  },
  {
   "cell_type": "code",
   "execution_count": 92,
   "id": "bb6c6577",
   "metadata": {},
   "outputs": [
    {
     "name": "stdout",
     "output_type": "stream",
     "text": [
      "Data Shape: (5410, 70)\n"
     ]
    },
    {
     "data": {
      "text/html": [
       "<div>\n",
       "<style scoped>\n",
       "    .dataframe tbody tr th:only-of-type {\n",
       "        vertical-align: middle;\n",
       "    }\n",
       "\n",
       "    .dataframe tbody tr th {\n",
       "        vertical-align: top;\n",
       "    }\n",
       "\n",
       "    .dataframe thead th {\n",
       "        text-align: right;\n",
       "    }\n",
       "</style>\n",
       "<table border=\"1\" class=\"dataframe\">\n",
       "  <thead>\n",
       "    <tr style=\"text-align: right;\">\n",
       "      <th></th>\n",
       "      <th>Number_of_Claims</th>\n",
       "      <th>Num_Unique_Patients</th>\n",
       "      <th>Num_Unique_Docs</th>\n",
       "      <th>Num_Unique_Diag_Codes</th>\n",
       "      <th>Num_Unique_Proc_Codes</th>\n",
       "      <th>Mean_InscClaimAmtReimbursed</th>\n",
       "      <th>Mean_DeductibleAmtPaid</th>\n",
       "      <th>Mean_Reimbursement_per_Day</th>\n",
       "      <th>Mean_Length_of_Stay</th>\n",
       "      <th>Mean_Length_of_Claim</th>\n",
       "      <th>...</th>\n",
       "      <th>Perc_ClaimStartDt_March</th>\n",
       "      <th>Perc_ClaimStartDt_April</th>\n",
       "      <th>Perc_ClaimStartDt_May</th>\n",
       "      <th>Perc_ClaimStartDt_June</th>\n",
       "      <th>Perc_ClaimStartDt_July</th>\n",
       "      <th>Perc_ClaimStartDt_August</th>\n",
       "      <th>Perc_ClaimStartDt_September</th>\n",
       "      <th>Perc_ClaimStartDt_October</th>\n",
       "      <th>Perc_ClaimStartDt_November</th>\n",
       "      <th>Perc_ClaimStartDt_December</th>\n",
       "    </tr>\n",
       "    <tr>\n",
       "      <th>Provider</th>\n",
       "      <th></th>\n",
       "      <th></th>\n",
       "      <th></th>\n",
       "      <th></th>\n",
       "      <th></th>\n",
       "      <th></th>\n",
       "      <th></th>\n",
       "      <th></th>\n",
       "      <th></th>\n",
       "      <th></th>\n",
       "      <th></th>\n",
       "      <th></th>\n",
       "      <th></th>\n",
       "      <th></th>\n",
       "      <th></th>\n",
       "      <th></th>\n",
       "      <th></th>\n",
       "      <th></th>\n",
       "      <th></th>\n",
       "      <th></th>\n",
       "      <th></th>\n",
       "    </tr>\n",
       "  </thead>\n",
       "  <tbody>\n",
       "    <tr>\n",
       "      <th>PRV51001</th>\n",
       "      <td>25</td>\n",
       "      <td>24</td>\n",
       "      <td>19</td>\n",
       "      <td>72</td>\n",
       "      <td>3</td>\n",
       "      <td>4185.60</td>\n",
       "      <td>213.60</td>\n",
       "      <td>3700.00</td>\n",
       "      <td>6.00</td>\n",
       "      <td>2.44</td>\n",
       "      <td>...</td>\n",
       "      <td>0.12</td>\n",
       "      <td>0.08</td>\n",
       "      <td>0.20</td>\n",
       "      <td>0.12</td>\n",
       "      <td>0.08</td>\n",
       "      <td>0.04</td>\n",
       "      <td>0.04</td>\n",
       "      <td>0.00</td>\n",
       "      <td>0.00</td>\n",
       "      <td>0.08</td>\n",
       "    </tr>\n",
       "    <tr>\n",
       "      <th>PRV51003</th>\n",
       "      <td>132</td>\n",
       "      <td>117</td>\n",
       "      <td>51</td>\n",
       "      <td>365</td>\n",
       "      <td>39</td>\n",
       "      <td>4588.41</td>\n",
       "      <td>502.17</td>\n",
       "      <td>2137.42</td>\n",
       "      <td>6.16</td>\n",
       "      <td>4.67</td>\n",
       "      <td>...</td>\n",
       "      <td>0.08</td>\n",
       "      <td>0.08</td>\n",
       "      <td>0.06</td>\n",
       "      <td>0.11</td>\n",
       "      <td>0.08</td>\n",
       "      <td>0.10</td>\n",
       "      <td>0.07</td>\n",
       "      <td>0.08</td>\n",
       "      <td>0.08</td>\n",
       "      <td>0.05</td>\n",
       "    </tr>\n",
       "    <tr>\n",
       "      <th>PRV51004</th>\n",
       "      <td>149</td>\n",
       "      <td>138</td>\n",
       "      <td>48</td>\n",
       "      <td>267</td>\n",
       "      <td>0</td>\n",
       "      <td>350.13</td>\n",
       "      <td>2.08</td>\n",
       "      <td>0.00</td>\n",
       "      <td>0.00</td>\n",
       "      <td>2.43</td>\n",
       "      <td>...</td>\n",
       "      <td>0.12</td>\n",
       "      <td>0.07</td>\n",
       "      <td>0.05</td>\n",
       "      <td>0.07</td>\n",
       "      <td>0.09</td>\n",
       "      <td>0.07</td>\n",
       "      <td>0.08</td>\n",
       "      <td>0.07</td>\n",
       "      <td>0.05</td>\n",
       "      <td>0.11</td>\n",
       "    </tr>\n",
       "    <tr>\n",
       "      <th>PRV51005</th>\n",
       "      <td>1165</td>\n",
       "      <td>495</td>\n",
       "      <td>7</td>\n",
       "      <td>1294</td>\n",
       "      <td>0</td>\n",
       "      <td>241.12</td>\n",
       "      <td>3.18</td>\n",
       "      <td>0.00</td>\n",
       "      <td>0.00</td>\n",
       "      <td>2.09</td>\n",
       "      <td>...</td>\n",
       "      <td>0.10</td>\n",
       "      <td>0.08</td>\n",
       "      <td>0.07</td>\n",
       "      <td>0.09</td>\n",
       "      <td>0.08</td>\n",
       "      <td>0.08</td>\n",
       "      <td>0.09</td>\n",
       "      <td>0.10</td>\n",
       "      <td>0.06</td>\n",
       "      <td>0.07</td>\n",
       "    </tr>\n",
       "    <tr>\n",
       "      <th>PRV51007</th>\n",
       "      <td>72</td>\n",
       "      <td>58</td>\n",
       "      <td>11</td>\n",
       "      <td>165</td>\n",
       "      <td>1</td>\n",
       "      <td>468.19</td>\n",
       "      <td>45.33</td>\n",
       "      <td>1080.56</td>\n",
       "      <td>6.33</td>\n",
       "      <td>1.96</td>\n",
       "      <td>...</td>\n",
       "      <td>0.12</td>\n",
       "      <td>0.06</td>\n",
       "      <td>0.12</td>\n",
       "      <td>0.12</td>\n",
       "      <td>0.04</td>\n",
       "      <td>0.08</td>\n",
       "      <td>0.10</td>\n",
       "      <td>0.03</td>\n",
       "      <td>0.08</td>\n",
       "      <td>0.08</td>\n",
       "    </tr>\n",
       "  </tbody>\n",
       "</table>\n",
       "<p>5 rows × 70 columns</p>\n",
       "</div>"
      ],
      "text/plain": [
       "          Number_of_Claims  Num_Unique_Patients  Num_Unique_Docs  \\\n",
       "Provider                                                           \n",
       "PRV51001                25                   24               19   \n",
       "PRV51003               132                  117               51   \n",
       "PRV51004               149                  138               48   \n",
       "PRV51005              1165                  495                7   \n",
       "PRV51007                72                   58               11   \n",
       "\n",
       "          Num_Unique_Diag_Codes  Num_Unique_Proc_Codes  \\\n",
       "Provider                                                 \n",
       "PRV51001                     72                      3   \n",
       "PRV51003                    365                     39   \n",
       "PRV51004                    267                      0   \n",
       "PRV51005                   1294                      0   \n",
       "PRV51007                    165                      1   \n",
       "\n",
       "          Mean_InscClaimAmtReimbursed  Mean_DeductibleAmtPaid  \\\n",
       "Provider                                                        \n",
       "PRV51001                      4185.60                  213.60   \n",
       "PRV51003                      4588.41                  502.17   \n",
       "PRV51004                       350.13                    2.08   \n",
       "PRV51005                       241.12                    3.18   \n",
       "PRV51007                       468.19                   45.33   \n",
       "\n",
       "          Mean_Reimbursement_per_Day  Mean_Length_of_Stay  \\\n",
       "Provider                                                    \n",
       "PRV51001                     3700.00                 6.00   \n",
       "PRV51003                     2137.42                 6.16   \n",
       "PRV51004                        0.00                 0.00   \n",
       "PRV51005                        0.00                 0.00   \n",
       "PRV51007                     1080.56                 6.33   \n",
       "\n",
       "          Mean_Length_of_Claim  ...  Perc_ClaimStartDt_March  \\\n",
       "Provider                        ...                            \n",
       "PRV51001                  2.44  ...                     0.12   \n",
       "PRV51003                  4.67  ...                     0.08   \n",
       "PRV51004                  2.43  ...                     0.12   \n",
       "PRV51005                  2.09  ...                     0.10   \n",
       "PRV51007                  1.96  ...                     0.12   \n",
       "\n",
       "          Perc_ClaimStartDt_April  Perc_ClaimStartDt_May  \\\n",
       "Provider                                                   \n",
       "PRV51001                     0.08                   0.20   \n",
       "PRV51003                     0.08                   0.06   \n",
       "PRV51004                     0.07                   0.05   \n",
       "PRV51005                     0.08                   0.07   \n",
       "PRV51007                     0.06                   0.12   \n",
       "\n",
       "          Perc_ClaimStartDt_June  Perc_ClaimStartDt_July  \\\n",
       "Provider                                                   \n",
       "PRV51001                    0.12                    0.08   \n",
       "PRV51003                    0.11                    0.08   \n",
       "PRV51004                    0.07                    0.09   \n",
       "PRV51005                    0.09                    0.08   \n",
       "PRV51007                    0.12                    0.04   \n",
       "\n",
       "          Perc_ClaimStartDt_August  Perc_ClaimStartDt_September  \\\n",
       "Provider                                                          \n",
       "PRV51001                      0.04                         0.04   \n",
       "PRV51003                      0.10                         0.07   \n",
       "PRV51004                      0.07                         0.08   \n",
       "PRV51005                      0.08                         0.09   \n",
       "PRV51007                      0.08                         0.10   \n",
       "\n",
       "          Perc_ClaimStartDt_October  Perc_ClaimStartDt_November  \\\n",
       "Provider                                                          \n",
       "PRV51001                       0.00                        0.00   \n",
       "PRV51003                       0.08                        0.08   \n",
       "PRV51004                       0.07                        0.05   \n",
       "PRV51005                       0.10                        0.06   \n",
       "PRV51007                       0.03                        0.08   \n",
       "\n",
       "          Perc_ClaimStartDt_December  \n",
       "Provider                              \n",
       "PRV51001                        0.08  \n",
       "PRV51003                        0.05  \n",
       "PRV51004                        0.11  \n",
       "PRV51005                        0.07  \n",
       "PRV51007                        0.08  \n",
       "\n",
       "[5 rows x 70 columns]"
      ]
     },
     "execution_count": 92,
     "metadata": {},
     "output_type": "execute_result"
    }
   ],
   "source": [
    "# Examining Pre-Aggregated Per-Provider Data\n",
    "print('Data Shape: ' + str(provdat.shape))\n",
    "provdat.head()"
   ]
  },
  {
   "cell_type": "code",
   "execution_count": 93,
   "id": "e77348c7",
   "metadata": {},
   "outputs": [
    {
     "name": "stdout",
     "output_type": "stream",
     "text": [
      "Data Shape: (5410,)\n"
     ]
    },
    {
     "data": {
      "text/plain": [
       "Provider\n",
       "PRV51001    0\n",
       "PRV51003    1\n",
       "PRV51004    0\n",
       "PRV51005    1\n",
       "PRV51007    0\n",
       "Name: PotentialFraud, dtype: int64"
      ]
     },
     "execution_count": 93,
     "metadata": {},
     "output_type": "execute_result"
    }
   ],
   "source": [
    "# Examining Per-Provider Incidence of Fradulence\n",
    "print('Data Shape: ' + str(provtarg.shape))\n",
    "provtarg.head()"
   ]
  },
  {
   "cell_type": "code",
   "execution_count": 94,
   "id": "4715a100",
   "metadata": {},
   "outputs": [
    {
     "data": {
      "text/html": [
       "<div>\n",
       "<style scoped>\n",
       "    .dataframe tbody tr th:only-of-type {\n",
       "        vertical-align: middle;\n",
       "    }\n",
       "\n",
       "    .dataframe tbody tr th {\n",
       "        vertical-align: top;\n",
       "    }\n",
       "\n",
       "    .dataframe thead th {\n",
       "        text-align: right;\n",
       "    }\n",
       "</style>\n",
       "<table border=\"1\" class=\"dataframe\">\n",
       "  <thead>\n",
       "    <tr style=\"text-align: right;\">\n",
       "      <th></th>\n",
       "      <th>Number_of_Claims</th>\n",
       "      <th>Num_Unique_Patients</th>\n",
       "      <th>Num_Unique_Docs</th>\n",
       "      <th>Num_Unique_Diag_Codes</th>\n",
       "      <th>Num_Unique_Proc_Codes</th>\n",
       "      <th>Mean_InscClaimAmtReimbursed</th>\n",
       "      <th>Mean_DeductibleAmtPaid</th>\n",
       "      <th>Mean_Reimbursement_per_Day</th>\n",
       "      <th>Mean_Length_of_Stay</th>\n",
       "      <th>Mean_Length_of_Claim</th>\n",
       "      <th>...</th>\n",
       "      <th>Perc_ClaimStartDt_April</th>\n",
       "      <th>Perc_ClaimStartDt_May</th>\n",
       "      <th>Perc_ClaimStartDt_June</th>\n",
       "      <th>Perc_ClaimStartDt_July</th>\n",
       "      <th>Perc_ClaimStartDt_August</th>\n",
       "      <th>Perc_ClaimStartDt_September</th>\n",
       "      <th>Perc_ClaimStartDt_October</th>\n",
       "      <th>Perc_ClaimStartDt_November</th>\n",
       "      <th>Perc_ClaimStartDt_December</th>\n",
       "      <th>PotentialFraud</th>\n",
       "    </tr>\n",
       "    <tr>\n",
       "      <th>Provider</th>\n",
       "      <th></th>\n",
       "      <th></th>\n",
       "      <th></th>\n",
       "      <th></th>\n",
       "      <th></th>\n",
       "      <th></th>\n",
       "      <th></th>\n",
       "      <th></th>\n",
       "      <th></th>\n",
       "      <th></th>\n",
       "      <th></th>\n",
       "      <th></th>\n",
       "      <th></th>\n",
       "      <th></th>\n",
       "      <th></th>\n",
       "      <th></th>\n",
       "      <th></th>\n",
       "      <th></th>\n",
       "      <th></th>\n",
       "      <th></th>\n",
       "      <th></th>\n",
       "    </tr>\n",
       "  </thead>\n",
       "  <tbody>\n",
       "    <tr>\n",
       "      <th>PRV51001</th>\n",
       "      <td>25</td>\n",
       "      <td>24</td>\n",
       "      <td>19</td>\n",
       "      <td>72</td>\n",
       "      <td>3</td>\n",
       "      <td>4185.60</td>\n",
       "      <td>213.60</td>\n",
       "      <td>3700.00</td>\n",
       "      <td>6.00</td>\n",
       "      <td>2.44</td>\n",
       "      <td>...</td>\n",
       "      <td>0.08</td>\n",
       "      <td>0.20</td>\n",
       "      <td>0.12</td>\n",
       "      <td>0.08</td>\n",
       "      <td>0.04</td>\n",
       "      <td>0.04</td>\n",
       "      <td>0.00</td>\n",
       "      <td>0.00</td>\n",
       "      <td>0.08</td>\n",
       "      <td>0</td>\n",
       "    </tr>\n",
       "    <tr>\n",
       "      <th>PRV51003</th>\n",
       "      <td>132</td>\n",
       "      <td>117</td>\n",
       "      <td>51</td>\n",
       "      <td>365</td>\n",
       "      <td>39</td>\n",
       "      <td>4588.41</td>\n",
       "      <td>502.17</td>\n",
       "      <td>2137.42</td>\n",
       "      <td>6.16</td>\n",
       "      <td>4.67</td>\n",
       "      <td>...</td>\n",
       "      <td>0.08</td>\n",
       "      <td>0.06</td>\n",
       "      <td>0.11</td>\n",
       "      <td>0.08</td>\n",
       "      <td>0.10</td>\n",
       "      <td>0.07</td>\n",
       "      <td>0.08</td>\n",
       "      <td>0.08</td>\n",
       "      <td>0.05</td>\n",
       "      <td>1</td>\n",
       "    </tr>\n",
       "    <tr>\n",
       "      <th>PRV51004</th>\n",
       "      <td>149</td>\n",
       "      <td>138</td>\n",
       "      <td>48</td>\n",
       "      <td>267</td>\n",
       "      <td>0</td>\n",
       "      <td>350.13</td>\n",
       "      <td>2.08</td>\n",
       "      <td>0.00</td>\n",
       "      <td>0.00</td>\n",
       "      <td>2.43</td>\n",
       "      <td>...</td>\n",
       "      <td>0.07</td>\n",
       "      <td>0.05</td>\n",
       "      <td>0.07</td>\n",
       "      <td>0.09</td>\n",
       "      <td>0.07</td>\n",
       "      <td>0.08</td>\n",
       "      <td>0.07</td>\n",
       "      <td>0.05</td>\n",
       "      <td>0.11</td>\n",
       "      <td>0</td>\n",
       "    </tr>\n",
       "    <tr>\n",
       "      <th>PRV51005</th>\n",
       "      <td>1165</td>\n",
       "      <td>495</td>\n",
       "      <td>7</td>\n",
       "      <td>1294</td>\n",
       "      <td>0</td>\n",
       "      <td>241.12</td>\n",
       "      <td>3.18</td>\n",
       "      <td>0.00</td>\n",
       "      <td>0.00</td>\n",
       "      <td>2.09</td>\n",
       "      <td>...</td>\n",
       "      <td>0.08</td>\n",
       "      <td>0.07</td>\n",
       "      <td>0.09</td>\n",
       "      <td>0.08</td>\n",
       "      <td>0.08</td>\n",
       "      <td>0.09</td>\n",
       "      <td>0.10</td>\n",
       "      <td>0.06</td>\n",
       "      <td>0.07</td>\n",
       "      <td>1</td>\n",
       "    </tr>\n",
       "    <tr>\n",
       "      <th>PRV51007</th>\n",
       "      <td>72</td>\n",
       "      <td>58</td>\n",
       "      <td>11</td>\n",
       "      <td>165</td>\n",
       "      <td>1</td>\n",
       "      <td>468.19</td>\n",
       "      <td>45.33</td>\n",
       "      <td>1080.56</td>\n",
       "      <td>6.33</td>\n",
       "      <td>1.96</td>\n",
       "      <td>...</td>\n",
       "      <td>0.06</td>\n",
       "      <td>0.12</td>\n",
       "      <td>0.12</td>\n",
       "      <td>0.04</td>\n",
       "      <td>0.08</td>\n",
       "      <td>0.10</td>\n",
       "      <td>0.03</td>\n",
       "      <td>0.08</td>\n",
       "      <td>0.08</td>\n",
       "      <td>0</td>\n",
       "    </tr>\n",
       "  </tbody>\n",
       "</table>\n",
       "<p>5 rows × 71 columns</p>\n",
       "</div>"
      ],
      "text/plain": [
       "          Number_of_Claims  Num_Unique_Patients  Num_Unique_Docs  \\\n",
       "Provider                                                           \n",
       "PRV51001                25                   24               19   \n",
       "PRV51003               132                  117               51   \n",
       "PRV51004               149                  138               48   \n",
       "PRV51005              1165                  495                7   \n",
       "PRV51007                72                   58               11   \n",
       "\n",
       "          Num_Unique_Diag_Codes  Num_Unique_Proc_Codes  \\\n",
       "Provider                                                 \n",
       "PRV51001                     72                      3   \n",
       "PRV51003                    365                     39   \n",
       "PRV51004                    267                      0   \n",
       "PRV51005                   1294                      0   \n",
       "PRV51007                    165                      1   \n",
       "\n",
       "          Mean_InscClaimAmtReimbursed  Mean_DeductibleAmtPaid  \\\n",
       "Provider                                                        \n",
       "PRV51001                      4185.60                  213.60   \n",
       "PRV51003                      4588.41                  502.17   \n",
       "PRV51004                       350.13                    2.08   \n",
       "PRV51005                       241.12                    3.18   \n",
       "PRV51007                       468.19                   45.33   \n",
       "\n",
       "          Mean_Reimbursement_per_Day  Mean_Length_of_Stay  \\\n",
       "Provider                                                    \n",
       "PRV51001                     3700.00                 6.00   \n",
       "PRV51003                     2137.42                 6.16   \n",
       "PRV51004                        0.00                 0.00   \n",
       "PRV51005                        0.00                 0.00   \n",
       "PRV51007                     1080.56                 6.33   \n",
       "\n",
       "          Mean_Length_of_Claim  ...  Perc_ClaimStartDt_April  \\\n",
       "Provider                        ...                            \n",
       "PRV51001                  2.44  ...                     0.08   \n",
       "PRV51003                  4.67  ...                     0.08   \n",
       "PRV51004                  2.43  ...                     0.07   \n",
       "PRV51005                  2.09  ...                     0.08   \n",
       "PRV51007                  1.96  ...                     0.06   \n",
       "\n",
       "          Perc_ClaimStartDt_May  Perc_ClaimStartDt_June  \\\n",
       "Provider                                                  \n",
       "PRV51001                   0.20                    0.12   \n",
       "PRV51003                   0.06                    0.11   \n",
       "PRV51004                   0.05                    0.07   \n",
       "PRV51005                   0.07                    0.09   \n",
       "PRV51007                   0.12                    0.12   \n",
       "\n",
       "          Perc_ClaimStartDt_July  Perc_ClaimStartDt_August  \\\n",
       "Provider                                                     \n",
       "PRV51001                    0.08                      0.04   \n",
       "PRV51003                    0.08                      0.10   \n",
       "PRV51004                    0.09                      0.07   \n",
       "PRV51005                    0.08                      0.08   \n",
       "PRV51007                    0.04                      0.08   \n",
       "\n",
       "          Perc_ClaimStartDt_September  Perc_ClaimStartDt_October  \\\n",
       "Provider                                                           \n",
       "PRV51001                         0.04                       0.00   \n",
       "PRV51003                         0.07                       0.08   \n",
       "PRV51004                         0.08                       0.07   \n",
       "PRV51005                         0.09                       0.10   \n",
       "PRV51007                         0.10                       0.03   \n",
       "\n",
       "          Perc_ClaimStartDt_November  Perc_ClaimStartDt_December  \\\n",
       "Provider                                                           \n",
       "PRV51001                        0.00                        0.08   \n",
       "PRV51003                        0.08                        0.05   \n",
       "PRV51004                        0.05                        0.11   \n",
       "PRV51005                        0.06                        0.07   \n",
       "PRV51007                        0.08                        0.08   \n",
       "\n",
       "          PotentialFraud  \n",
       "Provider                  \n",
       "PRV51001               0  \n",
       "PRV51003               1  \n",
       "PRV51004               0  \n",
       "PRV51005               1  \n",
       "PRV51007               0  \n",
       "\n",
       "[5 rows x 71 columns]"
      ]
     },
     "execution_count": 94,
     "metadata": {},
     "output_type": "execute_result"
    }
   ],
   "source": [
    "# Combining Target data with Provider data to generate supervised learning dataset\n",
    "xdata = pd.merge(provdat.reset_index(), provtarg.reset_index(), on='Provider').set_index('Provider')\n",
    "xdata.head()"
   ]
  },
  {
   "cell_type": "code",
   "execution_count": 95,
   "id": "0345fb83",
   "metadata": {},
   "outputs": [
    {
     "name": "stdout",
     "output_type": "stream",
     "text": [
      "Training Data shape: (4328, 70)\n",
      "Test Data Shape: (1082, 70)\n"
     ]
    }
   ],
   "source": [
    "from sklearn.model_selection import train_test_split\n",
    "\n",
    "# Split the data into train & test sets for supervised learning\n",
    "Xtrain, Xtest, ytrain, ytest = train_test_split(xdata.iloc[:, :-1],\n",
    "                                               xdata.iloc[:, -1:],\n",
    "                                               test_size=0.2,\n",
    "                                               random_state=430)\n",
    "\n",
    "# Quick Heads Up\n",
    "print('Training Data shape: ' + str(Xtrain.shape))\n",
    "print('Test Data Shape: ' + str(Xtest.shape))"
   ]
  },
  {
   "cell_type": "markdown",
   "id": "c1e25a40",
   "metadata": {},
   "source": [
    "## Modeling Plan\n",
    "The general strategy of our approach incorporates an initial, broad spectrum testing of models, including the following.\n",
    " - Logistic Regression\n",
    " - KNN\n",
    " - Discriminant Analysis\n",
    " - Naive Bayes\n",
    " - SVM\n",
    " - CatBoost\n",
    " - Light GBM\n",
    "\n",
    "This grouping should represent a decent collection of well-worn, classical methods with exceptionally long history & documentation as well as newer, useful methodologies. Of particular interest to this last point will be **Catboost & Light GBM**, two Gradient Boosting models that have shown a great deal of promise in terms of efficiency & accuracy.\n",
    "\n",
    "### Iterative Strategy | What We Care About \n",
    " - Iteration 0: Naive, untouched modeling with tree-based models; just fit.\n",
    " - Iteration 1: Pipeline == SCALE(No Norm) & FIT; no unsupervised.\n",
    "     - 1a for gridsearch?\n",
    " - Iteration 2: Pipeline == SCALE(No Norm), PCA, & FIT.\n",
    "     - 2a for gridsearch?\n",
    " \n",
    "### Naming Procedure\n",
    "We can abbreviate the model name alongside iteration number to keep track (eg. \"cb0\" for \"Catboost, Iteration 0)"
   ]
  },
  {
   "cell_type": "markdown",
   "id": "db6e6268",
   "metadata": {},
   "source": [
    "### Iteration 0: Tree-based Naivete\n",
    "[Back to Top](#Machine-Learning-Processing)\n",
    "\n",
    "Both Catboost & Light GBM are quite capable of handling practically unprocessed data, such as we have imported. For further reference, please consult their respective documentation. Here we will process these for some initial yield results."
   ]
  },
  {
   "cell_type": "code",
   "execution_count": 96,
   "id": "facial-columbus",
   "metadata": {},
   "outputs": [
    {
     "name": "stdout",
     "output_type": "stream",
     "text": [
      "CatBoost Train R2 Score: 0.9972273567467652\n",
      "CatBoost Test R2 Score: 0.9316081330868762\n"
     ]
    }
   ],
   "source": [
    "from catboost import CatBoostClassifier\n",
    "cb0 = CatBoostClassifier(verbose=False)\n",
    "cb0.fit(Xtrain, ytrain)\n",
    "cb0.score(Xtest, ytest)\n",
    "print('CatBoost Train R2 Score:', cb0.score(Xtrain, ytrain))\n",
    "print('CatBoost Test R2 Score:', cb0.score(Xtest, ytest))"
   ]
  },
  {
   "cell_type": "code",
   "execution_count": 97,
   "id": "nonprofit-tuner",
   "metadata": {
    "scrolled": true
   },
   "outputs": [
    {
     "name": "stderr",
     "output_type": "stream",
     "text": [
      "C:\\Users\\gottl\\Anaconda3\\lib\\site-packages\\sklearn\\utils\\validation.py:63: DataConversionWarning: A column-vector y was passed when a 1d array was expected. Please change the shape of y to (n_samples, ), for example using ravel().\n",
      "  return f(*args, **kwargs)\n"
     ]
    },
    {
     "name": "stdout",
     "output_type": "stream",
     "text": [
      "LightGBM Boost Train R2 Score: 1.0\n",
      "LightGBM Boost Test R2 Score: 0.9343807763401109\n"
     ]
    }
   ],
   "source": [
    "from lightgbm import LGBMClassifier\n",
    "lgbm0 = LGBMClassifier()\n",
    "lgbm0.fit(Xtrain, ytrain)\n",
    "print('LightGBM Boost Train R2 Score:', lgbm0.score(Xtrain, ytrain))\n",
    "print('LightGBM Boost Test R2 Score:', lgbm0.score(Xtest, ytest))"
   ]
  },
  {
   "cell_type": "markdown",
   "id": "9cd9349d",
   "metadata": {},
   "source": [
    "### Iteration 1: Baby's First Pipe\n",
    "[Back to Top](#Machine-Learning-Processing)\n",
    "\n",
    "Our goal here will be to test the results with some initial scaling built into a pipeline. "
   ]
  },
  {
   "cell_type": "code",
   "execution_count": 98,
   "id": "8df78efe",
   "metadata": {},
   "outputs": [
    {
     "data": {
      "text/plain": [
       "(array([ 220, 1330, 1347, 2198, 2599, 2614, 2920, 2946, 3951, 4321],\n",
       "       dtype=int64),\n",
       " array([24, 24, 24, 24, 24, 24, 24, 24, 24, 24], dtype=int64))"
      ]
     },
     "execution_count": 98,
     "metadata": {},
     "output_type": "execute_result"
    }
   ],
   "source": [
    "badindices = np.where(np.isinf(Xtrain))\n",
    "badindices"
   ]
  },
  {
   "cell_type": "code",
   "execution_count": 99,
   "id": "324b2aa8",
   "metadata": {},
   "outputs": [
    {
     "data": {
      "text/plain": [
       "27.769"
      ]
     },
     "execution_count": 99,
     "metadata": {},
     "output_type": "execute_result"
    }
   ],
   "source": [
    "Xtrain.iloc[-badindices[0], 24].mean()"
   ]
  },
  {
   "cell_type": "code",
   "execution_count": 100,
   "id": "a7a26d9f",
   "metadata": {},
   "outputs": [],
   "source": [
    "Xtrain.iloc[badindices[0], 24] = Xtrain.iloc[-badindices[0], 24].mean()"
   ]
  },
  {
   "cell_type": "code",
   "execution_count": 101,
   "id": "a5bd3a74",
   "metadata": {},
   "outputs": [],
   "source": [
    "badtests = np.where(np.isinf(Xtest))\n",
    "Xtest.iloc[badtests[0], 24] = Xtrain.iloc[-badindices[0], 24].mean()"
   ]
  },
  {
   "cell_type": "markdown",
   "id": "interesting-consumption",
   "metadata": {},
   "source": [
    "Cleanup Complete"
   ]
  },
  {
   "cell_type": "code",
   "execution_count": 102,
   "id": "860eab9c",
   "metadata": {},
   "outputs": [
    {
     "name": "stderr",
     "output_type": "stream",
     "text": [
      "C:\\Users\\gottl\\Anaconda3\\lib\\site-packages\\sklearn\\utils\\validation.py:63: DataConversionWarning: A column-vector y was passed when a 1d array was expected. Please change the shape of y to (n_samples, ), for example using ravel().\n",
      "  return f(*args, **kwargs)\n"
     ]
    },
    {
     "name": "stdout",
     "output_type": "stream",
     "text": [
      "Logistic Regression Train Score: 0.9376155268022182\n",
      "Logistic Regression Test Score: 0.922365988909427\n"
     ]
    }
   ],
   "source": [
    "# IT1: Logistic Regression\n",
    "from sklearn.pipeline import Pipeline\n",
    "from sklearn.linear_model import LogisticRegression\n",
    "from sklearn.preprocessing import StandardScaler\n",
    "lgr1 = Pipeline(steps=[('scaler', StandardScaler()),\n",
    "                      ('logistic', LogisticRegression(n_jobs=-2))])\n",
    "lgr1.fit(Xtrain, ytrain)\n",
    "print('Logistic Regression Train Score:', lgr1.score(Xtrain, ytrain))\n",
    "print('Logistic Regression Test Score:', lgr1.score(Xtest, ytest))"
   ]
  },
  {
   "cell_type": "code",
   "execution_count": 103,
   "id": "16380225",
   "metadata": {},
   "outputs": [
    {
     "name": "stderr",
     "output_type": "stream",
     "text": [
      "C:\\Users\\gottl\\Anaconda3\\lib\\site-packages\\sklearn\\neighbors\\_classification.py:179: DataConversionWarning: A column-vector y was passed when a 1d array was expected. Please change the shape of y to (n_samples,), for example using ravel().\n",
      "  return self._fit(X, y)\n"
     ]
    },
    {
     "name": "stdout",
     "output_type": "stream",
     "text": [
      "KNearestNeighbors Train Score: 0.9396950092421442\n",
      "KNearestNeighbors Test Score: 0.9186691312384473\n"
     ]
    }
   ],
   "source": [
    "# IT1: KNN\n",
    "from sklearn.neighbors import KNeighborsClassifier\n",
    "knn1 = Pipeline(steps=[('scaler', StandardScaler()),\n",
    "                      ('knn', KNeighborsClassifier(n_jobs=-2))])\n",
    "knn1.fit(Xtrain, ytrain)\n",
    "print('KNearestNeighbors Train Score:', knn1.score(Xtrain, ytrain))\n",
    "print('KNearestNeighbors Test Score:', knn1.score(Xtest, ytest))"
   ]
  },
  {
   "cell_type": "code",
   "execution_count": 104,
   "id": "050f4360",
   "metadata": {},
   "outputs": [
    {
     "name": "stdout",
     "output_type": "stream",
     "text": [
      "LDA Train Score: 0.9348428835489834\n",
      "LDA Test Score: 0.9195933456561922\n"
     ]
    },
    {
     "name": "stderr",
     "output_type": "stream",
     "text": [
      "C:\\Users\\gottl\\Anaconda3\\lib\\site-packages\\sklearn\\utils\\validation.py:63: DataConversionWarning: A column-vector y was passed when a 1d array was expected. Please change the shape of y to (n_samples, ), for example using ravel().\n",
      "  return f(*args, **kwargs)\n"
     ]
    }
   ],
   "source": [
    "# IT1: LDA\n",
    "from sklearn.discriminant_analysis import LinearDiscriminantAnalysis\n",
    "lda1 = Pipeline(steps=[('scaler', StandardScaler()),\n",
    "                      ('lda', LinearDiscriminantAnalysis())])\n",
    "lda1.fit(Xtrain, ytrain)\n",
    "print('LDA Train Score:', lda1.score(Xtrain, ytrain))\n",
    "print('LDA Test Score:', lda1.score(Xtest, ytest))"
   ]
  },
  {
   "cell_type": "code",
   "execution_count": 105,
   "id": "ae277d25",
   "metadata": {},
   "outputs": [
    {
     "name": "stderr",
     "output_type": "stream",
     "text": [
      "C:\\Users\\gottl\\Anaconda3\\lib\\site-packages\\sklearn\\utils\\validation.py:63: DataConversionWarning: A column-vector y was passed when a 1d array was expected. Please change the shape of y to (n_samples, ), for example using ravel().\n",
      "  return f(*args, **kwargs)\n"
     ]
    },
    {
     "name": "stdout",
     "output_type": "stream",
     "text": [
      "GNB Train Score 0.6984750462107209\n",
      "GNB Test Score 0.6728280961182994\n"
     ]
    }
   ],
   "source": [
    "# IT1: GNB\n",
    "from sklearn.naive_bayes import GaussianNB\n",
    "gnb1 = Pipeline(steps=[('scaler', StandardScaler()),\n",
    "                      ('gnb', GaussianNB())])\n",
    "gnb1.fit(Xtrain, ytrain)\n",
    "print('GNB Train Score', gnb1.score(Xtrain, ytrain))\n",
    "print('GNB Test Score', gnb1.score(Xtest, ytest))"
   ]
  },
  {
   "cell_type": "code",
   "execution_count": 106,
   "id": "6f94fa8d",
   "metadata": {
    "scrolled": true
   },
   "outputs": [
    {
     "name": "stderr",
     "output_type": "stream",
     "text": [
      "C:\\Users\\gottl\\Anaconda3\\lib\\site-packages\\sklearn\\utils\\validation.py:63: DataConversionWarning: A column-vector y was passed when a 1d array was expected. Please change the shape of y to (n_samples, ), for example using ravel().\n",
      "  return f(*args, **kwargs)\n"
     ]
    },
    {
     "name": "stdout",
     "output_type": "stream",
     "text": [
      "SVC Train Score 0.9413123844731978\n",
      "SVC Test Score 0.9242144177449169\n"
     ]
    }
   ],
   "source": [
    "# IT1: SVM\n",
    "from sklearn.svm import SVC\n",
    "svc1 = Pipeline(steps=[('scaler', StandardScaler()),\n",
    "                      ('svc', SVC())])\n",
    "svc1.fit(Xtrain, ytrain)\n",
    "print('SVC Train Score', svc1.score(Xtrain, ytrain))\n",
    "print('SVC Test Score', svc1.score(Xtest, ytest))"
   ]
  },
  {
   "cell_type": "code",
   "execution_count": 107,
   "id": "4454df16",
   "metadata": {},
   "outputs": [
    {
     "name": "stdout",
     "output_type": "stream",
     "text": [
      "Catboost Train Score 0.9976894639556377\n",
      "Catboost Test Score 0.9353049907578558\n"
     ]
    }
   ],
   "source": [
    "# IT1: CatBoost\n",
    "cb1 = Pipeline(steps=[('scaler', StandardScaler()),\n",
    "                     ('catboost', CatBoostClassifier(verbose=False))])\n",
    "cb1.fit(Xtrain, ytrain)\n",
    "print('Catboost Train Score', cb1.score(Xtrain, ytrain))\n",
    "print('Catboost Test Score', cb1.score(Xtest, ytest))"
   ]
  },
  {
   "cell_type": "code",
   "execution_count": 108,
   "id": "7d817ba7",
   "metadata": {},
   "outputs": [
    {
     "name": "stderr",
     "output_type": "stream",
     "text": [
      "C:\\Users\\gottl\\Anaconda3\\lib\\site-packages\\sklearn\\utils\\validation.py:63: DataConversionWarning: A column-vector y was passed when a 1d array was expected. Please change the shape of y to (n_samples, ), for example using ravel().\n",
      "  return f(*args, **kwargs)\n"
     ]
    },
    {
     "name": "stdout",
     "output_type": "stream",
     "text": [
      "LightGBM Train Score 1.0\n",
      "LightGBM Test Score 0.9343807763401109\n"
     ]
    }
   ],
   "source": [
    "# IT1: LightGBM\n",
    "lgbm1 = Pipeline(steps=[('scaler', StandardScaler()),\n",
    "                       ('lightgbm', LGBMClassifier(n_jobs=-2))])\n",
    "lgbm1.fit(Xtrain, ytrain)\n",
    "print('LightGBM Train Score', lgbm1.score(Xtrain, ytrain))\n",
    "print('LightGBM Test Score', lgbm1.score(Xtest, ytest))"
   ]
  },
  {
   "cell_type": "markdown",
   "id": "bb3eed25",
   "metadata": {},
   "source": [
    "## Iteration 2: Give the Computer a Chance\n",
    "\n",
    "[Back to Top](#Machine-Learning-Processing)\n",
    "\n"
   ]
  },
  {
   "cell_type": "code",
   "execution_count": 109,
   "id": "2c94b81f",
   "metadata": {},
   "outputs": [
    {
     "name": "stderr",
     "output_type": "stream",
     "text": [
      "C:\\Users\\gottl\\Anaconda3\\lib\\site-packages\\sklearn\\utils\\validation.py:63: DataConversionWarning: A column-vector y was passed when a 1d array was expected. Please change the shape of y to (n_samples, ), for example using ravel().\n",
      "  return f(*args, **kwargs)\n"
     ]
    },
    {
     "name": "stdout",
     "output_type": "stream",
     "text": [
      "LightGBM Train Score 1.0\n",
      "LightGBM Test Score 0.9242144177449169\n"
     ]
    }
   ],
   "source": [
    "# IT2: Logistic\n",
    "from sklearn.decomposition import PCA \n",
    "lgr2 = Pipeline(steps=[('scaler', StandardScaler()),\n",
    "                       ('PCA', PCA(n_components=0.99, random_state=430)),\n",
    "                       ('lightgbm', LGBMClassifier(n_jobs=-2))])\n",
    "lgr2.fit(Xtrain, ytrain)\n",
    "print('LightGBM Train Score', lgr2.score(Xtrain, ytrain))\n",
    "print('LightGBM Test Score', lgr2.score(Xtest, ytest))"
   ]
  },
  {
   "cell_type": "code",
   "execution_count": 110,
   "id": "9c7b533e",
   "metadata": {},
   "outputs": [
    {
     "name": "stderr",
     "output_type": "stream",
     "text": [
      "C:\\Users\\gottl\\Anaconda3\\lib\\site-packages\\sklearn\\neighbors\\_classification.py:179: DataConversionWarning: A column-vector y was passed when a 1d array was expected. Please change the shape of y to (n_samples,), for example using ravel().\n",
      "  return self._fit(X, y)\n"
     ]
    },
    {
     "name": "stdout",
     "output_type": "stream",
     "text": [
      "LightGBM Train Score 0.9396950092421442\n",
      "LightGBM Test Score 0.9214417744916821\n"
     ]
    }
   ],
   "source": [
    "# IT2: KNN\n",
    "knn2 = Pipeline(steps=[('scaler', StandardScaler()),\n",
    "                       ('PCA', PCA(n_components=0.99, random_state=430)),\n",
    "                       ('knn', KNeighborsClassifier(n_jobs=-2))])\n",
    "knn2.fit(Xtrain, ytrain)\n",
    "print('LightGBM Train Score', knn2.score(Xtrain, ytrain))\n",
    "print('LightGBM Test Score', knn2.score(Xtest, ytest))"
   ]
  },
  {
   "cell_type": "code",
   "execution_count": 111,
   "id": "ad79f333",
   "metadata": {},
   "outputs": [
    {
     "name": "stdout",
     "output_type": "stream",
     "text": [
      "LightGBM Train Score 0.9336876155268022\n",
      "LightGBM Test Score 0.9232902033271719\n"
     ]
    },
    {
     "name": "stderr",
     "output_type": "stream",
     "text": [
      "C:\\Users\\gottl\\Anaconda3\\lib\\site-packages\\sklearn\\utils\\validation.py:63: DataConversionWarning: A column-vector y was passed when a 1d array was expected. Please change the shape of y to (n_samples, ), for example using ravel().\n",
      "  return f(*args, **kwargs)\n"
     ]
    }
   ],
   "source": [
    "# IT2: LDA\n",
    "lda2 = Pipeline(steps=[('scaler', StandardScaler()),\n",
    "                       ('PCA', PCA(n_components=0.99, random_state=430)),\n",
    "                       ('lda', LinearDiscriminantAnalysis())])\n",
    "lda2.fit(Xtrain, ytrain)\n",
    "print('LightGBM Train Score', lda2.score(Xtrain, ytrain))\n",
    "print('LightGBM Test Score', lda2.score(Xtest, ytest))"
   ]
  },
  {
   "cell_type": "code",
   "execution_count": 112,
   "id": "c92d16cc",
   "metadata": {},
   "outputs": [
    {
     "name": "stdout",
     "output_type": "stream",
     "text": [
      "LightGBM Train Score 0.5459796672828097\n",
      "LightGBM Test Score 0.5425138632162662\n"
     ]
    },
    {
     "name": "stderr",
     "output_type": "stream",
     "text": [
      "C:\\Users\\gottl\\Anaconda3\\lib\\site-packages\\sklearn\\utils\\validation.py:63: DataConversionWarning: A column-vector y was passed when a 1d array was expected. Please change the shape of y to (n_samples, ), for example using ravel().\n",
      "  return f(*args, **kwargs)\n"
     ]
    }
   ],
   "source": [
    "# IT2: GNB\n",
    "gnb2 = Pipeline(steps=[('scaler', StandardScaler()),\n",
    "                       ('PCA', PCA(n_components=0.99, random_state=430)),\n",
    "                       ('gnb', GaussianNB())])\n",
    "gnb2.fit(Xtrain, ytrain)\n",
    "print('LightGBM Train Score', gnb2.score(Xtrain, ytrain))\n",
    "print('LightGBM Test Score', gnb2.score(Xtest, ytest))"
   ]
  },
  {
   "cell_type": "code",
   "execution_count": 113,
   "id": "be28644a",
   "metadata": {},
   "outputs": [
    {
     "name": "stderr",
     "output_type": "stream",
     "text": [
      "C:\\Users\\gottl\\Anaconda3\\lib\\site-packages\\sklearn\\utils\\validation.py:63: DataConversionWarning: A column-vector y was passed when a 1d array was expected. Please change the shape of y to (n_samples, ), for example using ravel().\n",
      "  return f(*args, **kwargs)\n"
     ]
    },
    {
     "name": "stdout",
     "output_type": "stream",
     "text": [
      "LightGBM Train Score 0.9394639556377079\n",
      "LightGBM Test Score 0.9242144177449169\n"
     ]
    }
   ],
   "source": [
    "# IT2: SVM\n",
    "svc2 = Pipeline(steps=[('scaler', StandardScaler()),\n",
    "                       ('PCA', PCA(n_components=0.99, random_state=430)),\n",
    "                       ('svc', SVC())])\n",
    "svc2.fit(Xtrain, ytrain)\n",
    "print('LightGBM Train Score', svc2.score(Xtrain, ytrain))\n",
    "print('LightGBM Test Score', svc2.score(Xtest, ytest))"
   ]
  },
  {
   "cell_type": "code",
   "execution_count": 114,
   "id": "5945dbee",
   "metadata": {},
   "outputs": [
    {
     "name": "stdout",
     "output_type": "stream",
     "text": [
      "LightGBM Train Score 0.9988447319778189\n",
      "LightGBM Test Score 0.9205175600739371\n"
     ]
    }
   ],
   "source": [
    "# IT2: CatBoost\n",
    "cb2 = Pipeline(steps=[('scaler', StandardScaler()),\n",
    "                       ('PCA', PCA(n_components=0.99, random_state=430)),\n",
    "                       ('Catboost', CatBoostClassifier(verbose=False))])\n",
    "cb2.fit(Xtrain, ytrain)\n",
    "print('LightGBM Train Score', cb2.score(Xtrain, ytrain))\n",
    "print('LightGBM Test Score', cb2.score(Xtest, ytest))"
   ]
  },
  {
   "cell_type": "code",
   "execution_count": 115,
   "id": "69cedf25",
   "metadata": {
    "scrolled": true
   },
   "outputs": [
    {
     "name": "stderr",
     "output_type": "stream",
     "text": [
      "C:\\Users\\gottl\\Anaconda3\\lib\\site-packages\\sklearn\\utils\\validation.py:63: DataConversionWarning: A column-vector y was passed when a 1d array was expected. Please change the shape of y to (n_samples, ), for example using ravel().\n",
      "  return f(*args, **kwargs)\n"
     ]
    },
    {
     "name": "stdout",
     "output_type": "stream",
     "text": [
      "LightGBM Train Score 1.0\n",
      "LightGBM Test Score 0.9242144177449169\n"
     ]
    }
   ],
   "source": [
    "# IT2: LightGBM\n",
    "lgbm2 = Pipeline(steps=[('scaler', StandardScaler()),\n",
    "                       ('PCA', PCA(n_components=0.99, random_state=430)),\n",
    "                       ('LightGBM', LGBMClassifier())])\n",
    "lgbm2.fit(Xtrain, ytrain)\n",
    "print('LightGBM Train Score', lgbm2.score(Xtrain, ytrain))\n",
    "print('LightGBM Test Score', lgbm2.score(Xtest, ytest))"
   ]
  },
  {
   "cell_type": "markdown",
   "id": "31ad4773",
   "metadata": {},
   "source": [
    "### Progress Report Card\n",
    "\n",
    "[Back to Top](#Machine-Learning-Processing)"
   ]
  },
  {
   "cell_type": "code",
   "execution_count": 116,
   "id": "f7978137",
   "metadata": {},
   "outputs": [],
   "source": [
    "# Function to merge PCA data back to original\n",
    "def PCAmerge(train, test, n_comp = 0.95, r_state = 42):\n",
    "    from sklearn.decomposition import PCA \n",
    "    pca = PCA(n_components = n_comp, random_state = r_state)\n",
    "    train_pca = pd.DataFrame(pca.fit_transform(train), index=train.index)\n",
    "    test_pca = pd.DataFrame(pca.transform(test), index=test.index)\n",
    "    PCA_col_list = []\n",
    "    for num in range(1, train_pca.shape[1]+1):\n",
    "        PCA_col_list.append(('PCA' + str(num)))\n",
    "    train_pca.columns = PCA_col_list\n",
    "    train = pd.concat([train, train_pca], axis=1)\n",
    "    test_pca.columns = PCA_col_list\n",
    "    test = pd.concat([test, test_pca], axis=1)\n",
    "    return train, test\n",
    "    "
   ]
  },
  {
   "cell_type": "code",
   "execution_count": 117,
   "id": "supported-crash",
   "metadata": {},
   "outputs": [],
   "source": [
    "# TRYING TO MAKE IT PIPELINE-COMPATIBLE. NOT SO EASY BUT HAVE A LEAD ON SOMETHING CALLED KEDRO\n",
    "# https://towardsdatascience.com/kedro-prepare-to-pimp-your-pipeline-f8f68c263466\n",
    "# from sklearn.base import BaseEstimator, TransformerMixin\n",
    "# class PCAmergePipe(BaseEstimator, TransformerMixin):\n",
    "#     def __init__(self, n_comp = 0.99, r_state = 42):\n",
    "#             self.n_comp = n_comp\n",
    "#             self.r_state = r_state\n",
    "#     def fit_transform(self, X, y):\n",
    "#             from sklearn.decomposition import PCA \n",
    "#             pca = PCA(n_components = n_comp, random_state = r_state)\n",
    "#             df_pca = pd.DataFrame(pca.fit_transform(self), index=self.index)\n",
    "#             PCA_col_list = []\n",
    "#             for num in range(1, df_pca.shape[1]+1):\n",
    "#                 PCA_col_list.append(('PCA' + str(num)))\n",
    "#             df_pca.columns = PCA_col_list\n",
    "#             self = pd.concat([self, df_pca], axis=1)\n",
    "#             return self\n",
    "# #     def transform(self, x):\n",
    "# #             return x[self.ind_feature,:]"
   ]
  },
  {
   "cell_type": "code",
   "execution_count": 118,
   "id": "expanded-polish",
   "metadata": {},
   "outputs": [
    {
     "data": {
      "text/html": [
       "<div>\n",
       "<style scoped>\n",
       "    .dataframe tbody tr th:only-of-type {\n",
       "        vertical-align: middle;\n",
       "    }\n",
       "\n",
       "    .dataframe tbody tr th {\n",
       "        vertical-align: top;\n",
       "    }\n",
       "\n",
       "    .dataframe thead th {\n",
       "        text-align: right;\n",
       "    }\n",
       "</style>\n",
       "<table border=\"1\" class=\"dataframe\">\n",
       "  <thead>\n",
       "    <tr style=\"text-align: right;\">\n",
       "      <th></th>\n",
       "      <th>Number_of_Claims</th>\n",
       "      <th>Num_Unique_Patients</th>\n",
       "      <th>Num_Unique_Docs</th>\n",
       "      <th>Num_Unique_Diag_Codes</th>\n",
       "      <th>Num_Unique_Proc_Codes</th>\n",
       "      <th>Mean_InscClaimAmtReimbursed</th>\n",
       "      <th>Mean_DeductibleAmtPaid</th>\n",
       "      <th>Mean_Reimbursement_per_Day</th>\n",
       "      <th>Mean_Length_of_Stay</th>\n",
       "      <th>Mean_Length_of_Claim</th>\n",
       "      <th>...</th>\n",
       "      <th>Perc_ClaimStartDt_March</th>\n",
       "      <th>Perc_ClaimStartDt_April</th>\n",
       "      <th>Perc_ClaimStartDt_May</th>\n",
       "      <th>Perc_ClaimStartDt_June</th>\n",
       "      <th>Perc_ClaimStartDt_July</th>\n",
       "      <th>Perc_ClaimStartDt_August</th>\n",
       "      <th>Perc_ClaimStartDt_September</th>\n",
       "      <th>Perc_ClaimStartDt_October</th>\n",
       "      <th>Perc_ClaimStartDt_November</th>\n",
       "      <th>Perc_ClaimStartDt_December</th>\n",
       "    </tr>\n",
       "    <tr>\n",
       "      <th>Provider</th>\n",
       "      <th></th>\n",
       "      <th></th>\n",
       "      <th></th>\n",
       "      <th></th>\n",
       "      <th></th>\n",
       "      <th></th>\n",
       "      <th></th>\n",
       "      <th></th>\n",
       "      <th></th>\n",
       "      <th></th>\n",
       "      <th></th>\n",
       "      <th></th>\n",
       "      <th></th>\n",
       "      <th></th>\n",
       "      <th></th>\n",
       "      <th></th>\n",
       "      <th></th>\n",
       "      <th></th>\n",
       "      <th></th>\n",
       "      <th></th>\n",
       "      <th></th>\n",
       "    </tr>\n",
       "  </thead>\n",
       "  <tbody>\n",
       "    <tr>\n",
       "      <th>PRV56682</th>\n",
       "      <td>-0.301220</td>\n",
       "      <td>-0.331952</td>\n",
       "      <td>-0.253264</td>\n",
       "      <td>-0.393598</td>\n",
       "      <td>-0.024100</td>\n",
       "      <td>-0.253894</td>\n",
       "      <td>0.048215</td>\n",
       "      <td>0.490073</td>\n",
       "      <td>0.591932</td>\n",
       "      <td>-0.151775</td>\n",
       "      <td>...</td>\n",
       "      <td>0.210209</td>\n",
       "      <td>-0.865219</td>\n",
       "      <td>1.166372</td>\n",
       "      <td>-0.376840</td>\n",
       "      <td>0.291816</td>\n",
       "      <td>0.267843</td>\n",
       "      <td>0.351610</td>\n",
       "      <td>-0.829907</td>\n",
       "      <td>0.409958</td>\n",
       "      <td>0.886706</td>\n",
       "    </tr>\n",
       "    <tr>\n",
       "      <th>PRV54630</th>\n",
       "      <td>-0.058777</td>\n",
       "      <td>-0.303445</td>\n",
       "      <td>-0.457363</td>\n",
       "      <td>0.005891</td>\n",
       "      <td>-0.373829</td>\n",
       "      <td>-0.419732</td>\n",
       "      <td>-0.499430</td>\n",
       "      <td>-0.621766</td>\n",
       "      <td>-0.690894</td>\n",
       "      <td>-0.200650</td>\n",
       "      <td>...</td>\n",
       "      <td>-0.100263</td>\n",
       "      <td>0.217539</td>\n",
       "      <td>-0.294321</td>\n",
       "      <td>-0.156588</td>\n",
       "      <td>0.404522</td>\n",
       "      <td>0.373150</td>\n",
       "      <td>-0.211133</td>\n",
       "      <td>0.403024</td>\n",
       "      <td>-0.048665</td>\n",
       "      <td>-0.264897</td>\n",
       "    </tr>\n",
       "    <tr>\n",
       "      <th>PRV55179</th>\n",
       "      <td>-0.099184</td>\n",
       "      <td>0.003010</td>\n",
       "      <td>0.388189</td>\n",
       "      <td>0.088029</td>\n",
       "      <td>0.850222</td>\n",
       "      <td>0.205114</td>\n",
       "      <td>0.226065</td>\n",
       "      <td>0.994156</td>\n",
       "      <td>0.699064</td>\n",
       "      <td>0.009514</td>\n",
       "      <td>...</td>\n",
       "      <td>0.003228</td>\n",
       "      <td>-0.077759</td>\n",
       "      <td>-0.002182</td>\n",
       "      <td>-0.486965</td>\n",
       "      <td>0.066405</td>\n",
       "      <td>-0.153387</td>\n",
       "      <td>0.689256</td>\n",
       "      <td>-0.110697</td>\n",
       "      <td>0.065991</td>\n",
       "      <td>-0.055514</td>\n",
       "    </tr>\n",
       "    <tr>\n",
       "      <th>PRV57312</th>\n",
       "      <td>0.855892</td>\n",
       "      <td>0.509017</td>\n",
       "      <td>0.009149</td>\n",
       "      <td>1.196890</td>\n",
       "      <td>-0.373829</td>\n",
       "      <td>-0.428211</td>\n",
       "      <td>-0.490469</td>\n",
       "      <td>-0.621766</td>\n",
       "      <td>-0.690894</td>\n",
       "      <td>-0.000261</td>\n",
       "      <td>...</td>\n",
       "      <td>0.003228</td>\n",
       "      <td>-0.274624</td>\n",
       "      <td>0.095197</td>\n",
       "      <td>0.173789</td>\n",
       "      <td>0.066405</td>\n",
       "      <td>0.057228</td>\n",
       "      <td>0.013965</td>\n",
       "      <td>-0.007953</td>\n",
       "      <td>0.065991</td>\n",
       "      <td>-0.160206</td>\n",
       "    </tr>\n",
       "    <tr>\n",
       "      <th>PRV54923</th>\n",
       "      <td>-0.080818</td>\n",
       "      <td>-0.061132</td>\n",
       "      <td>0.038306</td>\n",
       "      <td>-0.083714</td>\n",
       "      <td>-0.373829</td>\n",
       "      <td>-0.395312</td>\n",
       "      <td>-0.502472</td>\n",
       "      <td>-0.621766</td>\n",
       "      <td>-0.690894</td>\n",
       "      <td>-0.327726</td>\n",
       "      <td>...</td>\n",
       "      <td>0.106719</td>\n",
       "      <td>-0.373056</td>\n",
       "      <td>-0.294321</td>\n",
       "      <td>0.063663</td>\n",
       "      <td>0.517228</td>\n",
       "      <td>0.267843</td>\n",
       "      <td>0.013965</td>\n",
       "      <td>-0.007953</td>\n",
       "      <td>0.180646</td>\n",
       "      <td>0.049177</td>\n",
       "    </tr>\n",
       "    <tr>\n",
       "      <th>...</th>\n",
       "      <td>...</td>\n",
       "      <td>...</td>\n",
       "      <td>...</td>\n",
       "      <td>...</td>\n",
       "      <td>...</td>\n",
       "      <td>...</td>\n",
       "      <td>...</td>\n",
       "      <td>...</td>\n",
       "      <td>...</td>\n",
       "      <td>...</td>\n",
       "      <td>...</td>\n",
       "      <td>...</td>\n",
       "      <td>...</td>\n",
       "      <td>...</td>\n",
       "      <td>...</td>\n",
       "      <td>...</td>\n",
       "      <td>...</td>\n",
       "      <td>...</td>\n",
       "      <td>...</td>\n",
       "      <td>...</td>\n",
       "      <td>...</td>\n",
       "    </tr>\n",
       "    <tr>\n",
       "      <th>PRV55620</th>\n",
       "      <td>-0.315913</td>\n",
       "      <td>-0.367587</td>\n",
       "      <td>-0.515677</td>\n",
       "      <td>-0.505604</td>\n",
       "      <td>-0.373829</td>\n",
       "      <td>-0.472727</td>\n",
       "      <td>-0.459694</td>\n",
       "      <td>-0.621766</td>\n",
       "      <td>-0.690894</td>\n",
       "      <td>-0.972881</td>\n",
       "      <td>...</td>\n",
       "      <td>-0.928187</td>\n",
       "      <td>-0.176191</td>\n",
       "      <td>-0.196941</td>\n",
       "      <td>0.504166</td>\n",
       "      <td>-0.159007</td>\n",
       "      <td>1.215610</td>\n",
       "      <td>-0.098584</td>\n",
       "      <td>-0.829907</td>\n",
       "      <td>1.441859</td>\n",
       "      <td>-0.055514</td>\n",
       "    </tr>\n",
       "    <tr>\n",
       "      <th>PRV55267</th>\n",
       "      <td>0.157952</td>\n",
       "      <td>0.088532</td>\n",
       "      <td>-0.224107</td>\n",
       "      <td>0.424048</td>\n",
       "      <td>-0.373829</td>\n",
       "      <td>-0.435083</td>\n",
       "      <td>-0.493969</td>\n",
       "      <td>-0.621766</td>\n",
       "      <td>-0.690894</td>\n",
       "      <td>-0.259301</td>\n",
       "      <td>...</td>\n",
       "      <td>-0.100263</td>\n",
       "      <td>-0.471489</td>\n",
       "      <td>0.192577</td>\n",
       "      <td>-0.046462</td>\n",
       "      <td>0.066405</td>\n",
       "      <td>0.373150</td>\n",
       "      <td>0.013965</td>\n",
       "      <td>-0.110697</td>\n",
       "      <td>0.065991</td>\n",
       "      <td>0.153868</td>\n",
       "    </tr>\n",
       "    <tr>\n",
       "      <th>PRV52407</th>\n",
       "      <td>-0.213059</td>\n",
       "      <td>-0.339079</td>\n",
       "      <td>-0.428206</td>\n",
       "      <td>-0.255457</td>\n",
       "      <td>-0.373829</td>\n",
       "      <td>-0.399273</td>\n",
       "      <td>-0.472122</td>\n",
       "      <td>-0.621766</td>\n",
       "      <td>-0.690894</td>\n",
       "      <td>-0.713842</td>\n",
       "      <td>...</td>\n",
       "      <td>-0.410734</td>\n",
       "      <td>0.020674</td>\n",
       "      <td>-0.002182</td>\n",
       "      <td>0.394040</td>\n",
       "      <td>0.855346</td>\n",
       "      <td>-0.364002</td>\n",
       "      <td>-0.661327</td>\n",
       "      <td>0.403024</td>\n",
       "      <td>-0.048665</td>\n",
       "      <td>0.153868</td>\n",
       "    </tr>\n",
       "    <tr>\n",
       "      <th>PRV54154</th>\n",
       "      <td>-0.326933</td>\n",
       "      <td>-0.388967</td>\n",
       "      <td>-0.282421</td>\n",
       "      <td>-0.535472</td>\n",
       "      <td>-0.373829</td>\n",
       "      <td>-0.468592</td>\n",
       "      <td>-0.503289</td>\n",
       "      <td>-0.621766</td>\n",
       "      <td>-0.690894</td>\n",
       "      <td>-0.117562</td>\n",
       "      <td>...</td>\n",
       "      <td>0.831153</td>\n",
       "      <td>0.808134</td>\n",
       "      <td>-0.878598</td>\n",
       "      <td>-0.046462</td>\n",
       "      <td>-0.046301</td>\n",
       "      <td>-0.048079</td>\n",
       "      <td>1.026902</td>\n",
       "      <td>0.916745</td>\n",
       "      <td>-0.851255</td>\n",
       "      <td>-0.788352</td>\n",
       "    </tr>\n",
       "    <tr>\n",
       "      <th>PRV53896</th>\n",
       "      <td>-0.213059</td>\n",
       "      <td>-0.196542</td>\n",
       "      <td>0.388189</td>\n",
       "      <td>-0.326394</td>\n",
       "      <td>-0.373829</td>\n",
       "      <td>-0.433751</td>\n",
       "      <td>-0.492628</td>\n",
       "      <td>-0.621766</td>\n",
       "      <td>-0.690894</td>\n",
       "      <td>-0.405927</td>\n",
       "      <td>...</td>\n",
       "      <td>-0.928187</td>\n",
       "      <td>0.020674</td>\n",
       "      <td>-0.196941</td>\n",
       "      <td>0.063663</td>\n",
       "      <td>-0.159007</td>\n",
       "      <td>-0.153387</td>\n",
       "      <td>0.464159</td>\n",
       "      <td>-0.624418</td>\n",
       "      <td>0.180646</td>\n",
       "      <td>0.677324</td>\n",
       "    </tr>\n",
       "  </tbody>\n",
       "</table>\n",
       "<p>4328 rows × 70 columns</p>\n",
       "</div>"
      ],
      "text/plain": [
       "          Number_of_Claims  Num_Unique_Patients  Num_Unique_Docs  \\\n",
       "Provider                                                           \n",
       "PRV56682         -0.301220            -0.331952        -0.253264   \n",
       "PRV54630         -0.058777            -0.303445        -0.457363   \n",
       "PRV55179         -0.099184             0.003010         0.388189   \n",
       "PRV57312          0.855892             0.509017         0.009149   \n",
       "PRV54923         -0.080818            -0.061132         0.038306   \n",
       "...                    ...                  ...              ...   \n",
       "PRV55620         -0.315913            -0.367587        -0.515677   \n",
       "PRV55267          0.157952             0.088532        -0.224107   \n",
       "PRV52407         -0.213059            -0.339079        -0.428206   \n",
       "PRV54154         -0.326933            -0.388967        -0.282421   \n",
       "PRV53896         -0.213059            -0.196542         0.388189   \n",
       "\n",
       "          Num_Unique_Diag_Codes  Num_Unique_Proc_Codes  \\\n",
       "Provider                                                 \n",
       "PRV56682              -0.393598              -0.024100   \n",
       "PRV54630               0.005891              -0.373829   \n",
       "PRV55179               0.088029               0.850222   \n",
       "PRV57312               1.196890              -0.373829   \n",
       "PRV54923              -0.083714              -0.373829   \n",
       "...                         ...                    ...   \n",
       "PRV55620              -0.505604              -0.373829   \n",
       "PRV55267               0.424048              -0.373829   \n",
       "PRV52407              -0.255457              -0.373829   \n",
       "PRV54154              -0.535472              -0.373829   \n",
       "PRV53896              -0.326394              -0.373829   \n",
       "\n",
       "          Mean_InscClaimAmtReimbursed  Mean_DeductibleAmtPaid  \\\n",
       "Provider                                                        \n",
       "PRV56682                    -0.253894                0.048215   \n",
       "PRV54630                    -0.419732               -0.499430   \n",
       "PRV55179                     0.205114                0.226065   \n",
       "PRV57312                    -0.428211               -0.490469   \n",
       "PRV54923                    -0.395312               -0.502472   \n",
       "...                               ...                     ...   \n",
       "PRV55620                    -0.472727               -0.459694   \n",
       "PRV55267                    -0.435083               -0.493969   \n",
       "PRV52407                    -0.399273               -0.472122   \n",
       "PRV54154                    -0.468592               -0.503289   \n",
       "PRV53896                    -0.433751               -0.492628   \n",
       "\n",
       "          Mean_Reimbursement_per_Day  Mean_Length_of_Stay  \\\n",
       "Provider                                                    \n",
       "PRV56682                    0.490073             0.591932   \n",
       "PRV54630                   -0.621766            -0.690894   \n",
       "PRV55179                    0.994156             0.699064   \n",
       "PRV57312                   -0.621766            -0.690894   \n",
       "PRV54923                   -0.621766            -0.690894   \n",
       "...                              ...                  ...   \n",
       "PRV55620                   -0.621766            -0.690894   \n",
       "PRV55267                   -0.621766            -0.690894   \n",
       "PRV52407                   -0.621766            -0.690894   \n",
       "PRV54154                   -0.621766            -0.690894   \n",
       "PRV53896                   -0.621766            -0.690894   \n",
       "\n",
       "          Mean_Length_of_Claim  ...  Perc_ClaimStartDt_March  \\\n",
       "Provider                        ...                            \n",
       "PRV56682             -0.151775  ...                 0.210209   \n",
       "PRV54630             -0.200650  ...                -0.100263   \n",
       "PRV55179              0.009514  ...                 0.003228   \n",
       "PRV57312             -0.000261  ...                 0.003228   \n",
       "PRV54923             -0.327726  ...                 0.106719   \n",
       "...                        ...  ...                      ...   \n",
       "PRV55620             -0.972881  ...                -0.928187   \n",
       "PRV55267             -0.259301  ...                -0.100263   \n",
       "PRV52407             -0.713842  ...                -0.410734   \n",
       "PRV54154             -0.117562  ...                 0.831153   \n",
       "PRV53896             -0.405927  ...                -0.928187   \n",
       "\n",
       "          Perc_ClaimStartDt_April  Perc_ClaimStartDt_May  \\\n",
       "Provider                                                   \n",
       "PRV56682                -0.865219               1.166372   \n",
       "PRV54630                 0.217539              -0.294321   \n",
       "PRV55179                -0.077759              -0.002182   \n",
       "PRV57312                -0.274624               0.095197   \n",
       "PRV54923                -0.373056              -0.294321   \n",
       "...                           ...                    ...   \n",
       "PRV55620                -0.176191              -0.196941   \n",
       "PRV55267                -0.471489               0.192577   \n",
       "PRV52407                 0.020674              -0.002182   \n",
       "PRV54154                 0.808134              -0.878598   \n",
       "PRV53896                 0.020674              -0.196941   \n",
       "\n",
       "          Perc_ClaimStartDt_June  Perc_ClaimStartDt_July  \\\n",
       "Provider                                                   \n",
       "PRV56682               -0.376840                0.291816   \n",
       "PRV54630               -0.156588                0.404522   \n",
       "PRV55179               -0.486965                0.066405   \n",
       "PRV57312                0.173789                0.066405   \n",
       "PRV54923                0.063663                0.517228   \n",
       "...                          ...                     ...   \n",
       "PRV55620                0.504166               -0.159007   \n",
       "PRV55267               -0.046462                0.066405   \n",
       "PRV52407                0.394040                0.855346   \n",
       "PRV54154               -0.046462               -0.046301   \n",
       "PRV53896                0.063663               -0.159007   \n",
       "\n",
       "          Perc_ClaimStartDt_August  Perc_ClaimStartDt_September  \\\n",
       "Provider                                                          \n",
       "PRV56682                  0.267843                     0.351610   \n",
       "PRV54630                  0.373150                    -0.211133   \n",
       "PRV55179                 -0.153387                     0.689256   \n",
       "PRV57312                  0.057228                     0.013965   \n",
       "PRV54923                  0.267843                     0.013965   \n",
       "...                            ...                          ...   \n",
       "PRV55620                  1.215610                    -0.098584   \n",
       "PRV55267                  0.373150                     0.013965   \n",
       "PRV52407                 -0.364002                    -0.661327   \n",
       "PRV54154                 -0.048079                     1.026902   \n",
       "PRV53896                 -0.153387                     0.464159   \n",
       "\n",
       "          Perc_ClaimStartDt_October  Perc_ClaimStartDt_November  \\\n",
       "Provider                                                          \n",
       "PRV56682                  -0.829907                    0.409958   \n",
       "PRV54630                   0.403024                   -0.048665   \n",
       "PRV55179                  -0.110697                    0.065991   \n",
       "PRV57312                  -0.007953                    0.065991   \n",
       "PRV54923                  -0.007953                    0.180646   \n",
       "...                             ...                         ...   \n",
       "PRV55620                  -0.829907                    1.441859   \n",
       "PRV55267                  -0.110697                    0.065991   \n",
       "PRV52407                   0.403024                   -0.048665   \n",
       "PRV54154                   0.916745                   -0.851255   \n",
       "PRV53896                  -0.624418                    0.180646   \n",
       "\n",
       "          Perc_ClaimStartDt_December  \n",
       "Provider                              \n",
       "PRV56682                    0.886706  \n",
       "PRV54630                   -0.264897  \n",
       "PRV55179                   -0.055514  \n",
       "PRV57312                   -0.160206  \n",
       "PRV54923                    0.049177  \n",
       "...                              ...  \n",
       "PRV55620                   -0.055514  \n",
       "PRV55267                    0.153868  \n",
       "PRV52407                    0.153868  \n",
       "PRV54154                   -0.788352  \n",
       "PRV53896                    0.677324  \n",
       "\n",
       "[4328 rows x 70 columns]"
      ]
     },
     "execution_count": 118,
     "metadata": {},
     "output_type": "execute_result"
    }
   ],
   "source": [
    "Xtrain_Scaled"
   ]
  },
  {
   "cell_type": "markdown",
   "id": "occupational-charity",
   "metadata": {},
   "source": [
    "## Iteration 3: Give the PCA some backup\n",
    "\n",
    "[Back to Top](#Machine-Learning-Processing)\n",
    "\n"
   ]
  },
  {
   "cell_type": "code",
   "execution_count": 120,
   "id": "royal-myanmar",
   "metadata": {},
   "outputs": [],
   "source": [
    "# IT3: PCA Scaled\n",
    "from sklearn.decomposition import PCA \n",
    "from sklearn.preprocessing import StandardScaler\n",
    "scaled = StandardScaler()\n",
    "Xtrain_Scaled = pd.DataFrame(scaled.fit_transform(Xtrain), columns = Xtrain.columns, index = Xtrain.index)\n",
    "Xtest_Scaled = pd.DataFrame(scaled.fit_transform(Xtest), columns = Xtest.columns, index = Xtest.index)\n",
    "XtrainPCA, XtestPCA = PCAmerge(Xtrain_Scaled, Xtest_Scaled, n_comp = 0.95)"
   ]
  },
  {
   "cell_type": "code",
   "execution_count": 121,
   "id": "junior-photograph",
   "metadata": {},
   "outputs": [
    {
     "data": {
      "text/plain": [
       "113"
      ]
     },
     "execution_count": 121,
     "metadata": {},
     "output_type": "execute_result"
    }
   ],
   "source": [
    "XtestPCA.shape[1]"
   ]
  },
  {
   "cell_type": "code",
   "execution_count": null,
   "id": "split-attempt",
   "metadata": {},
   "outputs": [],
   "source": []
  },
  {
   "cell_type": "code",
   "execution_count": 122,
   "id": "sized-compromise",
   "metadata": {},
   "outputs": [
    {
     "name": "stderr",
     "output_type": "stream",
     "text": [
      "C:\\Users\\gottl\\Anaconda3\\lib\\site-packages\\sklearn\\utils\\validation.py:63: DataConversionWarning: A column-vector y was passed when a 1d array was expected. Please change the shape of y to (n_samples, ), for example using ravel().\n",
      "  return f(*args, **kwargs)\n"
     ]
    },
    {
     "name": "stdout",
     "output_type": "stream",
     "text": [
      "Logistic Regression Train Score: 0.9371534195933456\n",
      "Logistic Regression Test Score: 0.922365988909427\n"
     ]
    }
   ],
   "source": [
    "# IT1: Logistic Regression\n",
    "from sklearn.linear_model import LogisticRegression\n",
    "lgr3 = LogisticRegression(n_jobs=-1)\n",
    "lgr3.fit(XtrainPCA, ytrain)\n",
    "print('Logistic Regression Train Score:', lgr3.score(XtrainPCA, ytrain))\n",
    "print('Logistic Regression Test Score:', lgr3.score(XtestPCA, ytest))"
   ]
  },
  {
   "cell_type": "code",
   "execution_count": 123,
   "id": "persistent-navigation",
   "metadata": {},
   "outputs": [
    {
     "name": "stderr",
     "output_type": "stream",
     "text": [
      "C:\\Users\\gottl\\Anaconda3\\lib\\site-packages\\sklearn\\neighbors\\_classification.py:179: DataConversionWarning: A column-vector y was passed when a 1d array was expected. Please change the shape of y to (n_samples,), for example using ravel().\n",
      "  return self._fit(X, y)\n"
     ]
    },
    {
     "name": "stdout",
     "output_type": "stream",
     "text": [
      "KNearestNeighbors Train Score: 0.9406192236598891\n",
      "KNearestNeighbors Test Score: 0.9140480591497228\n"
     ]
    }
   ],
   "source": [
    "# IT1: KNN\n",
    "from sklearn.neighbors import KNeighborsClassifier\n",
    "knn3 = KNeighborsClassifier(n_jobs=-1)\n",
    "knn3.fit(XtrainPCA, ytrain)\n",
    "print('KNearestNeighbors Train Score:', knn3.score(XtrainPCA, ytrain))\n",
    "print('KNearestNeighbors Test Score:', knn3.score(XtestPCA, ytest))"
   ]
  },
  {
   "cell_type": "code",
   "execution_count": 124,
   "id": "retained-climate",
   "metadata": {},
   "outputs": [
    {
     "name": "stdout",
     "output_type": "stream",
     "text": [
      "LDA Train Score: 0.9348428835489834\n",
      "LDA Test Score: 0.9297597042513863\n"
     ]
    },
    {
     "name": "stderr",
     "output_type": "stream",
     "text": [
      "C:\\Users\\gottl\\Anaconda3\\lib\\site-packages\\sklearn\\utils\\validation.py:63: DataConversionWarning: A column-vector y was passed when a 1d array was expected. Please change the shape of y to (n_samples, ), for example using ravel().\n",
      "  return f(*args, **kwargs)\n"
     ]
    }
   ],
   "source": [
    "# IT1: LDA\n",
    "from sklearn.discriminant_analysis import LinearDiscriminantAnalysis\n",
    "lda3 = LinearDiscriminantAnalysis()\n",
    "lda3.fit(XtrainPCA, ytrain)\n",
    "print('LDA Train Score:', lda3.score(XtrainPCA, ytrain))\n",
    "print('LDA Test Score:', lda3.score(XtestPCA, ytest))"
   ]
  },
  {
   "cell_type": "code",
   "execution_count": 125,
   "id": "sealed-prize",
   "metadata": {},
   "outputs": [
    {
     "name": "stderr",
     "output_type": "stream",
     "text": [
      "C:\\Users\\gottl\\Anaconda3\\lib\\site-packages\\sklearn\\utils\\validation.py:63: DataConversionWarning: A column-vector y was passed when a 1d array was expected. Please change the shape of y to (n_samples, ), for example using ravel().\n",
      "  return f(*args, **kwargs)\n"
     ]
    },
    {
     "name": "stdout",
     "output_type": "stream",
     "text": [
      "GNB Train Score 0.6351663585951941\n",
      "GNB Test Score 0.6349353049907579\n"
     ]
    }
   ],
   "source": [
    "# IT1: GNB\n",
    "from sklearn.naive_bayes import GaussianNB\n",
    "gnb3 = GaussianNB()\n",
    "gnb3.fit(XtrainPCA, ytrain)\n",
    "print('GNB Train Score', gnb3.score(XtrainPCA, ytrain))\n",
    "print('GNB Test Score', gnb3.score(XtestPCA, ytest))"
   ]
  },
  {
   "cell_type": "code",
   "execution_count": 126,
   "id": "brown-ballet",
   "metadata": {
    "scrolled": true
   },
   "outputs": [
    {
     "name": "stderr",
     "output_type": "stream",
     "text": [
      "C:\\Users\\gottl\\Anaconda3\\lib\\site-packages\\sklearn\\utils\\validation.py:63: DataConversionWarning: A column-vector y was passed when a 1d array was expected. Please change the shape of y to (n_samples, ), for example using ravel().\n",
      "  return f(*args, **kwargs)\n"
     ]
    },
    {
     "name": "stdout",
     "output_type": "stream",
     "text": [
      "SVC Train Score 0.9396950092421442\n",
      "SVC Test Score 0.9214417744916821\n"
     ]
    }
   ],
   "source": [
    "# IT1: SVM\n",
    "from sklearn.svm import SVC\n",
    "svc3 = SVC()\n",
    "svc3.fit(XtrainPCA, ytrain)\n",
    "print('SVC Train Score', svc3.score(XtrainPCA, ytrain))\n",
    "print('SVC Test Score', svc3.score(XtestPCA, ytest))"
   ]
  },
  {
   "cell_type": "code",
   "execution_count": 127,
   "id": "satellite-brunswick",
   "metadata": {},
   "outputs": [
    {
     "name": "stdout",
     "output_type": "stream",
     "text": [
      "Catboost Train Score 0.9983826247689463\n",
      "Catboost Test Score 0.9306839186691312\n"
     ]
    }
   ],
   "source": [
    "# IT1: CatBoost\n",
    "from catboost import CatBoostClassifier\n",
    "cb3 = CatBoostClassifier(verbose=False)\n",
    "cb3.fit(XtrainPCA, ytrain)\n",
    "print('Catboost Train Score', cb3.score(XtrainPCA, ytrain))\n",
    "print('Catboost Test Score', cb3.score(XtestPCA, ytest))"
   ]
  },
  {
   "cell_type": "code",
   "execution_count": 128,
   "id": "champion-stress",
   "metadata": {},
   "outputs": [
    {
     "name": "stderr",
     "output_type": "stream",
     "text": [
      "C:\\Users\\gottl\\Anaconda3\\lib\\site-packages\\sklearn\\utils\\validation.py:63: DataConversionWarning: A column-vector y was passed when a 1d array was expected. Please change the shape of y to (n_samples, ), for example using ravel().\n",
      "  return f(*args, **kwargs)\n"
     ]
    },
    {
     "name": "stdout",
     "output_type": "stream",
     "text": [
      "LightGBM Train Score 1.0\n",
      "LightGBM Test Score 0.9214417744916821\n"
     ]
    }
   ],
   "source": [
    "# IT1: LightGBM\n",
    "from lightgbm import LGBMClassifier\n",
    "lgbm3 = LGBMClassifier(n_jobs=-1)\n",
    "lgbm3.fit(XtrainPCA, ytrain)\n",
    "print('LightGBM Train Score', lgbm3.score(XtrainPCA, ytrain))\n",
    "print('LightGBM Test Score', lgbm3.score(XtestPCA, ytest))"
   ]
  },
  {
   "cell_type": "code",
   "execution_count": null,
   "id": "entertaining-atlanta",
   "metadata": {},
   "outputs": [],
   "source": [
    "# Generate Progress Report Card\n",
    "resul = pd.DataFrame(columns=['Model', 'Logistic', 'KNN', 'LDA', 'GNB', 'SVM', 'CatBoost', 'LightGBM'])\n",
    "resul.set_index('Model', inplace=True)\n",
    "resul.loc['Iteration0 Train'] = ['NA','NA','NA','NA','NA',0,0]\n",
    "resul.loc['Iteration0 Test'] = ['NA','NA','NA','NA','NA',0,0]\n",
    "resul.loc['Iteration1 Train'] = [0,0,0,0,0,0,0]\n",
    "resul.loc['Iteration1 Test'] = [0,0,0,0,0,0,0]\n",
    "resul.loc['Iteration2 Train'] = [0,0,0,0,0,0,0]\n",
    "resul.loc['Iteration2 Test'] = [0,0,0,0,0,0,0]\n",
    "resul.loc['Iteration3 Train'] = [0,0,0,0,0,0,0]\n",
    "resul.loc['Iteration3 Test'] = [0,0,0,0,0,0,0]\n",
    "\n",
    "# Group the Models\n",
    "it0 = [cb0, lgbm0]\n",
    "it1 = [lgr1, knn1, lda1, gnb1, svc1, cb1, lgbm1]\n",
    "it2 = [lgr2, knn2, lda2, gnb2, svc2, cb2, lgbm2]\n",
    "it3 = [lgr3, knn3, lda3, gnb3, svc3, cb3, lgbm3]\n",
    "# Tabulate Iteration 0; only Catboost & LGBM\n",
    "col = 5\n",
    "for model in it0:\n",
    "    resul.iloc[0, col] = model.score(Xtrain, ytrain)\n",
    "    resul.iloc[1, col] = model.score(Xtest, ytest)\n",
    "    col+=1\n",
    "    \n",
    "# Tabulate Iteration 1; Piped w/ Scaler\n",
    "col = 0\n",
    "for model in it1:\n",
    "    resul.iloc[2, col] = model.score(Xtrain, ytrain)\n",
    "    resul.iloc[3, col] = model.score(Xtest, ytest)\n",
    "    col+=1\n",
    "\n",
    "col = 0\n",
    "for model in it2:\n",
    "    resul.iloc[4, col] = model.score(Xtrain, ytrain)\n",
    "    resul.iloc[5, col] = model.score(Xtest, ytest)\n",
    "    col+=1\n",
    "\n",
    "col = 0\n",
    "for model in it3:\n",
    "    resul.iloc[6, col] = model.score(XtrainPCA, ytrain)\n",
    "    resul.iloc[7, col] = model.score(XtestPCA, ytest)\n",
    "    col+=1\n",
    "    "
   ]
  },
  {
   "cell_type": "code",
   "execution_count": 131,
   "id": "a22b804b",
   "metadata": {},
   "outputs": [
    {
     "data": {
      "text/html": [
       "<div>\n",
       "<style scoped>\n",
       "    .dataframe tbody tr th:only-of-type {\n",
       "        vertical-align: middle;\n",
       "    }\n",
       "\n",
       "    .dataframe tbody tr th {\n",
       "        vertical-align: top;\n",
       "    }\n",
       "\n",
       "    .dataframe thead th {\n",
       "        text-align: right;\n",
       "    }\n",
       "</style>\n",
       "<table border=\"1\" class=\"dataframe\">\n",
       "  <thead>\n",
       "    <tr style=\"text-align: right;\">\n",
       "      <th></th>\n",
       "      <th>Logistic</th>\n",
       "      <th>KNN</th>\n",
       "      <th>LDA</th>\n",
       "      <th>GNB</th>\n",
       "      <th>SVM</th>\n",
       "      <th>CatBoost</th>\n",
       "      <th>LightGBM</th>\n",
       "    </tr>\n",
       "    <tr>\n",
       "      <th>Model</th>\n",
       "      <th></th>\n",
       "      <th></th>\n",
       "      <th></th>\n",
       "      <th></th>\n",
       "      <th></th>\n",
       "      <th></th>\n",
       "      <th></th>\n",
       "    </tr>\n",
       "  </thead>\n",
       "  <tbody>\n",
       "    <tr>\n",
       "      <th>Iteration0 Train</th>\n",
       "      <td>NA</td>\n",
       "      <td>NA</td>\n",
       "      <td>NA</td>\n",
       "      <td>NA</td>\n",
       "      <td>NA</td>\n",
       "      <td>0.997227</td>\n",
       "      <td>1</td>\n",
       "    </tr>\n",
       "    <tr>\n",
       "      <th>Iteration0 Test</th>\n",
       "      <td>NA</td>\n",
       "      <td>NA</td>\n",
       "      <td>NA</td>\n",
       "      <td>NA</td>\n",
       "      <td>NA</td>\n",
       "      <td>0.931608</td>\n",
       "      <td>0.934381</td>\n",
       "    </tr>\n",
       "    <tr>\n",
       "      <th>Iteration1 Train</th>\n",
       "      <td>0.937616</td>\n",
       "      <td>0.939695</td>\n",
       "      <td>0.934843</td>\n",
       "      <td>0.698475</td>\n",
       "      <td>0.941312</td>\n",
       "      <td>0.997689</td>\n",
       "      <td>1</td>\n",
       "    </tr>\n",
       "    <tr>\n",
       "      <th>Iteration1 Test</th>\n",
       "      <td>0.922366</td>\n",
       "      <td>0.918669</td>\n",
       "      <td>0.919593</td>\n",
       "      <td>0.672828</td>\n",
       "      <td>0.924214</td>\n",
       "      <td>0.935305</td>\n",
       "      <td>0.934381</td>\n",
       "    </tr>\n",
       "    <tr>\n",
       "      <th>Iteration2 Train</th>\n",
       "      <td>1</td>\n",
       "      <td>0.939695</td>\n",
       "      <td>0.933688</td>\n",
       "      <td>0.54598</td>\n",
       "      <td>0.939464</td>\n",
       "      <td>0.998845</td>\n",
       "      <td>1</td>\n",
       "    </tr>\n",
       "    <tr>\n",
       "      <th>Iteration2 Test</th>\n",
       "      <td>0.924214</td>\n",
       "      <td>0.921442</td>\n",
       "      <td>0.92329</td>\n",
       "      <td>0.542514</td>\n",
       "      <td>0.924214</td>\n",
       "      <td>0.920518</td>\n",
       "      <td>0.924214</td>\n",
       "    </tr>\n",
       "    <tr>\n",
       "      <th>Iteration3 Train</th>\n",
       "      <td>0.937153</td>\n",
       "      <td>0.940619</td>\n",
       "      <td>0.934843</td>\n",
       "      <td>0.635166</td>\n",
       "      <td>0.939695</td>\n",
       "      <td>0.998383</td>\n",
       "      <td>1</td>\n",
       "    </tr>\n",
       "    <tr>\n",
       "      <th>Iteration3 Test</th>\n",
       "      <td>0.922366</td>\n",
       "      <td>0.914048</td>\n",
       "      <td>0.92976</td>\n",
       "      <td>0.634935</td>\n",
       "      <td>0.921442</td>\n",
       "      <td>0.930684</td>\n",
       "      <td>0.921442</td>\n",
       "    </tr>\n",
       "  </tbody>\n",
       "</table>\n",
       "</div>"
      ],
      "text/plain": [
       "                  Logistic       KNN       LDA       GNB       SVM  CatBoost  \\\n",
       "Model                                                                          \n",
       "Iteration0 Train        NA        NA        NA        NA        NA  0.997227   \n",
       "Iteration0 Test         NA        NA        NA        NA        NA  0.931608   \n",
       "Iteration1 Train  0.937616  0.939695  0.934843  0.698475  0.941312  0.997689   \n",
       "Iteration1 Test   0.922366  0.918669  0.919593  0.672828  0.924214  0.935305   \n",
       "Iteration2 Train         1  0.939695  0.933688   0.54598  0.939464  0.998845   \n",
       "Iteration2 Test   0.924214  0.921442   0.92329  0.542514  0.924214  0.920518   \n",
       "Iteration3 Train  0.937153  0.940619  0.934843  0.635166  0.939695  0.998383   \n",
       "Iteration3 Test   0.922366  0.914048   0.92976  0.634935  0.921442  0.930684   \n",
       "\n",
       "                  LightGBM  \n",
       "Model                       \n",
       "Iteration0 Train         1  \n",
       "Iteration0 Test   0.934381  \n",
       "Iteration1 Train         1  \n",
       "Iteration1 Test   0.934381  \n",
       "Iteration2 Train         1  \n",
       "Iteration2 Test   0.924214  \n",
       "Iteration3 Train         1  \n",
       "Iteration3 Test   0.921442  "
      ]
     },
     "execution_count": 131,
     "metadata": {},
     "output_type": "execute_result"
    }
   ],
   "source": [
    "resul"
   ]
  }
 ],
 "metadata": {
  "kernelspec": {
   "display_name": "Python 3",
   "language": "python",
   "name": "python3"
  },
  "language_info": {
   "codemirror_mode": {
    "name": "ipython",
    "version": 3
   },
   "file_extension": ".py",
   "mimetype": "text/x-python",
   "name": "python",
   "nbconvert_exporter": "python",
   "pygments_lexer": "ipython3",
   "version": "3.8.10"
  }
 },
 "nbformat": 4,
 "nbformat_minor": 5
}
