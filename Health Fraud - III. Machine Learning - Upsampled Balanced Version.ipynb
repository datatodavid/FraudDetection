{
 "cells": [
  {
   "cell_type": "markdown",
   "id": "15c5589c",
   "metadata": {},
   "source": [
    "# Machine Learning Processing\n",
    "\n",
    "### Contents\n",
    "\n",
    " - I. [Data Importing & Processing](#Data-Import-and-Processing)\n",
    " - II. [Modeling Plan](#Modeling-Plan)\n",
    "     - [Iteration 0 - Unprocessed](#Iteration-0:-Non-Scaled-Data-for-Tree-based-Boosting-Models)\n",
    "     - [Iteration 1 - Scaled](#Iteration-1:-Scaling-the-Pipe)\n",
    "     - [Iteration 2 - PCA](#Iteration-2:-Give-the-Computer-a-Chance)\n",
    "     - [Iteration 3 - PCA Boosted](#Iteration-3:-PCABoosted-Modeling)\n",
    "     - [Best Models](#Best-Models)\n",
    " - III. [Preliminary Analysis](#Preliminary-Results-&-Analysis)\n",
    "     - [Permutation Importance Insights](#Permutation-Importance)\n",
    " - IV. [Stacking](#Running-the-Best-Models-for-Full-Training-Data)\n",
    "     - [Confidence Visualization](#Stacking-Visualization)\n",
    " - V. [Conclusions & Discussion](#Conclusions-&-Discussion)"
   ]
  },
  {
   "cell_type": "markdown",
   "id": "a22f8be7",
   "metadata": {},
   "source": [
    "## Data Import and Processing"
   ]
  },
  {
   "cell_type": "code",
   "execution_count": 36,
   "id": "88e3f429",
   "metadata": {},
   "outputs": [],
   "source": [
    "# Import packages etc.\n",
    "import pandas as pd\n",
    "import seaborn as sns\n",
    "import numpy as np\n",
    "import matplotlib.pyplot as plt\n",
    "from scipy import stats\n",
    "import pickle\n",
    "from sklearn.model_selection import train_test_split"
   ]
  },
  {
   "cell_type": "code",
   "execution_count": 37,
   "id": "0345fb83",
   "metadata": {},
   "outputs": [
    {
     "name": "stdout",
     "output_type": "stream",
     "text": [
      "Training Data shape: (4328, 71)\n",
      "Test Data Shape: (1082, 71)\n"
     ]
    }
   ],
   "source": [
    "Xdata = pickle.load(open('Xtrain.pickle', 'rb'))\n",
    "ydata = pickle.load(open('ytrain.pickle', 'rb'))\n",
    "\n",
    "# Split the data into train & test sets for supervised learning\n",
    "Xtrain, Xtest, ytrain, ytest = train_test_split(Xdata, ydata,\n",
    "                                               test_size=0.2,\n",
    "                                               random_state=430)\n",
    "\n",
    "# Quick Heads Up\n",
    "print('Training Data shape: ' + str(Xtrain.shape))\n",
    "print('Test Data Shape: ' + str(Xtest.shape))"
   ]
  },
  {
   "cell_type": "code",
   "execution_count": 3,
   "id": "third-hearing",
   "metadata": {},
   "outputs": [
    {
     "name": "stdout",
     "output_type": "stream",
     "text": [
      "PotentialFraud    506\n",
      "dtype: int64\n",
      "Total for len(ydata)\n"
     ]
    }
   ],
   "source": [
    "print(np.sum(ydata))\n",
    "print('Total for len(ydata)')"
   ]
  },
  {
   "cell_type": "code",
   "execution_count": 4,
   "id": "amateur-washington",
   "metadata": {},
   "outputs": [
    {
     "data": {
      "text/plain": [
       "PotentialFraud    395\n",
       "dtype: int64"
      ]
     },
     "execution_count": 4,
     "metadata": {},
     "output_type": "execute_result"
    }
   ],
   "source": [
    "np.sum(ytrain)"
   ]
  },
  {
   "cell_type": "markdown",
   "id": "assured-kingdom",
   "metadata": {},
   "source": [
    "# Getting rid of imbalance\n",
    "## SMOTE\n"
   ]
  },
  {
   "cell_type": "markdown",
   "id": "c1e25a40",
   "metadata": {},
   "source": [
    "## Modeling Plan\n",
    "The general strategy of our approach incorporates an initial, broad spectrum testing of models, including the following.\n",
    " - Logistic Regression\n",
    " - KNN\n",
    " - Discriminant Analysis\n",
    " - Naive Bayes\n",
    " - SVM\n",
    " - CatBoost\n",
    " - Light GBM\n",
    "\n",
    "This grouping should represent a decent collection of well-worn, classical methods with exceptionally long history & documentation as well as newer, useful methodologies. Of particular interest to this last point will be **Catboost & Light GBM**, two Gradient Boosting models that have shown a great deal of promise in terms of efficiency & accuracy.\n",
    "\n",
    "### Iterative Strategy | What We Care About \n",
    " - Iteration 0: Non-Scaled models - Naive modeling with tree-based boosting models\n",
    " - Iteration 1: Scaled models\n",
    " - Iteration 2: PCA transformed models\n",
    " - Iteration 3: PCA Boosting models (PCA features reattached to original data)"
   ]
  },
  {
   "cell_type": "code",
   "execution_count": 5,
   "id": "electronic-stamp",
   "metadata": {},
   "outputs": [],
   "source": [
    "# from sklearn.pipeline import Pipeline\n",
    "from imblearn.pipeline import Pipeline\n",
    "from imblearn.over_sampling import SMOTE\n",
    "from sklearn.linear_model import LogisticRegression\n",
    "from sklearn.preprocessing import StandardScaler\n",
    "from sklearn.neighbors import KNeighborsClassifier\n",
    "from sklearn.discriminant_analysis import LinearDiscriminantAnalysis\n",
    "from sklearn.naive_bayes import GaussianNB\n",
    "from sklearn.svm import SVC\n",
    "from catboost import CatBoostClassifier\n",
    "from lightgbm import LGBMClassifier\n",
    "from sklearn.model_selection import GridSearchCV"
   ]
  },
  {
   "cell_type": "markdown",
   "id": "db6e6268",
   "metadata": {},
   "source": [
    "### Iteration 0: Non-Scaled Data for Tree-based Boosting Models\n",
    "[Back to Top](#Machine-Learning-Processing)\n",
    "\n",
    "Both Catboost & Light GBM are capable of handling unscaled and even non-numeric data, and encourage testing their models with datasets that are not extensively transformed. As such, for these 2 models, we have run a separate iteration with non-scaled data. For further reference, please consult their respective documentation. Here we will process these for some initial yield results."
   ]
  },
  {
   "cell_type": "code",
   "execution_count": 6,
   "id": "facial-columbus",
   "metadata": {},
   "outputs": [
    {
     "name": "stdout",
     "output_type": "stream",
     "text": [
      "Best Params: {'catboost__depth': 6, 'catboost__min_data_in_leaf': 1}\n"
     ]
    }
   ],
   "source": [
    "# IT0: CatBoost Classifier\n",
    "# cb_0 = CatBoostClassifier(verbose = False)\n",
    "cb_0 = Pipeline(steps=[('smote', SMOTE(n_jobs=-2, random_state=430)),\n",
    "                      ('catboost', CatBoostClassifier(random_state=430, verbose=False))])\n",
    "cb_0.fit(Xtrain, ytrain)\n",
    "cb_0_train, cb_0_test = cb_0.score(Xtrain, ytrain), cb_0.score(Xtest, ytest)\n",
    "\n",
    "cb_grid = {'catboost__depth': [4, 6, 8],\n",
    "           'catboost__min_data_in_leaf': [1, 2, 4]}\n",
    "cb_0_opt = GridSearchCV(cb_0, cb_grid, n_jobs=-2, cv=3)\n",
    "cb_0_opt.fit(Xtrain, ytrain)\n",
    "cb_0_opt_train, cb_0_opt_test, cb_0_opt_params = cb_0_opt.score(Xtrain, ytrain), cb_0_opt.score(Xtest, ytest), cb_0_opt.best_params_\n",
    "\n",
    "print('Best Params:', cb_0_opt.best_params_)"
   ]
  },
  {
   "cell_type": "code",
   "execution_count": 7,
   "id": "nonprofit-tuner",
   "metadata": {
    "scrolled": true
   },
   "outputs": [
    {
     "name": "stdout",
     "output_type": "stream",
     "text": [
      "[LightGBM] [Warning] min_data_in_leaf is set=21, min_child_samples=20 will be ignored. Current value: min_data_in_leaf=21\n",
      "Best Params: {'lightgbm__max_depth': 11, 'lightgbm__min_data_in_leaf': 21, 'lightgbm__num_leaves': 44}\n"
     ]
    }
   ],
   "source": [
    "# IT0: Light Gradient Boosting Machine Classifier\n",
    "# lgbm_0 = LGBMClassifier()\n",
    "lgbm_0 = Pipeline(steps=[('smote', SMOTE(n_jobs=-2, random_state=430)),\n",
    "                        ('lightgbm', LGBMClassifier(random_state=430))])\n",
    "lgbm_0.fit(Xtrain, ytrain.values.ravel())\n",
    "lgbm_0_train, lgbm_0_test = lgbm_0.score(Xtrain, ytrain.values.ravel()), lgbm_0.score(Xtest, ytest.values.ravel())\n",
    "\n",
    "lgbm_grid = {'lightgbm__num_leaves': [40, 42, 44, 46],\n",
    "             'lightgbm__max_depth': [9, 11, 13, 15],\n",
    "             'lightgbm__min_data_in_leaf': [17, 19, 21, 23]}\n",
    "lgbm_0_opt = GridSearchCV(lgbm_0, lgbm_grid, n_jobs   = -2, cv=3)\n",
    "lgbm_0_opt.fit(Xtrain, ytrain.values.ravel())\n",
    "lgbm_0_opt_train, lgbm_0_opt_test, lgbm_0_opt_params = lgbm_0_opt.score(Xtrain, ytrain.values.ravel()), lgbm_0_opt.score(Xtest, ytest.values.ravel()), lgbm_0_opt.best_params_\n",
    "\n",
    "print('Best Params:', lgbm_0_opt.best_params_)"
   ]
  },
  {
   "cell_type": "markdown",
   "id": "equipped-israeli",
   "metadata": {},
   "source": [
    "Creating an iterative list of all new models' train and tests scores generated through hypertransformation tuning"
   ]
  },
  {
   "cell_type": "code",
   "execution_count": 8,
   "id": "photographic-designer",
   "metadata": {},
   "outputs": [],
   "source": [
    "modellist = [ele for ele in ['cb', 'lgbm', 'lgr', 'knn', 'lda', 'gnb', 'svc'] for i in range(16)]\n",
    "iterlist = [ele for ele in ['_0', '_1', '_2', '_3'] for i in range(2)] * 14\n",
    "optlist = [ele for ele in ['', '_opt'] for i in range(8)] * 7\n",
    "traintestlist = ['_train', '_test'] * 56\n",
    "for idx in range(len(modellist)):\n",
    "    modellist[idx] = modellist[idx] + iterlist[idx] + optlist[idx] + traintestlist[idx]\n"
   ]
  },
  {
   "cell_type": "markdown",
   "id": "lyric-holocaust",
   "metadata": {},
   "source": [
    "Creating a function to tabulate all train and test scores generated by the hypertransformation tuning"
   ]
  },
  {
   "cell_type": "code",
   "execution_count": 9,
   "id": "western-ethernet",
   "metadata": {},
   "outputs": [],
   "source": [
    "def scoring_table(score_list):\n",
    "    columns = [[ele for ele in ['Iteration0', 'Iteration1', 'Iteration2', 'Iteration3'] for i in range(2)],\n",
    "               [ele for ele in ['NonScaled', 'Scaled', 'PCA', 'PCABoost'] for i in range(2)],\n",
    "               ['Train', 'Test'] * 4]\n",
    "    c_tuples = list(zip(*columns))\n",
    "    multi_columns = pd.MultiIndex.from_tuples(c_tuples)\n",
    "\n",
    "    index = [[ele for ele in ['CatBoost', 'LightGBM', 'Logistic', 'KNN', 'LDA', 'GNB', 'SVC'] for i in range(2)], \n",
    "             ['default', 'optimized'] * 7]\n",
    "    i_tuples = list(zip(*index))\n",
    "    multi_index = pd.MultiIndex.from_tuples(i_tuples)\n",
    "\n",
    "    scores_df = pd.DataFrame(np.array(score_list).reshape((len(multi_index), len(multi_columns))), \n",
    "                 index=multi_index,\n",
    "                 columns=multi_columns)\n",
    "    return scores_df"
   ]
  },
  {
   "cell_type": "markdown",
   "id": "affiliated-partner",
   "metadata": {},
   "source": [
    "Initializing a new list of scores calculated after Iteration 0 is complete"
   ]
  },
  {
   "cell_type": "code",
   "execution_count": 10,
   "id": "julian-stretch",
   "metadata": {},
   "outputs": [
    {
     "data": {
      "text/html": [
       "<div>\n",
       "<style scoped>\n",
       "    .dataframe tbody tr th:only-of-type {\n",
       "        vertical-align: middle;\n",
       "    }\n",
       "\n",
       "    .dataframe tbody tr th {\n",
       "        vertical-align: top;\n",
       "    }\n",
       "\n",
       "    .dataframe thead tr th {\n",
       "        text-align: left;\n",
       "    }\n",
       "</style>\n",
       "<table border=\"1\" class=\"dataframe\">\n",
       "  <thead>\n",
       "    <tr>\n",
       "      <th></th>\n",
       "      <th></th>\n",
       "      <th colspan=\"2\" halign=\"left\">Iteration0</th>\n",
       "      <th colspan=\"2\" halign=\"left\">Iteration1</th>\n",
       "      <th colspan=\"2\" halign=\"left\">Iteration2</th>\n",
       "      <th colspan=\"2\" halign=\"left\">Iteration3</th>\n",
       "    </tr>\n",
       "    <tr>\n",
       "      <th></th>\n",
       "      <th></th>\n",
       "      <th colspan=\"2\" halign=\"left\">NonScaled</th>\n",
       "      <th colspan=\"2\" halign=\"left\">Scaled</th>\n",
       "      <th colspan=\"2\" halign=\"left\">PCA</th>\n",
       "      <th colspan=\"2\" halign=\"left\">PCABoost</th>\n",
       "    </tr>\n",
       "    <tr>\n",
       "      <th></th>\n",
       "      <th></th>\n",
       "      <th>Train</th>\n",
       "      <th>Test</th>\n",
       "      <th>Train</th>\n",
       "      <th>Test</th>\n",
       "      <th>Train</th>\n",
       "      <th>Test</th>\n",
       "      <th>Train</th>\n",
       "      <th>Test</th>\n",
       "    </tr>\n",
       "  </thead>\n",
       "  <tbody>\n",
       "    <tr>\n",
       "      <th rowspan=\"2\" valign=\"top\">CatBoost</th>\n",
       "      <th>default</th>\n",
       "      <td>1.0</td>\n",
       "      <td>0.922366</td>\n",
       "      <td>NaN</td>\n",
       "      <td>NaN</td>\n",
       "      <td>NaN</td>\n",
       "      <td>NaN</td>\n",
       "      <td>NaN</td>\n",
       "      <td>NaN</td>\n",
       "    </tr>\n",
       "    <tr>\n",
       "      <th>optimized</th>\n",
       "      <td>1.0</td>\n",
       "      <td>0.922366</td>\n",
       "      <td>NaN</td>\n",
       "      <td>NaN</td>\n",
       "      <td>NaN</td>\n",
       "      <td>NaN</td>\n",
       "      <td>NaN</td>\n",
       "      <td>NaN</td>\n",
       "    </tr>\n",
       "    <tr>\n",
       "      <th rowspan=\"2\" valign=\"top\">LightGBM</th>\n",
       "      <th>default</th>\n",
       "      <td>1.0</td>\n",
       "      <td>0.920518</td>\n",
       "      <td>NaN</td>\n",
       "      <td>NaN</td>\n",
       "      <td>NaN</td>\n",
       "      <td>NaN</td>\n",
       "      <td>NaN</td>\n",
       "      <td>NaN</td>\n",
       "    </tr>\n",
       "    <tr>\n",
       "      <th>optimized</th>\n",
       "      <td>1.0</td>\n",
       "      <td>0.922366</td>\n",
       "      <td>NaN</td>\n",
       "      <td>NaN</td>\n",
       "      <td>NaN</td>\n",
       "      <td>NaN</td>\n",
       "      <td>NaN</td>\n",
       "      <td>NaN</td>\n",
       "    </tr>\n",
       "    <tr>\n",
       "      <th rowspan=\"2\" valign=\"top\">Logistic</th>\n",
       "      <th>default</th>\n",
       "      <td>NaN</td>\n",
       "      <td>NaN</td>\n",
       "      <td>NaN</td>\n",
       "      <td>NaN</td>\n",
       "      <td>NaN</td>\n",
       "      <td>NaN</td>\n",
       "      <td>NaN</td>\n",
       "      <td>NaN</td>\n",
       "    </tr>\n",
       "    <tr>\n",
       "      <th>optimized</th>\n",
       "      <td>NaN</td>\n",
       "      <td>NaN</td>\n",
       "      <td>NaN</td>\n",
       "      <td>NaN</td>\n",
       "      <td>NaN</td>\n",
       "      <td>NaN</td>\n",
       "      <td>NaN</td>\n",
       "      <td>NaN</td>\n",
       "    </tr>\n",
       "    <tr>\n",
       "      <th rowspan=\"2\" valign=\"top\">KNN</th>\n",
       "      <th>default</th>\n",
       "      <td>NaN</td>\n",
       "      <td>NaN</td>\n",
       "      <td>NaN</td>\n",
       "      <td>NaN</td>\n",
       "      <td>NaN</td>\n",
       "      <td>NaN</td>\n",
       "      <td>NaN</td>\n",
       "      <td>NaN</td>\n",
       "    </tr>\n",
       "    <tr>\n",
       "      <th>optimized</th>\n",
       "      <td>NaN</td>\n",
       "      <td>NaN</td>\n",
       "      <td>NaN</td>\n",
       "      <td>NaN</td>\n",
       "      <td>NaN</td>\n",
       "      <td>NaN</td>\n",
       "      <td>NaN</td>\n",
       "      <td>NaN</td>\n",
       "    </tr>\n",
       "    <tr>\n",
       "      <th rowspan=\"2\" valign=\"top\">LDA</th>\n",
       "      <th>default</th>\n",
       "      <td>NaN</td>\n",
       "      <td>NaN</td>\n",
       "      <td>NaN</td>\n",
       "      <td>NaN</td>\n",
       "      <td>NaN</td>\n",
       "      <td>NaN</td>\n",
       "      <td>NaN</td>\n",
       "      <td>NaN</td>\n",
       "    </tr>\n",
       "    <tr>\n",
       "      <th>optimized</th>\n",
       "      <td>NaN</td>\n",
       "      <td>NaN</td>\n",
       "      <td>NaN</td>\n",
       "      <td>NaN</td>\n",
       "      <td>NaN</td>\n",
       "      <td>NaN</td>\n",
       "      <td>NaN</td>\n",
       "      <td>NaN</td>\n",
       "    </tr>\n",
       "    <tr>\n",
       "      <th rowspan=\"2\" valign=\"top\">GNB</th>\n",
       "      <th>default</th>\n",
       "      <td>NaN</td>\n",
       "      <td>NaN</td>\n",
       "      <td>NaN</td>\n",
       "      <td>NaN</td>\n",
       "      <td>NaN</td>\n",
       "      <td>NaN</td>\n",
       "      <td>NaN</td>\n",
       "      <td>NaN</td>\n",
       "    </tr>\n",
       "    <tr>\n",
       "      <th>optimized</th>\n",
       "      <td>NaN</td>\n",
       "      <td>NaN</td>\n",
       "      <td>NaN</td>\n",
       "      <td>NaN</td>\n",
       "      <td>NaN</td>\n",
       "      <td>NaN</td>\n",
       "      <td>NaN</td>\n",
       "      <td>NaN</td>\n",
       "    </tr>\n",
       "    <tr>\n",
       "      <th rowspan=\"2\" valign=\"top\">SVC</th>\n",
       "      <th>default</th>\n",
       "      <td>NaN</td>\n",
       "      <td>NaN</td>\n",
       "      <td>NaN</td>\n",
       "      <td>NaN</td>\n",
       "      <td>NaN</td>\n",
       "      <td>NaN</td>\n",
       "      <td>NaN</td>\n",
       "      <td>NaN</td>\n",
       "    </tr>\n",
       "    <tr>\n",
       "      <th>optimized</th>\n",
       "      <td>NaN</td>\n",
       "      <td>NaN</td>\n",
       "      <td>NaN</td>\n",
       "      <td>NaN</td>\n",
       "      <td>NaN</td>\n",
       "      <td>NaN</td>\n",
       "      <td>NaN</td>\n",
       "      <td>NaN</td>\n",
       "    </tr>\n",
       "  </tbody>\n",
       "</table>\n",
       "</div>"
      ],
      "text/plain": [
       "                   Iteration0           Iteration1      Iteration2       \\\n",
       "                    NonScaled               Scaled             PCA        \n",
       "                        Train      Test      Train Test      Train Test   \n",
       "CatBoost default          1.0  0.922366        NaN  NaN        NaN  NaN   \n",
       "         optimized        1.0  0.922366        NaN  NaN        NaN  NaN   \n",
       "LightGBM default          1.0  0.920518        NaN  NaN        NaN  NaN   \n",
       "         optimized        1.0  0.922366        NaN  NaN        NaN  NaN   \n",
       "Logistic default          NaN       NaN        NaN  NaN        NaN  NaN   \n",
       "         optimized        NaN       NaN        NaN  NaN        NaN  NaN   \n",
       "KNN      default          NaN       NaN        NaN  NaN        NaN  NaN   \n",
       "         optimized        NaN       NaN        NaN  NaN        NaN  NaN   \n",
       "LDA      default          NaN       NaN        NaN  NaN        NaN  NaN   \n",
       "         optimized        NaN       NaN        NaN  NaN        NaN  NaN   \n",
       "GNB      default          NaN       NaN        NaN  NaN        NaN  NaN   \n",
       "         optimized        NaN       NaN        NaN  NaN        NaN  NaN   \n",
       "SVC      default          NaN       NaN        NaN  NaN        NaN  NaN   \n",
       "         optimized        NaN       NaN        NaN  NaN        NaN  NaN   \n",
       "\n",
       "                   Iteration3       \n",
       "                     PCABoost       \n",
       "                        Train Test  \n",
       "CatBoost default          NaN  NaN  \n",
       "         optimized        NaN  NaN  \n",
       "LightGBM default          NaN  NaN  \n",
       "         optimized        NaN  NaN  \n",
       "Logistic default          NaN  NaN  \n",
       "         optimized        NaN  NaN  \n",
       "KNN      default          NaN  NaN  \n",
       "         optimized        NaN  NaN  \n",
       "LDA      default          NaN  NaN  \n",
       "         optimized        NaN  NaN  \n",
       "GNB      default          NaN  NaN  \n",
       "         optimized        NaN  NaN  \n",
       "SVC      default          NaN  NaN  \n",
       "         optimized        NaN  NaN  "
      ]
     },
     "execution_count": 10,
     "metadata": {},
     "output_type": "execute_result"
    }
   ],
   "source": [
    "scores = []\n",
    "for idx in range(len(modellist)):\n",
    "    try:\n",
    "        scores.append(locals()[modellist[idx]])\n",
    "    except:\n",
    "        scores.append(np.nan)\n",
    "scoring_table(scores)"
   ]
  },
  {
   "cell_type": "markdown",
   "id": "9cd9349d",
   "metadata": {},
   "source": [
    "### Iteration 1: Scaling the Pipe\n",
    "[Back to Top](#Machine-Learning-Processing)\n",
    "\n",
    "Our goal here will be to test the results with some initial scaling built into a pipeline. "
   ]
  },
  {
   "cell_type": "code",
   "execution_count": 11,
   "id": "lined-earthquake",
   "metadata": {},
   "outputs": [
    {
     "name": "stdout",
     "output_type": "stream",
     "text": [
      "Best Params: {'catboost__depth': 6, 'catboost__min_data_in_leaf': 1}\n"
     ]
    }
   ],
   "source": [
    "# IT1: CatBoost Classifier\n",
    "cb_1 = Pipeline(steps=[('smote', SMOTE(n_jobs=-2, random_state=430)),\n",
    "                       ('scaler', StandardScaler()),\n",
    "                       ('catboost', CatBoostClassifier(random_state=430, verbose = False))])\n",
    "cb_1.fit(Xtrain, ytrain)\n",
    "cb_1_train, cb_1_test = cb_1.score(Xtrain, ytrain), cb_1.score(Xtest, ytest)\n",
    "\n",
    "cb_grid = {'catboost__depth': [2, 4, 6, 8],\n",
    "           'catboost__min_data_in_leaf': [1, 2, 4]}\n",
    "cb_1_opt = GridSearchCV(cb_1, cb_grid, n_jobs=-2, cv=3)\n",
    "cb_1_opt.fit(Xtrain, ytrain)\n",
    "cb_1_opt_train, cb_1_opt_test, cb_1_opt_params = cb_1_opt.score(Xtrain, ytrain), cb_1_opt.score(Xtest, ytest), cb_1_opt.best_params_\n",
    "\n",
    "print('Best Params:', cb_1_opt.best_params_)"
   ]
  },
  {
   "cell_type": "code",
   "execution_count": 12,
   "id": "maritime-civilization",
   "metadata": {
    "scrolled": true
   },
   "outputs": [
    {
     "name": "stdout",
     "output_type": "stream",
     "text": [
      "[LightGBM] [Warning] min_data_in_leaf is set=19, min_child_samples=20 will be ignored. Current value: min_data_in_leaf=19\n",
      "Best Params: {'lightgbm__max_depth': 11, 'lightgbm__min_data_in_leaf': 19, 'lightgbm__num_leaves': 46}\n"
     ]
    }
   ],
   "source": [
    "# IT1: Light Gradient Boosting Machine Classifier\n",
    "lgbm_1 = Pipeline(steps=[('smote', SMOTE(n_jobs=-2, random_state=430)),\n",
    "                         ('scaler', StandardScaler()),\n",
    "                         ('lightgbm', LGBMClassifier(n_jobs=-2, random_state=430))])\n",
    "lgbm_1.fit(Xtrain, ytrain.values.ravel())\n",
    "lgbm_1_train, lgbm_1_test = lgbm_1.score(Xtrain, ytrain.values.ravel()), lgbm_1.score(Xtest, ytest.values.ravel())\n",
    "\n",
    "lgbm_grid = {'lightgbm__num_leaves': [44, 46, 48],\n",
    "             'lightgbm__max_depth': [9, 11, 13],\n",
    "             'lightgbm__min_data_in_leaf': [17, 19, 21, 23]}\n",
    "lgbm_1_opt = GridSearchCV(lgbm_1, lgbm_grid, n_jobs=-2, cv=3)\n",
    "lgbm_1_opt.fit(Xtrain, ytrain.values.ravel())\n",
    "lgbm_1_opt_train, lgbm_1_opt_test, lgbm_1_opt_params = lgbm_1_opt.score(Xtrain, ytrain.values.ravel()), lgbm_1_opt.score(Xtest, ytest.values.ravel()), lgbm_1_opt.best_params_\n",
    "\n",
    "print('Best Params:', lgbm_1_opt.best_params_)"
   ]
  },
  {
   "cell_type": "code",
   "execution_count": 13,
   "id": "separate-mixture",
   "metadata": {},
   "outputs": [
    {
     "name": "stderr",
     "output_type": "stream",
     "text": [
      "/home/theodore/anaconda3/lib/python3.8/site-packages/sklearn/model_selection/_search.py:922: UserWarning: One or more of the test scores are non-finite: [       nan        nan        nan        nan        nan        nan\n",
      "        nan        nan        nan        nan        nan        nan\n",
      "        nan        nan        nan        nan        nan        nan\n",
      "        nan        nan        nan        nan        nan        nan\n",
      "        nan        nan        nan        nan        nan        nan\n",
      "        nan        nan        nan        nan        nan        nan\n",
      "        nan        nan        nan        nan        nan        nan\n",
      "        nan        nan        nan        nan        nan        nan\n",
      "        nan        nan        nan 0.87777413        nan 0.88077681\n",
      "        nan 0.88008365        nan 0.88077665        nan 0.88100765\n",
      "        nan 0.88123833        nan 0.88193133        nan 0.88170033\n",
      "        nan 0.88193149        nan 0.88170033        nan 0.88146933\n",
      "        nan 0.88170033        nan 0.88146917        nan 0.88146917\n",
      "        nan 0.88123817        nan 0.88123817        nan 0.88170017\n",
      "        nan 0.88170017        nan 0.88123817        nan 0.88123817\n",
      "        nan 0.88077617        nan 0.88146933        nan 0.88146933\n",
      "        nan 0.88146917        nan 0.88170017]\n",
      "  warnings.warn(\n"
     ]
    },
    {
     "name": "stdout",
     "output_type": "stream",
     "text": [
      "Best Params: {'logistic__C': 1.387755102040816, 'logistic__penalty': 'l2'}\n"
     ]
    }
   ],
   "source": [
    "# IT1: Logistic Regression\n",
    "lgr_1 = Pipeline(steps=[('smote', SMOTE(n_jobs=-2, random_state=430)),\n",
    "                        ('scaler', StandardScaler()),\n",
    "                        ('logistic', LogisticRegression(n_jobs=-2))])\n",
    "lgr_1.fit(Xtrain, ytrain.values.ravel())\n",
    "lgr_1_train, lgr_1_test = lgr_1.score(Xtrain, ytrain.values.ravel()), lgr_1.score(Xtest, ytest.values.ravel())\n",
    "\n",
    "lgr_grid = {'logistic__C': np.linspace(-4, 4, 50),\n",
    "            'logistic__penalty': ['l1', 'l2']}\n",
    "lgr_1_opt = GridSearchCV(lgr_1, lgr_grid, n_jobs=-2, cv=3)\n",
    "lgr_1_opt.fit(Xtrain, ytrain.values.ravel())\n",
    "lgr_1_opt_train, lgr_1_opt_test, lgr_1_opt_params = lgr_1_opt.score(Xtrain, ytrain.values.ravel()), lgr_1_opt.score(Xtest, ytest.values.ravel()), lgr_1_opt.best_params_\n",
    "\n",
    "print('Best Params:', lgr_1_opt.best_params_)"
   ]
  },
  {
   "cell_type": "code",
   "execution_count": 14,
   "id": "front-tulsa",
   "metadata": {},
   "outputs": [
    {
     "name": "stdout",
     "output_type": "stream",
     "text": [
      "Best Params: {'knn__metric': 'manhattan', 'knn__n_neighbors': 61, 'knn__weights': 'distance'}\n"
     ]
    }
   ],
   "source": [
    "# IT1: K-Nearest Neighbors\n",
    "knn_1 = Pipeline(steps=[('smote', SMOTE(n_jobs=-2, random_state=430)),\n",
    "                        ('scaler', StandardScaler()),\n",
    "                        ('knn', KNeighborsClassifier(n_jobs=-2))])\n",
    "knn_1.fit(Xtrain, ytrain.values.ravel())\n",
    "knn_1_train, knn_1_test = knn_1.score(Xtrain, ytrain.values.ravel()), knn_1.score(Xtest, ytest.values.ravel())\n",
    "\n",
    "ksqrt = int(np.round(np.sqrt(Xtrain.shape[0])))       # Get sqrt of observations for k\n",
    "knn_grid = {'knn__n_neighbors': [ksqrt - 5, ksqrt - 3, ksqrt, ksqrt + 3, ksqrt + 5],\n",
    "            'knn__weights': ['uniform', 'distance'],\n",
    "            'knn__metric': ['euclidean', 'manhattan']}\n",
    "knn_1_opt = GridSearchCV(knn_1, knn_grid, n_jobs=-2, cv=3)\n",
    "knn_1_opt.fit(Xtrain, ytrain.values.ravel())\n",
    "knn_1_opt_train, knn_1_opt_test, knn_1_opt_params = knn_1_opt.score(Xtrain, ytrain.values.ravel()), knn_1_opt.score(Xtest, ytest.values.ravel()), knn_1_opt.best_params_\n",
    "\n",
    "print('Best Params:', knn_1_opt.best_params_)"
   ]
  },
  {
   "cell_type": "code",
   "execution_count": 15,
   "id": "decent-customs",
   "metadata": {},
   "outputs": [
    {
     "name": "stdout",
     "output_type": "stream",
     "text": [
      "Best Params: {'lda__solver': 'svd'}\n"
     ]
    }
   ],
   "source": [
    "# IT1: Linear Discriminant Analysis\n",
    "lda_1 = Pipeline(steps=[('smote', SMOTE(n_jobs=-2, random_state=430)),\n",
    "                        ('scaler', StandardScaler()),\n",
    "                        ('lda', LinearDiscriminantAnalysis())])\n",
    "lda_1.fit(Xtrain, ytrain.values.ravel())\n",
    "lda_1_train, lda_1_test = lda_1.score(Xtrain, ytrain.values.ravel()), lda_1.score(Xtest, ytest.values.ravel())\n",
    "\n",
    "lda_grid = {'lda__solver': ['svd', 'lsqr', 'eigen']}\n",
    "lda_1_opt = GridSearchCV(lda_1, lda_grid, n_jobs=-2, cv=3)\n",
    "lda_1_opt.fit(Xtrain, ytrain.values.ravel())\n",
    "lda_1_opt_train, lda_1_opt_test, lda_1_opt_params = lda_1_opt.score(Xtrain, ytrain.values.ravel()), lda_1_opt.score(Xtest, ytest.values.ravel()), lda_1_opt.best_params_\n",
    "\n",
    "print('Best Params:', lda_1_opt.best_params_)"
   ]
  },
  {
   "cell_type": "code",
   "execution_count": 16,
   "id": "beautiful-guatemala",
   "metadata": {},
   "outputs": [
    {
     "name": "stdout",
     "output_type": "stream",
     "text": [
      "Best Params: {'gnb__var_smoothing': 0.0002310129700083158}\n"
     ]
    }
   ],
   "source": [
    "# IT1: Gaussian Naive Bayes\n",
    "gnb_1 = Pipeline(steps=[('smote', SMOTE(n_jobs=-2, random_state=430)),\n",
    "                        ('scaler', StandardScaler()),\n",
    "                        ('gnb', GaussianNB())])\n",
    "gnb_1.fit(Xtrain, ytrain.values.ravel())\n",
    "gnb_1_train, gnb_1_test = gnb_1.score(Xtrain, ytrain.values.ravel()), gnb_1.score(Xtest, ytest.values.ravel())\n",
    "\n",
    "gnb_grid = {'gnb__var_smoothing': np.logspace(0, -9, num = 100)}\n",
    "gnb_1_opt = GridSearchCV(gnb_1, gnb_grid, n_jobs=-2, cv=3)\n",
    "gnb_1_opt.fit(Xtrain, ytrain.values.ravel())\n",
    "gnb_1_opt_train, gnb_1_opt_test, gnb_1_opt_params = gnb_1_opt.score(Xtrain, ytrain.values.ravel()), gnb_1_opt.score(Xtest, ytest.values.ravel()), gnb_1_opt.best_params_\n",
    "\n",
    "print('Best Params:', gnb_1_opt.best_params_)"
   ]
  },
  {
   "cell_type": "code",
   "execution_count": 17,
   "id": "organized-court",
   "metadata": {},
   "outputs": [
    {
     "name": "stderr",
     "output_type": "stream",
     "text": [
      "/home/theodore/anaconda3/lib/python3.8/site-packages/joblib/externals/loky/process_executor.py:688: UserWarning: A worker stopped while some jobs were given to the executor. This can be caused by a too short worker timeout or by a memory leak.\n",
      "  warnings.warn(\n"
     ]
    },
    {
     "name": "stdout",
     "output_type": "stream",
     "text": [
      "Best Params: {'svc__C': 100, 'svc__gamma': 'scale', 'svc__kernel': 'rbf'}\n"
     ]
    }
   ],
   "source": [
    "# IT1: Support Vector Machine Classifier\n",
    "svc_1 = Pipeline(steps=[('smote', SMOTE(n_jobs=-2, random_state=430)),\n",
    "                        ('scaler', StandardScaler()),\n",
    "                        ('svc', SVC())])\n",
    "svc_1.fit(Xtrain, ytrain.values.ravel())\n",
    "svc_1_train, svc_1_test = svc_1.score(Xtrain, ytrain.values.ravel()), svc_1.score(Xtest, ytest.values.ravel())\n",
    "\n",
    "svc_grid = {'svc__kernel': ['linear', 'poly', 'rbf', 'sigmoid'],\n",
    "            'svc__gamma': ['scale'],\n",
    "            'svc__C': [0.1, 1, 10, 100, 500, 1000]}\n",
    "svc_1_opt = GridSearchCV(svc_1, svc_grid, n_jobs=-2, cv=3)\n",
    "svc_1_opt.fit(Xtrain, ytrain.values.ravel())\n",
    "svc_1_opt_train, svc_1_opt_test, svc_1_opt_params = svc_1_opt.score(Xtrain, ytrain.values.ravel()), svc_1_opt.score(Xtest, ytest.values.ravel()), svc_1_opt.best_params_\n",
    "\n",
    "print('Best Params:', svc_1_opt.best_params_)"
   ]
  },
  {
   "cell_type": "markdown",
   "id": "elegant-ultimate",
   "metadata": {},
   "source": [
    "Initializing a new list of scores calculated after Iteration 1 is complete"
   ]
  },
  {
   "cell_type": "code",
   "execution_count": 18,
   "id": "temporal-antibody",
   "metadata": {},
   "outputs": [
    {
     "data": {
      "text/html": [
       "<div>\n",
       "<style scoped>\n",
       "    .dataframe tbody tr th:only-of-type {\n",
       "        vertical-align: middle;\n",
       "    }\n",
       "\n",
       "    .dataframe tbody tr th {\n",
       "        vertical-align: top;\n",
       "    }\n",
       "\n",
       "    .dataframe thead tr th {\n",
       "        text-align: left;\n",
       "    }\n",
       "</style>\n",
       "<table border=\"1\" class=\"dataframe\">\n",
       "  <thead>\n",
       "    <tr>\n",
       "      <th></th>\n",
       "      <th></th>\n",
       "      <th colspan=\"2\" halign=\"left\">Iteration0</th>\n",
       "      <th colspan=\"2\" halign=\"left\">Iteration1</th>\n",
       "      <th colspan=\"2\" halign=\"left\">Iteration2</th>\n",
       "      <th colspan=\"2\" halign=\"left\">Iteration3</th>\n",
       "    </tr>\n",
       "    <tr>\n",
       "      <th></th>\n",
       "      <th></th>\n",
       "      <th colspan=\"2\" halign=\"left\">NonScaled</th>\n",
       "      <th colspan=\"2\" halign=\"left\">Scaled</th>\n",
       "      <th colspan=\"2\" halign=\"left\">PCA</th>\n",
       "      <th colspan=\"2\" halign=\"left\">PCABoost</th>\n",
       "    </tr>\n",
       "    <tr>\n",
       "      <th></th>\n",
       "      <th></th>\n",
       "      <th>Train</th>\n",
       "      <th>Test</th>\n",
       "      <th>Train</th>\n",
       "      <th>Test</th>\n",
       "      <th>Train</th>\n",
       "      <th>Test</th>\n",
       "      <th>Train</th>\n",
       "      <th>Test</th>\n",
       "    </tr>\n",
       "  </thead>\n",
       "  <tbody>\n",
       "    <tr>\n",
       "      <th rowspan=\"2\" valign=\"top\">CatBoost</th>\n",
       "      <th>default</th>\n",
       "      <td>1.0</td>\n",
       "      <td>0.922366</td>\n",
       "      <td>1.000000</td>\n",
       "      <td>0.926063</td>\n",
       "      <td>NaN</td>\n",
       "      <td>NaN</td>\n",
       "      <td>NaN</td>\n",
       "      <td>NaN</td>\n",
       "    </tr>\n",
       "    <tr>\n",
       "      <th>optimized</th>\n",
       "      <td>1.0</td>\n",
       "      <td>0.922366</td>\n",
       "      <td>1.000000</td>\n",
       "      <td>0.926063</td>\n",
       "      <td>NaN</td>\n",
       "      <td>NaN</td>\n",
       "      <td>NaN</td>\n",
       "      <td>NaN</td>\n",
       "    </tr>\n",
       "    <tr>\n",
       "      <th rowspan=\"2\" valign=\"top\">LightGBM</th>\n",
       "      <th>default</th>\n",
       "      <td>1.0</td>\n",
       "      <td>0.920518</td>\n",
       "      <td>1.000000</td>\n",
       "      <td>0.921442</td>\n",
       "      <td>NaN</td>\n",
       "      <td>NaN</td>\n",
       "      <td>NaN</td>\n",
       "      <td>NaN</td>\n",
       "    </tr>\n",
       "    <tr>\n",
       "      <th>optimized</th>\n",
       "      <td>1.0</td>\n",
       "      <td>0.922366</td>\n",
       "      <td>1.000000</td>\n",
       "      <td>0.924214</td>\n",
       "      <td>NaN</td>\n",
       "      <td>NaN</td>\n",
       "      <td>NaN</td>\n",
       "      <td>NaN</td>\n",
       "    </tr>\n",
       "    <tr>\n",
       "      <th rowspan=\"2\" valign=\"top\">Logistic</th>\n",
       "      <th>default</th>\n",
       "      <td>NaN</td>\n",
       "      <td>NaN</td>\n",
       "      <td>0.886322</td>\n",
       "      <td>0.851201</td>\n",
       "      <td>NaN</td>\n",
       "      <td>NaN</td>\n",
       "      <td>NaN</td>\n",
       "      <td>NaN</td>\n",
       "    </tr>\n",
       "    <tr>\n",
       "      <th>optimized</th>\n",
       "      <td>NaN</td>\n",
       "      <td>NaN</td>\n",
       "      <td>0.886784</td>\n",
       "      <td>0.848429</td>\n",
       "      <td>NaN</td>\n",
       "      <td>NaN</td>\n",
       "      <td>NaN</td>\n",
       "      <td>NaN</td>\n",
       "    </tr>\n",
       "    <tr>\n",
       "      <th rowspan=\"2\" valign=\"top\">KNN</th>\n",
       "      <th>default</th>\n",
       "      <td>NaN</td>\n",
       "      <td>NaN</td>\n",
       "      <td>0.781654</td>\n",
       "      <td>0.702403</td>\n",
       "      <td>NaN</td>\n",
       "      <td>NaN</td>\n",
       "      <td>NaN</td>\n",
       "      <td>NaN</td>\n",
       "    </tr>\n",
       "    <tr>\n",
       "      <th>optimized</th>\n",
       "      <td>NaN</td>\n",
       "      <td>NaN</td>\n",
       "      <td>1.000000</td>\n",
       "      <td>0.691312</td>\n",
       "      <td>NaN</td>\n",
       "      <td>NaN</td>\n",
       "      <td>NaN</td>\n",
       "      <td>NaN</td>\n",
       "    </tr>\n",
       "    <tr>\n",
       "      <th rowspan=\"2\" valign=\"top\">LDA</th>\n",
       "      <th>default</th>\n",
       "      <td>NaN</td>\n",
       "      <td>NaN</td>\n",
       "      <td>0.845656</td>\n",
       "      <td>0.818854</td>\n",
       "      <td>NaN</td>\n",
       "      <td>NaN</td>\n",
       "      <td>NaN</td>\n",
       "      <td>NaN</td>\n",
       "    </tr>\n",
       "    <tr>\n",
       "      <th>optimized</th>\n",
       "      <td>NaN</td>\n",
       "      <td>NaN</td>\n",
       "      <td>0.845656</td>\n",
       "      <td>0.818854</td>\n",
       "      <td>NaN</td>\n",
       "      <td>NaN</td>\n",
       "      <td>NaN</td>\n",
       "      <td>NaN</td>\n",
       "    </tr>\n",
       "    <tr>\n",
       "      <th rowspan=\"2\" valign=\"top\">GNB</th>\n",
       "      <th>default</th>\n",
       "      <td>NaN</td>\n",
       "      <td>NaN</td>\n",
       "      <td>0.713031</td>\n",
       "      <td>0.681146</td>\n",
       "      <td>NaN</td>\n",
       "      <td>NaN</td>\n",
       "      <td>NaN</td>\n",
       "      <td>NaN</td>\n",
       "    </tr>\n",
       "    <tr>\n",
       "      <th>optimized</th>\n",
       "      <td>NaN</td>\n",
       "      <td>NaN</td>\n",
       "      <td>0.713031</td>\n",
       "      <td>0.681146</td>\n",
       "      <td>NaN</td>\n",
       "      <td>NaN</td>\n",
       "      <td>NaN</td>\n",
       "      <td>NaN</td>\n",
       "    </tr>\n",
       "    <tr>\n",
       "      <th rowspan=\"2\" valign=\"top\">SVC</th>\n",
       "      <th>default</th>\n",
       "      <td>NaN</td>\n",
       "      <td>NaN</td>\n",
       "      <td>0.920518</td>\n",
       "      <td>0.865989</td>\n",
       "      <td>NaN</td>\n",
       "      <td>NaN</td>\n",
       "      <td>NaN</td>\n",
       "      <td>NaN</td>\n",
       "    </tr>\n",
       "    <tr>\n",
       "      <th>optimized</th>\n",
       "      <td>NaN</td>\n",
       "      <td>NaN</td>\n",
       "      <td>0.996996</td>\n",
       "      <td>0.902957</td>\n",
       "      <td>NaN</td>\n",
       "      <td>NaN</td>\n",
       "      <td>NaN</td>\n",
       "      <td>NaN</td>\n",
       "    </tr>\n",
       "  </tbody>\n",
       "</table>\n",
       "</div>"
      ],
      "text/plain": [
       "                   Iteration0           Iteration1           Iteration2       \\\n",
       "                    NonScaled               Scaled                  PCA        \n",
       "                        Train      Test      Train      Test      Train Test   \n",
       "CatBoost default          1.0  0.922366   1.000000  0.926063        NaN  NaN   \n",
       "         optimized        1.0  0.922366   1.000000  0.926063        NaN  NaN   \n",
       "LightGBM default          1.0  0.920518   1.000000  0.921442        NaN  NaN   \n",
       "         optimized        1.0  0.922366   1.000000  0.924214        NaN  NaN   \n",
       "Logistic default          NaN       NaN   0.886322  0.851201        NaN  NaN   \n",
       "         optimized        NaN       NaN   0.886784  0.848429        NaN  NaN   \n",
       "KNN      default          NaN       NaN   0.781654  0.702403        NaN  NaN   \n",
       "         optimized        NaN       NaN   1.000000  0.691312        NaN  NaN   \n",
       "LDA      default          NaN       NaN   0.845656  0.818854        NaN  NaN   \n",
       "         optimized        NaN       NaN   0.845656  0.818854        NaN  NaN   \n",
       "GNB      default          NaN       NaN   0.713031  0.681146        NaN  NaN   \n",
       "         optimized        NaN       NaN   0.713031  0.681146        NaN  NaN   \n",
       "SVC      default          NaN       NaN   0.920518  0.865989        NaN  NaN   \n",
       "         optimized        NaN       NaN   0.996996  0.902957        NaN  NaN   \n",
       "\n",
       "                   Iteration3       \n",
       "                     PCABoost       \n",
       "                        Train Test  \n",
       "CatBoost default          NaN  NaN  \n",
       "         optimized        NaN  NaN  \n",
       "LightGBM default          NaN  NaN  \n",
       "         optimized        NaN  NaN  \n",
       "Logistic default          NaN  NaN  \n",
       "         optimized        NaN  NaN  \n",
       "KNN      default          NaN  NaN  \n",
       "         optimized        NaN  NaN  \n",
       "LDA      default          NaN  NaN  \n",
       "         optimized        NaN  NaN  \n",
       "GNB      default          NaN  NaN  \n",
       "         optimized        NaN  NaN  \n",
       "SVC      default          NaN  NaN  \n",
       "         optimized        NaN  NaN  "
      ]
     },
     "execution_count": 18,
     "metadata": {},
     "output_type": "execute_result"
    }
   ],
   "source": [
    "scores = []\n",
    "for idx in range(len(modellist)):\n",
    "    try:\n",
    "        scores.append(locals()[modellist[idx]])\n",
    "    except:\n",
    "        scores.append(np.nan)\n",
    "scoring_table(scores)"
   ]
  },
  {
   "cell_type": "markdown",
   "id": "bb3eed25",
   "metadata": {},
   "source": [
    "## Iteration 2: Give the Computer a Chance\n",
    "\n",
    "[Back to Top](#Machine-Learning-Processing)\n",
    "\n"
   ]
  },
  {
   "cell_type": "code",
   "execution_count": 19,
   "id": "focal-tribute",
   "metadata": {},
   "outputs": [],
   "source": [
    "# IT2: PCA Only\n",
    "from sklearn.decomposition import PCA "
   ]
  },
  {
   "cell_type": "code",
   "execution_count": 20,
   "id": "controversial-compensation",
   "metadata": {},
   "outputs": [
    {
     "name": "stderr",
     "output_type": "stream",
     "text": [
      "/home/theodore/anaconda3/lib/python3.8/site-packages/joblib/externals/loky/process_executor.py:688: UserWarning: A worker stopped while some jobs were given to the executor. This can be caused by a too short worker timeout or by a memory leak.\n",
      "  warnings.warn(\n"
     ]
    },
    {
     "name": "stdout",
     "output_type": "stream",
     "text": [
      "Best Params: {'catboost__depth': 6, 'catboost__min_data_in_leaf': 1}\n"
     ]
    }
   ],
   "source": [
    "# IT2: CatBoost Classifier\n",
    "cb_2 = Pipeline(steps=[('smote', SMOTE(n_jobs=-2, random_state=430)),\n",
    "                       ('scaler', StandardScaler()),\n",
    "                       ('PCA', PCA(n_components=0.95, random_state=430)),\n",
    "                       ('catboost', CatBoostClassifier(random_state=430, verbose = False))])\n",
    "cb_2.fit(Xtrain, ytrain)\n",
    "cb_2_train, cb_2_test = cb_2.score(Xtrain, ytrain), cb_2.score(Xtest, ytest)\n",
    "\n",
    "cb_grid2 = {'catboost__depth': [4, 6, 8],\n",
    "           'catboost__min_data_in_leaf': [1, 2, 4]}\n",
    "\n",
    "cb_2_opt = GridSearchCV(cb_2, cb_grid2, n_jobs=-2, cv=3)\n",
    "cb_2_opt.fit(Xtrain, ytrain)\n",
    "cb_2_opt_train, cb_2_opt_test, cb_2_opt_params = cb_2_opt.score(Xtrain, ytrain), cb_2_opt.score(Xtest, ytest), cb_2_opt.best_params_\n",
    "\n",
    "print('Best Params:', cb_2_opt.best_params_)"
   ]
  },
  {
   "cell_type": "code",
   "execution_count": 21,
   "id": "signed-watershed",
   "metadata": {
    "scrolled": true
   },
   "outputs": [
    {
     "name": "stdout",
     "output_type": "stream",
     "text": [
      "[LightGBM] [Warning] min_data_in_leaf is set=17, min_child_samples=20 will be ignored. Current value: min_data_in_leaf=17\n",
      "Best Params: {'lightgbm__max_depth': 9, 'lightgbm__min_data_in_leaf': 17, 'lightgbm__num_leaves': 46}\n"
     ]
    }
   ],
   "source": [
    "# IT2: Light Gradient Boosting Machine Classifier\n",
    "lgbm_2 = Pipeline(steps=[('smote', SMOTE(n_jobs=-2, random_state=430)),\n",
    "                         ('scaler', StandardScaler()),\n",
    "                         ('PCA', PCA(n_components=0.95, random_state=430)),\n",
    "                         ('lightgbm', LGBMClassifier(n_jobs=-2, random_state=430))])\n",
    "lgbm_2.fit(Xtrain, ytrain.values.ravel())\n",
    "lgbm_2_train, lgbm_2_test = lgbm_2.score(Xtrain, ytrain.values.ravel()), lgbm_2.score(Xtest, ytest.values.ravel())\n",
    "\n",
    "lgbm_grid2 = {'lightgbm__num_leaves': [44, 46, 48],\n",
    "              'lightgbm__max_depth': [5, 7, 9, 11],\n",
    "              'lightgbm__min_data_in_leaf': [13, 15, 17, 19]}\n",
    "\n",
    "lgbm_2_opt = GridSearchCV(lgbm_2, lgbm_grid2, n_jobs=-2, cv=3)\n",
    "lgbm_2_opt.fit(Xtrain, ytrain.values.ravel())\n",
    "lgbm_2_opt_train, lgbm_2_opt_test, lgbm_2_opt_params = lgbm_2_opt.score(Xtrain, ytrain.values.ravel()), lgbm_2_opt.score(Xtest, ytest.values.ravel()), lgbm_2_opt.best_params_\n",
    "\n",
    "print('Best Params:', lgbm_2_opt.best_params_)"
   ]
  },
  {
   "cell_type": "code",
   "execution_count": 22,
   "id": "delayed-version",
   "metadata": {},
   "outputs": [
    {
     "name": "stderr",
     "output_type": "stream",
     "text": [
      "/home/theodore/anaconda3/lib/python3.8/site-packages/sklearn/model_selection/_search.py:922: UserWarning: One or more of the test scores are non-finite: [       nan        nan        nan        nan        nan        nan\n",
      "        nan        nan        nan        nan        nan        nan\n",
      "        nan        nan        nan        nan        nan        nan\n",
      "        nan        nan        nan        nan        nan        nan\n",
      "        nan        nan        nan        nan        nan        nan\n",
      "        nan        nan        nan        nan        nan        nan\n",
      "        nan        nan        nan        nan        nan        nan\n",
      "        nan        nan        nan        nan        nan        nan\n",
      "        nan        nan        nan 0.84935341        nan 0.85143273\n",
      "        nan 0.85097073        nan 0.85143289        nan 0.85143289\n",
      "        nan 0.85143289        nan 0.85143289        nan 0.85143289\n",
      "        nan 0.85143289        nan 0.85143289        nan 0.85143289\n",
      "        nan 0.85143289        nan 0.85166389        nan 0.85166389\n",
      "        nan 0.85166389        nan 0.85166389        nan 0.85166389\n",
      "        nan 0.85166389        nan 0.85166389        nan 0.85166389\n",
      "        nan 0.85166389        nan 0.85166389        nan 0.85166389\n",
      "        nan 0.85166389        nan 0.85166389]\n",
      "  warnings.warn(\n"
     ]
    },
    {
     "name": "stdout",
     "output_type": "stream",
     "text": [
      "Best Params: {'logistic__C': 2.040816326530612, 'logistic__penalty': 'l2'}\n"
     ]
    }
   ],
   "source": [
    "# IT2: Logistic Regression\n",
    "lgr_2 = Pipeline(steps=[('smote', SMOTE(n_jobs=-2, random_state=430)),\n",
    "                        ('scaler', StandardScaler()),\n",
    "                        ('PCA', PCA(n_components=0.95, random_state=430)),\n",
    "                        ('logistic', LogisticRegression(n_jobs=-2))])\n",
    "lgr_2.fit(Xtrain, ytrain.values.ravel())\n",
    "lgr_2_train, lgr_2_test = lgr_2.score(Xtrain, ytrain.values.ravel()), lgr_2.score(Xtest, ytest.values.ravel())\n",
    "\n",
    "lgr_2_opt = GridSearchCV(lgr_2, lgr_grid, n_jobs=-2, cv=3)\n",
    "lgr_2_opt.fit(Xtrain, ytrain.values.ravel())\n",
    "lgr_2_opt_train, lgr_2_opt_test, lgr_2_opt_params = lgr_2_opt.score(Xtrain, ytrain.values.ravel()), lgr_2_opt.score(Xtest, ytest.values.ravel()), lgr_2_opt.best_params_\n",
    "\n",
    "print('Best Params:', lgr_2_opt.best_params_)"
   ]
  },
  {
   "cell_type": "code",
   "execution_count": 23,
   "id": "reserved-hands",
   "metadata": {},
   "outputs": [
    {
     "name": "stdout",
     "output_type": "stream",
     "text": [
      "Best Params: {'knn__metric': 'euclidean', 'knn__n_neighbors': 66, 'knn__weights': 'uniform'}\n"
     ]
    }
   ],
   "source": [
    "# IT2: K-Nearest Neighbors\n",
    "knn_2 = Pipeline(steps=[('smote', SMOTE(n_jobs=-2, random_state=430)),\n",
    "                        ('scaler', StandardScaler()),\n",
    "                        ('PCA', PCA(n_components=0.95, random_state=430)),\n",
    "                        ('knn', KNeighborsClassifier(n_jobs=-2))])\n",
    "knn_2.fit(Xtrain, ytrain.values.ravel())\n",
    "knn_2_train, knn_2_test = knn_2.score(Xtrain, ytrain.values.ravel()), knn_2.score(Xtest, ytest.values.ravel())\n",
    "\n",
    "knn_2_opt = GridSearchCV(knn_2, knn_grid, n_jobs=-2, cv=3)\n",
    "knn_2_opt.fit(Xtrain, ytrain.values.ravel())\n",
    "knn_2_opt_train, knn_2_opt_test, knn_2_opt_params = knn_2_opt.score(Xtrain, ytrain.values.ravel()), knn_2_opt.score(Xtest, ytest.values.ravel()), knn_2_opt.best_params_\n",
    "\n",
    "print('Best Params:', knn_2_opt.best_params_)"
   ]
  },
  {
   "cell_type": "code",
   "execution_count": 24,
   "id": "cleared-sending",
   "metadata": {},
   "outputs": [
    {
     "name": "stdout",
     "output_type": "stream",
     "text": [
      "Best Params: {'lda__solver': 'svd'}\n"
     ]
    }
   ],
   "source": [
    "# IT2: Linear Discriminant Analysis\n",
    "lda_2 = Pipeline(steps=[('smote', SMOTE(n_jobs=-2, random_state=430)),\n",
    "                        ('scaler', StandardScaler()),\n",
    "                        ('PCA', PCA(n_components=0.95, random_state=430)),\n",
    "                        ('lda', LinearDiscriminantAnalysis())])\n",
    "lda_2.fit(Xtrain, ytrain.values.ravel())\n",
    "lda_2_train, lda_2_test = lda_2.score(Xtrain, ytrain.values.ravel()), lda_2.score(Xtest, ytest.values.ravel())\n",
    "\n",
    "lda_2_opt = GridSearchCV(lda_2, lda_grid, n_jobs=-2, cv=3)\n",
    "lda_2_opt.fit(Xtrain, ytrain.values.ravel())\n",
    "lda_2_opt_train, lda_2_opt_test, lda_2_opt_params = lda_2_opt.score(Xtrain, ytrain.values.ravel()), lda_2_opt.score(Xtest, ytest.values.ravel()), lda_2_opt.best_params_\n",
    "\n",
    "print('Best Params:', lda_2_opt.best_params_)"
   ]
  },
  {
   "cell_type": "code",
   "execution_count": 25,
   "id": "coordinate-phone",
   "metadata": {},
   "outputs": [
    {
     "name": "stdout",
     "output_type": "stream",
     "text": [
      "Best Params: {'gnb__var_smoothing': 1.5199110829529332e-05}\n"
     ]
    }
   ],
   "source": [
    "# IT2: Gaussian Naive Bayes\n",
    "gnb_2 = Pipeline(steps=[('smote', SMOTE(n_jobs=-2, random_state=430)),\n",
    "                        ('scaler', StandardScaler()),\n",
    "                        ('PCA', PCA(n_components=0.95, random_state=430)),\n",
    "                        ('gnb', GaussianNB())])\n",
    "gnb_2.fit(Xtrain, ytrain.values.ravel())\n",
    "gnb_2_train, gnb_2_test = gnb_2.score(Xtrain, ytrain.values.ravel()), gnb_2.score(Xtest, ytest.values.ravel())\n",
    "\n",
    "gnb_2_opt = GridSearchCV(gnb_2, gnb_grid, n_jobs=-2, cv=3)\n",
    "gnb_2_opt.fit(Xtrain, ytrain.values.ravel())\n",
    "gnb_2_opt_train, gnb_2_opt_test, gnb_2_opt_params = gnb_2_opt.score(Xtrain, ytrain.values.ravel()), gnb_2_opt.score(Xtest, ytest.values.ravel()), gnb_2_opt.best_params_\n",
    "print('Best Params:', gnb_2_opt.best_params_)"
   ]
  },
  {
   "cell_type": "code",
   "execution_count": 26,
   "id": "approximate-halloween",
   "metadata": {},
   "outputs": [
    {
     "name": "stdout",
     "output_type": "stream",
     "text": [
      "Best Params: {'svc__C': 100, 'svc__gamma': 'scale', 'svc__kernel': 'rbf'}\n"
     ]
    }
   ],
   "source": [
    "# IT2: Support Vector Machine Classifier\n",
    "svc_2 = Pipeline(steps=[('smote', SMOTE(n_jobs=-2, random_state=430)),\n",
    "                        ('scaler', StandardScaler()),\n",
    "                        ('PCA', PCA(n_components=0.95, random_state=430)),\n",
    "                        ('svc', SVC())])\n",
    "svc_2.fit(Xtrain, ytrain.values.ravel())\n",
    "svc_2_train, svc_2_test = svc_2.score(Xtrain, ytrain.values.ravel()), svc_2.score(Xtest, ytest.values.ravel())\n",
    "\n",
    "svc_grid2 = {'svc__kernel': ['linear', 'poly', 'rbf', 'sigmoid'],\n",
    "            'svc__gamma': ['scale'],\n",
    "            'svc__C': [0.1, 1, 10, 100, 500, 1000]}\n",
    "\n",
    "svc_2_opt = GridSearchCV(svc_2, svc_grid2, n_jobs=-2, cv=3)\n",
    "svc_2_opt.fit(Xtrain, ytrain.values.ravel())\n",
    "svc_2_opt_train, svc_2_opt_test, svc_2_opt_params = svc_2_opt.score(Xtrain, ytrain.values.ravel()), svc_2_opt.score(Xtest, ytest.values.ravel()), svc_2_opt.best_params_\n",
    "print('Best Params:', svc_2_opt.best_params_)"
   ]
  },
  {
   "cell_type": "markdown",
   "id": "binary-still",
   "metadata": {},
   "source": [
    "Initializing a new list of scores calculated after Iteration 2 is complete"
   ]
  },
  {
   "cell_type": "code",
   "execution_count": 27,
   "id": "brutal-updating",
   "metadata": {
    "scrolled": false
   },
   "outputs": [
    {
     "data": {
      "text/html": [
       "<div>\n",
       "<style scoped>\n",
       "    .dataframe tbody tr th:only-of-type {\n",
       "        vertical-align: middle;\n",
       "    }\n",
       "\n",
       "    .dataframe tbody tr th {\n",
       "        vertical-align: top;\n",
       "    }\n",
       "\n",
       "    .dataframe thead tr th {\n",
       "        text-align: left;\n",
       "    }\n",
       "</style>\n",
       "<table border=\"1\" class=\"dataframe\">\n",
       "  <thead>\n",
       "    <tr>\n",
       "      <th></th>\n",
       "      <th></th>\n",
       "      <th colspan=\"2\" halign=\"left\">Iteration0</th>\n",
       "      <th colspan=\"2\" halign=\"left\">Iteration1</th>\n",
       "      <th colspan=\"2\" halign=\"left\">Iteration2</th>\n",
       "      <th colspan=\"2\" halign=\"left\">Iteration3</th>\n",
       "    </tr>\n",
       "    <tr>\n",
       "      <th></th>\n",
       "      <th></th>\n",
       "      <th colspan=\"2\" halign=\"left\">NonScaled</th>\n",
       "      <th colspan=\"2\" halign=\"left\">Scaled</th>\n",
       "      <th colspan=\"2\" halign=\"left\">PCA</th>\n",
       "      <th colspan=\"2\" halign=\"left\">PCABoost</th>\n",
       "    </tr>\n",
       "    <tr>\n",
       "      <th></th>\n",
       "      <th></th>\n",
       "      <th>Train</th>\n",
       "      <th>Test</th>\n",
       "      <th>Train</th>\n",
       "      <th>Test</th>\n",
       "      <th>Train</th>\n",
       "      <th>Test</th>\n",
       "      <th>Train</th>\n",
       "      <th>Test</th>\n",
       "    </tr>\n",
       "  </thead>\n",
       "  <tbody>\n",
       "    <tr>\n",
       "      <th rowspan=\"2\" valign=\"top\">CatBoost</th>\n",
       "      <th>default</th>\n",
       "      <td>1.0</td>\n",
       "      <td>0.922366</td>\n",
       "      <td>1.000000</td>\n",
       "      <td>0.926063</td>\n",
       "      <td>0.998845</td>\n",
       "      <td>0.899261</td>\n",
       "      <td>NaN</td>\n",
       "      <td>NaN</td>\n",
       "    </tr>\n",
       "    <tr>\n",
       "      <th>optimized</th>\n",
       "      <td>1.0</td>\n",
       "      <td>0.922366</td>\n",
       "      <td>1.000000</td>\n",
       "      <td>0.926063</td>\n",
       "      <td>0.998845</td>\n",
       "      <td>0.899261</td>\n",
       "      <td>NaN</td>\n",
       "      <td>NaN</td>\n",
       "    </tr>\n",
       "    <tr>\n",
       "      <th rowspan=\"2\" valign=\"top\">LightGBM</th>\n",
       "      <th>default</th>\n",
       "      <td>1.0</td>\n",
       "      <td>0.920518</td>\n",
       "      <td>1.000000</td>\n",
       "      <td>0.921442</td>\n",
       "      <td>0.999538</td>\n",
       "      <td>0.898336</td>\n",
       "      <td>NaN</td>\n",
       "      <td>NaN</td>\n",
       "    </tr>\n",
       "    <tr>\n",
       "      <th>optimized</th>\n",
       "      <td>1.0</td>\n",
       "      <td>0.922366</td>\n",
       "      <td>1.000000</td>\n",
       "      <td>0.924214</td>\n",
       "      <td>1.000000</td>\n",
       "      <td>0.897412</td>\n",
       "      <td>NaN</td>\n",
       "      <td>NaN</td>\n",
       "    </tr>\n",
       "    <tr>\n",
       "      <th rowspan=\"2\" valign=\"top\">Logistic</th>\n",
       "      <th>default</th>\n",
       "      <td>NaN</td>\n",
       "      <td>NaN</td>\n",
       "      <td>0.886322</td>\n",
       "      <td>0.851201</td>\n",
       "      <td>0.857671</td>\n",
       "      <td>0.825323</td>\n",
       "      <td>NaN</td>\n",
       "      <td>NaN</td>\n",
       "    </tr>\n",
       "    <tr>\n",
       "      <th>optimized</th>\n",
       "      <td>NaN</td>\n",
       "      <td>NaN</td>\n",
       "      <td>0.886784</td>\n",
       "      <td>0.848429</td>\n",
       "      <td>0.857671</td>\n",
       "      <td>0.825323</td>\n",
       "      <td>NaN</td>\n",
       "      <td>NaN</td>\n",
       "    </tr>\n",
       "    <tr>\n",
       "      <th rowspan=\"2\" valign=\"top\">KNN</th>\n",
       "      <th>default</th>\n",
       "      <td>NaN</td>\n",
       "      <td>NaN</td>\n",
       "      <td>0.781654</td>\n",
       "      <td>0.702403</td>\n",
       "      <td>0.788355</td>\n",
       "      <td>0.718115</td>\n",
       "      <td>NaN</td>\n",
       "      <td>NaN</td>\n",
       "    </tr>\n",
       "    <tr>\n",
       "      <th>optimized</th>\n",
       "      <td>NaN</td>\n",
       "      <td>NaN</td>\n",
       "      <td>1.000000</td>\n",
       "      <td>0.691312</td>\n",
       "      <td>0.677218</td>\n",
       "      <td>0.658965</td>\n",
       "      <td>NaN</td>\n",
       "      <td>NaN</td>\n",
       "    </tr>\n",
       "    <tr>\n",
       "      <th rowspan=\"2\" valign=\"top\">LDA</th>\n",
       "      <th>default</th>\n",
       "      <td>NaN</td>\n",
       "      <td>NaN</td>\n",
       "      <td>0.845656</td>\n",
       "      <td>0.818854</td>\n",
       "      <td>0.791821</td>\n",
       "      <td>0.772643</td>\n",
       "      <td>NaN</td>\n",
       "      <td>NaN</td>\n",
       "    </tr>\n",
       "    <tr>\n",
       "      <th>optimized</th>\n",
       "      <td>NaN</td>\n",
       "      <td>NaN</td>\n",
       "      <td>0.845656</td>\n",
       "      <td>0.818854</td>\n",
       "      <td>0.791821</td>\n",
       "      <td>0.772643</td>\n",
       "      <td>NaN</td>\n",
       "      <td>NaN</td>\n",
       "    </tr>\n",
       "    <tr>\n",
       "      <th rowspan=\"2\" valign=\"top\">GNB</th>\n",
       "      <th>default</th>\n",
       "      <td>NaN</td>\n",
       "      <td>NaN</td>\n",
       "      <td>0.713031</td>\n",
       "      <td>0.681146</td>\n",
       "      <td>0.611137</td>\n",
       "      <td>0.588725</td>\n",
       "      <td>NaN</td>\n",
       "      <td>NaN</td>\n",
       "    </tr>\n",
       "    <tr>\n",
       "      <th>optimized</th>\n",
       "      <td>NaN</td>\n",
       "      <td>NaN</td>\n",
       "      <td>0.713031</td>\n",
       "      <td>0.681146</td>\n",
       "      <td>0.611137</td>\n",
       "      <td>0.588725</td>\n",
       "      <td>NaN</td>\n",
       "      <td>NaN</td>\n",
       "    </tr>\n",
       "    <tr>\n",
       "      <th rowspan=\"2\" valign=\"top\">SVC</th>\n",
       "      <th>default</th>\n",
       "      <td>NaN</td>\n",
       "      <td>NaN</td>\n",
       "      <td>0.920518</td>\n",
       "      <td>0.865989</td>\n",
       "      <td>0.911738</td>\n",
       "      <td>0.854898</td>\n",
       "      <td>NaN</td>\n",
       "      <td>NaN</td>\n",
       "    </tr>\n",
       "    <tr>\n",
       "      <th>optimized</th>\n",
       "      <td>NaN</td>\n",
       "      <td>NaN</td>\n",
       "      <td>0.996996</td>\n",
       "      <td>0.902957</td>\n",
       "      <td>0.992606</td>\n",
       "      <td>0.887246</td>\n",
       "      <td>NaN</td>\n",
       "      <td>NaN</td>\n",
       "    </tr>\n",
       "  </tbody>\n",
       "</table>\n",
       "</div>"
      ],
      "text/plain": [
       "                   Iteration0           Iteration1           Iteration2  \\\n",
       "                    NonScaled               Scaled                  PCA   \n",
       "                        Train      Test      Train      Test      Train   \n",
       "CatBoost default          1.0  0.922366   1.000000  0.926063   0.998845   \n",
       "         optimized        1.0  0.922366   1.000000  0.926063   0.998845   \n",
       "LightGBM default          1.0  0.920518   1.000000  0.921442   0.999538   \n",
       "         optimized        1.0  0.922366   1.000000  0.924214   1.000000   \n",
       "Logistic default          NaN       NaN   0.886322  0.851201   0.857671   \n",
       "         optimized        NaN       NaN   0.886784  0.848429   0.857671   \n",
       "KNN      default          NaN       NaN   0.781654  0.702403   0.788355   \n",
       "         optimized        NaN       NaN   1.000000  0.691312   0.677218   \n",
       "LDA      default          NaN       NaN   0.845656  0.818854   0.791821   \n",
       "         optimized        NaN       NaN   0.845656  0.818854   0.791821   \n",
       "GNB      default          NaN       NaN   0.713031  0.681146   0.611137   \n",
       "         optimized        NaN       NaN   0.713031  0.681146   0.611137   \n",
       "SVC      default          NaN       NaN   0.920518  0.865989   0.911738   \n",
       "         optimized        NaN       NaN   0.996996  0.902957   0.992606   \n",
       "\n",
       "                             Iteration3       \n",
       "                               PCABoost       \n",
       "                        Test      Train Test  \n",
       "CatBoost default    0.899261        NaN  NaN  \n",
       "         optimized  0.899261        NaN  NaN  \n",
       "LightGBM default    0.898336        NaN  NaN  \n",
       "         optimized  0.897412        NaN  NaN  \n",
       "Logistic default    0.825323        NaN  NaN  \n",
       "         optimized  0.825323        NaN  NaN  \n",
       "KNN      default    0.718115        NaN  NaN  \n",
       "         optimized  0.658965        NaN  NaN  \n",
       "LDA      default    0.772643        NaN  NaN  \n",
       "         optimized  0.772643        NaN  NaN  \n",
       "GNB      default    0.588725        NaN  NaN  \n",
       "         optimized  0.588725        NaN  NaN  \n",
       "SVC      default    0.854898        NaN  NaN  \n",
       "         optimized  0.887246        NaN  NaN  "
      ]
     },
     "execution_count": 27,
     "metadata": {},
     "output_type": "execute_result"
    }
   ],
   "source": [
    "scores = []\n",
    "for idx in range(len(modellist)):\n",
    "    try:\n",
    "        scores.append(locals()[modellist[idx]])\n",
    "    except:\n",
    "        scores.append(np.nan)\n",
    "scoring_table(scores)"
   ]
  },
  {
   "cell_type": "markdown",
   "id": "registered-mapping",
   "metadata": {},
   "source": [
    "## Iteration 3: PCABoosted Modeling\n",
    "[Back to Top](#Machine-Learning-Processing)\n",
    "\n",
    "Considering that the PCABoost function does not play well with Pipeline, we have pre-processed the data here, first with scaling and then with the PCA Boost. For optimal results, SMOTE needs to be implemented after the PCABoost concatenation."
   ]
  },
  {
   "cell_type": "markdown",
   "id": "rising-edward",
   "metadata": {},
   "source": [
    "## Iteration 3: PCABoosted Modeling\n",
    "[Back to Top](#Machine-Learning-Processing)\n",
    "\n",
    "Considering that the bespoke function would not play well with Pipeline, we have pre-processed the data here, first with scaling and then with the PCA Boost. "
   ]
  },
  {
   "cell_type": "code",
   "execution_count": 28,
   "id": "functioning-hepatitis",
   "metadata": {},
   "outputs": [],
   "source": [
    "def PCAmerge(train, test, n_comp=0.95, r_state=430):\n",
    "    from sklearn.decomposition import PCA \n",
    "    pca = PCA(n_components = n_comp, random_state = r_state)\n",
    "    train_pca = pd.DataFrame(pca.fit_transform(train), index=train.index)\n",
    "    test_pca = pd.DataFrame(pca.transform(test), index=test.index)\n",
    "    PCA_col_list = []\n",
    "    for num in range(1, train_pca.shape[1]+1):\n",
    "        PCA_col_list.append(('PCA' + str(num)))\n",
    "    train_pca.columns = PCA_col_list\n",
    "    train = pd.concat([train, train_pca], axis=1)\n",
    "    test_pca.columns = PCA_col_list\n",
    "    test = pd.concat([test, test_pca], axis=1)\n",
    "    return train, test"
   ]
  },
  {
   "cell_type": "code",
   "execution_count": 29,
   "id": "atmospheric-abraham",
   "metadata": {},
   "outputs": [],
   "source": [
    "# IT3: PCA Boosted Models\n",
    "scaled = StandardScaler()\n",
    "smiter = SMOTE(n_jobs=-2, random_state=430)\n",
    "sm_Xtrain, sm_ytrain = smiter.fit_resample(Xtrain, ytrain)\n",
    "Xtrain_Scaled = pd.DataFrame(scaled.fit_transform(sm_Xtrain), columns = sm_Xtrain.columns, index = sm_Xtrain.index)\n",
    "Xtest_Scaled = pd.DataFrame(scaled.fit_transform(Xtest), columns = Xtest.columns, index = Xtest.index)\n",
    "XtrainPCA, XtestPCA = PCAmerge(Xtrain_Scaled, Xtest_Scaled, n_comp=0.95)"
   ]
  },
  {
   "cell_type": "code",
   "execution_count": 30,
   "id": "egyptian-surface",
   "metadata": {},
   "outputs": [
    {
     "name": "stderr",
     "output_type": "stream",
     "text": [
      "/home/theodore/anaconda3/lib/python3.8/site-packages/joblib/externals/loky/process_executor.py:688: UserWarning: A worker stopped while some jobs were given to the executor. This can be caused by a too short worker timeout or by a memory leak.\n",
      "  warnings.warn(\n"
     ]
    },
    {
     "name": "stdout",
     "output_type": "stream",
     "text": [
      "Best Params: {'depth': 10, 'min_data_in_leaf': 1}\n"
     ]
    }
   ],
   "source": [
    "# IT3: CatBoost Classifier\n",
    "cb_3 = CatBoostClassifier(random_state=430, verbose = False)\n",
    "cb_3.fit(XtrainPCA, sm_ytrain)\n",
    "cb_3_train, cb_3_test = cb_3.score(XtrainPCA, sm_ytrain), cb_3.score(XtestPCA, ytest)\n",
    "\n",
    "cb_grid = {'depth': [8, 10, 12, 14],\n",
    "          'min_data_in_leaf': [1, 2, 4]}\n",
    "cb_3_opt = GridSearchCV(cb_3, cb_grid, n_jobs=-2, cv=3)\n",
    "cb_3_opt.fit(XtrainPCA, sm_ytrain)\n",
    "cb_3_opt_train, cb_3_opt_test, cb_3_opt_params = cb_3_opt.score(XtrainPCA, sm_ytrain), cb_3_opt.score(XtestPCA, ytest), cb_3_opt.best_params_\n",
    "\n",
    "print('Best Params:', cb_3_opt.best_params_)"
   ]
  },
  {
   "cell_type": "code",
   "execution_count": 31,
   "id": "authorized-quarter",
   "metadata": {},
   "outputs": [
    {
     "name": "stdout",
     "output_type": "stream",
     "text": [
      "[LightGBM] [Warning] min_data_in_leaf is set=21, min_child_samples=20 will be ignored. Current value: min_data_in_leaf=21\n",
      "Best Params: {'max_depth': 9, 'min_data_in_leaf': 21, 'num_leaves': 48}\n"
     ]
    }
   ],
   "source": [
    "# IT3: Light Gradient Boosting Machine Classifier\n",
    "lgbm_3 = LGBMClassifier(n_jobs=-2, random_state=430)\n",
    "lgbm_3.fit(XtrainPCA, sm_ytrain.values.ravel())\n",
    "lgbm_3_train, lgbm_3_test = lgbm_3.score(XtrainPCA, sm_ytrain.values.ravel()), lgbm_3.score(XtestPCA, ytest.values.ravel())\n",
    "\n",
    "lgbm_grid = {'num_leaves': [44, 46, 48],\n",
    "             'max_depth': [9, 11, 13],\n",
    "             'min_data_in_leaf': [17, 19, 21, 23]}\n",
    "lgbm_3_opt = GridSearchCV(lgbm_3, lgbm_grid, n_jobs=-2, cv=3)\n",
    "lgbm_3_opt.fit(XtrainPCA, sm_ytrain.values.ravel())\n",
    "lgbm_3_opt_train, lgbm_3_opt_test, lgbm_3_opt_params = lgbm_3_opt.score(XtrainPCA, sm_ytrain.values.ravel()), lgbm_3_opt.score(XtestPCA, ytest.values.ravel()), lgbm_3_opt.best_params_\n",
    "\n",
    "print('Best Params:', lgbm_3_opt.best_params_)"
   ]
  },
  {
   "cell_type": "code",
   "execution_count": 32,
   "id": "solved-decline",
   "metadata": {},
   "outputs": [
    {
     "name": "stderr",
     "output_type": "stream",
     "text": [
      "/home/theodore/anaconda3/lib/python3.8/site-packages/sklearn/model_selection/_search.py:922: UserWarning: One or more of the test scores are non-finite: [       nan        nan        nan        nan        nan        nan\n",
      "        nan        nan        nan        nan        nan        nan\n",
      "        nan        nan        nan        nan        nan        nan\n",
      "        nan        nan        nan        nan        nan        nan\n",
      "        nan        nan        nan        nan        nan        nan\n",
      "        nan        nan        nan        nan        nan        nan\n",
      "        nan        nan        nan        nan        nan        nan\n",
      "        nan        nan        nan        nan        nan        nan\n",
      "        nan        nan        nan 0.89168574        nan 0.89448258\n",
      "        nan 0.89486397        nan 0.8949911         nan 0.89549962\n",
      "        nan 0.8962624         nan 0.8962624         nan 0.8962624\n",
      "        nan 0.89524536        nan 0.89575388        nan 0.89562675\n",
      "        nan 0.89575388        nan 0.89562675        nan 0.89537249\n",
      "        nan 0.89575388        nan 0.89588101        nan 0.89588101\n",
      "        nan 0.89524536        nan 0.89575388        nan 0.89537249\n",
      "        nan 0.8949911         nan 0.89537249        nan 0.89537249\n",
      "        nan 0.89524536        nan 0.8949911 ]\n",
      "  warnings.warn(\n"
     ]
    },
    {
     "name": "stdout",
     "output_type": "stream",
     "text": [
      "Best Params: {'C': 0.8979591836734686, 'penalty': 'l2'}\n"
     ]
    }
   ],
   "source": [
    "# IT3: Logistic Regression\n",
    "lgr_3 = LogisticRegression(n_jobs=-2)\n",
    "lgr_3.fit(XtrainPCA, sm_ytrain.values.ravel())\n",
    "lgr_3_train, lgr_3_test = lgr_3.score(XtrainPCA, sm_ytrain.values.ravel()), lgr_3.score(XtestPCA, ytest.values.ravel())\n",
    "\n",
    "lgr_grid = {'C': np.linspace(-4, 4, 50),\n",
    "            'penalty': ['l1', 'l2']}\n",
    "lgr_3_opt = GridSearchCV(lgr_3, lgr_grid, n_jobs=-2, cv=3)\n",
    "lgr_3_opt.fit(XtrainPCA, sm_ytrain.values.ravel())\n",
    "lgr_3_opt_train, lgr_3_opt_test, lgr_3_opt_params = lgr_3_opt.score(XtrainPCA, sm_ytrain.values.ravel()), lgr_3_opt.score(XtestPCA, ytest.values.ravel()), lgr_3_opt.best_params_\n",
    "\n",
    "print('Best Params:', lgr_3_opt.best_params_)"
   ]
  },
  {
   "cell_type": "code",
   "execution_count": 33,
   "id": "heard-grocery",
   "metadata": {},
   "outputs": [
    {
     "name": "stdout",
     "output_type": "stream",
     "text": [
      "Best Params: {'metric': 'manhattan', 'n_neighbors': 71, 'weights': 'distance'}\n"
     ]
    }
   ],
   "source": [
    "# IT3: K-Nearest Neighbors\n",
    "knn_3 = KNeighborsClassifier(n_jobs=-2)\n",
    "knn_3.fit(XtrainPCA, sm_ytrain.values.ravel())\n",
    "knn_3_train, knn_3_test = knn_3.score(XtrainPCA, sm_ytrain.values.ravel()), knn_3.score(XtestPCA, ytest.values.ravel())\n",
    "\n",
    "knn_grid = {'n_neighbors': [66, 69, 71, 73, 75],\n",
    "            'weights': ['uniform', 'distance'],\n",
    "            'metric': ['euclidean', 'manhattan']}\n",
    "knn_3_opt = GridSearchCV(knn_3, knn_grid, n_jobs=-2, cv=3)\n",
    "knn_3_opt.fit(XtrainPCA, sm_ytrain.values.ravel())\n",
    "knn_3_opt_train, knn_3_opt_test, knn_3_opt_params = knn_3_opt.score(XtrainPCA, sm_ytrain.values.ravel()), knn_3_opt.score(XtestPCA, ytest.values.ravel()), knn_3_opt.best_params_\n",
    "\n",
    "print('Best Params:', knn_3_opt.best_params_)"
   ]
  },
  {
   "cell_type": "code",
   "execution_count": 34,
   "id": "sorted-hours",
   "metadata": {},
   "outputs": [
    {
     "name": "stdout",
     "output_type": "stream",
     "text": [
      "Best Params: {'solver': 'lsqr'}\n"
     ]
    },
    {
     "name": "stderr",
     "output_type": "stream",
     "text": [
      "/home/theodore/anaconda3/lib/python3.8/site-packages/sklearn/model_selection/_search.py:922: UserWarning: One or more of the test scores are non-finite: [0.87935418 0.8798627         nan]\n",
      "  warnings.warn(\n"
     ]
    }
   ],
   "source": [
    "# IT3: Linear Discriminant Analysis\n",
    "lda_3 = LinearDiscriminantAnalysis()\n",
    "lda_3.fit(XtrainPCA, sm_ytrain.values.ravel())\n",
    "lda_3_train, lda_3_test = lda_3.score(XtrainPCA, sm_ytrain.values.ravel()), lda_3.score(XtestPCA, ytest.values.ravel())\n",
    "\n",
    "lda_grid = {'solver': ['svd', 'lsqr', 'eigen']}\n",
    "lda_3_opt = GridSearchCV(lda_3, lda_grid, n_jobs=-2, cv=3)\n",
    "lda_3_opt.fit(XtrainPCA, sm_ytrain.values.ravel())\n",
    "lda_3_opt_train, lda_3_opt_test, lda_3_opt_params = lda_3_opt.score(XtrainPCA, sm_ytrain.values.ravel()), lda_3_opt.score(XtestPCA, ytest.values.ravel()), lda_3_opt.best_params_\n",
    "\n",
    "print('Best Params:', lda_3_opt.best_params_)"
   ]
  },
  {
   "cell_type": "code",
   "execution_count": 35,
   "id": "unauthorized-ratio",
   "metadata": {},
   "outputs": [
    {
     "name": "stdout",
     "output_type": "stream",
     "text": [
      "Best Params: {'var_smoothing': 2.848035868435799e-05}\n"
     ]
    }
   ],
   "source": [
    "# IT3: Gaussian Naive Bayes\n",
    "gnb_3 = GaussianNB()\n",
    "gnb_3.fit(XtrainPCA, sm_ytrain.values.ravel())\n",
    "gnb_3_train, gnb_3_test = gnb_3.score(XtrainPCA, sm_ytrain.values.ravel()), gnb_3.score(XtestPCA, ytest.values.ravel())\n",
    "\n",
    "gnb_grid = {'var_smoothing': np.logspace(0, -9, num = 100)}\n",
    "gnb_3_opt = GridSearchCV(gnb_3, gnb_grid, n_jobs=-2, cv=3)\n",
    "gnb_3_opt.fit(XtrainPCA, sm_ytrain.values.ravel())\n",
    "gnb_3_opt_train, gnb_3_opt_test, gnb_3_opt_params = gnb_3_opt.score(XtrainPCA, sm_ytrain.values.ravel()), gnb_3_opt.score(XtestPCA, ytest.values.ravel()), gnb_3_opt.best_params_\n",
    "print('Best Params:', gnb_3_opt.best_params_)"
   ]
  },
  {
   "cell_type": "code",
   "execution_count": 36,
   "id": "distributed-newark",
   "metadata": {},
   "outputs": [
    {
     "name": "stdout",
     "output_type": "stream",
     "text": [
      "Best Params: {'C': 100, 'gamma': 'scale', 'kernel': 'rbf'}\n"
     ]
    }
   ],
   "source": [
    "# IT3: Support Vector Machine Classifier\n",
    "svc_3 = SVC()\n",
    "svc_3.fit(XtrainPCA, sm_ytrain.values.ravel())\n",
    "svc_3_train, svc_3_test = svc_3.score(XtrainPCA, sm_ytrain.values.ravel()), svc_3.score(XtestPCA, ytest.values.ravel())\n",
    "\n",
    "svc_grid = {'kernel': ['linear', 'poly', 'rbf', 'sigmoid'],\n",
    "            'gamma': ['scale'],\n",
    "            'C': [0.1, 1, 10, 100, 500, 1000]}\n",
    "svc_3_opt = GridSearchCV(svc_3, svc_grid, n_jobs=-2, cv=3)\n",
    "svc_3_opt.fit(XtrainPCA, sm_ytrain.values.ravel())\n",
    "svc_3_opt_train, svc_3_opt_test, svc_3_opt_params = svc_3_opt.score(XtrainPCA, sm_ytrain.values.ravel()), svc_3_opt.score(XtestPCA, ytest.values.ravel()), svc_3_opt.best_params_\n",
    "print('Best Params:', svc_3_opt.best_params_)"
   ]
  },
  {
   "cell_type": "code",
   "execution_count": 37,
   "id": "artificial-roller",
   "metadata": {},
   "outputs": [],
   "source": [
    "def PCAmerge(train, test, n_comp=0.95, r_state=430):\n",
    "    from sklearn.decomposition import PCA \n",
    "    pca = PCA(n_components = n_comp, random_state = r_state)\n",
    "    train_pca = pd.DataFrame(pca.fit_transform(train), index=train.index)\n",
    "    test_pca = pd.DataFrame(pca.transform(test), index=test.index)\n",
    "    PCA_col_list = []\n",
    "    for num in range(1, train_pca.shape[1]+1):\n",
    "        PCA_col_list.append(('PCA' + str(num)))\n",
    "    train_pca.columns = PCA_col_list\n",
    "    train = pd.concat([train, train_pca], axis=1)\n",
    "    test_pca.columns = PCA_col_list\n",
    "    test = pd.concat([test, test_pca], axis=1)\n",
    "    return train, test"
   ]
  },
  {
   "cell_type": "code",
   "execution_count": 38,
   "id": "copyrighted-outreach",
   "metadata": {},
   "outputs": [],
   "source": [
    "# IT3: PCA Boosted Models\n",
    "scaled = StandardScaler()\n",
    "smiter = SMOTE(n_jobs=-1, random_state=430)\n",
    "Xtrain_Scaled = pd.DataFrame(scaled.fit_transform(Xtrain), columns = Xtrain.columns, index = Xtrain.index)\n",
    "Xtest_Scaled = pd.DataFrame(scaled.fit_transform(Xtest), columns = Xtest.columns, index = Xtest.index)\n",
    "XtrainPCA, XtestPCA = PCAmerge(Xtrain_Scaled, Xtest_Scaled, n_comp=0.95)\n",
    "sm_XtrainPCA, sm_ytrain = smiter.fit_resample(XtrainPCA, ytrain)"
   ]
  },
  {
   "cell_type": "code",
   "execution_count": 39,
   "id": "surface-headquarters",
   "metadata": {},
   "outputs": [
    {
     "name": "stderr",
     "output_type": "stream",
     "text": [
      "/home/theodore/anaconda3/lib/python3.8/site-packages/joblib/externals/loky/process_executor.py:688: UserWarning: A worker stopped while some jobs were given to the executor. This can be caused by a too short worker timeout or by a memory leak.\n",
      "  warnings.warn(\n"
     ]
    },
    {
     "name": "stdout",
     "output_type": "stream",
     "text": [
      "Best Params: {'depth': 10, 'min_data_in_leaf': 1}\n"
     ]
    }
   ],
   "source": [
    "# IT3: CatBoost Classifier\n",
    "cb_3 = CatBoostClassifier(random_state=430, verbose = False)\n",
    "cb_3.fit(sm_XtrainPCA, sm_ytrain)\n",
    "cb_3_train, cb_3_test = cb_3.score(sm_XtrainPCA, sm_ytrain), cb_3.score(XtestPCA, ytest)\n",
    "\n",
    "cb_grid = {'depth': [8, 10, 12, 14],\n",
    "          'min_data_in_leaf': [1, 2, 4]}\n",
    "cb_3_opt = GridSearchCV(cb_3, cb_grid, n_jobs=-2, cv=3)\n",
    "cb_3_opt.fit(sm_XtrainPCA, sm_ytrain)\n",
    "cb_3_opt_train, cb_3_opt_test, cb_3_opt_params = cb_3_opt.score(sm_XtrainPCA, sm_ytrain), cb_3_opt.score(XtestPCA, ytest), cb_3_opt.best_params_\n",
    "\n",
    "print('Best Params:', cb_3_opt.best_params_)"
   ]
  },
  {
   "cell_type": "code",
   "execution_count": 40,
   "id": "apart-steal",
   "metadata": {},
   "outputs": [
    {
     "name": "stdout",
     "output_type": "stream",
     "text": [
      "[LightGBM] [Warning] min_data_in_leaf is set=19, min_child_samples=20 will be ignored. Current value: min_data_in_leaf=19\n",
      "Best Params: {'max_depth': 9, 'min_data_in_leaf': 19, 'num_leaves': 46}\n"
     ]
    }
   ],
   "source": [
    "# IT3: Light Gradient Boosting Machine Classifier\n",
    "lgbm_3 = LGBMClassifier(n_jobs=-2, random_state=430)\n",
    "lgbm_3.fit(sm_XtrainPCA, sm_ytrain.values.ravel())\n",
    "lgbm_3_train, lgbm_3_test = lgbm_3.score(sm_XtrainPCA, sm_ytrain.values.ravel()), lgbm_3.score(XtestPCA, ytest.values.ravel())\n",
    "\n",
    "lgbm_grid = {'num_leaves': [44, 46, 48],\n",
    "             'max_depth': [9, 11, 13],\n",
    "             'min_data_in_leaf': [17, 19, 21, 23]}\n",
    "lgbm_3_opt = GridSearchCV(lgbm_3, lgbm_grid, n_jobs=-2, cv=3)\n",
    "lgbm_3_opt.fit(sm_XtrainPCA, sm_ytrain.values.ravel())\n",
    "lgbm_3_opt_train, lgbm_3_opt_test, lgbm_3_opt_params = lgbm_3_opt.score(sm_XtrainPCA, sm_ytrain.values.ravel()), lgbm_3_opt.score(XtestPCA, ytest.values.ravel()), lgbm_3_opt.best_params_\n",
    "\n",
    "print('Best Params:', lgbm_3_opt.best_params_)"
   ]
  },
  {
   "cell_type": "code",
   "execution_count": 41,
   "id": "physical-philippines",
   "metadata": {},
   "outputs": [
    {
     "name": "stderr",
     "output_type": "stream",
     "text": [
      "/home/theodore/anaconda3/lib/python3.8/site-packages/sklearn/model_selection/_search.py:922: UserWarning: One or more of the test scores are non-finite: [       nan        nan        nan        nan        nan        nan\n",
      "        nan        nan        nan        nan        nan        nan\n",
      "        nan        nan        nan        nan        nan        nan\n",
      "        nan        nan        nan        nan        nan        nan\n",
      "        nan        nan        nan        nan        nan        nan\n",
      "        nan        nan        nan        nan        nan        nan\n",
      "        nan        nan        nan        nan        nan        nan\n",
      "        nan        nan        nan        nan        nan        nan\n",
      "        nan        nan        nan 0.89855072        nan 0.8993135\n",
      "        nan 0.89918637        nan 0.89956776        nan 0.90071192\n",
      "        nan 0.90007628        nan 0.89956776        nan 0.89969489\n",
      "        nan 0.89944063        nan 0.90020341        nan 0.89956776\n",
      "        nan 0.89893211        nan 0.89994915        nan 0.89944063\n",
      "        nan 0.89944063        nan 0.89982202        nan 0.89956776\n",
      "        nan 0.90007628        nan 0.90045767        nan 0.89956776\n",
      "        nan 0.89982202        nan 0.89969489        nan 0.90007628\n",
      "        nan 0.90020341        nan 0.89994915]\n",
      "  warnings.warn(\n"
     ]
    },
    {
     "name": "stdout",
     "output_type": "stream",
     "text": [
      "Best Params: {'C': 0.7346938775510203, 'penalty': 'l2'}\n"
     ]
    }
   ],
   "source": [
    "# IT3: Logistic Regression\n",
    "lgr_3 = LogisticRegression(n_jobs=-2)\n",
    "lgr_3.fit(sm_XtrainPCA, sm_ytrain.values.ravel())\n",
    "lgr_3_train, lgr_3_test = lgr_3.score(sm_XtrainPCA, sm_ytrain.values.ravel()), lgr_3.score(XtestPCA, ytest.values.ravel())\n",
    "\n",
    "lgr_grid = {'C': np.linspace(-4, 4, 50),\n",
    "            'penalty': ['l1', 'l2']}\n",
    "lgr_3_opt = GridSearchCV(lgr_3, lgr_grid, n_jobs=-2, cv=3)\n",
    "lgr_3_opt.fit(sm_XtrainPCA, sm_ytrain.values.ravel())\n",
    "lgr_3_opt_train, lgr_3_opt_test, lgr_3_opt_params = lgr_3_opt.score(sm_XtrainPCA, sm_ytrain.values.ravel()), lgr_3_opt.score(XtestPCA, ytest.values.ravel()), lgr_3_opt.best_params_\n",
    "\n",
    "print('Best Params:', lgr_3_opt.best_params_)"
   ]
  },
  {
   "cell_type": "code",
   "execution_count": 42,
   "id": "documentary-microphone",
   "metadata": {},
   "outputs": [
    {
     "name": "stdout",
     "output_type": "stream",
     "text": [
      "Best Params: {'metric': 'manhattan', 'n_neighbors': 66, 'weights': 'distance'}\n"
     ]
    }
   ],
   "source": [
    "# IT3: K-Nearest Neighbors\n",
    "knn_3 = KNeighborsClassifier(n_jobs=-2)\n",
    "knn_3.fit(sm_XtrainPCA, sm_ytrain.values.ravel())\n",
    "knn_3_train, knn_3_test = knn_3.score(sm_XtrainPCA, sm_ytrain.values.ravel()), knn_3.score(XtestPCA, ytest.values.ravel())\n",
    "\n",
    "knn_grid = {'n_neighbors': [66, 69, 71, 73, 75],\n",
    "            'weights': ['uniform', 'distance'],\n",
    "            'metric': ['euclidean', 'manhattan']}\n",
    "knn_3_opt = GridSearchCV(knn_3, knn_grid, n_jobs=-2, cv=3)\n",
    "knn_3_opt.fit(sm_XtrainPCA, sm_ytrain.values.ravel())\n",
    "knn_3_opt_train, knn_3_opt_test, knn_3_opt_params = knn_3_opt.score(sm_XtrainPCA, sm_ytrain.values.ravel()), knn_3_opt.score(XtestPCA, ytest.values.ravel()), knn_3_opt.best_params_\n",
    "\n",
    "print('Best Params:', knn_3_opt.best_params_)"
   ]
  },
  {
   "cell_type": "code",
   "execution_count": 43,
   "id": "assumed-division",
   "metadata": {},
   "outputs": [
    {
     "name": "stdout",
     "output_type": "stream",
     "text": [
      "Best Params: {'solver': 'lsqr'}\n"
     ]
    },
    {
     "name": "stderr",
     "output_type": "stream",
     "text": [
      "/home/theodore/anaconda3/lib/python3.8/site-packages/sklearn/model_selection/_search.py:922: UserWarning: One or more of the test scores are non-finite: [0.87566743 0.87604882        nan]\n",
      "  warnings.warn(\n"
     ]
    }
   ],
   "source": [
    "# IT3: Linear Discriminant Analysis\n",
    "lda_3 = LinearDiscriminantAnalysis()\n",
    "lda_3.fit(sm_XtrainPCA, sm_ytrain.values.ravel())\n",
    "lda_3_train, lda_3_test = lda_3.score(sm_XtrainPCA, sm_ytrain.values.ravel()), lda_3.score(XtestPCA, ytest.values.ravel())\n",
    "\n",
    "lda_grid = {'solver': ['svd', 'lsqr', 'eigen']}\n",
    "lda_3_opt = GridSearchCV(lda_3, lda_grid, n_jobs=-2, cv=3)\n",
    "lda_3_opt.fit(sm_XtrainPCA, sm_ytrain.values.ravel())\n",
    "lda_3_opt_train, lda_3_opt_test, lda_3_opt_params = lda_3_opt.score(sm_XtrainPCA, sm_ytrain.values.ravel()), lda_3_opt.score(XtestPCA, ytest.values.ravel()), lda_3_opt.best_params_\n",
    "\n",
    "print('Best Params:', lda_3_opt.best_params_)"
   ]
  },
  {
   "cell_type": "code",
   "execution_count": 44,
   "id": "molecular-trance",
   "metadata": {},
   "outputs": [
    {
     "name": "stdout",
     "output_type": "stream",
     "text": [
      "Best Params: {'var_smoothing': 5.3366992312063123e-05}\n"
     ]
    }
   ],
   "source": [
    "# IT3: Gaussian Naive Bayes\n",
    "gnb_3 = GaussianNB()\n",
    "gnb_3.fit(sm_XtrainPCA, sm_ytrain.values.ravel())\n",
    "gnb_3_train, gnb_3_test = gnb_3.score(sm_XtrainPCA, sm_ytrain.values.ravel()), gnb_3.score(XtestPCA, ytest.values.ravel())\n",
    "\n",
    "gnb_grid = {'var_smoothing': np.logspace(0, -9, num = 100)}\n",
    "gnb_3_opt = GridSearchCV(gnb_3, gnb_grid, n_jobs=-2, cv=3)\n",
    "gnb_3_opt.fit(sm_XtrainPCA, sm_ytrain.values.ravel())\n",
    "gnb_3_opt_train, gnb_3_opt_test, gnb_3_opt_params = gnb_3_opt.score(sm_XtrainPCA, sm_ytrain.values.ravel()), gnb_3_opt.score(XtestPCA, ytest.values.ravel()), gnb_3_opt.best_params_\n",
    "print('Best Params:', gnb_3_opt.best_params_)"
   ]
  },
  {
   "cell_type": "code",
   "execution_count": 45,
   "id": "optical-sponsorship",
   "metadata": {},
   "outputs": [
    {
     "name": "stdout",
     "output_type": "stream",
     "text": [
      "Best Params: {'C': 100, 'gamma': 'scale', 'kernel': 'rbf'}\n"
     ]
    }
   ],
   "source": [
    "# IT3: Support Vector Machine Classifier\n",
    "svc_3 = SVC()\n",
    "svc_3.fit(sm_XtrainPCA, sm_ytrain.values.ravel())\n",
    "svc_3_train, svc_3_test = svc_3.score(sm_XtrainPCA, sm_ytrain.values.ravel()), svc_3.score(XtestPCA, ytest.values.ravel())\n",
    "\n",
    "svc_grid = {'kernel': ['linear', 'poly', 'rbf', 'sigmoid'],\n",
    "            'gamma': ['scale'],\n",
    "            'C': [0.1, 1, 10, 100, 500, 1000]}\n",
    "svc_3_opt = GridSearchCV(svc_3, svc_grid, n_jobs=-2, cv=3)\n",
    "svc_3_opt.fit(sm_XtrainPCA, sm_ytrain.values.ravel())\n",
    "svc_3_opt_train, svc_3_opt_test, svc_3_opt_params = svc_3_opt.score(sm_XtrainPCA, sm_ytrain.values.ravel()), svc_3_opt.score(XtestPCA, ytest.values.ravel()), svc_3_opt.best_params_\n",
    "print('Best Params:', svc_3_opt.best_params_)"
   ]
  },
  {
   "cell_type": "markdown",
   "id": "novel-reconstruction",
   "metadata": {},
   "source": [
    "Initializing a final list of scores calculated after Iteration 3 is complete"
   ]
  },
  {
   "cell_type": "code",
   "execution_count": 47,
   "id": "leading-donor",
   "metadata": {
    "scrolled": false
   },
   "outputs": [
    {
     "data": {
      "text/html": [
       "<div>\n",
       "<style scoped>\n",
       "    .dataframe tbody tr th:only-of-type {\n",
       "        vertical-align: middle;\n",
       "    }\n",
       "\n",
       "    .dataframe tbody tr th {\n",
       "        vertical-align: top;\n",
       "    }\n",
       "\n",
       "    .dataframe thead tr th {\n",
       "        text-align: left;\n",
       "    }\n",
       "</style>\n",
       "<table border=\"1\" class=\"dataframe\">\n",
       "  <thead>\n",
       "    <tr>\n",
       "      <th></th>\n",
       "      <th></th>\n",
       "      <th colspan=\"2\" halign=\"left\">Iteration0</th>\n",
       "      <th colspan=\"2\" halign=\"left\">Iteration1</th>\n",
       "      <th colspan=\"2\" halign=\"left\">Iteration2</th>\n",
       "      <th colspan=\"2\" halign=\"left\">Iteration3</th>\n",
       "    </tr>\n",
       "    <tr>\n",
       "      <th></th>\n",
       "      <th></th>\n",
       "      <th colspan=\"2\" halign=\"left\">NonScaled</th>\n",
       "      <th colspan=\"2\" halign=\"left\">Scaled</th>\n",
       "      <th colspan=\"2\" halign=\"left\">PCA</th>\n",
       "      <th colspan=\"2\" halign=\"left\">PCABoost</th>\n",
       "    </tr>\n",
       "    <tr>\n",
       "      <th></th>\n",
       "      <th></th>\n",
       "      <th>Train</th>\n",
       "      <th>Test</th>\n",
       "      <th>Train</th>\n",
       "      <th>Test</th>\n",
       "      <th>Train</th>\n",
       "      <th>Test</th>\n",
       "      <th>Train</th>\n",
       "      <th>Test</th>\n",
       "    </tr>\n",
       "  </thead>\n",
       "  <tbody>\n",
       "    <tr>\n",
       "      <th rowspan=\"2\" valign=\"top\">CatBoost</th>\n",
       "      <th>default</th>\n",
       "      <td>1.0</td>\n",
       "      <td>0.922366</td>\n",
       "      <td>1.000000</td>\n",
       "      <td>0.926063</td>\n",
       "      <td>0.998845</td>\n",
       "      <td>0.899261</td>\n",
       "      <td>1.000000</td>\n",
       "      <td>0.876155</td>\n",
       "    </tr>\n",
       "    <tr>\n",
       "      <th>optimized</th>\n",
       "      <td>1.0</td>\n",
       "      <td>0.922366</td>\n",
       "      <td>1.000000</td>\n",
       "      <td>0.926063</td>\n",
       "      <td>0.998845</td>\n",
       "      <td>0.899261</td>\n",
       "      <td>1.000000</td>\n",
       "      <td>0.896488</td>\n",
       "    </tr>\n",
       "    <tr>\n",
       "      <th rowspan=\"2\" valign=\"top\">LightGBM</th>\n",
       "      <th>default</th>\n",
       "      <td>1.0</td>\n",
       "      <td>0.920518</td>\n",
       "      <td>1.000000</td>\n",
       "      <td>0.921442</td>\n",
       "      <td>0.999538</td>\n",
       "      <td>0.898336</td>\n",
       "      <td>1.000000</td>\n",
       "      <td>0.869686</td>\n",
       "    </tr>\n",
       "    <tr>\n",
       "      <th>optimized</th>\n",
       "      <td>1.0</td>\n",
       "      <td>0.922366</td>\n",
       "      <td>1.000000</td>\n",
       "      <td>0.924214</td>\n",
       "      <td>1.000000</td>\n",
       "      <td>0.897412</td>\n",
       "      <td>1.000000</td>\n",
       "      <td>0.867837</td>\n",
       "    </tr>\n",
       "    <tr>\n",
       "      <th rowspan=\"2\" valign=\"top\">Logistic</th>\n",
       "      <th>default</th>\n",
       "      <td>NaN</td>\n",
       "      <td>NaN</td>\n",
       "      <td>0.886322</td>\n",
       "      <td>0.851201</td>\n",
       "      <td>0.857671</td>\n",
       "      <td>0.825323</td>\n",
       "      <td>0.903636</td>\n",
       "      <td>0.878004</td>\n",
       "    </tr>\n",
       "    <tr>\n",
       "      <th>optimized</th>\n",
       "      <td>NaN</td>\n",
       "      <td>NaN</td>\n",
       "      <td>0.886784</td>\n",
       "      <td>0.848429</td>\n",
       "      <td>0.857671</td>\n",
       "      <td>0.825323</td>\n",
       "      <td>0.903127</td>\n",
       "      <td>0.878004</td>\n",
       "    </tr>\n",
       "    <tr>\n",
       "      <th rowspan=\"2\" valign=\"top\">KNN</th>\n",
       "      <th>default</th>\n",
       "      <td>NaN</td>\n",
       "      <td>NaN</td>\n",
       "      <td>0.781654</td>\n",
       "      <td>0.702403</td>\n",
       "      <td>0.788355</td>\n",
       "      <td>0.718115</td>\n",
       "      <td>0.901856</td>\n",
       "      <td>0.757856</td>\n",
       "    </tr>\n",
       "    <tr>\n",
       "      <th>optimized</th>\n",
       "      <td>NaN</td>\n",
       "      <td>NaN</td>\n",
       "      <td>1.000000</td>\n",
       "      <td>0.691312</td>\n",
       "      <td>0.677218</td>\n",
       "      <td>0.658965</td>\n",
       "      <td>1.000000</td>\n",
       "      <td>0.702403</td>\n",
       "    </tr>\n",
       "    <tr>\n",
       "      <th rowspan=\"2\" valign=\"top\">LDA</th>\n",
       "      <th>default</th>\n",
       "      <td>NaN</td>\n",
       "      <td>NaN</td>\n",
       "      <td>0.845656</td>\n",
       "      <td>0.818854</td>\n",
       "      <td>0.791821</td>\n",
       "      <td>0.772643</td>\n",
       "      <td>0.882151</td>\n",
       "      <td>0.797597</td>\n",
       "    </tr>\n",
       "    <tr>\n",
       "      <th>optimized</th>\n",
       "      <td>NaN</td>\n",
       "      <td>NaN</td>\n",
       "      <td>0.845656</td>\n",
       "      <td>0.818854</td>\n",
       "      <td>0.791821</td>\n",
       "      <td>0.772643</td>\n",
       "      <td>0.879608</td>\n",
       "      <td>0.365065</td>\n",
       "    </tr>\n",
       "    <tr>\n",
       "      <th rowspan=\"2\" valign=\"top\">GNB</th>\n",
       "      <th>default</th>\n",
       "      <td>NaN</td>\n",
       "      <td>NaN</td>\n",
       "      <td>0.713031</td>\n",
       "      <td>0.681146</td>\n",
       "      <td>0.611137</td>\n",
       "      <td>0.588725</td>\n",
       "      <td>0.792652</td>\n",
       "      <td>0.662662</td>\n",
       "    </tr>\n",
       "    <tr>\n",
       "      <th>optimized</th>\n",
       "      <td>NaN</td>\n",
       "      <td>NaN</td>\n",
       "      <td>0.713031</td>\n",
       "      <td>0.681146</td>\n",
       "      <td>0.611137</td>\n",
       "      <td>0.588725</td>\n",
       "      <td>0.792016</td>\n",
       "      <td>0.660813</td>\n",
       "    </tr>\n",
       "    <tr>\n",
       "      <th rowspan=\"2\" valign=\"top\">SVC</th>\n",
       "      <th>default</th>\n",
       "      <td>NaN</td>\n",
       "      <td>NaN</td>\n",
       "      <td>0.920518</td>\n",
       "      <td>0.865989</td>\n",
       "      <td>0.911738</td>\n",
       "      <td>0.854898</td>\n",
       "      <td>0.939359</td>\n",
       "      <td>0.880776</td>\n",
       "    </tr>\n",
       "    <tr>\n",
       "      <th>optimized</th>\n",
       "      <td>NaN</td>\n",
       "      <td>NaN</td>\n",
       "      <td>0.996996</td>\n",
       "      <td>0.902957</td>\n",
       "      <td>0.992606</td>\n",
       "      <td>0.887246</td>\n",
       "      <td>0.998220</td>\n",
       "      <td>0.902957</td>\n",
       "    </tr>\n",
       "  </tbody>\n",
       "</table>\n",
       "</div>"
      ],
      "text/plain": [
       "                   Iteration0           Iteration1           Iteration2  \\\n",
       "                    NonScaled               Scaled                  PCA   \n",
       "                        Train      Test      Train      Test      Train   \n",
       "CatBoost default          1.0  0.922366   1.000000  0.926063   0.998845   \n",
       "         optimized        1.0  0.922366   1.000000  0.926063   0.998845   \n",
       "LightGBM default          1.0  0.920518   1.000000  0.921442   0.999538   \n",
       "         optimized        1.0  0.922366   1.000000  0.924214   1.000000   \n",
       "Logistic default          NaN       NaN   0.886322  0.851201   0.857671   \n",
       "         optimized        NaN       NaN   0.886784  0.848429   0.857671   \n",
       "KNN      default          NaN       NaN   0.781654  0.702403   0.788355   \n",
       "         optimized        NaN       NaN   1.000000  0.691312   0.677218   \n",
       "LDA      default          NaN       NaN   0.845656  0.818854   0.791821   \n",
       "         optimized        NaN       NaN   0.845656  0.818854   0.791821   \n",
       "GNB      default          NaN       NaN   0.713031  0.681146   0.611137   \n",
       "         optimized        NaN       NaN   0.713031  0.681146   0.611137   \n",
       "SVC      default          NaN       NaN   0.920518  0.865989   0.911738   \n",
       "         optimized        NaN       NaN   0.996996  0.902957   0.992606   \n",
       "\n",
       "                             Iteration3            \n",
       "                               PCABoost            \n",
       "                        Test      Train      Test  \n",
       "CatBoost default    0.899261   1.000000  0.876155  \n",
       "         optimized  0.899261   1.000000  0.896488  \n",
       "LightGBM default    0.898336   1.000000  0.869686  \n",
       "         optimized  0.897412   1.000000  0.867837  \n",
       "Logistic default    0.825323   0.903636  0.878004  \n",
       "         optimized  0.825323   0.903127  0.878004  \n",
       "KNN      default    0.718115   0.901856  0.757856  \n",
       "         optimized  0.658965   1.000000  0.702403  \n",
       "LDA      default    0.772643   0.882151  0.797597  \n",
       "         optimized  0.772643   0.879608  0.365065  \n",
       "GNB      default    0.588725   0.792652  0.662662  \n",
       "         optimized  0.588725   0.792016  0.660813  \n",
       "SVC      default    0.854898   0.939359  0.880776  \n",
       "         optimized  0.887246   0.998220  0.902957  "
      ]
     },
     "execution_count": 47,
     "metadata": {},
     "output_type": "execute_result"
    }
   ],
   "source": [
    "scores = []\n",
    "for idx in range(len(modellist)):\n",
    "    try:\n",
    "        scores.append(locals()[modellist[idx]])\n",
    "    except:\n",
    "        scores.append(np.nan)\n",
    "scoring_table(scores)"
   ]
  },
  {
   "cell_type": "markdown",
   "id": "selective-switch",
   "metadata": {},
   "source": [
    "## Best Models\n",
    "[Back to Top](#Machine-Learning-Processing)\n",
    "\n",
    "\n",
    "Creating a table of the best hypertransformations for each ML model, comparing test scores among all iterations.    \n",
    "These will guide our treatment of the full Xtrain data in the next section."
   ]
  },
  {
   "cell_type": "code",
   "execution_count": 48,
   "id": "mature-excitement",
   "metadata": {
    "scrolled": true
   },
   "outputs": [
    {
     "data": {
      "text/html": [
       "<div>\n",
       "<style scoped>\n",
       "    .dataframe tbody tr th:only-of-type {\n",
       "        vertical-align: middle;\n",
       "    }\n",
       "\n",
       "    .dataframe tbody tr th {\n",
       "        vertical-align: top;\n",
       "    }\n",
       "\n",
       "    .dataframe thead th {\n",
       "        text-align: right;\n",
       "    }\n",
       "</style>\n",
       "<table border=\"1\" class=\"dataframe\">\n",
       "  <thead>\n",
       "    <tr style=\"text-align: right;\">\n",
       "      <th></th>\n",
       "      <th>Iteration</th>\n",
       "      <th>Transformation</th>\n",
       "      <th>Optimized</th>\n",
       "      <th>Test Score</th>\n",
       "    </tr>\n",
       "  </thead>\n",
       "  <tbody>\n",
       "    <tr>\n",
       "      <th>CatBoost</th>\n",
       "      <td>Iteration1</td>\n",
       "      <td>Scaled</td>\n",
       "      <td>default</td>\n",
       "      <td>0.926063</td>\n",
       "    </tr>\n",
       "    <tr>\n",
       "      <th>LightGBM</th>\n",
       "      <td>Iteration1</td>\n",
       "      <td>Scaled</td>\n",
       "      <td>optimized</td>\n",
       "      <td>0.924214</td>\n",
       "    </tr>\n",
       "    <tr>\n",
       "      <th>Logistic</th>\n",
       "      <td>Iteration3</td>\n",
       "      <td>PCABoost</td>\n",
       "      <td>default</td>\n",
       "      <td>0.878004</td>\n",
       "    </tr>\n",
       "    <tr>\n",
       "      <th>KNN</th>\n",
       "      <td>Iteration3</td>\n",
       "      <td>PCABoost</td>\n",
       "      <td>default</td>\n",
       "      <td>0.757856</td>\n",
       "    </tr>\n",
       "    <tr>\n",
       "      <th>LDA</th>\n",
       "      <td>Iteration1</td>\n",
       "      <td>Scaled</td>\n",
       "      <td>default</td>\n",
       "      <td>0.818854</td>\n",
       "    </tr>\n",
       "    <tr>\n",
       "      <th>GNB</th>\n",
       "      <td>Iteration1</td>\n",
       "      <td>Scaled</td>\n",
       "      <td>default</td>\n",
       "      <td>0.681146</td>\n",
       "    </tr>\n",
       "    <tr>\n",
       "      <th>SVC</th>\n",
       "      <td>Iteration1</td>\n",
       "      <td>Scaled</td>\n",
       "      <td>optimized</td>\n",
       "      <td>0.902957</td>\n",
       "    </tr>\n",
       "  </tbody>\n",
       "</table>\n",
       "</div>"
      ],
      "text/plain": [
       "           Iteration Transformation  Optimized  Test Score\n",
       "CatBoost  Iteration1         Scaled    default    0.926063\n",
       "LightGBM  Iteration1         Scaled  optimized    0.924214\n",
       "Logistic  Iteration3       PCABoost    default    0.878004\n",
       "KNN       Iteration3       PCABoost    default    0.757856\n",
       "LDA       Iteration1         Scaled    default    0.818854\n",
       "GNB       Iteration1         Scaled    default    0.681146\n",
       "SVC       Iteration1         Scaled  optimized    0.902957"
      ]
     },
     "execution_count": 48,
     "metadata": {},
     "output_type": "execute_result"
    }
   ],
   "source": [
    "models = ['CatBoost', 'LightGBM', 'Logistic', 'KNN', 'LDA', 'GNB', 'SVC']\n",
    "model_scores_balanced = scoring_table(scores)\n",
    "test_scores = model_scores_balanced.loc[:, model_scores_balanced.columns.get_level_values(2) == 'Test'].unstack(1).T\n",
    "best_models_balanced = pd.DataFrame([], columns = ['Iteration', 'Transformation', 'Test_Train', 'Optimized', 'Test Score'])\n",
    "for model in models:\n",
    "    best_models_balanced.loc[model] = test_scores[model].sort_values(ascending=False).reset_index().iloc[0].values\n",
    "best_models_balanced = best_models_balanced.drop('Test_Train', axis=1)\n",
    "best_models_balanced"
   ]
  },
  {
   "cell_type": "markdown",
   "id": "separated-absolute",
   "metadata": {},
   "source": [
    "Getting rid of '_0' entries by generating a reduced list of model names"
   ]
  },
  {
   "cell_type": "code",
   "execution_count": 49,
   "id": "aquatic-devil",
   "metadata": {
    "scrolled": true
   },
   "outputs": [
    {
     "data": {
      "text/plain": [
       "['cb_0_train',\n",
       " 'cb_0_test',\n",
       " 'cb_1_train',\n",
       " 'cb_1_test',\n",
       " 'cb_2_train',\n",
       " 'cb_2_test',\n",
       " 'cb_3_train',\n",
       " 'cb_3_test',\n",
       " 'cb_0_opt_train',\n",
       " 'cb_0_opt_test',\n",
       " 'cb_1_opt_train',\n",
       " 'cb_1_opt_test',\n",
       " 'cb_2_opt_train',\n",
       " 'cb_2_opt_test',\n",
       " 'cb_3_opt_train',\n",
       " 'cb_3_opt_test',\n",
       " 'lgbm_0_train',\n",
       " 'lgbm_0_test',\n",
       " 'lgbm_1_train',\n",
       " 'lgbm_1_test',\n",
       " 'lgbm_2_train',\n",
       " 'lgbm_2_test',\n",
       " 'lgbm_3_train',\n",
       " 'lgbm_3_test',\n",
       " 'lgbm_0_opt_train',\n",
       " 'lgbm_0_opt_test',\n",
       " 'lgbm_1_opt_train',\n",
       " 'lgbm_1_opt_test',\n",
       " 'lgbm_2_opt_train',\n",
       " 'lgbm_2_opt_test',\n",
       " 'lgbm_3_opt_train',\n",
       " 'lgbm_3_opt_test',\n",
       " 'lgr_1_train',\n",
       " 'lgr_1_test',\n",
       " 'lgr_2_train',\n",
       " 'lgr_2_test',\n",
       " 'lgr_3_train',\n",
       " 'lgr_3_test',\n",
       " 'lgr_1_opt_train',\n",
       " 'lgr_1_opt_test',\n",
       " 'lgr_2_opt_train',\n",
       " 'lgr_2_opt_test',\n",
       " 'lgr_3_opt_train',\n",
       " 'lgr_3_opt_test',\n",
       " 'knn_1_train',\n",
       " 'knn_1_test',\n",
       " 'knn_2_train',\n",
       " 'knn_2_test',\n",
       " 'knn_3_train',\n",
       " 'knn_3_test',\n",
       " 'knn_1_opt_train',\n",
       " 'knn_1_opt_test',\n",
       " 'knn_2_opt_train',\n",
       " 'knn_2_opt_test',\n",
       " 'knn_3_opt_train',\n",
       " 'knn_3_opt_test',\n",
       " 'lda_1_train',\n",
       " 'lda_1_test',\n",
       " 'lda_2_train',\n",
       " 'lda_2_test',\n",
       " 'lda_3_train',\n",
       " 'lda_3_test',\n",
       " 'lda_1_opt_train',\n",
       " 'lda_1_opt_test',\n",
       " 'lda_2_opt_train',\n",
       " 'lda_2_opt_test',\n",
       " 'lda_3_opt_train',\n",
       " 'lda_3_opt_test',\n",
       " 'gnb_1_train',\n",
       " 'gnb_1_test',\n",
       " 'gnb_2_train',\n",
       " 'gnb_2_test',\n",
       " 'gnb_3_train',\n",
       " 'gnb_3_test',\n",
       " 'gnb_1_opt_train',\n",
       " 'gnb_1_opt_test',\n",
       " 'gnb_2_opt_train',\n",
       " 'gnb_2_opt_test',\n",
       " 'gnb_3_opt_train',\n",
       " 'gnb_3_opt_test',\n",
       " 'svc_1_train',\n",
       " 'svc_1_test',\n",
       " 'svc_2_train',\n",
       " 'svc_2_test',\n",
       " 'svc_3_train',\n",
       " 'svc_3_test',\n",
       " 'svc_1_opt_train',\n",
       " 'svc_1_opt_test',\n",
       " 'svc_2_opt_train',\n",
       " 'svc_2_opt_test',\n",
       " 'svc_3_opt_train',\n",
       " 'svc_3_opt_test']"
      ]
     },
     "execution_count": 49,
     "metadata": {},
     "output_type": "execute_result"
    }
   ],
   "source": [
    "modellistreduced = modellist.copy()\n",
    "\n",
    "num_list = [105, 104]\n",
    "i = 0\n",
    "while i < 9:\n",
    "    max_idx = len(num_list) - 1\n",
    "    num_list.append(num_list[max_idx - 1] - 8)\n",
    "    num_list.append(num_list[max_idx] - 8)\n",
    "    i += 1\n",
    "\n",
    "for num in num_list:\n",
    "    modellistreduced.pop(num)\n",
    "modellistreduced"
   ]
  },
  {
   "cell_type": "markdown",
   "id": "labeled-yorkshire",
   "metadata": {},
   "source": [
    "Getting a list of model names"
   ]
  },
  {
   "cell_type": "code",
   "execution_count": 50,
   "id": "inside-fighter",
   "metadata": {
    "scrolled": true
   },
   "outputs": [
    {
     "data": {
      "text/plain": [
       "['cb_0',\n",
       " 'cb_1',\n",
       " 'cb_2',\n",
       " 'cb_3',\n",
       " 'cb_0_opt',\n",
       " 'cb_1_opt',\n",
       " 'cb_2_opt',\n",
       " 'cb_3_opt',\n",
       " 'lgbm_0',\n",
       " 'lgbm_1',\n",
       " 'lgbm_2',\n",
       " 'lgbm_3',\n",
       " 'lgbm_0_opt',\n",
       " 'lgbm_1_opt',\n",
       " 'lgbm_2_opt',\n",
       " 'lgbm_3_opt',\n",
       " 'lgr_1',\n",
       " 'lgr_2',\n",
       " 'lgr_3',\n",
       " 'lgr_1_opt',\n",
       " 'lgr_2_opt',\n",
       " 'lgr_3_opt',\n",
       " 'knn_1',\n",
       " 'knn_2',\n",
       " 'knn_3',\n",
       " 'knn_1_opt',\n",
       " 'knn_2_opt',\n",
       " 'knn_3_opt',\n",
       " 'lda_1',\n",
       " 'lda_2',\n",
       " 'lda_3',\n",
       " 'lda_1_opt',\n",
       " 'lda_2_opt',\n",
       " 'lda_3_opt',\n",
       " 'gnb_1',\n",
       " 'gnb_2',\n",
       " 'gnb_3',\n",
       " 'gnb_1_opt',\n",
       " 'gnb_2_opt',\n",
       " 'gnb_3_opt',\n",
       " 'svc_1',\n",
       " 'svc_2',\n",
       " 'svc_3',\n",
       " 'svc_1_opt',\n",
       " 'svc_2_opt',\n",
       " 'svc_3_opt']"
      ]
     },
     "execution_count": 50,
     "metadata": {},
     "output_type": "execute_result"
    }
   ],
   "source": [
    "modelinputlist = modellistreduced.copy()\n",
    "for idx in range(len(modelinputlist)):\n",
    "    if idx % 2 == 0:\n",
    "        modelinputlist[idx] = modelinputlist[idx][:-6]\n",
    "    else:\n",
    "        modelinputlist[idx] = modelinputlist[idx][:-5]\n",
    "modelinputlist = modelinputlist[::2]\n",
    "modelinputlist"
   ]
  },
  {
   "cell_type": "markdown",
   "id": "double-weekly",
   "metadata": {},
   "source": [
    "Getting a list of saved optimized parameters"
   ]
  },
  {
   "cell_type": "code",
   "execution_count": 51,
   "id": "directed-quality",
   "metadata": {
    "scrolled": true
   },
   "outputs": [],
   "source": [
    "dictlist = [ele for ele in ['cb', 'lgbm', 'lgr', 'knn', 'lda', 'gnb', 'svc'] for i in range(4)]\n",
    "iterdictlist = ['_0', '_1', '_2', '_3'] * 7\n",
    "for idx in range(len(dictlist)):\n",
    "    dictlist[idx] = dictlist[idx] + iterdictlist[idx] + '_opt_params'\n",
    "for num in [24, 20, 16, 12, 8]:\n",
    "    dictlist.pop(num)"
   ]
  },
  {
   "cell_type": "markdown",
   "id": "saved-strengthening",
   "metadata": {},
   "source": [
    "Combining these three lists to load all saved model elements into a single dictionary for pickling"
   ]
  },
  {
   "cell_type": "code",
   "execution_count": 52,
   "id": "impossible-aerospace",
   "metadata": {},
   "outputs": [],
   "source": [
    "model_dict_balanced = {}\n",
    "all_list = modelinputlist + modellistreduced + dictlist\n",
    "for ele in all_list:\n",
    "    model_dict_balanced[ele] = locals()[ele]"
   ]
  },
  {
   "cell_type": "code",
   "execution_count": 53,
   "id": "answering-opera",
   "metadata": {},
   "outputs": [],
   "source": [
    "pickle.dump(model_scores_balanced, open('model_scores_balanced.pickle', 'wb'))\n",
    "pickle.dump(best_models_balanced, open('best_models_balanced.pickle', 'wb'))\n",
    "pickle.dump(model_dict_balanced, open('model_dict_balanced.pickle', 'wb'))"
   ]
  },
  {
   "cell_type": "markdown",
   "id": "4f7d155d",
   "metadata": {},
   "source": [
    "# Preliminary Results & Analysis\n",
    "[Back to Top](#Machine-Learning-Processing)\n",
    "\n",
    "To recap, thus far we have combined the techniques of hyper transformation tuning and hyper parameter tuning to find the very best versions of each of our machine learning models. Each of these performs well in the test set, but how do we apply what we have learned?\n",
    "\n",
    "The classical approach to this point would be to investigate the relative confusion matrices of the models and to compare them against our priorities. To contextualize briefly, our best application of these data for an insurance company would be in the savings of money; our goal is to ascertain actual instances of fraud, **True Positives**, and the least number of faulty detections, or **False Positives**. In this way we can best direct the use of funds for the client. This approach maximizes the *precision* of our detection."
   ]
  },
  {
   "cell_type": "code",
   "execution_count": 75,
   "id": "d26454ad",
   "metadata": {
    "scrolled": false
   },
   "outputs": [
    {
     "name": "stdout",
     "output_type": "stream",
     "text": [
      "CatBoost \n",
      "               precision    recall  f1-score   support\n",
      "\n",
      "           0       0.96      0.96      0.96       971\n",
      "           1       0.64      0.64      0.64       111\n",
      "\n",
      "    accuracy                           0.93      1082\n",
      "   macro avg       0.80      0.80      0.80      1082\n",
      "weighted avg       0.93      0.93      0.93      1082\n",
      "\n",
      "----------------------------------------\n",
      "LightGBM \n",
      "               precision    recall  f1-score   support\n",
      "\n",
      "           0       0.96      0.95      0.96       971\n",
      "           1       0.61      0.67      0.64       111\n",
      "\n",
      "    accuracy                           0.92      1082\n",
      "   macro avg       0.79      0.81      0.80      1082\n",
      "weighted avg       0.93      0.92      0.92      1082\n",
      "\n",
      "----------------------------------------\n",
      "Logistic Reg. \n",
      "               precision    recall  f1-score   support\n",
      "\n",
      "           0       0.97      0.89      0.93       971\n",
      "           1       0.44      0.75      0.56       111\n",
      "\n",
      "    accuracy                           0.88      1082\n",
      "   macro avg       0.71      0.82      0.74      1082\n",
      "weighted avg       0.91      0.88      0.89      1082\n",
      "\n",
      "KNN \n",
      "               precision    recall  f1-score   support\n",
      "\n",
      "           0       0.98      0.75      0.85       971\n",
      "           1       0.28      0.86      0.42       111\n",
      "\n",
      "    accuracy                           0.76      1082\n",
      "   macro avg       0.63      0.80      0.63      1082\n",
      "weighted avg       0.91      0.76      0.80      1082\n",
      "\n",
      "LDA \n",
      "               precision    recall  f1-score   support\n",
      "\n",
      "           0       0.98      0.81      0.89       971\n",
      "           1       0.35      0.86      0.49       111\n",
      "\n",
      "    accuracy                           0.82      1082\n",
      "   macro avg       0.66      0.84      0.69      1082\n",
      "weighted avg       0.92      0.82      0.85      1082\n",
      "\n",
      "----------------------------------------\n",
      "GNB \n",
      "               precision    recall  f1-score   support\n",
      "\n",
      "           0       0.97      0.66      0.79       971\n",
      "           1       0.22      0.83      0.35       111\n",
      "\n",
      "    accuracy                           0.68      1082\n",
      "   macro avg       0.60      0.75      0.57      1082\n",
      "weighted avg       0.89      0.68      0.74      1082\n",
      "\n",
      "----------------------------------------\n",
      "SVC \n",
      "               precision    recall  f1-score   support\n",
      "\n",
      "           0       0.95      0.94      0.95       971\n",
      "           1       0.53      0.55      0.54       111\n",
      "\n",
      "    accuracy                           0.90      1082\n",
      "   macro avg       0.74      0.75      0.74      1082\n",
      "weighted avg       0.90      0.90      0.90      1082\n",
      "\n",
      "----------------------------------------\n"
     ]
    },
    {
     "data": {
      "image/png": "[encoded data removed]",
      "text/plain": [
       "<Figure size 432x288 with 2 Axes>"
      ]
     },
     "metadata": {
      "needs_background": "light"
     },
     "output_type": "display_data"
    },
    {
     "data": {
      "image/png": "[encoded data removed]",
      "text/plain": [
       "<Figure size 432x288 with 2 Axes>"
      ]
     },
     "metadata": {
      "needs_background": "light"
     },
     "output_type": "display_data"
    },
    {
     "data": {
      "image/png": "[encoded data removed]",
      "text/plain": [
       "<Figure size 432x288 with 2 Axes>"
      ]
     },
     "metadata": {
      "needs_background": "light"
     },
     "output_type": "display_data"
    },
    {
     "data": {
      "image/png": "[encoded data removed]",
      "text/plain": [
       "<Figure size 432x288 with 2 Axes>"
      ]
     },
     "metadata": {
      "needs_background": "light"
     },
     "output_type": "display_data"
    },
    {
     "data": {
      "image/png": "[encoded data removed]",
      "text/plain": [
       "<Figure size 432x288 with 2 Axes>"
      ]
     },
     "metadata": {
      "needs_background": "light"
     },
     "output_type": "display_data"
    },
    {
     "data": {
      "image/png": "[encoded data removed]",
      "text/plain": [
       "<Figure size 432x288 with 2 Axes>"
      ]
     },
     "metadata": {
      "needs_background": "light"
     },
     "output_type": "display_data"
    },
    {
     "data": {
      "image/png": "[encoded data removed]",
      "text/plain": [
       "<Figure size 432x288 with 2 Axes>"
      ]
     },
     "metadata": {
      "needs_background": "light"
     },
     "output_type": "display_data"
    }
   ],
   "source": [
    "from sklearn.metrics import plot_confusion_matrix, classification_report\n",
    "\n",
    "# Prep Graphing Procedure\n",
    "# model_dict_balanced = pickle.load(open('model_dict_balanced.pickle', 'rb'))\n",
    "model_names = ['CatBoost', 'LightGBM', 'Logistic Reg.', \n",
    "               'KNN', 'LDA', 'GNB', 'SVC']\n",
    "top_dict = {'CatBoost': model_dict_balanced['cb_1'],\n",
    "           'LightGBM': model_dict_balanced['lgbm_1_opt'],\n",
    "           'Logistic Reg.': model_dict_balanced['lgr_3'],\n",
    "           'KNN': model_dict_balanced['knn_3'],\n",
    "           'LDA': model_dict_balanced['lda_1'],\n",
    "           'GNB': model_dict_balanced['gnb_1'],\n",
    "           'SVC': model_dict_balanced['svc_1_opt']}\n",
    "\n",
    "# Graph Matrices\n",
    "for model_name in model_names:\n",
    "    try:\n",
    "        plot_confusion_matrix(top_dict[model_name], Xtest, ytest)\n",
    "        plt.title(model_name)\n",
    "        print(model_name, '\\n', classification_report(ytest, top_dict[model_name].predict(Xtest)))\n",
    "        print(40*'-')\n",
    "    except:  # For models requiring XtestPCA\n",
    "        plot_confusion_matrix(top_dict[model_name], XtestPCA, ytest)\n",
    "        plt.title(model_name)\n",
    "        print(model_name, '\\n', classification_report(ytest, top_dict[model_name].predict(XtestPCA)))"
   ]
  },
  {
   "cell_type": "markdown",
   "id": "b03e07dd",
   "metadata": {},
   "source": [
    "## Surface Level Discussion\n",
    "[Back to Top](#Machine-Learning-Processing)\n",
    "\n",
    "In terms of our project goals, **CatBoost** features the optimal precision, with the fewest predicted False Positives and the most True Positives.\n",
    "\n",
    "-something something savings\n",
    "\n",
    "## Permutation Importance\n",
    "[Back to Top](#Machine-Learning-Processing)\n",
    "\n",
    "From here, we can potentially mine further information by applying Permutation Importance to any of our given models. For the sake of example, we will demonstrate the procedure with CatBoost, considering it made it to the top as the most apparently useful model."
   ]
  },
  {
   "cell_type": "code",
   "execution_count": 55,
   "id": "dd598211",
   "metadata": {},
   "outputs": [
    {
     "name": "stderr",
     "output_type": "stream",
     "text": [
      "/home/theodore/anaconda3/lib/python3.8/site-packages/joblib/externals/loky/process_executor.py:688: UserWarning: A worker stopped while some jobs were given to the executor. This can be caused by a too short worker timeout or by a memory leak.\n",
      "  warnings.warn(\n"
     ]
    },
    {
     "data": {
      "text/plain": [
       "Text(0.5, 1.0, 'CatBoost Permutation Importance')"
      ]
     },
     "execution_count": 55,
     "metadata": {},
     "output_type": "execute_result"
    },
    {
     "data": {
      "image/png": "[encoded data removed]",
      "text/plain": [
       "<Figure size 864x576 with 1 Axes>"
      ]
     },
     "metadata": {
      "needs_background": "light"
     },
     "output_type": "display_data"
    }
   ],
   "source": [
    "from sklearn.inspection import permutation_importance\n",
    "fig, axs = plt.subplots(figsize=(12, 8))\n",
    "\n",
    "perms = permutation_importance(model_dict_balanced['cb_1'], Xtrain, ytrain,\n",
    "                              n_jobs=-2, random_state=430)\n",
    "perm_imp = pd.DataFrame({'Mean_Importance': list(perms['importances_mean']),\n",
    "                        'Features': Xtrain.columns.to_list()})\n",
    "perm_imp = perm_imp.sort_values(by='Mean_Importance', ascending=False).head(15)\n",
    "\n",
    "sns.barplot(x=perm_imp['Mean_Importance'], y=perm_imp['Features'])\n",
    "plt.ylabel('')\n",
    "plt.title('CatBoost Permutation Importance')"
   ]
  },
  {
   "cell_type": "markdown",
   "id": "overall-fluid",
   "metadata": {},
   "source": [
    "## Running the Best Models for Full Training Data\n",
    "[Back to Top](#Machine-Learning-Processing)\n",
    "\n",
    "Ordinarily this would make for a fine place to finish an ML analysis, however, we are interested in deriving as much precision as possible from our results and can take our findings one step further: we have all of the very best models of each of our selected classifiers and now we can collate their collective, predictive power through stacking techniques.\n",
    "\n",
    "With this approach, our goal is to gather these models together so that we can generate a clear confidence interval of prediction so that we can better inform our client's decisions at the same time as generating our final predictions of fradulent providers."
   ]
  },
  {
   "cell_type": "code",
   "execution_count": 2,
   "id": "adjusted-racing",
   "metadata": {},
   "outputs": [],
   "source": [
    "## If starting from here, uncomment these #####\n",
    "# import numpy as np\n",
    "# import pandas as pd\n",
    "# import pickle\n",
    "\n",
    "# # from sklearn.pipeline import Pipeline\n",
    "# from imblearn.pipeline import Pipeline\n",
    "# from imblearn.over_sampling import SMOTE\n",
    "# from catboost import CatBoostClassifier\n",
    "# from lightgbm import LGBMClassifier\n",
    "# from sklearn.linear_model import LogisticRegression\n",
    "# from sklearn.preprocessing import StandardScaler\n",
    "# from sklearn.neighbors import KNeighborsClassifier\n",
    "# from sklearn.discriminant_analysis import LinearDiscriminantAnalysis\n",
    "# from sklearn.naive_bayes import GaussianNB\n",
    "# from sklearn.svm import SVC\n",
    "# from sklearn.decomposition import PCA \n",
    "\n",
    "\n",
    "def PCAmerge(train, test, n_comp=0.95, r_state=430):\n",
    "    from sklearn.decomposition import PCA \n",
    "    pca = PCA(n_components = n_comp, random_state = r_state)\n",
    "    train_pca = pd.DataFrame(pca.fit_transform(train), index=train.index)\n",
    "    test_pca = pd.DataFrame(pca.transform(test), index=test.index)\n",
    "    PCA_col_list = []\n",
    "    for num in range(1, train_pca.shape[1]+1):\n",
    "        PCA_col_list.append(('PCA' + str(num)))\n",
    "    train_pca.columns = PCA_col_list\n",
    "    train = pd.concat([train, train_pca], axis=1)\n",
    "    test_pca.columns = PCA_col_list\n",
    "    test = pd.concat([test, test_pca], axis=1)\n",
    "    return train, test\n",
    "\n"
   ]
  },
  {
   "cell_type": "code",
   "execution_count": 4,
   "id": "raised-dress",
   "metadata": {},
   "outputs": [
    {
     "name": "stderr",
     "output_type": "stream",
     "text": [
      "C:\\Users\\gottl\\Anaconda3\\lib\\site-packages\\sklearn\\base.py:315: UserWarning: Trying to unpickle estimator NearestNeighbors from version 0.24.2 when using version 0.24.1. This might lead to breaking code or invalid results. Use at your own risk.\n",
      "  UserWarning)\n",
      "C:\\Users\\gottl\\Anaconda3\\lib\\site-packages\\sklearn\\base.py:315: UserWarning: Trying to unpickle estimator StandardScaler from version 0.24.2 when using version 0.24.1. This might lead to breaking code or invalid results. Use at your own risk.\n",
      "  UserWarning)\n",
      "C:\\Users\\gottl\\Anaconda3\\lib\\site-packages\\sklearn\\base.py:315: UserWarning: Trying to unpickle estimator PCA from version 0.24.2 when using version 0.24.1. This might lead to breaking code or invalid results. Use at your own risk.\n",
      "  UserWarning)\n",
      "C:\\Users\\gottl\\Anaconda3\\lib\\site-packages\\sklearn\\base.py:315: UserWarning: Trying to unpickle estimator GridSearchCV from version 0.24.2 when using version 0.24.1. This might lead to breaking code or invalid results. Use at your own risk.\n",
      "  UserWarning)\n",
      "C:\\Users\\gottl\\Anaconda3\\lib\\site-packages\\sklearn\\base.py:315: UserWarning: Trying to unpickle estimator LabelEncoder from version 0.24.2 when using version 0.24.1. This might lead to breaking code or invalid results. Use at your own risk.\n",
      "  UserWarning)\n",
      "C:\\Users\\gottl\\Anaconda3\\lib\\site-packages\\sklearn\\base.py:315: UserWarning: Trying to unpickle estimator LogisticRegression from version 0.24.2 when using version 0.24.1. This might lead to breaking code or invalid results. Use at your own risk.\n",
      "  UserWarning)\n",
      "C:\\Users\\gottl\\Anaconda3\\lib\\site-packages\\sklearn\\base.py:315: UserWarning: Trying to unpickle estimator KNeighborsClassifier from version 0.24.2 when using version 0.24.1. This might lead to breaking code or invalid results. Use at your own risk.\n",
      "  UserWarning)\n",
      "C:\\Users\\gottl\\Anaconda3\\lib\\site-packages\\sklearn\\base.py:315: UserWarning: Trying to unpickle estimator LinearDiscriminantAnalysis from version 0.24.2 when using version 0.24.1. This might lead to breaking code or invalid results. Use at your own risk.\n",
      "  UserWarning)\n",
      "C:\\Users\\gottl\\Anaconda3\\lib\\site-packages\\sklearn\\base.py:315: UserWarning: Trying to unpickle estimator GaussianNB from version 0.24.2 when using version 0.24.1. This might lead to breaking code or invalid results. Use at your own risk.\n",
      "  UserWarning)\n",
      "C:\\Users\\gottl\\Anaconda3\\lib\\site-packages\\sklearn\\base.py:315: UserWarning: Trying to unpickle estimator SVC from version 0.24.2 when using version 0.24.1. This might lead to breaking code or invalid results. Use at your own risk.\n",
      "  UserWarning)\n"
     ]
    }
   ],
   "source": [
    "###############################\n",
    "### Pickle Imports Emporium ###\n",
    "###############################\n",
    "\n",
    "model_scores_balanced = pickle.load(open('model_scores_balanced.pickle', 'rb'))\n",
    "best_models_balanced = pickle.load(open('best_models_balanced.pickle', 'rb'))\n",
    "model_dict_balanced = pickle.load(open('model_dict_balanced.pickle', 'rb'))\n",
    "Xtrain_all = pickle.load(open('Xtrain.pickle', 'rb'))\n",
    "ytrain_all = pickle.load(open('ytrain.pickle', 'rb'))\n",
    "Xtest_all = pickle.load(open('Xtest.pickle', 'rb'))\n",
    "ytest_all = pickle.load(open('ytest.pickle', 'rb'))"
   ]
  },
  {
   "cell_type": "code",
   "execution_count": 5,
   "id": "facial-heaven",
   "metadata": {},
   "outputs": [],
   "source": [
    "scaled = StandardScaler()\n",
    "smiter = SMOTE(n_jobs=-2, random_state=430)\n",
    "sm_Xtrain_all, sm_ytrain_all = smiter.fit_resample(Xtrain_all, ytrain_all)\n",
    "\n",
    "Xtrain_all_Scaled = pd.DataFrame(scaled.fit_transform(sm_Xtrain_all), columns=sm_Xtrain_all.columns, index=sm_Xtrain_all.index)\n",
    "Xtest_all_Scaled = pd.DataFrame(scaled.fit_transform(Xtest_all), columns=Xtest_all.columns, index=Xtest_all.index)\n",
    "Xtrain_all_PCA, Xtest_all_PCA = PCAmerge(Xtrain_all_Scaled, Xtest_all_Scaled, n_comp=0.95)"
   ]
  },
  {
   "cell_type": "code",
   "execution_count": 6,
   "id": "lightweight-disclaimer",
   "metadata": {},
   "outputs": [
    {
     "data": {
      "text/plain": [
       "123"
      ]
     },
     "execution_count": 6,
     "metadata": {},
     "output_type": "execute_result"
    }
   ],
   "source": [
    "best_cb = model_dict_balanced['cb_1']\n",
    "best_cb.fit(sm_Xtrain_all, sm_ytrain_all)\n",
    "\n",
    "ytest_cb = ytest_all.copy()\n",
    "ytest_cb['PotentialFraud'] = best_cb.predict(Xtest_all)\n",
    "ytest_cb['ProbabilityFraud'] = best_cb.predict_proba(Xtest_all)[:,1] \n",
    "sum(ytest_cb['PotentialFraud'])"
   ]
  },
  {
   "cell_type": "code",
   "execution_count": 7,
   "id": "manual-supervisor",
   "metadata": {},
   "outputs": [
    {
     "name": "stdout",
     "output_type": "stream",
     "text": [
      "[LightGBM] [Warning] min_data_in_leaf is set=19, min_child_samples=20 will be ignored. Current value: min_data_in_leaf=19\n"
     ]
    },
    {
     "data": {
      "text/plain": [
       "112"
      ]
     },
     "execution_count": 7,
     "metadata": {},
     "output_type": "execute_result"
    }
   ],
   "source": [
    "best_lgbm = model_dict_balanced['lgbm_1_opt']\n",
    "best_lgbm.fit(sm_Xtrain_all, sm_ytrain_all.values.ravel())\n",
    "\n",
    "ytest_lgbm = ytest_all.copy()\n",
    "ytest_lgbm['PotentialFraud'] = best_lgbm.predict(Xtest_all)\n",
    "ytest_lgbm['ProbabilityFraud'] = best_lgbm.predict_proba(Xtest_all)[:,1] \n",
    "sum(ytest_lgbm['PotentialFraud'])"
   ]
  },
  {
   "cell_type": "code",
   "execution_count": 8,
   "id": "attached-launch",
   "metadata": {},
   "outputs": [
    {
     "data": {
      "text/plain": [
       "252"
      ]
     },
     "execution_count": 8,
     "metadata": {},
     "output_type": "execute_result"
    }
   ],
   "source": [
    "best_lgr = model_dict_balanced['lgr_1']\n",
    "best_lgr.fit(sm_Xtrain_all, sm_ytrain_all.values.ravel())\n",
    "\n",
    "ytest_lgr = ytest_all.copy()\n",
    "ytest_lgr['PotentialFraud'] = best_lgr.predict(Xtest_all)\n",
    "ytest_lgr['ProbabilityFraud'] = best_lgr.predict_proba(Xtest_all)[:,1] \n",
    "sum(ytest_lgr['PotentialFraud'])"
   ]
  },
  {
   "cell_type": "code",
   "execution_count": 9,
   "id": "atlantic-acceptance",
   "metadata": {},
   "outputs": [
    {
     "data": {
      "text/plain": [
       "447"
      ]
     },
     "execution_count": 9,
     "metadata": {},
     "output_type": "execute_result"
    }
   ],
   "source": [
    "best_knn = model_dict_balanced['knn_2']\n",
    "best_knn.fit(sm_Xtrain_all, sm_ytrain_all.values.ravel())\n",
    "\n",
    "ytest_knn = ytest_all.copy()\n",
    "ytest_knn['PotentialFraud'] = best_knn.predict(Xtest_all)\n",
    "ytest_knn['ProbabilityFraud'] = best_knn.predict_proba(Xtest_all)[:,1] \n",
    "sum(ytest_knn['PotentialFraud'])"
   ]
  },
  {
   "cell_type": "code",
   "execution_count": 10,
   "id": "fifth-lyric",
   "metadata": {},
   "outputs": [
    {
     "data": {
      "text/plain": [
       "320"
      ]
     },
     "execution_count": 10,
     "metadata": {},
     "output_type": "execute_result"
    }
   ],
   "source": [
    "best_lda = model_dict_balanced['lda_1']\n",
    "best_lda.fit(sm_Xtrain_all, sm_ytrain_all.values.ravel())\n",
    "\n",
    "ytest_lda = ytest_all.copy()\n",
    "ytest_lda['PotentialFraud'] = best_lda.predict(Xtest_all)\n",
    "ytest_lda['ProbabilityFraud'] = best_lda.predict_proba(Xtest_all)[:,1] \n",
    "sum(ytest_lda['PotentialFraud'])"
   ]
  },
  {
   "cell_type": "code",
   "execution_count": 11,
   "id": "appointed-vintage",
   "metadata": {},
   "outputs": [
    {
     "data": {
      "text/plain": [
       "476"
      ]
     },
     "execution_count": 11,
     "metadata": {},
     "output_type": "execute_result"
    }
   ],
   "source": [
    "best_gnb = model_dict_balanced['gnb_1']\n",
    "best_gnb.fit(sm_Xtrain_all, sm_ytrain_all.values.ravel())\n",
    "\n",
    "ytest_gnb = ytest_all.copy()\n",
    "ytest_gnb['PotentialFraud'] = best_gnb.predict(Xtest_all)\n",
    "ytest_gnb['ProbabilityFraud'] = best_gnb.predict_proba(Xtest_all)[:,1] \n",
    "sum(ytest_gnb['PotentialFraud'])"
   ]
  },
  {
   "cell_type": "code",
   "execution_count": 12,
   "id": "given-documentation",
   "metadata": {},
   "outputs": [
    {
     "data": {
      "text/plain": [
       "138"
      ]
     },
     "execution_count": 12,
     "metadata": {},
     "output_type": "execute_result"
    }
   ],
   "source": [
    "best_svc = Pipeline(steps=[('scaler', StandardScaler()),\n",
    "                           ('svc', SVC(probability=True))])\n",
    "best_svc.set_params(**model_dict_balanced['svc_1_opt_params'])\n",
    "best_svc.fit(sm_Xtrain_all, sm_ytrain_all.values.ravel())\n",
    "\n",
    "ytest_svc = ytest_all.copy()\n",
    "ytest_svc['PotentialFraud'] = best_svc.predict(Xtest_all)\n",
    "ytest_svc['ProbabilityFraud'] = best_svc.predict_proba(Xtest_all)[:,1] \n",
    "sum(ytest_svc['PotentialFraud'])"
   ]
  },
  {
   "cell_type": "code",
   "execution_count": 7,
   "id": "rocky-section",
   "metadata": {},
   "outputs": [
    {
     "data": {
      "text/html": [
       "<div>\n",
       "<style scoped>\n",
       "    .dataframe tbody tr th:only-of-type {\n",
       "        vertical-align: middle;\n",
       "    }\n",
       "\n",
       "    .dataframe tbody tr th {\n",
       "        vertical-align: top;\n",
       "    }\n",
       "\n",
       "    .dataframe thead th {\n",
       "        text-align: right;\n",
       "    }\n",
       "</style>\n",
       "<table border=\"1\" class=\"dataframe\">\n",
       "  <thead>\n",
       "    <tr style=\"text-align: right;\">\n",
       "      <th></th>\n",
       "      <th>PotentialFraud</th>\n",
       "    </tr>\n",
       "    <tr>\n",
       "      <th>Provider</th>\n",
       "      <th></th>\n",
       "    </tr>\n",
       "  </thead>\n",
       "  <tbody>\n",
       "    <tr>\n",
       "      <th>PRV51002</th>\n",
       "      <td>NaN</td>\n",
       "    </tr>\n",
       "    <tr>\n",
       "      <th>PRV51006</th>\n",
       "      <td>NaN</td>\n",
       "    </tr>\n",
       "    <tr>\n",
       "      <th>PRV51009</th>\n",
       "      <td>NaN</td>\n",
       "    </tr>\n",
       "    <tr>\n",
       "      <th>PRV51010</th>\n",
       "      <td>NaN</td>\n",
       "    </tr>\n",
       "    <tr>\n",
       "      <th>PRV51018</th>\n",
       "      <td>NaN</td>\n",
       "    </tr>\n",
       "    <tr>\n",
       "      <th>...</th>\n",
       "      <td>...</td>\n",
       "    </tr>\n",
       "    <tr>\n",
       "      <th>PRV57713</th>\n",
       "      <td>NaN</td>\n",
       "    </tr>\n",
       "    <tr>\n",
       "      <th>PRV57726</th>\n",
       "      <td>NaN</td>\n",
       "    </tr>\n",
       "    <tr>\n",
       "      <th>PRV57745</th>\n",
       "      <td>NaN</td>\n",
       "    </tr>\n",
       "    <tr>\n",
       "      <th>PRV57749</th>\n",
       "      <td>NaN</td>\n",
       "    </tr>\n",
       "    <tr>\n",
       "      <th>PRV57750</th>\n",
       "      <td>NaN</td>\n",
       "    </tr>\n",
       "  </tbody>\n",
       "</table>\n",
       "<p>1353 rows × 1 columns</p>\n",
       "</div>"
      ],
      "text/plain": [
       "          PotentialFraud\n",
       "Provider                \n",
       "PRV51002             NaN\n",
       "PRV51006             NaN\n",
       "PRV51009             NaN\n",
       "PRV51010             NaN\n",
       "PRV51018             NaN\n",
       "...                  ...\n",
       "PRV57713             NaN\n",
       "PRV57726             NaN\n",
       "PRV57745             NaN\n",
       "PRV57749             NaN\n",
       "PRV57750             NaN\n",
       "\n",
       "[1353 rows x 1 columns]"
      ]
     },
     "execution_count": 7,
     "metadata": {},
     "output_type": "execute_result"
    }
   ],
   "source": [
    "ytest_stack_confidence = ytest_all.copy()\n",
    "ytest_stack_confidence['PotentialFraud'] = (ytest_cb['PotentialFraud'] + ytest_lgbm['PotentialFraud'] + \n",
    "                                            ytest_lgr['PotentialFraud'] + ytest_knn['PotentialFraud'] + \n",
    "                                            ytest_lda['PotentialFraud'] + ytest_gnb['PotentialFraud'] + \n",
    "                                            ytest_svc['PotentialFraud']) / 7\n",
    "ytest_stack_confidence\n",
    "\n",
    "ytest_stacked = np.round(ytest_stack_confidence)\n",
    "ytest_stacked"
   ]
  },
  {
   "cell_type": "markdown",
   "id": "executed-thanks",
   "metadata": {},
   "source": [
    "Generate Model Fraud Probability Data\n"
   ]
  },
  {
   "cell_type": "code",
   "execution_count": 14,
   "id": "accompanied-loading",
   "metadata": {},
   "outputs": [
    {
     "data": {
      "text/html": [
       "<div>\n",
       "<style scoped>\n",
       "    .dataframe tbody tr th:only-of-type {\n",
       "        vertical-align: middle;\n",
       "    }\n",
       "\n",
       "    .dataframe tbody tr th {\n",
       "        vertical-align: top;\n",
       "    }\n",
       "\n",
       "    .dataframe thead th {\n",
       "        text-align: right;\n",
       "    }\n",
       "</style>\n",
       "<table border=\"1\" class=\"dataframe\">\n",
       "  <thead>\n",
       "    <tr style=\"text-align: right;\">\n",
       "      <th></th>\n",
       "      <th>Provider</th>\n",
       "      <th>Percentage</th>\n",
       "      <th>NumModels</th>\n",
       "    </tr>\n",
       "  </thead>\n",
       "  <tbody>\n",
       "    <tr>\n",
       "      <th>0</th>\n",
       "      <td>262</td>\n",
       "      <td>0.193644</td>\n",
       "      <td>1/7</td>\n",
       "    </tr>\n",
       "    <tr>\n",
       "      <th>1</th>\n",
       "      <td>143</td>\n",
       "      <td>0.105691</td>\n",
       "      <td>2/7</td>\n",
       "    </tr>\n",
       "    <tr>\n",
       "      <th>2</th>\n",
       "      <td>41</td>\n",
       "      <td>0.030303</td>\n",
       "      <td>3/7</td>\n",
       "    </tr>\n",
       "    <tr>\n",
       "      <th>3</th>\n",
       "      <td>66</td>\n",
       "      <td>0.048780</td>\n",
       "      <td>4/7</td>\n",
       "    </tr>\n",
       "    <tr>\n",
       "      <th>4</th>\n",
       "      <td>30</td>\n",
       "      <td>0.022173</td>\n",
       "      <td>5/7</td>\n",
       "    </tr>\n",
       "    <tr>\n",
       "      <th>5</th>\n",
       "      <td>43</td>\n",
       "      <td>0.031781</td>\n",
       "      <td>6/7</td>\n",
       "    </tr>\n",
       "    <tr>\n",
       "      <th>6</th>\n",
       "      <td>75</td>\n",
       "      <td>0.055432</td>\n",
       "      <td>7/7</td>\n",
       "    </tr>\n",
       "  </tbody>\n",
       "</table>\n",
       "</div>"
      ],
      "text/plain": [
       "   Provider  Percentage NumModels\n",
       "0       262    0.193644       1/7\n",
       "1       143    0.105691       2/7\n",
       "2        41    0.030303       3/7\n",
       "3        66    0.048780       4/7\n",
       "4        30    0.022173       5/7\n",
       "5        43    0.031781       6/7\n",
       "6        75    0.055432       7/7"
      ]
     },
     "execution_count": 14,
     "metadata": {},
     "output_type": "execute_result"
    }
   ],
   "source": [
    "ytest_stack_confidence_group = ytest_stack_confidence.reset_index().groupby('PotentialFraud').agg('count')\n",
    "ytest_stack_confidence_group.index = range(8)\n",
    "ytest_stack_confidence_group['Percentage'] = ytest_stack_confidence_group.Provider / np.sum(ytest_stack_confidence_group.Provider)\n",
    "ytest_stack_graph = ytest_stack_confidence_group.loc[1:].copy()\n",
    "ytest_stack_graph['NumModels'] = list(ytest_stack_graph.index)\n",
    "ytest_stack_graph['NumModels'] = ytest_stack_graph['NumModels'].apply(str) + '/7'\n",
    "ytest_stack_graph.index = ytest_stack_graph.index - 1\n",
    "ytest_stack_graph"
   ]
  },
  {
   "cell_type": "code",
   "execution_count": 15,
   "id": "consistent-ending",
   "metadata": {},
   "outputs": [
    {
     "data": {
      "text/html": [
       "<div>\n",
       "<style scoped>\n",
       "    .dataframe tbody tr th:only-of-type {\n",
       "        vertical-align: middle;\n",
       "    }\n",
       "\n",
       "    .dataframe tbody tr th {\n",
       "        vertical-align: top;\n",
       "    }\n",
       "\n",
       "    .dataframe thead th {\n",
       "        text-align: right;\n",
       "    }\n",
       "</style>\n",
       "<table border=\"1\" class=\"dataframe\">\n",
       "  <thead>\n",
       "    <tr style=\"text-align: right;\">\n",
       "      <th></th>\n",
       "      <th>PotentialFraud</th>\n",
       "      <th>ProbabilityFraud</th>\n",
       "      <th>NumModels</th>\n",
       "    </tr>\n",
       "    <tr>\n",
       "      <th>Provider</th>\n",
       "      <th></th>\n",
       "      <th></th>\n",
       "      <th></th>\n",
       "    </tr>\n",
       "  </thead>\n",
       "  <tbody>\n",
       "    <tr>\n",
       "      <th>PRV53105</th>\n",
       "      <td>1.000000</td>\n",
       "      <td>0.999461</td>\n",
       "      <td>7/7</td>\n",
       "    </tr>\n",
       "    <tr>\n",
       "      <th>PRV53866</th>\n",
       "      <td>1.000000</td>\n",
       "      <td>0.999251</td>\n",
       "      <td>7/7</td>\n",
       "    </tr>\n",
       "    <tr>\n",
       "      <th>PRV52338</th>\n",
       "      <td>1.000000</td>\n",
       "      <td>0.999197</td>\n",
       "      <td>7/7</td>\n",
       "    </tr>\n",
       "    <tr>\n",
       "      <th>PRV51407</th>\n",
       "      <td>1.000000</td>\n",
       "      <td>0.999110</td>\n",
       "      <td>7/7</td>\n",
       "    </tr>\n",
       "    <tr>\n",
       "      <th>PRV54751</th>\n",
       "      <td>1.000000</td>\n",
       "      <td>0.998395</td>\n",
       "      <td>7/7</td>\n",
       "    </tr>\n",
       "    <tr>\n",
       "      <th>...</th>\n",
       "      <td>...</td>\n",
       "      <td>...</td>\n",
       "      <td>...</td>\n",
       "    </tr>\n",
       "    <tr>\n",
       "      <th>PRV51903</th>\n",
       "      <td>0.142857</td>\n",
       "      <td>0.086087</td>\n",
       "      <td>1/7</td>\n",
       "    </tr>\n",
       "    <tr>\n",
       "      <th>PRV57750</th>\n",
       "      <td>0.142857</td>\n",
       "      <td>0.083629</td>\n",
       "      <td>1/7</td>\n",
       "    </tr>\n",
       "    <tr>\n",
       "      <th>PRV56898</th>\n",
       "      <td>0.142857</td>\n",
       "      <td>0.083211</td>\n",
       "      <td>1/7</td>\n",
       "    </tr>\n",
       "    <tr>\n",
       "      <th>PRV52244</th>\n",
       "      <td>0.142857</td>\n",
       "      <td>0.070349</td>\n",
       "      <td>1/7</td>\n",
       "    </tr>\n",
       "    <tr>\n",
       "      <th>PRV56940</th>\n",
       "      <td>0.142857</td>\n",
       "      <td>0.045038</td>\n",
       "      <td>1/7</td>\n",
       "    </tr>\n",
       "  </tbody>\n",
       "</table>\n",
       "<p>660 rows × 3 columns</p>\n",
       "</div>"
      ],
      "text/plain": [
       "          PotentialFraud  ProbabilityFraud NumModels\n",
       "Provider                                            \n",
       "PRV53105        1.000000          0.999461       7/7\n",
       "PRV53866        1.000000          0.999251       7/7\n",
       "PRV52338        1.000000          0.999197       7/7\n",
       "PRV51407        1.000000          0.999110       7/7\n",
       "PRV54751        1.000000          0.998395       7/7\n",
       "...                  ...               ...       ...\n",
       "PRV51903        0.142857          0.086087       1/7\n",
       "PRV57750        0.142857          0.083629       1/7\n",
       "PRV56898        0.142857          0.083211       1/7\n",
       "PRV52244        0.142857          0.070349       1/7\n",
       "PRV56940        0.142857          0.045038       1/7\n",
       "\n",
       "[660 rows x 3 columns]"
      ]
     },
     "execution_count": 15,
     "metadata": {},
     "output_type": "execute_result"
    }
   ],
   "source": [
    "ytest_stack_confidence['ProbabilityFraud'] = (ytest_cb['ProbabilityFraud'] + ytest_lgbm['ProbabilityFraud'] + \n",
    "                                              ytest_lgr['ProbabilityFraud'] + ytest_knn['ProbabilityFraud'] + \n",
    "                                              ytest_lda['ProbabilityFraud'] + ytest_gnb['ProbabilityFraud'] + \n",
    "                                              ytest_svc['ProbabilityFraud'])  / 7\n",
    "\n",
    "# Collate Potentially Fraudulent Providers\n",
    "PotentialFraud = ytest_stack_confidence[ytest_stack_confidence.PotentialFraud != 0]\n",
    "PotentialFraud = PotentialFraud.sort_values(['PotentialFraud', 'ProbabilityFraud', 'Provider'], ascending=[False, False, True])\n",
    "PotentialFraud['NumModels'] = (PotentialFraud['PotentialFraud'] * 7).apply(int).apply(str) + '/7'\n",
    "PotentialFraud"
   ]
  },
  {
   "cell_type": "markdown",
   "id": "cleared-fellowship",
   "metadata": {},
   "source": [
    "Statistics for Probability of Fraud, Grouped by How Many of 7 Models Marked Provider as Fraudulent"
   ]
  },
  {
   "cell_type": "code",
   "execution_count": 16,
   "id": "dependent-capacity",
   "metadata": {
    "scrolled": true
   },
   "outputs": [
    {
     "data": {
      "text/html": [
       "<div>\n",
       "<style scoped>\n",
       "    .dataframe tbody tr th:only-of-type {\n",
       "        vertical-align: middle;\n",
       "    }\n",
       "\n",
       "    .dataframe tbody tr th {\n",
       "        vertical-align: top;\n",
       "    }\n",
       "\n",
       "    .dataframe thead tr th {\n",
       "        text-align: left;\n",
       "    }\n",
       "\n",
       "    .dataframe thead tr:last-of-type th {\n",
       "        text-align: right;\n",
       "    }\n",
       "</style>\n",
       "<table border=\"1\" class=\"dataframe\">\n",
       "  <thead>\n",
       "    <tr>\n",
       "      <th></th>\n",
       "      <th colspan=\"6\" halign=\"left\">ProbabilityFraud</th>\n",
       "    </tr>\n",
       "    <tr>\n",
       "      <th></th>\n",
       "      <th>min</th>\n",
       "      <th>mean</th>\n",
       "      <th>median</th>\n",
       "      <th>max</th>\n",
       "      <th>std</th>\n",
       "      <th>range_</th>\n",
       "    </tr>\n",
       "    <tr>\n",
       "      <th>PotentialFraud</th>\n",
       "      <th></th>\n",
       "      <th></th>\n",
       "      <th></th>\n",
       "      <th></th>\n",
       "      <th></th>\n",
       "      <th></th>\n",
       "    </tr>\n",
       "  </thead>\n",
       "  <tbody>\n",
       "    <tr>\n",
       "      <th>1.000000</th>\n",
       "      <td>0.682948</td>\n",
       "      <td>0.908017</td>\n",
       "      <td>0.928724</td>\n",
       "      <td>0.999461</td>\n",
       "      <td>0.086494</td>\n",
       "      <td>0.316514</td>\n",
       "    </tr>\n",
       "    <tr>\n",
       "      <th>0.857143</th>\n",
       "      <td>0.598683</td>\n",
       "      <td>0.740488</td>\n",
       "      <td>0.746906</td>\n",
       "      <td>0.865779</td>\n",
       "      <td>0.065906</td>\n",
       "      <td>0.267096</td>\n",
       "    </tr>\n",
       "    <tr>\n",
       "      <th>0.714286</th>\n",
       "      <td>0.540181</td>\n",
       "      <td>0.649531</td>\n",
       "      <td>0.643779</td>\n",
       "      <td>0.807451</td>\n",
       "      <td>0.065622</td>\n",
       "      <td>0.267270</td>\n",
       "    </tr>\n",
       "    <tr>\n",
       "      <th>0.571429</th>\n",
       "      <td>0.424540</td>\n",
       "      <td>0.535521</td>\n",
       "      <td>0.535205</td>\n",
       "      <td>0.678775</td>\n",
       "      <td>0.060488</td>\n",
       "      <td>0.254235</td>\n",
       "    </tr>\n",
       "    <tr>\n",
       "      <th>0.428571</th>\n",
       "      <td>0.266845</td>\n",
       "      <td>0.409407</td>\n",
       "      <td>0.399685</td>\n",
       "      <td>0.573816</td>\n",
       "      <td>0.066349</td>\n",
       "      <td>0.306971</td>\n",
       "    </tr>\n",
       "    <tr>\n",
       "      <th>0.285714</th>\n",
       "      <td>0.186403</td>\n",
       "      <td>0.320608</td>\n",
       "      <td>0.325995</td>\n",
       "      <td>0.505789</td>\n",
       "      <td>0.063488</td>\n",
       "      <td>0.319386</td>\n",
       "    </tr>\n",
       "    <tr>\n",
       "      <th>0.142857</th>\n",
       "      <td>0.045038</td>\n",
       "      <td>0.175142</td>\n",
       "      <td>0.169505</td>\n",
       "      <td>0.389408</td>\n",
       "      <td>0.050845</td>\n",
       "      <td>0.344370</td>\n",
       "    </tr>\n",
       "  </tbody>\n",
       "</table>\n",
       "</div>"
      ],
      "text/plain": [
       "               ProbabilityFraud                                          \\\n",
       "                            min      mean    median       max       std   \n",
       "PotentialFraud                                                            \n",
       "1.000000               0.682948  0.908017  0.928724  0.999461  0.086494   \n",
       "0.857143               0.598683  0.740488  0.746906  0.865779  0.065906   \n",
       "0.714286               0.540181  0.649531  0.643779  0.807451  0.065622   \n",
       "0.571429               0.424540  0.535521  0.535205  0.678775  0.060488   \n",
       "0.428571               0.266845  0.409407  0.399685  0.573816  0.066349   \n",
       "0.285714               0.186403  0.320608  0.325995  0.505789  0.063488   \n",
       "0.142857               0.045038  0.175142  0.169505  0.389408  0.050845   \n",
       "\n",
       "                          \n",
       "                  range_  \n",
       "PotentialFraud            \n",
       "1.000000        0.316514  \n",
       "0.857143        0.267096  \n",
       "0.714286        0.267270  \n",
       "0.571429        0.254235  \n",
       "0.428571        0.306971  \n",
       "0.285714        0.319386  \n",
       "0.142857        0.344370  "
      ]
     },
     "execution_count": 16,
     "metadata": {},
     "output_type": "execute_result"
    }
   ],
   "source": [
    "def range_(df):\n",
    "    return max(df) - min(df)\n",
    "PotentialFraud.groupby('PotentialFraud').agg(['min','mean','median','max', 'std', range_]).sort_values('PotentialFraud', ascending=False)"
   ]
  },
  {
   "cell_type": "markdown",
   "id": "korean-shelf",
   "metadata": {},
   "source": [
    "Export Results"
   ]
  },
  {
   "cell_type": "code",
   "execution_count": 27,
   "id": "employed-algorithm",
   "metadata": {},
   "outputs": [],
   "source": [
    "ytest_cb.to_csv('ytest_cb_balanced.csv', header=True)\n",
    "ytest_lgbm.to_csv('ytest_lgbm_balanced.csv', header=True)\n",
    "ytest_lgr.to_csv('ytest_lgr_balanced.csv', header=True)\n",
    "ytest_knn.to_csv('ytest_knn_balanced.csv', header=True)\n",
    "ytest_lda.to_csv('ytest_lda_balanced.csv', header=True)\n",
    "ytest_gnb.to_csv('ytest_gnb_balanced.csv', header=True)\n",
    "ytest_svc.to_csv('ytest_svc_balanced.csv', header=True)\n",
    "ytest_stack_confidence.to_csv('ytest_stack_confidence_balanced.csv', header=True)\n",
    "ytest_stacked.to_csv('ytest_stacked_balanced.csv', header=True)\n",
    "ytest_stack_graph.to_csv('ytest_stack_graph_balanced.csv', header=True)\n",
    "PotentialFraud.to_csv('PotentialFraud_balanced.csv', header=True)"
   ]
  },
  {
   "cell_type": "code",
   "execution_count": 6,
   "id": "choice-denver",
   "metadata": {},
   "outputs": [],
   "source": [
    "ytest_cb = pd.read_csv('ytest_cb.csv')\n",
    "ytest_lgbm = pd.read_csv('ytest_lgbm.csv')\n",
    "ytest_lgr = pd.read_csv('ytest_lgr.csv')\n",
    "ytest_knn = pd.read_csv('ytest_knn.csv')\n",
    "ytest_lda = pd.read_csv('ytest_lda.csv')\n",
    "ytest_gnb = pd.read_csv('ytest_gnb.csv')\n",
    "ytest_svc = pd.read_csv('ytest_svc.csv')\n",
    "\n",
    "ytest_cb_balanced = pd.read_csv('ytest_cb_balanced.csv')\n",
    "ytest_lgbm_balanced = pd.read_csv('ytest_lgbm_balanced.csv')\n",
    "ytest_lgr_balanced = pd.read_csv('ytest_lgr_balanced.csv')\n",
    "ytest_knn_balanced = pd.read_csv('ytest_knn_balanced.csv')\n",
    "ytest_lda_balanced = pd.read_csv('ytest_lda_balanced.csv')\n",
    "ytest_gnb_balanced = pd.read_csv('ytest_gnb_balanced.csv')\n",
    "ytest_svc_balanced = pd.read_csv('ytest_svc_balanced.csv')"
   ]
  },
  {
   "cell_type": "code",
   "execution_count": 8,
   "id": "ongoing-mixture",
   "metadata": {},
   "outputs": [
    {
     "data": {
      "text/html": [
       "<div>\n",
       "<style scoped>\n",
       "    .dataframe tbody tr th:only-of-type {\n",
       "        vertical-align: middle;\n",
       "    }\n",
       "\n",
       "    .dataframe tbody tr th {\n",
       "        vertical-align: top;\n",
       "    }\n",
       "\n",
       "    .dataframe thead th {\n",
       "        text-align: right;\n",
       "    }\n",
       "</style>\n",
       "<table border=\"1\" class=\"dataframe\">\n",
       "  <thead>\n",
       "    <tr style=\"text-align: right;\">\n",
       "      <th></th>\n",
       "      <th>Original_Fraud</th>\n",
       "      <th>Balanced_Fraud</th>\n",
       "      <th>Agreed_Fraud</th>\n",
       "      <th>False_Positives</th>\n",
       "      <th>New_Fraud</th>\n",
       "    </tr>\n",
       "  </thead>\n",
       "  <tbody>\n",
       "    <tr>\n",
       "      <th>cb</th>\n",
       "      <td>84</td>\n",
       "      <td>123</td>\n",
       "      <td>78</td>\n",
       "      <td>6</td>\n",
       "      <td>45</td>\n",
       "    </tr>\n",
       "    <tr>\n",
       "      <th>lgbm</th>\n",
       "      <td>86</td>\n",
       "      <td>112</td>\n",
       "      <td>78</td>\n",
       "      <td>8</td>\n",
       "      <td>34</td>\n",
       "    </tr>\n",
       "    <tr>\n",
       "      <th>lgr</th>\n",
       "      <td>62</td>\n",
       "      <td>252</td>\n",
       "      <td>62</td>\n",
       "      <td>0</td>\n",
       "      <td>190</td>\n",
       "    </tr>\n",
       "    <tr>\n",
       "      <th>knn</th>\n",
       "      <td>62</td>\n",
       "      <td>447</td>\n",
       "      <td>62</td>\n",
       "      <td>0</td>\n",
       "      <td>385</td>\n",
       "    </tr>\n",
       "    <tr>\n",
       "      <th>lda</th>\n",
       "      <td>71</td>\n",
       "      <td>320</td>\n",
       "      <td>71</td>\n",
       "      <td>0</td>\n",
       "      <td>249</td>\n",
       "    </tr>\n",
       "    <tr>\n",
       "      <th>gnb</th>\n",
       "      <td>27</td>\n",
       "      <td>476</td>\n",
       "      <td>26</td>\n",
       "      <td>1</td>\n",
       "      <td>450</td>\n",
       "    </tr>\n",
       "    <tr>\n",
       "      <th>svc</th>\n",
       "      <td>41</td>\n",
       "      <td>138</td>\n",
       "      <td>36</td>\n",
       "      <td>5</td>\n",
       "      <td>102</td>\n",
       "    </tr>\n",
       "  </tbody>\n",
       "</table>\n",
       "</div>"
      ],
      "text/plain": [
       "     Original_Fraud Balanced_Fraud Agreed_Fraud False_Positives New_Fraud\n",
       "cb               84            123           78               6        45\n",
       "lgbm             86            112           78               8        34\n",
       "lgr              62            252           62               0       190\n",
       "knn              62            447           62               0       385\n",
       "lda              71            320           71               0       249\n",
       "gnb              27            476           26               1       450\n",
       "svc              41            138           36               5       102"
      ]
     },
     "execution_count": 8,
     "metadata": {},
     "output_type": "execute_result"
    }
   ],
   "source": [
    "model_abrev = ['cb', 'lgbm', 'lgr', 'knn', 'lda', 'gnb', 'svc']\n",
    "\n",
    "balancing_stats = pd.DataFrame([], columns = ['Original_Fraud', 'Balanced_Fraud', 'Agreed_Fraud', 'False_Positives', 'New_Fraud'])\n",
    "\n",
    "for model in model_abrev:\n",
    "    ytest_ = 'ytest_' + model\n",
    "    ytest_balanced = 'ytest_' + model + '_balanced'\n",
    "    balancing_stats.loc[model] = [np.sum(locals()[ytest_]['PotentialFraud']), np.sum(locals()[ytest_balanced]['PotentialFraud']), \n",
    "                                  np.sum((locals()[ytest_]['PotentialFraud'] == 1) & (locals()[ytest_balanced]['PotentialFraud'] == 1)),\n",
    "                                  np.sum((locals()[ytest_]['PotentialFraud'] == 1) & (locals()[ytest_balanced]['PotentialFraud'] == 0)),\n",
    "                                  np.sum((locals()[ytest_]['PotentialFraud'] == 0) & (locals()[ytest_balanced]['PotentialFraud'] == 1))]\n",
    "balancing_stats"
   ]
  },
  {
   "cell_type": "code",
   "execution_count": 9,
   "id": "empirical-attempt",
   "metadata": {},
   "outputs": [
    {
     "name": "stdout",
     "output_type": "stream",
     "text": [
      "Our Training Dataset had  9.35% of Providers listed as Fraudulent\n"
     ]
    },
    {
     "data": {
      "text/html": [
       "<style  type=\"text/css\" >\n",
       "</style><table id=\"T_2cd286b6_11d3_11ec_aa4d_0028f8f7eb39\" ><thead>    <tr>        <th class=\"blank level0\" ></th>        <th class=\"col_heading level0 col0\" >Original_Fraud_Perc</th>        <th class=\"col_heading level0 col1\" >Original_Perc_Difference</th>        <th class=\"col_heading level0 col2\" >Balanced_Fraud_Perc</th>        <th class=\"col_heading level0 col3\" >Balanced_Perc_Difference</th>    </tr></thead><tbody>\n",
       "                <tr>\n",
       "                        <th id=\"T_2cd286b6_11d3_11ec_aa4d_0028f8f7eb39level0_row0\" class=\"row_heading level0 row0\" >cb</th>\n",
       "                        <td id=\"T_2cd286b6_11d3_11ec_aa4d_0028f8f7eb39row0_col0\" class=\"data row0 col0\" >6.21%</td>\n",
       "                        <td id=\"T_2cd286b6_11d3_11ec_aa4d_0028f8f7eb39row0_col1\" class=\"data row0 col1\" >-3.14%</td>\n",
       "                        <td id=\"T_2cd286b6_11d3_11ec_aa4d_0028f8f7eb39row0_col2\" class=\"data row0 col2\" >9.09%</td>\n",
       "                        <td id=\"T_2cd286b6_11d3_11ec_aa4d_0028f8f7eb39row0_col3\" class=\"data row0 col3\" >-0.26%</td>\n",
       "            </tr>\n",
       "            <tr>\n",
       "                        <th id=\"T_2cd286b6_11d3_11ec_aa4d_0028f8f7eb39level0_row1\" class=\"row_heading level0 row1\" >lgbm</th>\n",
       "                        <td id=\"T_2cd286b6_11d3_11ec_aa4d_0028f8f7eb39row1_col0\" class=\"data row1 col0\" >6.36%</td>\n",
       "                        <td id=\"T_2cd286b6_11d3_11ec_aa4d_0028f8f7eb39row1_col1\" class=\"data row1 col1\" >-3.00%</td>\n",
       "                        <td id=\"T_2cd286b6_11d3_11ec_aa4d_0028f8f7eb39row1_col2\" class=\"data row1 col2\" >8.28%</td>\n",
       "                        <td id=\"T_2cd286b6_11d3_11ec_aa4d_0028f8f7eb39row1_col3\" class=\"data row1 col3\" >-1.08%</td>\n",
       "            </tr>\n",
       "            <tr>\n",
       "                        <th id=\"T_2cd286b6_11d3_11ec_aa4d_0028f8f7eb39level0_row2\" class=\"row_heading level0 row2\" >lgr</th>\n",
       "                        <td id=\"T_2cd286b6_11d3_11ec_aa4d_0028f8f7eb39row2_col0\" class=\"data row2 col0\" >4.58%</td>\n",
       "                        <td id=\"T_2cd286b6_11d3_11ec_aa4d_0028f8f7eb39row2_col1\" class=\"data row2 col1\" >-4.77%</td>\n",
       "                        <td id=\"T_2cd286b6_11d3_11ec_aa4d_0028f8f7eb39row2_col2\" class=\"data row2 col2\" >18.63%</td>\n",
       "                        <td id=\"T_2cd286b6_11d3_11ec_aa4d_0028f8f7eb39row2_col3\" class=\"data row2 col3\" >+9.27%</td>\n",
       "            </tr>\n",
       "            <tr>\n",
       "                        <th id=\"T_2cd286b6_11d3_11ec_aa4d_0028f8f7eb39level0_row3\" class=\"row_heading level0 row3\" >knn</th>\n",
       "                        <td id=\"T_2cd286b6_11d3_11ec_aa4d_0028f8f7eb39row3_col0\" class=\"data row3 col0\" >4.58%</td>\n",
       "                        <td id=\"T_2cd286b6_11d3_11ec_aa4d_0028f8f7eb39row3_col1\" class=\"data row3 col1\" >-4.77%</td>\n",
       "                        <td id=\"T_2cd286b6_11d3_11ec_aa4d_0028f8f7eb39row3_col2\" class=\"data row3 col2\" >33.04%</td>\n",
       "                        <td id=\"T_2cd286b6_11d3_11ec_aa4d_0028f8f7eb39row3_col3\" class=\"data row3 col3\" >+23.68%</td>\n",
       "            </tr>\n",
       "            <tr>\n",
       "                        <th id=\"T_2cd286b6_11d3_11ec_aa4d_0028f8f7eb39level0_row4\" class=\"row_heading level0 row4\" >lda</th>\n",
       "                        <td id=\"T_2cd286b6_11d3_11ec_aa4d_0028f8f7eb39row4_col0\" class=\"data row4 col0\" >5.25%</td>\n",
       "                        <td id=\"T_2cd286b6_11d3_11ec_aa4d_0028f8f7eb39row4_col1\" class=\"data row4 col1\" >-4.11%</td>\n",
       "                        <td id=\"T_2cd286b6_11d3_11ec_aa4d_0028f8f7eb39row4_col2\" class=\"data row4 col2\" >23.65%</td>\n",
       "                        <td id=\"T_2cd286b6_11d3_11ec_aa4d_0028f8f7eb39row4_col3\" class=\"data row4 col3\" >+14.30%</td>\n",
       "            </tr>\n",
       "            <tr>\n",
       "                        <th id=\"T_2cd286b6_11d3_11ec_aa4d_0028f8f7eb39level0_row5\" class=\"row_heading level0 row5\" >gnb</th>\n",
       "                        <td id=\"T_2cd286b6_11d3_11ec_aa4d_0028f8f7eb39row5_col0\" class=\"data row5 col0\" >2.00%</td>\n",
       "                        <td id=\"T_2cd286b6_11d3_11ec_aa4d_0028f8f7eb39row5_col1\" class=\"data row5 col1\" >-7.36%</td>\n",
       "                        <td id=\"T_2cd286b6_11d3_11ec_aa4d_0028f8f7eb39row5_col2\" class=\"data row5 col2\" >35.18%</td>\n",
       "                        <td id=\"T_2cd286b6_11d3_11ec_aa4d_0028f8f7eb39row5_col3\" class=\"data row5 col3\" >+25.83%</td>\n",
       "            </tr>\n",
       "            <tr>\n",
       "                        <th id=\"T_2cd286b6_11d3_11ec_aa4d_0028f8f7eb39level0_row6\" class=\"row_heading level0 row6\" >svc</th>\n",
       "                        <td id=\"T_2cd286b6_11d3_11ec_aa4d_0028f8f7eb39row6_col0\" class=\"data row6 col0\" >3.03%</td>\n",
       "                        <td id=\"T_2cd286b6_11d3_11ec_aa4d_0028f8f7eb39row6_col1\" class=\"data row6 col1\" >-6.32%</td>\n",
       "                        <td id=\"T_2cd286b6_11d3_11ec_aa4d_0028f8f7eb39row6_col2\" class=\"data row6 col2\" >10.20%</td>\n",
       "                        <td id=\"T_2cd286b6_11d3_11ec_aa4d_0028f8f7eb39row6_col3\" class=\"data row6 col3\" >+0.85%</td>\n",
       "            </tr>\n",
       "    </tbody></table>"
      ],
      "text/plain": [
       "<pandas.io.formats.style.Styler at 0x1e8302a4e48>"
      ]
     },
     "execution_count": 9,
     "metadata": {},
     "output_type": "execute_result"
    }
   ],
   "source": [
    "ydata = pickle.load(open('ytrain.pickle', 'rb'))\n",
    "FraudFrequencyPerc = pd.DataFrame([], columns = ['Original_Fraud_Perc'], index = balancing_stats.index)\n",
    "FraudFrequencyPerc['Original_Fraud_Perc'] = pd.to_numeric(100 * balancing_stats['Original_Fraud'] / len(ytest_all))\n",
    "FraudFrequencyPerc['Original_Perc_Difference'] = FraudFrequencyPerc['Original_Fraud_Perc'] - 100 * np.sum(ydata['PotentialFraud']) / len(ydata)\n",
    "FraudFrequencyPerc['Balanced_Fraud_Perc'] = pd.to_numeric(100 * balancing_stats['Balanced_Fraud'] / len(ytest_all))\n",
    "FraudFrequencyPerc['Balanced_Perc_Difference'] = FraudFrequencyPerc['Balanced_Fraud_Perc'] - 100 * np.sum(ydata['PotentialFraud']) / len(ydata)\n",
    "print('Our Training Dataset had ', '{:,.2f}%'.format(pd.to_numeric(100 * np.sum(ydata['PotentialFraud']) / len(ydata))), 'of Providers listed as Fraudulent')\n",
    "format_dict = {'Original_Fraud_Perc':'{:,.2f}%', 'Original_Perc_Difference':'{:+,.2f}%', 'Balanced_Fraud_Perc':'{:,.2f}%', 'Balanced_Perc_Difference':'{:+,.2f}%'}\n",
    "FraudFrequencyPerc.style.format(format_dict)"
   ]
  },
  {
   "cell_type": "markdown",
   "id": "brazilian-royalty",
   "metadata": {},
   "source": [
    "Balancing seems to have worked extremely well for our Boosting Models and Support Vector Machine, bringing the projected percentage of fraudulent providers much more in line with the percentage found in our original training data.\n",
    "However, our 4 other balanced models let to wild estimates, with 2-4 times the percentage of projected fraudulent providers as found in our original data. As this seems extremely unlikely, we will ignore these four models moving forward. While most of the Original unbalanced data led to likely underestimates of the number of fraudulent providers, the ones identified seem to mostly hold up as fraudulent - the models just missed some potentially fraudulent providers. These four models, assuming a similar distribution of fraudulent providers in the test data, seem to have created false positives that would lead to costly investigations of ultimately non-fraudulent providers if taken verbatim. As such, these models are far more dangerous to take seriously, and should be discarded. This also tells us that Balancing can improve a model's predictive power, but can also make it go too far in predicting far more false positives than it should."
   ]
  },
  {
   "cell_type": "code",
   "execution_count": 21,
   "id": "referenced-boulder",
   "metadata": {},
   "outputs": [],
   "source": [
    "balancing_stats.to_csv('balancing_stats.csv', header=True)\n",
    "FraudFrequencyPerc.to_csv('FraudFrequencyPerc_balanced.csv', header=True)"
   ]
  },
  {
   "cell_type": "markdown",
   "id": "a49d3bee",
   "metadata": {},
   "source": [
    "### Stacking Visualization\n",
    "[Back to Top](#Machine-Learning-Processing)"
   ]
  },
  {
   "cell_type": "markdown",
   "id": "western-fraction",
   "metadata": {},
   "source": [
    "#### Grouping Potentially Fraudulent Providers by Model Agreement\n",
    " - How many providers are identified as fraudulent by all 3 reasonably accurate balancing models?   \n",
    " - How many are only identified as fraudulent by 1 model?    \n",
    " <b>Answering these questions can help eliminate the biases of a single model choice by displaying the divergences and consensus of a group of models </b>"
   ]
  },
  {
   "cell_type": "code",
   "execution_count": 10,
   "id": "enclosed-bulletin",
   "metadata": {},
   "outputs": [
    {
     "data": {
      "text/html": [
       "<div>\n",
       "<style scoped>\n",
       "    .dataframe tbody tr th:only-of-type {\n",
       "        vertical-align: middle;\n",
       "    }\n",
       "\n",
       "    .dataframe tbody tr th {\n",
       "        vertical-align: top;\n",
       "    }\n",
       "\n",
       "    .dataframe thead th {\n",
       "        text-align: right;\n",
       "    }\n",
       "</style>\n",
       "<table border=\"1\" class=\"dataframe\">\n",
       "  <thead>\n",
       "    <tr style=\"text-align: right;\">\n",
       "      <th></th>\n",
       "      <th>PotentialFraud</th>\n",
       "    </tr>\n",
       "    <tr>\n",
       "      <th>Provider</th>\n",
       "      <th></th>\n",
       "    </tr>\n",
       "  </thead>\n",
       "  <tbody>\n",
       "    <tr>\n",
       "      <th>PRV51002</th>\n",
       "      <td>0.0</td>\n",
       "    </tr>\n",
       "    <tr>\n",
       "      <th>PRV51006</th>\n",
       "      <td>0.0</td>\n",
       "    </tr>\n",
       "    <tr>\n",
       "      <th>PRV51009</th>\n",
       "      <td>0.0</td>\n",
       "    </tr>\n",
       "    <tr>\n",
       "      <th>PRV51010</th>\n",
       "      <td>0.0</td>\n",
       "    </tr>\n",
       "    <tr>\n",
       "      <th>PRV51018</th>\n",
       "      <td>0.0</td>\n",
       "    </tr>\n",
       "    <tr>\n",
       "      <th>...</th>\n",
       "      <td>...</td>\n",
       "    </tr>\n",
       "    <tr>\n",
       "      <th>PRV57713</th>\n",
       "      <td>0.0</td>\n",
       "    </tr>\n",
       "    <tr>\n",
       "      <th>PRV57726</th>\n",
       "      <td>0.0</td>\n",
       "    </tr>\n",
       "    <tr>\n",
       "      <th>PRV57745</th>\n",
       "      <td>0.0</td>\n",
       "    </tr>\n",
       "    <tr>\n",
       "      <th>PRV57749</th>\n",
       "      <td>0.0</td>\n",
       "    </tr>\n",
       "    <tr>\n",
       "      <th>PRV57750</th>\n",
       "      <td>0.0</td>\n",
       "    </tr>\n",
       "  </tbody>\n",
       "</table>\n",
       "<p>1353 rows × 1 columns</p>\n",
       "</div>"
      ],
      "text/plain": [
       "          PotentialFraud\n",
       "Provider                \n",
       "PRV51002             0.0\n",
       "PRV51006             0.0\n",
       "PRV51009             0.0\n",
       "PRV51010             0.0\n",
       "PRV51018             0.0\n",
       "...                  ...\n",
       "PRV57713             0.0\n",
       "PRV57726             0.0\n",
       "PRV57745             0.0\n",
       "PRV57749             0.0\n",
       "PRV57750             0.0\n",
       "\n",
       "[1353 rows x 1 columns]"
      ]
     },
     "execution_count": 10,
     "metadata": {},
     "output_type": "execute_result"
    }
   ],
   "source": [
    "ytest_stack_confidence_balanced = ytest_all.copy()\n",
    "ytest_stack_confidence_balanced['PotentialFraud'] = list((ytest_cb_balanced['PotentialFraud'] + ytest_lgbm_balanced['PotentialFraud'] + ytest_svc_balanced['PotentialFraud']) / 3)\n",
    "np.sum(ytest_stack_confidence_balanced)\n",
    "\n",
    "ytest_stacked_balanced = np.round(ytest_stack_confidence_balanced)\n",
    "ytest_stacked_balanced"
   ]
  },
  {
   "cell_type": "markdown",
   "id": "cloudy-blend",
   "metadata": {},
   "source": [
    "Generate Model Fraud Probability Data\n"
   ]
  },
  {
   "cell_type": "code",
   "execution_count": 11,
   "id": "automotive-surgery",
   "metadata": {},
   "outputs": [
    {
     "data": {
      "text/html": [
       "<div>\n",
       "<style scoped>\n",
       "    .dataframe tbody tr th:only-of-type {\n",
       "        vertical-align: middle;\n",
       "    }\n",
       "\n",
       "    .dataframe tbody tr th {\n",
       "        vertical-align: top;\n",
       "    }\n",
       "\n",
       "    .dataframe thead th {\n",
       "        text-align: right;\n",
       "    }\n",
       "</style>\n",
       "<table border=\"1\" class=\"dataframe\">\n",
       "  <thead>\n",
       "    <tr style=\"text-align: right;\">\n",
       "      <th></th>\n",
       "      <th>Provider</th>\n",
       "      <th>Percentage</th>\n",
       "      <th>NumModels</th>\n",
       "    </tr>\n",
       "  </thead>\n",
       "  <tbody>\n",
       "    <tr>\n",
       "      <th>0</th>\n",
       "      <td>50</td>\n",
       "      <td>0.036955</td>\n",
       "      <td>1/3</td>\n",
       "    </tr>\n",
       "    <tr>\n",
       "      <th>1</th>\n",
       "      <td>43</td>\n",
       "      <td>0.031781</td>\n",
       "      <td>2/3</td>\n",
       "    </tr>\n",
       "    <tr>\n",
       "      <th>2</th>\n",
       "      <td>79</td>\n",
       "      <td>0.058389</td>\n",
       "      <td>3/3</td>\n",
       "    </tr>\n",
       "  </tbody>\n",
       "</table>\n",
       "</div>"
      ],
      "text/plain": [
       "   Provider  Percentage NumModels\n",
       "0        50    0.036955       1/3\n",
       "1        43    0.031781       2/3\n",
       "2        79    0.058389       3/3"
      ]
     },
     "execution_count": 11,
     "metadata": {},
     "output_type": "execute_result"
    }
   ],
   "source": [
    "ytest_stack_confidence_group_balanced = ytest_stack_confidence_balanced.reset_index().groupby('PotentialFraud').agg('count')\n",
    "ytest_stack_confidence_group_balanced.index = range(4)\n",
    "ytest_stack_confidence_group_balanced['Percentage'] = ytest_stack_confidence_group_balanced.Provider / np.sum(ytest_stack_confidence_group_balanced.Provider)\n",
    "ytest_stack_graph_balanced = ytest_stack_confidence_group_balanced.loc[1:].copy()\n",
    "ytest_stack_graph_balanced['NumModels'] = list(ytest_stack_graph_balanced.index)\n",
    "ytest_stack_graph_balanced['NumModels'] = ytest_stack_graph_balanced['NumModels'].apply(str) + '/3'\n",
    "ytest_stack_graph_balanced.index = ytest_stack_graph_balanced.index - 1\n",
    "ytest_stack_graph_balanced"
   ]
  },
  {
   "cell_type": "code",
   "execution_count": 12,
   "id": "lasting-conversion",
   "metadata": {},
   "outputs": [
    {
     "data": {
      "text/html": [
       "<div>\n",
       "<style scoped>\n",
       "    .dataframe tbody tr th:only-of-type {\n",
       "        vertical-align: middle;\n",
       "    }\n",
       "\n",
       "    .dataframe tbody tr th {\n",
       "        vertical-align: top;\n",
       "    }\n",
       "\n",
       "    .dataframe thead th {\n",
       "        text-align: right;\n",
       "    }\n",
       "</style>\n",
       "<table border=\"1\" class=\"dataframe\">\n",
       "  <thead>\n",
       "    <tr style=\"text-align: right;\">\n",
       "      <th></th>\n",
       "      <th>PotentialFraud</th>\n",
       "      <th>ProbabilityFraud</th>\n",
       "      <th>NumModels</th>\n",
       "    </tr>\n",
       "    <tr>\n",
       "      <th>Provider</th>\n",
       "      <th></th>\n",
       "      <th></th>\n",
       "      <th></th>\n",
       "    </tr>\n",
       "  </thead>\n",
       "  <tbody>\n",
       "    <tr>\n",
       "      <th>PRV56460</th>\n",
       "      <td>1.000000</td>\n",
       "      <td>0.998998</td>\n",
       "      <td>3/3</td>\n",
       "    </tr>\n",
       "    <tr>\n",
       "      <th>PRV56573</th>\n",
       "      <td>1.000000</td>\n",
       "      <td>0.998959</td>\n",
       "      <td>3/3</td>\n",
       "    </tr>\n",
       "    <tr>\n",
       "      <th>PRV53105</th>\n",
       "      <td>1.000000</td>\n",
       "      <td>0.998747</td>\n",
       "      <td>3/3</td>\n",
       "    </tr>\n",
       "    <tr>\n",
       "      <th>PRV51407</th>\n",
       "      <td>1.000000</td>\n",
       "      <td>0.998706</td>\n",
       "      <td>3/3</td>\n",
       "    </tr>\n",
       "    <tr>\n",
       "      <th>PRV53866</th>\n",
       "      <td>1.000000</td>\n",
       "      <td>0.998669</td>\n",
       "      <td>3/3</td>\n",
       "    </tr>\n",
       "    <tr>\n",
       "      <th>...</th>\n",
       "      <td>...</td>\n",
       "      <td>...</td>\n",
       "      <td>...</td>\n",
       "    </tr>\n",
       "    <tr>\n",
       "      <th>PRV51565</th>\n",
       "      <td>0.333333</td>\n",
       "      <td>0.014583</td>\n",
       "      <td>1/3</td>\n",
       "    </tr>\n",
       "    <tr>\n",
       "      <th>PRV51339</th>\n",
       "      <td>0.333333</td>\n",
       "      <td>0.013826</td>\n",
       "      <td>1/3</td>\n",
       "    </tr>\n",
       "    <tr>\n",
       "      <th>PRV51381</th>\n",
       "      <td>0.333333</td>\n",
       "      <td>0.011036</td>\n",
       "      <td>1/3</td>\n",
       "    </tr>\n",
       "    <tr>\n",
       "      <th>PRV56940</th>\n",
       "      <td>0.333333</td>\n",
       "      <td>0.010133</td>\n",
       "      <td>1/3</td>\n",
       "    </tr>\n",
       "    <tr>\n",
       "      <th>PRV52244</th>\n",
       "      <td>0.333333</td>\n",
       "      <td>0.006094</td>\n",
       "      <td>1/3</td>\n",
       "    </tr>\n",
       "  </tbody>\n",
       "</table>\n",
       "<p>172 rows × 3 columns</p>\n",
       "</div>"
      ],
      "text/plain": [
       "          PotentialFraud  ProbabilityFraud NumModels\n",
       "Provider                                            \n",
       "PRV56460        1.000000          0.998998       3/3\n",
       "PRV56573        1.000000          0.998959       3/3\n",
       "PRV53105        1.000000          0.998747       3/3\n",
       "PRV51407        1.000000          0.998706       3/3\n",
       "PRV53866        1.000000          0.998669       3/3\n",
       "...                  ...               ...       ...\n",
       "PRV51565        0.333333          0.014583       1/3\n",
       "PRV51339        0.333333          0.013826       1/3\n",
       "PRV51381        0.333333          0.011036       1/3\n",
       "PRV56940        0.333333          0.010133       1/3\n",
       "PRV52244        0.333333          0.006094       1/3\n",
       "\n",
       "[172 rows x 3 columns]"
      ]
     },
     "execution_count": 12,
     "metadata": {},
     "output_type": "execute_result"
    }
   ],
   "source": [
    "ytest_stack_confidence_balanced['ProbabilityFraud'] = list((ytest_cb['ProbabilityFraud'] + ytest_lgbm['ProbabilityFraud'] + \n",
    "                                             ytest_svc['ProbabilityFraud']) / 3)\n",
    "\n",
    "# Collate Potentially Fraudulent Providers\n",
    "PotentialFraud_balanced = ytest_stack_confidence_balanced[ytest_stack_confidence_balanced.PotentialFraud != 0]\n",
    "PotentialFraud_balanced = PotentialFraud_balanced.sort_values(['PotentialFraud', 'ProbabilityFraud', 'Provider'], ascending=[False, False, True])\n",
    "PotentialFraud_balanced['NumModels'] = (PotentialFraud_balanced['PotentialFraud'] * 3).apply(int).apply(str) + '/3'\n",
    "PotentialFraud_balanced"
   ]
  },
  {
   "cell_type": "markdown",
   "id": "nervous-medium",
   "metadata": {},
   "source": [
    "Statistics for Probability of Fraud, Grouped by How Many of 7 Models Marked Provider as Fraudulent"
   ]
  },
  {
   "cell_type": "code",
   "execution_count": 64,
   "id": "handed-cameroon",
   "metadata": {
    "scrolled": true
   },
   "outputs": [
    {
     "data": {
      "text/html": [
       "<div>\n",
       "<style scoped>\n",
       "    .dataframe tbody tr th:only-of-type {\n",
       "        vertical-align: middle;\n",
       "    }\n",
       "\n",
       "    .dataframe tbody tr th {\n",
       "        vertical-align: top;\n",
       "    }\n",
       "\n",
       "    .dataframe thead tr th {\n",
       "        text-align: left;\n",
       "    }\n",
       "\n",
       "    .dataframe thead tr:last-of-type th {\n",
       "        text-align: right;\n",
       "    }\n",
       "</style>\n",
       "<table border=\"1\" class=\"dataframe\">\n",
       "  <thead>\n",
       "    <tr>\n",
       "      <th></th>\n",
       "      <th colspan=\"6\" halign=\"left\">ProbabilityFraud</th>\n",
       "    </tr>\n",
       "    <tr>\n",
       "      <th></th>\n",
       "      <th>min</th>\n",
       "      <th>mean</th>\n",
       "      <th>median</th>\n",
       "      <th>max</th>\n",
       "      <th>std</th>\n",
       "      <th>range_</th>\n",
       "    </tr>\n",
       "    <tr>\n",
       "      <th>PotentialFraud</th>\n",
       "      <th></th>\n",
       "      <th></th>\n",
       "      <th></th>\n",
       "      <th></th>\n",
       "      <th></th>\n",
       "      <th></th>\n",
       "    </tr>\n",
       "  </thead>\n",
       "  <tbody>\n",
       "    <tr>\n",
       "      <th>1.000000</th>\n",
       "      <td>0.118761</td>\n",
       "      <td>0.695901</td>\n",
       "      <td>0.712057</td>\n",
       "      <td>0.998998</td>\n",
       "      <td>0.256689</td>\n",
       "      <td>0.880237</td>\n",
       "    </tr>\n",
       "    <tr>\n",
       "      <th>0.666667</th>\n",
       "      <td>0.121512</td>\n",
       "      <td>0.405240</td>\n",
       "      <td>0.356473</td>\n",
       "      <td>0.976463</td>\n",
       "      <td>0.231459</td>\n",
       "      <td>0.854951</td>\n",
       "    </tr>\n",
       "    <tr>\n",
       "      <th>0.333333</th>\n",
       "      <td>0.006094</td>\n",
       "      <td>0.166070</td>\n",
       "      <td>0.119459</td>\n",
       "      <td>0.467767</td>\n",
       "      <td>0.129649</td>\n",
       "      <td>0.461673</td>\n",
       "    </tr>\n",
       "  </tbody>\n",
       "</table>\n",
       "</div>"
      ],
      "text/plain": [
       "               ProbabilityFraud                                          \\\n",
       "                            min      mean    median       max       std   \n",
       "PotentialFraud                                                            \n",
       "1.000000               0.118761  0.695901  0.712057  0.998998  0.256689   \n",
       "0.666667               0.121512  0.405240  0.356473  0.976463  0.231459   \n",
       "0.333333               0.006094  0.166070  0.119459  0.467767  0.129649   \n",
       "\n",
       "                          \n",
       "                  range_  \n",
       "PotentialFraud            \n",
       "1.000000        0.880237  \n",
       "0.666667        0.854951  \n",
       "0.333333        0.461673  "
      ]
     },
     "execution_count": 64,
     "metadata": {},
     "output_type": "execute_result"
    }
   ],
   "source": [
    "# def range_(df):\n",
    "#     return max(df) - min(df)\n",
    "PotentialFraud_balanced.groupby('PotentialFraud').agg(['min','mean','median','max', 'std', range_]).sort_values('PotentialFraud', ascending=False)"
   ]
  },
  {
   "cell_type": "code",
   "execution_count": 69,
   "id": "vocal-format",
   "metadata": {
    "scrolled": false
   },
   "outputs": [
    {
     "data": {
      "image/png": "[encoded data removed]",
      "text/plain": [
       "<Figure size 720x432 with 1 Axes>"
      ]
     },
     "metadata": {
      "needs_background": "light"
     },
     "output_type": "display_data"
    }
   ],
   "source": [
    "import seaborn as sns\n",
    "import matplotlib.pyplot as plt\n",
    "from matplotlib.lines import Line2D\n",
    "\n",
    "plt.figure(figsize=(10,6))\n",
    "ax = sns.barplot(x=ytest_stack_graph_balanced['NumModels'], y=ytest_stack_graph_balanced['Provider'], palette=\"coolwarm\")\n",
    "plt.title(\"Confidence of Suspected Provider Fraud (Balanced Dataset)\", size=14)\n",
    "plt.ylabel(\"Number of Providers\", size=12)\n",
    "plt.xlabel(\"How Many of the 3 ML Models Identified a Provider as Fraudulent\", size=12)\n",
    "plt.ylim(0,84)\n",
    "\n",
    "patches = ax.patches\n",
    "for i in range(len(patches)):\n",
    "    x = patches[i].get_x() + patches[i].get_width() / 2\n",
    "    y = patches[i].get_height() + 1.35\n",
    "    ax.annotate('{:.0f}'.format(ytest_stack_graph_balanced['Provider'][i]), (x, y), ha='center')"
   ]
  },
  {
   "cell_type": "markdown",
   "id": "recreational-tsunami",
   "metadata": {},
   "source": [
    "#### Is there variation in the probability of Fraud among the models identified as Fraudulent?"
   ]
  },
  {
   "cell_type": "code",
   "execution_count": 70,
   "id": "closing-approach",
   "metadata": {},
   "outputs": [
    {
     "data": {
      "text/plain": [
       "<function matplotlib.pyplot.show(close=None, block=None)>"
      ]
     },
     "execution_count": 70,
     "metadata": {},
     "output_type": "execute_result"
    },
    {
     "data": {
      "image/png": "[encoded data removed]",
      "text/plain": [
       "<Figure size 720x576 with 1 Axes>"
      ]
     },
     "metadata": {
      "needs_background": "light"
     },
     "output_type": "display_data"
    }
   ],
   "source": [
    "PotentialFraud_balancedorder = PotentialFraud_balanced.sort_values('PotentialFraud', ascending=False)\n",
    "\n",
    "red_circle = dict(markerfacecolor='r', marker='o', markeredgecolor='r', markersize=2.5)\n",
    "yellow_diamond = dict(markerfacecolor='yellow', markeredgecolor='black', marker='D', markersize=6)\n",
    "\n",
    "plt.figure(figsize=(10,8))\n",
    "ax = sns.boxplot(y=\"NumModels\", x=\"ProbabilityFraud\", data=PotentialFraud_balancedorder, palette=\"coolwarm\",\n",
    "                 flierprops=red_circle, showmeans=True, meanprops=yellow_diamond)\n",
    "plt.title(\"Machine Learning Confidence in Provider Fraud (Balanced Dataset)\", size=16)\n",
    "ax.set_xlabel('Mean Model Probability of Fraud by Provider', fontsize=13)\n",
    "ax.set_ylabel('How Many ML Models Identified a Provider as Fraudulent', fontsize=13)\n",
    "ax.tick_params(labelright = False)\n",
    "plt.rcParams['ytick.right'] = plt.rcParams['ytick.labelright'] = False\n",
    "legend_elements = [Line2D([0], [0], marker='o', color='red', markeredgecolor='r', markersize=2.5, label='Outlier',\n",
    "                         linestyle = 'None'),\n",
    "                   Line2D([1], [1], color='black', lw=2, label='Median', marker='|',\n",
    "                         linestyle='None',\n",
    "                          markersize=10, markeredgewidth=1.5,),\n",
    "                   Line2D([0], [0], marker='D', color='yellow', label='Mean',\n",
    "                          markerfacecolor='yellow', markeredgecolor='black', markersize=5, linestyle = 'None')]\n",
    "\n",
    "plt.legend(handles=legend_elements[::-1], loc='lower right')\n",
    "plt.show      "
   ]
  },
  {
   "cell_type": "markdown",
   "id": "further-keeping",
   "metadata": {},
   "source": [
    "### All 10 Models"
   ]
  },
  {
   "cell_type": "code",
   "execution_count": 13,
   "id": "billion-hardware",
   "metadata": {},
   "outputs": [
    {
     "data": {
      "text/html": [
       "<div>\n",
       "<style scoped>\n",
       "    .dataframe tbody tr th:only-of-type {\n",
       "        vertical-align: middle;\n",
       "    }\n",
       "\n",
       "    .dataframe tbody tr th {\n",
       "        vertical-align: top;\n",
       "    }\n",
       "\n",
       "    .dataframe thead th {\n",
       "        text-align: right;\n",
       "    }\n",
       "</style>\n",
       "<table border=\"1\" class=\"dataframe\">\n",
       "  <thead>\n",
       "    <tr style=\"text-align: right;\">\n",
       "      <th></th>\n",
       "      <th>PotentialFraud</th>\n",
       "    </tr>\n",
       "    <tr>\n",
       "      <th>Provider</th>\n",
       "      <th></th>\n",
       "    </tr>\n",
       "  </thead>\n",
       "  <tbody>\n",
       "    <tr>\n",
       "      <th>PRV51002</th>\n",
       "      <td>0.0</td>\n",
       "    </tr>\n",
       "    <tr>\n",
       "      <th>PRV51006</th>\n",
       "      <td>0.0</td>\n",
       "    </tr>\n",
       "    <tr>\n",
       "      <th>PRV51009</th>\n",
       "      <td>0.0</td>\n",
       "    </tr>\n",
       "    <tr>\n",
       "      <th>PRV51010</th>\n",
       "      <td>0.0</td>\n",
       "    </tr>\n",
       "    <tr>\n",
       "      <th>PRV51018</th>\n",
       "      <td>0.0</td>\n",
       "    </tr>\n",
       "    <tr>\n",
       "      <th>...</th>\n",
       "      <td>...</td>\n",
       "    </tr>\n",
       "    <tr>\n",
       "      <th>PRV57713</th>\n",
       "      <td>0.0</td>\n",
       "    </tr>\n",
       "    <tr>\n",
       "      <th>PRV57726</th>\n",
       "      <td>0.0</td>\n",
       "    </tr>\n",
       "    <tr>\n",
       "      <th>PRV57745</th>\n",
       "      <td>0.0</td>\n",
       "    </tr>\n",
       "    <tr>\n",
       "      <th>PRV57749</th>\n",
       "      <td>0.0</td>\n",
       "    </tr>\n",
       "    <tr>\n",
       "      <th>PRV57750</th>\n",
       "      <td>0.0</td>\n",
       "    </tr>\n",
       "  </tbody>\n",
       "</table>\n",
       "<p>1353 rows × 1 columns</p>\n",
       "</div>"
      ],
      "text/plain": [
       "          PotentialFraud\n",
       "Provider                \n",
       "PRV51002             0.0\n",
       "PRV51006             0.0\n",
       "PRV51009             0.0\n",
       "PRV51010             0.0\n",
       "PRV51018             0.0\n",
       "...                  ...\n",
       "PRV57713             0.0\n",
       "PRV57726             0.0\n",
       "PRV57745             0.0\n",
       "PRV57749             0.0\n",
       "PRV57750             0.0\n",
       "\n",
       "[1353 rows x 1 columns]"
      ]
     },
     "execution_count": 13,
     "metadata": {},
     "output_type": "execute_result"
    }
   ],
   "source": [
    "ytest_stack_confidence_all = ytest_all.copy()\n",
    "ytest_stack_confidence_all['PotentialFraud'] = list((ytest_cb['PotentialFraud'] + ytest_lgbm['PotentialFraud'] + \n",
    "                                            ytest_lgr['PotentialFraud'] + ytest_knn['PotentialFraud'] + \n",
    "                                            ytest_lda['PotentialFraud'] + ytest_gnb['PotentialFraud'] + \n",
    "                                            ytest_svc['PotentialFraud'] + ytest_cb_balanced['PotentialFraud'] + \n",
    "                                            ytest_lgbm_balanced['PotentialFraud'] + ytest_svc_balanced['PotentialFraud']) / 10)\n",
    "np.sum(ytest_stack_confidence_all)\n",
    "\n",
    "ytest_stacked_all = np.round(ytest_stack_confidence_all)\n",
    "ytest_stacked_all"
   ]
  },
  {
   "cell_type": "markdown",
   "id": "absent-telephone",
   "metadata": {},
   "source": [
    "Generate Model Fraud Probability Data\n"
   ]
  },
  {
   "cell_type": "code",
   "execution_count": 14,
   "id": "industrial-preview",
   "metadata": {},
   "outputs": [
    {
     "data": {
      "text/html": [
       "<div>\n",
       "<style scoped>\n",
       "    .dataframe tbody tr th:only-of-type {\n",
       "        vertical-align: middle;\n",
       "    }\n",
       "\n",
       "    .dataframe tbody tr th {\n",
       "        vertical-align: top;\n",
       "    }\n",
       "\n",
       "    .dataframe thead th {\n",
       "        text-align: right;\n",
       "    }\n",
       "</style>\n",
       "<table border=\"1\" class=\"dataframe\">\n",
       "  <thead>\n",
       "    <tr style=\"text-align: right;\">\n",
       "      <th></th>\n",
       "      <th>Provider</th>\n",
       "      <th>Percentage</th>\n",
       "      <th>NumModels</th>\n",
       "    </tr>\n",
       "  </thead>\n",
       "  <tbody>\n",
       "    <tr>\n",
       "      <th>0</th>\n",
       "      <td>52</td>\n",
       "      <td>0.038433</td>\n",
       "      <td>1/10</td>\n",
       "    </tr>\n",
       "    <tr>\n",
       "      <th>1</th>\n",
       "      <td>27</td>\n",
       "      <td>0.019956</td>\n",
       "      <td>2/10</td>\n",
       "    </tr>\n",
       "    <tr>\n",
       "      <th>2</th>\n",
       "      <td>20</td>\n",
       "      <td>0.014782</td>\n",
       "      <td>3/10</td>\n",
       "    </tr>\n",
       "    <tr>\n",
       "      <th>3</th>\n",
       "      <td>12</td>\n",
       "      <td>0.008869</td>\n",
       "      <td>4/10</td>\n",
       "    </tr>\n",
       "    <tr>\n",
       "      <th>4</th>\n",
       "      <td>23</td>\n",
       "      <td>0.016999</td>\n",
       "      <td>5/10</td>\n",
       "    </tr>\n",
       "    <tr>\n",
       "      <th>5</th>\n",
       "      <td>3</td>\n",
       "      <td>0.002217</td>\n",
       "      <td>6/10</td>\n",
       "    </tr>\n",
       "    <tr>\n",
       "      <th>6</th>\n",
       "      <td>13</td>\n",
       "      <td>0.009608</td>\n",
       "      <td>7/10</td>\n",
       "    </tr>\n",
       "    <tr>\n",
       "      <th>7</th>\n",
       "      <td>10</td>\n",
       "      <td>0.007391</td>\n",
       "      <td>8/10</td>\n",
       "    </tr>\n",
       "    <tr>\n",
       "      <th>8</th>\n",
       "      <td>12</td>\n",
       "      <td>0.008869</td>\n",
       "      <td>9/10</td>\n",
       "    </tr>\n",
       "    <tr>\n",
       "      <th>9</th>\n",
       "      <td>18</td>\n",
       "      <td>0.013304</td>\n",
       "      <td>10/10</td>\n",
       "    </tr>\n",
       "  </tbody>\n",
       "</table>\n",
       "</div>"
      ],
      "text/plain": [
       "   Provider  Percentage NumModels\n",
       "0        52    0.038433      1/10\n",
       "1        27    0.019956      2/10\n",
       "2        20    0.014782      3/10\n",
       "3        12    0.008869      4/10\n",
       "4        23    0.016999      5/10\n",
       "5         3    0.002217      6/10\n",
       "6        13    0.009608      7/10\n",
       "7        10    0.007391      8/10\n",
       "8        12    0.008869      9/10\n",
       "9        18    0.013304     10/10"
      ]
     },
     "execution_count": 14,
     "metadata": {},
     "output_type": "execute_result"
    }
   ],
   "source": [
    "ytest_stack_confidence_group_all = ytest_stack_confidence_all.reset_index().groupby('PotentialFraud').agg('count')\n",
    "ytest_stack_confidence_group_all.index = range(11)\n",
    "ytest_stack_confidence_group_all['Percentage'] = ytest_stack_confidence_group_all.Provider / np.sum(ytest_stack_confidence_group_all.Provider)\n",
    "ytest_stack_graph_all = ytest_stack_confidence_group_all.loc[1:].copy()\n",
    "ytest_stack_graph_all['NumModels'] = list(ytest_stack_graph_all.index)\n",
    "ytest_stack_graph_all['NumModels'] = ytest_stack_graph_all['NumModels'].apply(str) + '/10'\n",
    "ytest_stack_graph_all.index = ytest_stack_graph_all.index - 1\n",
    "ytest_stack_graph_all"
   ]
  },
  {
   "cell_type": "code",
   "execution_count": 15,
   "id": "absent-abortion",
   "metadata": {},
   "outputs": [
    {
     "data": {
      "text/html": [
       "<div>\n",
       "<style scoped>\n",
       "    .dataframe tbody tr th:only-of-type {\n",
       "        vertical-align: middle;\n",
       "    }\n",
       "\n",
       "    .dataframe tbody tr th {\n",
       "        vertical-align: top;\n",
       "    }\n",
       "\n",
       "    .dataframe thead th {\n",
       "        text-align: right;\n",
       "    }\n",
       "</style>\n",
       "<table border=\"1\" class=\"dataframe\">\n",
       "  <thead>\n",
       "    <tr style=\"text-align: right;\">\n",
       "      <th></th>\n",
       "      <th>PotentialFraud</th>\n",
       "      <th>ProbabilityFraud</th>\n",
       "      <th>NumModels</th>\n",
       "    </tr>\n",
       "    <tr>\n",
       "      <th>Provider</th>\n",
       "      <th></th>\n",
       "      <th></th>\n",
       "      <th></th>\n",
       "    </tr>\n",
       "  </thead>\n",
       "  <tbody>\n",
       "    <tr>\n",
       "      <th>PRV53105</th>\n",
       "      <td>1.0</td>\n",
       "      <td>0.991018</td>\n",
       "      <td>10/10</td>\n",
       "    </tr>\n",
       "    <tr>\n",
       "      <th>PRV56573</th>\n",
       "      <td>1.0</td>\n",
       "      <td>0.989300</td>\n",
       "      <td>10/10</td>\n",
       "    </tr>\n",
       "    <tr>\n",
       "      <th>PRV53866</th>\n",
       "      <td>1.0</td>\n",
       "      <td>0.987223</td>\n",
       "      <td>10/10</td>\n",
       "    </tr>\n",
       "    <tr>\n",
       "      <th>PRV52618</th>\n",
       "      <td>1.0</td>\n",
       "      <td>0.969974</td>\n",
       "      <td>10/10</td>\n",
       "    </tr>\n",
       "    <tr>\n",
       "      <th>PRV51407</th>\n",
       "      <td>1.0</td>\n",
       "      <td>0.964950</td>\n",
       "      <td>10/10</td>\n",
       "    </tr>\n",
       "    <tr>\n",
       "      <th>...</th>\n",
       "      <td>...</td>\n",
       "      <td>...</td>\n",
       "      <td>...</td>\n",
       "    </tr>\n",
       "    <tr>\n",
       "      <th>PRV56609</th>\n",
       "      <td>0.1</td>\n",
       "      <td>0.116113</td>\n",
       "      <td>1/10</td>\n",
       "    </tr>\n",
       "    <tr>\n",
       "      <th>PRV51268</th>\n",
       "      <td>0.1</td>\n",
       "      <td>0.071536</td>\n",
       "      <td>1/10</td>\n",
       "    </tr>\n",
       "    <tr>\n",
       "      <th>PRV51381</th>\n",
       "      <td>0.1</td>\n",
       "      <td>0.064306</td>\n",
       "      <td>1/10</td>\n",
       "    </tr>\n",
       "    <tr>\n",
       "      <th>PRV56940</th>\n",
       "      <td>0.1</td>\n",
       "      <td>0.038112</td>\n",
       "      <td>1/10</td>\n",
       "    </tr>\n",
       "    <tr>\n",
       "      <th>PRV52244</th>\n",
       "      <td>0.1</td>\n",
       "      <td>0.036188</td>\n",
       "      <td>1/10</td>\n",
       "    </tr>\n",
       "  </tbody>\n",
       "</table>\n",
       "<p>190 rows × 3 columns</p>\n",
       "</div>"
      ],
      "text/plain": [
       "          PotentialFraud  ProbabilityFraud NumModels\n",
       "Provider                                            \n",
       "PRV53105             1.0          0.991018     10/10\n",
       "PRV56573             1.0          0.989300     10/10\n",
       "PRV53866             1.0          0.987223     10/10\n",
       "PRV52618             1.0          0.969974     10/10\n",
       "PRV51407             1.0          0.964950     10/10\n",
       "...                  ...               ...       ...\n",
       "PRV56609             0.1          0.116113      1/10\n",
       "PRV51268             0.1          0.071536      1/10\n",
       "PRV51381             0.1          0.064306      1/10\n",
       "PRV56940             0.1          0.038112      1/10\n",
       "PRV52244             0.1          0.036188      1/10\n",
       "\n",
       "[190 rows x 3 columns]"
      ]
     },
     "execution_count": 15,
     "metadata": {},
     "output_type": "execute_result"
    }
   ],
   "source": [
    "ytest_stack_confidence_all['ProbabilityFraud'] = list((ytest_cb['ProbabilityFraud'] + ytest_lgbm['ProbabilityFraud'] + \n",
    "                                                       ytest_lgr['ProbabilityFraud'] + ytest_knn['ProbabilityFraud'] + \n",
    "                                                       ytest_lda['ProbabilityFraud'] + ytest_gnb['ProbabilityFraud'] + \n",
    "                                                       ytest_svc['ProbabilityFraud'] + ytest_cb_balanced['ProbabilityFraud'] + \n",
    "                                                       ytest_lgbm_balanced['ProbabilityFraud'] + ytest_svc_balanced['ProbabilityFraud']) / 10)\n",
    "\n",
    "# Collate Potentially Fraudulent Providers\n",
    "PotentialFraud_all = ytest_stack_confidence_all[ytest_stack_confidence_all.PotentialFraud != 0]\n",
    "PotentialFraud_all = PotentialFraud_all.sort_values(['PotentialFraud', 'ProbabilityFraud', 'Provider'], ascending=[False, False, True])\n",
    "PotentialFraud_all['NumModels'] = (PotentialFraud_all['PotentialFraud'] * 10).apply(int).apply(str) + '/10'\n",
    "PotentialFraud_all"
   ]
  },
  {
   "cell_type": "markdown",
   "id": "legitimate-penguin",
   "metadata": {},
   "source": [
    "Statistics for Probability of Fraud, Grouped by How Many of 7 Models Marked Provider as Fraudulent"
   ]
  },
  {
   "cell_type": "code",
   "execution_count": 17,
   "id": "curious-employment",
   "metadata": {
    "scrolled": true
   },
   "outputs": [
    {
     "data": {
      "text/html": [
       "<div>\n",
       "<style scoped>\n",
       "    .dataframe tbody tr th:only-of-type {\n",
       "        vertical-align: middle;\n",
       "    }\n",
       "\n",
       "    .dataframe tbody tr th {\n",
       "        vertical-align: top;\n",
       "    }\n",
       "\n",
       "    .dataframe thead tr th {\n",
       "        text-align: left;\n",
       "    }\n",
       "\n",
       "    .dataframe thead tr:last-of-type th {\n",
       "        text-align: right;\n",
       "    }\n",
       "</style>\n",
       "<table border=\"1\" class=\"dataframe\">\n",
       "  <thead>\n",
       "    <tr>\n",
       "      <th></th>\n",
       "      <th colspan=\"6\" halign=\"left\">ProbabilityFraud</th>\n",
       "    </tr>\n",
       "    <tr>\n",
       "      <th></th>\n",
       "      <th>min</th>\n",
       "      <th>mean</th>\n",
       "      <th>median</th>\n",
       "      <th>max</th>\n",
       "      <th>std</th>\n",
       "      <th>range_</th>\n",
       "    </tr>\n",
       "    <tr>\n",
       "      <th>PotentialFraud</th>\n",
       "      <th></th>\n",
       "      <th></th>\n",
       "      <th></th>\n",
       "      <th></th>\n",
       "      <th></th>\n",
       "      <th></th>\n",
       "    </tr>\n",
       "  </thead>\n",
       "  <tbody>\n",
       "    <tr>\n",
       "      <th>1.0</th>\n",
       "      <td>0.869023</td>\n",
       "      <td>0.944768</td>\n",
       "      <td>0.944217</td>\n",
       "      <td>0.991018</td>\n",
       "      <td>0.032056</td>\n",
       "      <td>0.121995</td>\n",
       "    </tr>\n",
       "    <tr>\n",
       "      <th>0.9</th>\n",
       "      <td>0.699032</td>\n",
       "      <td>0.833501</td>\n",
       "      <td>0.840236</td>\n",
       "      <td>0.919097</td>\n",
       "      <td>0.067233</td>\n",
       "      <td>0.220065</td>\n",
       "    </tr>\n",
       "    <tr>\n",
       "      <th>0.8</th>\n",
       "      <td>0.652196</td>\n",
       "      <td>0.728531</td>\n",
       "      <td>0.714381</td>\n",
       "      <td>0.879710</td>\n",
       "      <td>0.063517</td>\n",
       "      <td>0.227514</td>\n",
       "    </tr>\n",
       "    <tr>\n",
       "      <th>0.7</th>\n",
       "      <td>0.600071</td>\n",
       "      <td>0.657803</td>\n",
       "      <td>0.646875</td>\n",
       "      <td>0.750476</td>\n",
       "      <td>0.046196</td>\n",
       "      <td>0.150405</td>\n",
       "    </tr>\n",
       "    <tr>\n",
       "      <th>0.6</th>\n",
       "      <td>0.593785</td>\n",
       "      <td>0.614272</td>\n",
       "      <td>0.616805</td>\n",
       "      <td>0.632225</td>\n",
       "      <td>0.019344</td>\n",
       "      <td>0.038439</td>\n",
       "    </tr>\n",
       "    <tr>\n",
       "      <th>0.5</th>\n",
       "      <td>0.376113</td>\n",
       "      <td>0.505119</td>\n",
       "      <td>0.490466</td>\n",
       "      <td>0.663784</td>\n",
       "      <td>0.081634</td>\n",
       "      <td>0.287671</td>\n",
       "    </tr>\n",
       "    <tr>\n",
       "      <th>0.4</th>\n",
       "      <td>0.319370</td>\n",
       "      <td>0.440888</td>\n",
       "      <td>0.440056</td>\n",
       "      <td>0.565238</td>\n",
       "      <td>0.071918</td>\n",
       "      <td>0.245868</td>\n",
       "    </tr>\n",
       "    <tr>\n",
       "      <th>0.3</th>\n",
       "      <td>0.279397</td>\n",
       "      <td>0.387424</td>\n",
       "      <td>0.398915</td>\n",
       "      <td>0.490201</td>\n",
       "      <td>0.056854</td>\n",
       "      <td>0.210804</td>\n",
       "    </tr>\n",
       "    <tr>\n",
       "      <th>0.2</th>\n",
       "      <td>0.250549</td>\n",
       "      <td>0.318807</td>\n",
       "      <td>0.313123</td>\n",
       "      <td>0.455891</td>\n",
       "      <td>0.052542</td>\n",
       "      <td>0.205342</td>\n",
       "    </tr>\n",
       "    <tr>\n",
       "      <th>0.1</th>\n",
       "      <td>0.036188</td>\n",
       "      <td>0.201124</td>\n",
       "      <td>0.214761</td>\n",
       "      <td>0.338573</td>\n",
       "      <td>0.066467</td>\n",
       "      <td>0.302385</td>\n",
       "    </tr>\n",
       "  </tbody>\n",
       "</table>\n",
       "</div>"
      ],
      "text/plain": [
       "               ProbabilityFraud                                          \\\n",
       "                            min      mean    median       max       std   \n",
       "PotentialFraud                                                            \n",
       "1.0                    0.869023  0.944768  0.944217  0.991018  0.032056   \n",
       "0.9                    0.699032  0.833501  0.840236  0.919097  0.067233   \n",
       "0.8                    0.652196  0.728531  0.714381  0.879710  0.063517   \n",
       "0.7                    0.600071  0.657803  0.646875  0.750476  0.046196   \n",
       "0.6                    0.593785  0.614272  0.616805  0.632225  0.019344   \n",
       "0.5                    0.376113  0.505119  0.490466  0.663784  0.081634   \n",
       "0.4                    0.319370  0.440888  0.440056  0.565238  0.071918   \n",
       "0.3                    0.279397  0.387424  0.398915  0.490201  0.056854   \n",
       "0.2                    0.250549  0.318807  0.313123  0.455891  0.052542   \n",
       "0.1                    0.036188  0.201124  0.214761  0.338573  0.066467   \n",
       "\n",
       "                          \n",
       "                  range_  \n",
       "PotentialFraud            \n",
       "1.0             0.121995  \n",
       "0.9             0.220065  \n",
       "0.8             0.227514  \n",
       "0.7             0.150405  \n",
       "0.6             0.038439  \n",
       "0.5             0.287671  \n",
       "0.4             0.245868  \n",
       "0.3             0.210804  \n",
       "0.2             0.205342  \n",
       "0.1             0.302385  "
      ]
     },
     "execution_count": 17,
     "metadata": {},
     "output_type": "execute_result"
    }
   ],
   "source": [
    "def range_(df):\n",
    "    return max(df) - min(df)\n",
    "PotentialFraud_all.groupby('PotentialFraud').agg(['min','mean','median','max', 'std', range_]).sort_values('PotentialFraud', ascending=False)"
   ]
  },
  {
   "cell_type": "code",
   "execution_count": 18,
   "id": "banned-possible",
   "metadata": {
    "scrolled": false
   },
   "outputs": [
    {
     "data": {
      "image/png": "[encoded data removed]",
      "text/plain": [
       "<Figure size 720x432 with 1 Axes>"
      ]
     },
     "metadata": {
      "needs_background": "light"
     },
     "output_type": "display_data"
    }
   ],
   "source": [
    "import seaborn as sns\n",
    "import matplotlib.pyplot as plt\n",
    "from matplotlib.lines import Line2D\n",
    "\n",
    "plt.figure(figsize=(10,6))\n",
    "ax = sns.barplot(x=ytest_stack_graph_all['NumModels'], y=ytest_stack_graph_all['Provider'], palette=\"coolwarm\")\n",
    "plt.title(\"Certainty of Suspected Provider Fraud (Both Datasets)\", size=14)\n",
    "plt.ylabel(\"Number of Providers\", size=12)\n",
    "plt.xlabel(\"How Many of the 10 ML Models Identified a Provider as Fraudulent\", size=12)\n",
    "plt.ylim(0,55)\n",
    "\n",
    "patches = ax.patches\n",
    "for i in range(len(patches)):\n",
    "    x = patches[i].get_x() + patches[i].get_width() / 2\n",
    "    y = patches[i].get_height() + .75\n",
    "    ax.annotate('{:.0f}'.format(ytest_stack_graph_all['Provider'][i]), (x, y), ha='center')"
   ]
  },
  {
   "cell_type": "markdown",
   "id": "significant-calvin",
   "metadata": {},
   "source": [
    "#### Is there variation in the probability of Fraud among the models identified as Fraudulent?"
   ]
  },
  {
   "cell_type": "code",
   "execution_count": 19,
   "id": "directed-zambia",
   "metadata": {},
   "outputs": [
    {
     "data": {
      "text/plain": [
       "<function matplotlib.pyplot.show(close=None, block=None)>"
      ]
     },
     "execution_count": 19,
     "metadata": {},
     "output_type": "execute_result"
    },
    {
     "data": {
      "image/png": "[encoded data removed]",
      "text/plain": [
       "<Figure size 720x576 with 1 Axes>"
      ]
     },
     "metadata": {
      "needs_background": "light"
     },
     "output_type": "display_data"
    }
   ],
   "source": [
    "PotentialFraud_allorder = PotentialFraud_all.sort_values('PotentialFraud', ascending=False)\n",
    "\n",
    "red_circle = dict(markerfacecolor='r', marker='o', markeredgecolor='r', markersize=2.5)\n",
    "yellow_diamond = dict(markerfacecolor='yellow', markeredgecolor='black', marker='D', markersize=6)\n",
    "\n",
    "plt.figure(figsize=(10,8))\n",
    "ax = sns.boxplot(y=\"NumModels\", x=\"ProbabilityFraud\", data=PotentialFraud_allorder, palette=\"coolwarm\",\n",
    "                 flierprops=red_circle, showmeans=True, meanprops=yellow_diamond)\n",
    "plt.title(\"Machine Learning Certainty in Provider Fraud (Both Datasets)\", size=16)\n",
    "ax.set_xlabel('Mean Model Probability of Fraud by Provider', fontsize=13)\n",
    "ax.set_ylabel('How Many ML Models Identified a Provider as Fraudulent', fontsize=13)\n",
    "ax.tick_params(labelright = False)\n",
    "plt.rcParams['ytick.right'] = plt.rcParams['ytick.labelright'] = False\n",
    "legend_elements = [Line2D([0], [0], marker='o', color='red', markeredgecolor='r', markersize=2.5, label='Outlier',\n",
    "                         linestyle = 'None'),\n",
    "                   Line2D([1], [1], color='black', lw=2, label='Median', marker='|',\n",
    "                         linestyle='None',\n",
    "                          markersize=10, markeredgewidth=1.5,),\n",
    "                   Line2D([0], [0], marker='D', color='yellow', label='Mean',\n",
    "                          markerfacecolor='yellow', markeredgecolor='black', markersize=5, linestyle = 'None')]\n",
    "\n",
    "plt.legend(handles=legend_elements[::-1], loc='lower right')\n",
    "plt.show      "
   ]
  },
  {
   "cell_type": "markdown",
   "id": "6943af8d",
   "metadata": {},
   "source": [
    "# Conclusions & Discussion\n",
    "[Back to Top](#Machine-Learning-Processing)\n",
    "\n",
    "To recap, much of our exploration here has been to probe the usefulness of unsupervised learning in a pipelined format versus its application as a boosting procedure. Simultaneously, we have employed a diverse number of model types, including some newer devices in the CatBoostClassifier and the LightGBMClassifier.\n",
    "\n",
    "From much of our results, we have revealed that both uses of PCA have their respective uses, the latter, the PCA Boosting Procedure, seems to have the greatest effect of narrowing overfit results. However, the greatest results of accuracy come to us through the raw, LightGBM results.\n",
    "\n",
    "With that said, we will now turn our attention to the matter of insight from our findings. To whit, we will break this down into three parts:\n",
    "   - Feature Importance\n",
    "   - Prediction Refinement\n",
    "   - Business Relevance & Benefits"
   ]
  },
  {
   "cell_type": "code",
   "execution_count": null,
   "id": "8fe71459",
   "metadata": {},
   "outputs": [],
   "source": []
  },
  {
   "cell_type": "markdown",
   "id": "forward-production",
   "metadata": {},
   "source": [
    "### What is not there in the original data?\n",
    " - No breakdown of source or scale of fraud\n",
    " - No info on subspecialties in provider practice\n",
    " - No info on what type of health care setting - outpatient practice, private practice, family medicine, hospital\n",
    " - Documentation and sourcing for this dataset is lacking - no data dictionary - Singapore prof + hospice data dictionary from the same year\n",
    " - 9.35% seems high for fraud"
   ]
  },
  {
   "cell_type": "markdown",
   "id": "abandoned-fleet",
   "metadata": {},
   "source": []
  },
  {
   "cell_type": "code",
   "execution_count": null,
   "id": "21a7cf81",
   "metadata": {},
   "outputs": [],
   "source": []
  },
  {
   "cell_type": "code",
   "execution_count": null,
   "id": "e8907269",
   "metadata": {},
   "outputs": [],
   "source": [
    "### For Importing Results\n",
    "# svc_preds = pd.read_csv('ytest_svc.csv', index_col='Provider')\n",
    "# lgr_preds = pd.read_csv('ytest_lgr.csv', index_col='Provider')\n",
    "# lda_preds = pd.read_csv('ytest_lda.csv', index_col='Provider')\n",
    "# knn_preds = pd.read_csv('ytest_knn.csv', index_col='Provider')\n",
    "# gnb_preds = pd.read_csv('ytest_gnb.csv', index_col='Provider')\n",
    "# lgbm_preds = pd.read_csv('ytest_lgbm.csv', index_col='Provider')\n",
    "# cb_preds = pd.read_csv('ytest_cb.csv', index_col='Provider')\n",
    "# stacked_preds = pd.read_csv('ytest_stacked.csv', index_col='Provider')"
   ]
  }
 ],
 "metadata": {
  "kernelspec": {
   "display_name": "Python 3",
   "language": "python",
   "name": "python3"
  },
  "language_info": {
   "codemirror_mode": {
    "name": "ipython",
    "version": 3
   },
   "file_extension": ".py",
   "mimetype": "text/x-python",
   "name": "python",
   "nbconvert_exporter": "python",
   "pygments_lexer": "ipython3",
   "version": "3.7.9"
  }
 },
 "nbformat": 4,
 "nbformat_minor": 5
}
