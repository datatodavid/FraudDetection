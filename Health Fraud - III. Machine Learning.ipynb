{
 "cells": [
  {
   "cell_type": "markdown",
   "id": "15c5589c",
   "metadata": {},
   "source": [
    "# Machine Learning Processing\n",
    "\n",
    "### Contents\n",
    "\n",
    " - I. [Data Importing & Processing](#Data-Import-and-Processing)\n",
    " - II. [Modeling Plan](#Modeling-Plan)\n",
    "     - [Iteration 0 - Unprocessed](#Iteration-0:-Non-Scaled-Data-for-Tree-based-Boosting-Models)\n",
    "     - [Iteration 1 - Scaled](#Iteration-1:-Baby's-First-Pipe)\n",
    "     - [Iteration 2 - PCA](#Iteration-2:-Give-the-Computer-a-Chance)\n",
    "     - [Iteration 3 - PCA Boosted](#Iteration-3:-Using-PCA-to-Boost-Critical-Elements-of-DataFrame)\n",
    "         - [Progress So Far](#Progress-Report-Card)\n",
    "     - [Iteration 1 Optimization](#Iteration-1-Optimizations)\n",
    "     - [Iteration 2 Optimization](#Iteration-2-Optimizations)\n",
    "         - [Second Report Card](#Post-Optimization-Report-Card)\n",
    " - III. [PCA Weighted Approach](#PCA-Boosting-Technique)\n",
    "     - [Non-Optimized](#PCABoosted-Modeling)\n",
    "     - [GridSearch Optimization](#Optimized-PCABoosted-Modeling)\n",
    "     - [General Report Card](#PCABoosted-Report-Card)\n",
    " - IV. [Results & Discussion](#Results-&-Discussion)\n",
    "     - [Permutation Importance]\n",
    "     - [Predictions]\n",
    "     - [Business Relevants & Benefits]"
   ]
  },
  {
   "cell_type": "code",
   "execution_count": 1,
   "id": "88e3f429",
   "metadata": {},
   "outputs": [],
   "source": [
    "# Import packages etc.\n",
    "import pandas as pd\n",
    "import seaborn as sns\n",
    "import numpy as np\n",
    "import matplotlib.pyplot as plt\n",
    "from scipy import stats\n",
    "import pickle"
   ]
  },
  {
   "cell_type": "markdown",
   "id": "a22f8be7",
   "metadata": {},
   "source": [
    "## Data Import and Processing"
   ]
  },
  {
   "cell_type": "code",
   "execution_count": 2,
   "id": "8375dcdf",
   "metadata": {},
   "outputs": [],
   "source": [
    "Xdata = pickle.load(open('Xtrain.pickle', 'rb'))\n",
    "ydata = pickle.load(open('ytrain.pickle', 'rb'))"
   ]
  },
  {
   "cell_type": "code",
   "execution_count": 3,
   "id": "0345fb83",
   "metadata": {},
   "outputs": [
    {
     "name": "stdout",
     "output_type": "stream",
     "text": [
      "Training Data shape: (4328, 71)\n",
      "Test Data Shape: (1082, 71)\n"
     ]
    }
   ],
   "source": [
    "from sklearn.model_selection import train_test_split\n",
    "\n",
    "# Split the data into train & test sets for supervised learning\n",
    "Xtrain, Xtest, ytrain, ytest = train_test_split(Xdata, ydata,\n",
    "                                               test_size=0.2,\n",
    "                                               random_state=430)\n",
    "\n",
    "# Quick Heads Up\n",
    "print('Training Data shape: ' + str(Xtrain.shape))\n",
    "print('Test Data Shape: ' + str(Xtest.shape))"
   ]
  },
  {
   "cell_type": "markdown",
   "id": "c1e25a40",
   "metadata": {},
   "source": [
    "## Modeling Plan\n",
    "The general strategy of our approach incorporates an initial, broad spectrum testing of models, including the following.\n",
    " - Logistic Regression\n",
    " - KNN\n",
    " - Discriminant Analysis\n",
    " - Naive Bayes\n",
    " - SVM\n",
    " - CatBoost\n",
    " - Light GBM\n",
    "\n",
    "This grouping should represent a decent collection of well-worn, classical methods with exceptionally long history & documentation as well as newer, useful methodologies. Of particular interest to this last point will be **Catboost & Light GBM**, two Gradient Boosting models that have shown a great deal of promise in terms of efficiency & accuracy.\n",
    "\n",
    "### Iterative Strategy | What We Care About \n",
    " - Iteration 0: Non-Scaled models - Naive modeling with tree-based boosting models\n",
    " - Iteration 1: Scaled models\n",
    " - Iteration 2: PCA transformed models\n",
    " - Iteration 3: PCA Boosting models (PCA features reattached to original data)\n",
    " \n",
    "### Naming Procedure\n",
    "We can abbreviate the model name alongside iteration number to keep track (eg. \"cb0\" for \"Catboost, Iteration 0)"
   ]
  },
  {
   "cell_type": "code",
   "execution_count": 4,
   "id": "electronic-stamp",
   "metadata": {},
   "outputs": [],
   "source": [
    "from sklearn.pipeline import Pipeline\n",
    "from sklearn.linear_model import LogisticRegression\n",
    "from sklearn.preprocessing import StandardScaler\n",
    "from sklearn.neighbors import KNeighborsClassifier\n",
    "from sklearn.discriminant_analysis import LinearDiscriminantAnalysis\n",
    "from sklearn.naive_bayes import GaussianNB\n",
    "from sklearn.svm import SVC\n",
    "from catboost import CatBoostClassifier\n",
    "from lightgbm import LGBMClassifier\n",
    "from sklearn.model_selection import GridSearchCV"
   ]
  },
  {
   "cell_type": "markdown",
   "id": "db6e6268",
   "metadata": {},
   "source": [
    "### Iteration 0: Non-Scaled Data for Tree-based Boosting Models\n",
    "[Back to Top](#Machine-Learning-Processing)\n",
    "\n",
    "Both Catboost & Light GBM are capable of handling unscaled and even non-numeric data, and encourage testing their models with datasets that are not extensively transformed. As such, for these 2 models, we have run a separate iteration with non-scaled data. For further reference, please consult their respective documentation. Here we will process these for some initial yield results."
   ]
  },
  {
   "cell_type": "code",
   "execution_count": 5,
   "id": "facial-columbus",
   "metadata": {},
   "outputs": [
    {
     "name": "stdout",
     "output_type": "stream",
     "text": [
      "Best Params: {'depth': 8, 'min_data_in_leaf': 1}\n"
     ]
    }
   ],
   "source": [
    "# IT0: CatBoost Classifier\n",
    "cb_0 = CatBoostClassifier(verbose = False)\n",
    "cb_0.fit(Xtrain, ytrain)\n",
    "cb_0_train, cb_0_test = cb_0.score(Xtrain, ytrain), cb_0.score(Xtest, ytest)\n",
    "\n",
    "cb_grid = {'depth': [6, 8, 10],\n",
    "           'min_data_in_leaf': [1, 2, 4]}\n",
    "cb_0_opt = GridSearchCV(cb_0, cb_grid, n_jobs=-2, cv=3)\n",
    "cb_0_opt.fit(Xtrain, ytrain)\n",
    "cb_0_opt_train, cb_0_opt_test, cb_0_opt_params = cb_0_opt.score(Xtrain, ytrain), cb_0_opt.score(Xtest, ytest), cb_0_opt.best_params_\n",
    "\n",
    "print('Best Params:', cb_0_opt.best_params_)"
   ]
  },
  {
   "cell_type": "code",
   "execution_count": 6,
   "id": "nonprofit-tuner",
   "metadata": {
    "scrolled": true
   },
   "outputs": [
    {
     "name": "stderr",
     "output_type": "stream",
     "text": [
      "/home/theodore/anaconda3/lib/python3.8/site-packages/joblib/externals/loky/process_executor.py:688: UserWarning: A worker stopped while some jobs were given to the executor. This can be caused by a too short worker timeout or by a memory leak.\n",
      "  warnings.warn(\n"
     ]
    },
    {
     "name": "stdout",
     "output_type": "stream",
     "text": [
      "[LightGBM] [Warning] min_data_in_leaf is set=17, min_child_samples=20 will be ignored. Current value: min_data_in_leaf=17\n",
      "Best Params: {'max_depth': 13, 'min_data_in_leaf': 17, 'num_leaves': 46}\n"
     ]
    }
   ],
   "source": [
    "# IT0: Light Gradient Boosting Machine Classifier\n",
    "lgbm_0 = LGBMClassifier()\n",
    "lgbm_0.fit(Xtrain, ytrain.values.ravel())\n",
    "lgbm_0_train, lgbm_0_test = lgbm_0.score(Xtrain, ytrain.values.ravel()), lgbm_0.score(Xtest, ytest.values.ravel())\n",
    "\n",
    "lgbm_grid = {'num_leaves': [44, 46, 48],\n",
    "             'max_depth': [9, 11, 13],\n",
    "             'min_data_in_leaf': [15, 17, 19]}\n",
    "lgbm_0_opt = GridSearchCV(lgbm_0, lgbm_grid, n_jobs   = -2, cv=3)\n",
    "lgbm_0_opt.fit(Xtrain, ytrain.values.ravel())\n",
    "lgbm_0_opt_train, lgbm_0_opt_test, lgbm_0_opt_params = lgbm_0_opt.score(Xtrain, ytrain.values.ravel()), lgbm_0_opt.score(Xtest, ytest.values.ravel()), lgbm_0_opt.best_params_\n",
    "\n",
    "print('Best Params:', lgbm_0_opt.best_params_)"
   ]
  },
  {
   "cell_type": "markdown",
   "id": "equipped-israeli",
   "metadata": {},
   "source": [
    "Creating an iterative list of all new models' train and tests scores generated through hypertransformation tuning"
   ]
  },
  {
   "cell_type": "code",
   "execution_count": 7,
   "id": "photographic-designer",
   "metadata": {},
   "outputs": [],
   "source": [
    "modellist = [ele for ele in ['cb', 'lgbm', 'lgr', 'knn', 'lda', 'gnb', 'svc'] for i in range(16)]\n",
    "iterlist = [ele for ele in ['_0', '_1', '_2', '_3'] for i in range(2)] * 14\n",
    "optlist = [ele for ele in ['', '_opt'] for i in range(8)] * 7\n",
    "traintestlist = ['_train', '_test'] * 56\n",
    "for idx in range(len(modellist)):\n",
    "    modellist[idx] = modellist[idx] + iterlist[idx] + optlist[idx] + traintestlist[idx]\n"
   ]
  },
  {
   "cell_type": "markdown",
   "id": "lyric-holocaust",
   "metadata": {},
   "source": [
    "Creating a function to tabulate all train and test scores generated by the hypertransformation tuning"
   ]
  },
  {
   "cell_type": "code",
   "execution_count": 8,
   "id": "western-ethernet",
   "metadata": {},
   "outputs": [],
   "source": [
    "def scoring_table(score_list):\n",
    "    columns = [[ele for ele in ['Iteration0', 'Iteration1', 'Iteration2', 'Iteration3'] for i in range(2)],\n",
    "               [ele for ele in ['NonScaled', 'Scaled', 'PCA', 'PCABoost'] for i in range(2)],\n",
    "               ['Train', 'Test'] * 4]\n",
    "    c_tuples = list(zip(*columns))\n",
    "    multi_columns = pd.MultiIndex.from_tuples(c_tuples)\n",
    "\n",
    "    index = [[ele for ele in ['CatBoost', 'LightGBM', 'Logistic', 'KNN', 'LDA', 'GNB', 'SVC'] for i in range(2)], \n",
    "             ['default', 'optimized'] * 7]\n",
    "    i_tuples = list(zip(*index))\n",
    "    multi_index = pd.MultiIndex.from_tuples(i_tuples)\n",
    "\n",
    "    scores_df = pd.DataFrame(np.array(score_list).reshape((len(multi_index), len(multi_columns))), \n",
    "                 index=multi_index,\n",
    "                 columns=multi_columns)\n",
    "    return scores_df"
   ]
  },
  {
   "cell_type": "markdown",
   "id": "affiliated-partner",
   "metadata": {},
   "source": [
    "Initializing a new list of scores calculated after Iteration 0 is complete"
   ]
  },
  {
   "cell_type": "code",
   "execution_count": 9,
   "id": "julian-stretch",
   "metadata": {},
   "outputs": [
    {
     "data": {
      "text/html": [
       "<div>\n",
       "<style scoped>\n",
       "    .dataframe tbody tr th:only-of-type {\n",
       "        vertical-align: middle;\n",
       "    }\n",
       "\n",
       "    .dataframe tbody tr th {\n",
       "        vertical-align: top;\n",
       "    }\n",
       "\n",
       "    .dataframe thead tr th {\n",
       "        text-align: left;\n",
       "    }\n",
       "</style>\n",
       "<table border=\"1\" class=\"dataframe\">\n",
       "  <thead>\n",
       "    <tr>\n",
       "      <th></th>\n",
       "      <th></th>\n",
       "      <th colspan=\"2\" halign=\"left\">Iteration0</th>\n",
       "      <th colspan=\"2\" halign=\"left\">Iteration1</th>\n",
       "      <th colspan=\"2\" halign=\"left\">Iteration2</th>\n",
       "      <th colspan=\"2\" halign=\"left\">Iteration3</th>\n",
       "    </tr>\n",
       "    <tr>\n",
       "      <th></th>\n",
       "      <th></th>\n",
       "      <th colspan=\"2\" halign=\"left\">NonScaled</th>\n",
       "      <th colspan=\"2\" halign=\"left\">Scaled</th>\n",
       "      <th colspan=\"2\" halign=\"left\">PCA</th>\n",
       "      <th colspan=\"2\" halign=\"left\">PCABoost</th>\n",
       "    </tr>\n",
       "    <tr>\n",
       "      <th></th>\n",
       "      <th></th>\n",
       "      <th>Train</th>\n",
       "      <th>Test</th>\n",
       "      <th>Train</th>\n",
       "      <th>Test</th>\n",
       "      <th>Train</th>\n",
       "      <th>Test</th>\n",
       "      <th>Train</th>\n",
       "      <th>Test</th>\n",
       "    </tr>\n",
       "  </thead>\n",
       "  <tbody>\n",
       "    <tr>\n",
       "      <th rowspan=\"2\" valign=\"top\">CatBoost</th>\n",
       "      <th>default</th>\n",
       "      <td>0.997689</td>\n",
       "      <td>0.931608</td>\n",
       "      <td>NaN</td>\n",
       "      <td>NaN</td>\n",
       "      <td>NaN</td>\n",
       "      <td>NaN</td>\n",
       "      <td>NaN</td>\n",
       "      <td>NaN</td>\n",
       "    </tr>\n",
       "    <tr>\n",
       "      <th>optimized</th>\n",
       "      <td>1.000000</td>\n",
       "      <td>0.930684</td>\n",
       "      <td>NaN</td>\n",
       "      <td>NaN</td>\n",
       "      <td>NaN</td>\n",
       "      <td>NaN</td>\n",
       "      <td>NaN</td>\n",
       "      <td>NaN</td>\n",
       "    </tr>\n",
       "    <tr>\n",
       "      <th rowspan=\"2\" valign=\"top\">LightGBM</th>\n",
       "      <th>default</th>\n",
       "      <td>1.000000</td>\n",
       "      <td>0.927911</td>\n",
       "      <td>NaN</td>\n",
       "      <td>NaN</td>\n",
       "      <td>NaN</td>\n",
       "      <td>NaN</td>\n",
       "      <td>NaN</td>\n",
       "      <td>NaN</td>\n",
       "    </tr>\n",
       "    <tr>\n",
       "      <th>optimized</th>\n",
       "      <td>1.000000</td>\n",
       "      <td>0.926987</td>\n",
       "      <td>NaN</td>\n",
       "      <td>NaN</td>\n",
       "      <td>NaN</td>\n",
       "      <td>NaN</td>\n",
       "      <td>NaN</td>\n",
       "      <td>NaN</td>\n",
       "    </tr>\n",
       "    <tr>\n",
       "      <th rowspan=\"2\" valign=\"top\">Logistic</th>\n",
       "      <th>default</th>\n",
       "      <td>NaN</td>\n",
       "      <td>NaN</td>\n",
       "      <td>NaN</td>\n",
       "      <td>NaN</td>\n",
       "      <td>NaN</td>\n",
       "      <td>NaN</td>\n",
       "      <td>NaN</td>\n",
       "      <td>NaN</td>\n",
       "    </tr>\n",
       "    <tr>\n",
       "      <th>optimized</th>\n",
       "      <td>NaN</td>\n",
       "      <td>NaN</td>\n",
       "      <td>NaN</td>\n",
       "      <td>NaN</td>\n",
       "      <td>NaN</td>\n",
       "      <td>NaN</td>\n",
       "      <td>NaN</td>\n",
       "      <td>NaN</td>\n",
       "    </tr>\n",
       "    <tr>\n",
       "      <th rowspan=\"2\" valign=\"top\">KNN</th>\n",
       "      <th>default</th>\n",
       "      <td>NaN</td>\n",
       "      <td>NaN</td>\n",
       "      <td>NaN</td>\n",
       "      <td>NaN</td>\n",
       "      <td>NaN</td>\n",
       "      <td>NaN</td>\n",
       "      <td>NaN</td>\n",
       "      <td>NaN</td>\n",
       "    </tr>\n",
       "    <tr>\n",
       "      <th>optimized</th>\n",
       "      <td>NaN</td>\n",
       "      <td>NaN</td>\n",
       "      <td>NaN</td>\n",
       "      <td>NaN</td>\n",
       "      <td>NaN</td>\n",
       "      <td>NaN</td>\n",
       "      <td>NaN</td>\n",
       "      <td>NaN</td>\n",
       "    </tr>\n",
       "    <tr>\n",
       "      <th rowspan=\"2\" valign=\"top\">LDA</th>\n",
       "      <th>default</th>\n",
       "      <td>NaN</td>\n",
       "      <td>NaN</td>\n",
       "      <td>NaN</td>\n",
       "      <td>NaN</td>\n",
       "      <td>NaN</td>\n",
       "      <td>NaN</td>\n",
       "      <td>NaN</td>\n",
       "      <td>NaN</td>\n",
       "    </tr>\n",
       "    <tr>\n",
       "      <th>optimized</th>\n",
       "      <td>NaN</td>\n",
       "      <td>NaN</td>\n",
       "      <td>NaN</td>\n",
       "      <td>NaN</td>\n",
       "      <td>NaN</td>\n",
       "      <td>NaN</td>\n",
       "      <td>NaN</td>\n",
       "      <td>NaN</td>\n",
       "    </tr>\n",
       "    <tr>\n",
       "      <th rowspan=\"2\" valign=\"top\">GNB</th>\n",
       "      <th>default</th>\n",
       "      <td>NaN</td>\n",
       "      <td>NaN</td>\n",
       "      <td>NaN</td>\n",
       "      <td>NaN</td>\n",
       "      <td>NaN</td>\n",
       "      <td>NaN</td>\n",
       "      <td>NaN</td>\n",
       "      <td>NaN</td>\n",
       "    </tr>\n",
       "    <tr>\n",
       "      <th>optimized</th>\n",
       "      <td>NaN</td>\n",
       "      <td>NaN</td>\n",
       "      <td>NaN</td>\n",
       "      <td>NaN</td>\n",
       "      <td>NaN</td>\n",
       "      <td>NaN</td>\n",
       "      <td>NaN</td>\n",
       "      <td>NaN</td>\n",
       "    </tr>\n",
       "    <tr>\n",
       "      <th rowspan=\"2\" valign=\"top\">SVC</th>\n",
       "      <th>default</th>\n",
       "      <td>NaN</td>\n",
       "      <td>NaN</td>\n",
       "      <td>NaN</td>\n",
       "      <td>NaN</td>\n",
       "      <td>NaN</td>\n",
       "      <td>NaN</td>\n",
       "      <td>NaN</td>\n",
       "      <td>NaN</td>\n",
       "    </tr>\n",
       "    <tr>\n",
       "      <th>optimized</th>\n",
       "      <td>NaN</td>\n",
       "      <td>NaN</td>\n",
       "      <td>NaN</td>\n",
       "      <td>NaN</td>\n",
       "      <td>NaN</td>\n",
       "      <td>NaN</td>\n",
       "      <td>NaN</td>\n",
       "      <td>NaN</td>\n",
       "    </tr>\n",
       "  </tbody>\n",
       "</table>\n",
       "</div>"
      ],
      "text/plain": [
       "                   Iteration0           Iteration1      Iteration2       \\\n",
       "                    NonScaled               Scaled             PCA        \n",
       "                        Train      Test      Train Test      Train Test   \n",
       "CatBoost default     0.997689  0.931608        NaN  NaN        NaN  NaN   \n",
       "         optimized   1.000000  0.930684        NaN  NaN        NaN  NaN   \n",
       "LightGBM default     1.000000  0.927911        NaN  NaN        NaN  NaN   \n",
       "         optimized   1.000000  0.926987        NaN  NaN        NaN  NaN   \n",
       "Logistic default          NaN       NaN        NaN  NaN        NaN  NaN   \n",
       "         optimized        NaN       NaN        NaN  NaN        NaN  NaN   \n",
       "KNN      default          NaN       NaN        NaN  NaN        NaN  NaN   \n",
       "         optimized        NaN       NaN        NaN  NaN        NaN  NaN   \n",
       "LDA      default          NaN       NaN        NaN  NaN        NaN  NaN   \n",
       "         optimized        NaN       NaN        NaN  NaN        NaN  NaN   \n",
       "GNB      default          NaN       NaN        NaN  NaN        NaN  NaN   \n",
       "         optimized        NaN       NaN        NaN  NaN        NaN  NaN   \n",
       "SVC      default          NaN       NaN        NaN  NaN        NaN  NaN   \n",
       "         optimized        NaN       NaN        NaN  NaN        NaN  NaN   \n",
       "\n",
       "                   Iteration3       \n",
       "                     PCABoost       \n",
       "                        Train Test  \n",
       "CatBoost default          NaN  NaN  \n",
       "         optimized        NaN  NaN  \n",
       "LightGBM default          NaN  NaN  \n",
       "         optimized        NaN  NaN  \n",
       "Logistic default          NaN  NaN  \n",
       "         optimized        NaN  NaN  \n",
       "KNN      default          NaN  NaN  \n",
       "         optimized        NaN  NaN  \n",
       "LDA      default          NaN  NaN  \n",
       "         optimized        NaN  NaN  \n",
       "GNB      default          NaN  NaN  \n",
       "         optimized        NaN  NaN  \n",
       "SVC      default          NaN  NaN  \n",
       "         optimized        NaN  NaN  "
      ]
     },
     "execution_count": 9,
     "metadata": {},
     "output_type": "execute_result"
    }
   ],
   "source": [
    "scores = []\n",
    "for idx in range(len(modellist)):\n",
    "    try:\n",
    "        scores.append(locals()[modellist[idx]])\n",
    "    except:\n",
    "        scores.append(np.nan)\n",
    "scoring_table(scores)"
   ]
  },
  {
   "cell_type": "markdown",
   "id": "9cd9349d",
   "metadata": {},
   "source": [
    "### Iteration 1: Baby's First Pipe\n",
    "[Back to Top](#Machine-Learning-Processing)\n",
    "\n",
    "Our goal here will be to test the results with some initial scaling built into a pipeline. "
   ]
  },
  {
   "cell_type": "code",
   "execution_count": 10,
   "id": "lined-earthquake",
   "metadata": {},
   "outputs": [
    {
     "name": "stdout",
     "output_type": "stream",
     "text": [
      "Best Params: {'catboost__depth': 8, 'catboost__min_data_in_leaf': 1}\n"
     ]
    }
   ],
   "source": [
    "# IT1: CatBoost Classifier\n",
    "cb_1 = Pipeline(steps=[('scaler', StandardScaler()),\n",
    "                       ('catboost', CatBoostClassifier(random_state=430, verbose = False))])\n",
    "cb_1.fit(Xtrain, ytrain)\n",
    "cb_1_train, cb_1_test = cb_1.score(Xtrain, ytrain), cb_1.score(Xtest, ytest)\n",
    "\n",
    "cb_grid = {'catboost__depth': [6, 8, 10],\n",
    "           'catboost__min_data_in_leaf': [1, 2, 4]}\n",
    "cb_1_opt = GridSearchCV(cb_1, cb_grid, n_jobs=-2, cv=3)\n",
    "cb_1_opt.fit(Xtrain, ytrain)\n",
    "cb_1_opt_train, cb_1_opt_test, cb_1_opt_params = cb_1_opt.score(Xtrain, ytrain), cb_1_opt.score(Xtest, ytest), cb_1_opt.best_params_\n",
    "\n",
    "print('Best Params:', cb_1_opt.best_params_)"
   ]
  },
  {
   "cell_type": "code",
   "execution_count": 11,
   "id": "maritime-civilization",
   "metadata": {
    "scrolled": true
   },
   "outputs": [
    {
     "name": "stdout",
     "output_type": "stream",
     "text": [
      "[LightGBM] [Warning] min_data_in_leaf is set=19, min_child_samples=20 will be ignored. Current value: min_data_in_leaf=19\n",
      "Best Params: {'lightgbm__max_depth': 11, 'lightgbm__min_data_in_leaf': 19, 'lightgbm__num_leaves': 46}\n"
     ]
    }
   ],
   "source": [
    "# IT1: Light Gradient Boosting Machine Classifier\n",
    "lgbm_1 = Pipeline(steps=[('scaler', StandardScaler()),\n",
    "                         ('lightgbm', LGBMClassifier(n_jobs=-2, random_state=430))])\n",
    "lgbm_1.fit(Xtrain, ytrain.values.ravel())\n",
    "lgbm_1_train, lgbm_1_test = lgbm_1.score(Xtrain, ytrain.values.ravel()), lgbm_1.score(Xtest, ytest.values.ravel())\n",
    "\n",
    "lgbm_grid = {'lightgbm__num_leaves': [44, 46, 48],\n",
    "             'lightgbm__max_depth': [9, 11, 13],\n",
    "             'lightgbm__min_data_in_leaf': [15, 17, 19]}\n",
    "lgbm_1_opt = GridSearchCV(lgbm_1, lgbm_grid, n_jobs=-2, cv=3)\n",
    "lgbm_1_opt.fit(Xtrain, ytrain.values.ravel())\n",
    "lgbm_1_opt_train, lgbm_1_opt_test, lgbm_1_opt_params = lgbm_1_opt.score(Xtrain, ytrain.values.ravel()), lgbm_1_opt.score(Xtest, ytest.values.ravel()), lgbm_1_opt.best_params_\n",
    "\n",
    "print('Best Params:', lgbm_1_opt.best_params_)"
   ]
  },
  {
   "cell_type": "code",
   "execution_count": 12,
   "id": "separate-mixture",
   "metadata": {},
   "outputs": [
    {
     "name": "stderr",
     "output_type": "stream",
     "text": [
      "/home/theodore/anaconda3/lib/python3.8/site-packages/sklearn/model_selection/_search.py:922: UserWarning: One or more of the test scores are non-finite: [       nan        nan        nan        nan        nan        nan\n",
      "        nan        nan        nan        nan        nan        nan\n",
      "        nan        nan        nan        nan        nan        nan\n",
      "        nan        nan        nan        nan        nan        nan\n",
      "        nan        nan        nan        nan        nan        nan\n",
      "        nan        nan        nan        nan        nan        nan\n",
      "        nan        nan        nan        nan        nan        nan\n",
      "        nan        nan        nan        nan        nan        nan\n",
      "        nan        nan        nan 0.93438152        nan 0.93484336\n",
      "        nan 0.9343812         nan 0.93438088        nan 0.93414972\n",
      "        nan 0.93368756        nan 0.93345639        nan 0.93299439\n",
      "        nan 0.93299439        nan 0.93322555        nan 0.93322555\n",
      "        nan 0.93322555        nan 0.93322555        nan 0.93322555\n",
      "        nan 0.93322555        nan 0.93322555        nan 0.93322555\n",
      "        nan 0.93322555        nan 0.93322555        nan 0.93322555\n",
      "        nan 0.93322555        nan 0.93345655        nan 0.93345655\n",
      "        nan 0.93345655        nan 0.93345655]\n",
      "  warnings.warn(\n"
     ]
    },
    {
     "name": "stdout",
     "output_type": "stream",
     "text": [
      "Best Params: {'logistic__C': 0.24489795918367285, 'logistic__penalty': 'l2'}\n"
     ]
    }
   ],
   "source": [
    "# IT1: Logistic Regression\n",
    "lgr_1 = Pipeline(steps=[('scaler', StandardScaler()),\n",
    "                        ('logistic', LogisticRegression(n_jobs=-2))])\n",
    "lgr_1.fit(Xtrain, ytrain.values.ravel())\n",
    "lgr_1_train, lgr_1_test = lgr_1.score(Xtrain, ytrain.values.ravel()), lgr_1.score(Xtest, ytest.values.ravel())\n",
    "\n",
    "lgr_grid = {'logistic__C': np.linspace(-4, 4, 50),\n",
    "            'logistic__penalty': ['l1', 'l2']}\n",
    "lgr_1_opt = GridSearchCV(lgr_1, lgr_grid, n_jobs=-2, cv=3)\n",
    "lgr_1_opt.fit(Xtrain, ytrain.values.ravel())\n",
    "lgr_1_opt_train, lgr_1_opt_test, lgr_1_opt_params = lgr_1_opt.score(Xtrain, ytrain.values.ravel()), lgr_1_opt.score(Xtest, ytest.values.ravel()), lgr_1_opt.best_params_\n",
    "\n",
    "print('Best Params:', lgr_1_opt.best_params_)"
   ]
  },
  {
   "cell_type": "code",
   "execution_count": 13,
   "id": "front-tulsa",
   "metadata": {},
   "outputs": [
    {
     "name": "stdout",
     "output_type": "stream",
     "text": [
      "Best Params: {'knn__metric': 'euclidean', 'knn__n_neighbors': 61, 'knn__weights': 'distance'}\n"
     ]
    }
   ],
   "source": [
    "# IT1: K-Nearest Neighbors\n",
    "knn_1 = Pipeline(steps=[('scaler', StandardScaler()),\n",
    "                        ('knn', KNeighborsClassifier(n_jobs=-2))])\n",
    "knn_1.fit(Xtrain, ytrain.values.ravel())\n",
    "knn_1_train, knn_1_test = knn_1.score(Xtrain, ytrain.values.ravel()), knn_1.score(Xtest, ytest.values.ravel())\n",
    "\n",
    "ksqrt = int(np.round(np.sqrt(Xtrain.shape[0])))       # Get sqrt of observations for k\n",
    "knn_grid = {'knn__n_neighbors': [ksqrt - 5, ksqrt - 3, ksqrt, ksqrt + 3, ksqrt + 5],\n",
    "            'knn__weights': ['uniform', 'distance'],\n",
    "            'knn__metric': ['euclidean', 'manhattan']}\n",
    "knn_1_opt = GridSearchCV(knn_1, knn_grid, n_jobs=-2, cv=3)\n",
    "knn_1_opt.fit(Xtrain, ytrain.values.ravel())\n",
    "knn_1_opt_train, knn_1_opt_test, knn_1_opt_params = knn_1_opt.score(Xtrain, ytrain.values.ravel()), knn_1_opt.score(Xtest, ytest.values.ravel()), knn_1_opt.best_params_\n",
    "\n",
    "print('Best Params:', knn_1_opt.best_params_)"
   ]
  },
  {
   "cell_type": "code",
   "execution_count": 14,
   "id": "decent-customs",
   "metadata": {},
   "outputs": [
    {
     "name": "stdout",
     "output_type": "stream",
     "text": [
      "Best Params: {'lda__solver': 'lsqr'}\n"
     ]
    }
   ],
   "source": [
    "# IT1: Linear Discriminant Analysis\n",
    "lda_1 = Pipeline(steps=[('scaler', StandardScaler()),\n",
    "                        ('lda', LinearDiscriminantAnalysis())])\n",
    "lda_1.fit(Xtrain, ytrain.values.ravel())\n",
    "lda_1_train, lda_1_test = lda_1.score(Xtrain, ytrain.values.ravel()), lda_1.score(Xtest, ytest.values.ravel())\n",
    "\n",
    "lda_grid = {'lda__solver': ['svd', 'lsqr', 'eigen']}\n",
    "lda_1_opt = GridSearchCV(lda_1, lda_grid, n_jobs=-2, cv=3)\n",
    "lda_1_opt.fit(Xtrain, ytrain.values.ravel())\n",
    "lda_1_opt_train, lda_1_opt_test, lda_1_opt_params = lda_1_opt.score(Xtrain, ytrain.values.ravel()), lda_1_opt.score(Xtest, ytest.values.ravel()), lda_1_opt.best_params_\n",
    "\n",
    "print('Best Params:', lda_1_opt.best_params_)"
   ]
  },
  {
   "cell_type": "code",
   "execution_count": 15,
   "id": "beautiful-guatemala",
   "metadata": {},
   "outputs": [
    {
     "name": "stdout",
     "output_type": "stream",
     "text": [
      "Best Params: {'gnb__var_smoothing': 0.0005336699231206307}\n"
     ]
    }
   ],
   "source": [
    "# IT1: Gaussian Naive Bayes\n",
    "gnb_1 = Pipeline(steps=[('scaler', StandardScaler()),\n",
    "                        ('gnb', GaussianNB())])\n",
    "gnb_1.fit(Xtrain, ytrain.values.ravel())\n",
    "gnb_1_train, gnb_1_test = gnb_1.score(Xtrain, ytrain.values.ravel()), gnb_1.score(Xtest, ytest.values.ravel())\n",
    "\n",
    "gnb_grid = {'gnb__var_smoothing': np.logspace(0, -9, num = 100)}\n",
    "gnb_1_opt = GridSearchCV(gnb_1, gnb_grid, n_jobs=-2, cv=3)\n",
    "gnb_1_opt.fit(Xtrain, ytrain.values.ravel())\n",
    "gnb_1_opt_train, gnb_1_opt_test, gnb_1_opt_params = gnb_1_opt.score(Xtrain, ytrain.values.ravel()), gnb_1_opt.score(Xtest, ytest.values.ravel()), gnb_1_opt.best_params_\n",
    "\n",
    "print('Best Params:', gnb_1_opt.best_params_)"
   ]
  },
  {
   "cell_type": "code",
   "execution_count": 16,
   "id": "organized-court",
   "metadata": {},
   "outputs": [
    {
     "name": "stdout",
     "output_type": "stream",
     "text": [
      "Best Params: {'svc__C': 0.1, 'svc__gamma': 'scale', 'svc__kernel': 'linear'}\n"
     ]
    }
   ],
   "source": [
    "# IT1: Support Vector Machine Classifier\n",
    "svc_1 = Pipeline(steps=[('scaler', StandardScaler()),\n",
    "                        ('svc', SVC())])\n",
    "svc_1.fit(Xtrain, ytrain.values.ravel())\n",
    "svc_1_train, svc_1_test = svc_1.score(Xtrain, ytrain.values.ravel()), svc_1.score(Xtest, ytest.values.ravel())\n",
    "\n",
    "svc_grid = {'svc__kernel': ['linear', 'poly', 'rbf', 'sigmoid'],\n",
    "            'svc__gamma': ['scale'],\n",
    "            'svc__C': [0.001, 0.01, 0.1, 1, 10, 100]}\n",
    "svc_1_opt = GridSearchCV(svc_1, svc_grid, n_jobs=-2, cv=3)\n",
    "svc_1_opt.fit(Xtrain, ytrain.values.ravel())\n",
    "svc_1_opt_train, svc_1_opt_test, svc_1_opt_params = svc_1_opt.score(Xtrain, ytrain.values.ravel()), svc_1_opt.score(Xtest, ytest.values.ravel()), svc_1_opt.best_params_\n",
    "\n",
    "print('Best Params:', svc_1_opt.best_params_)"
   ]
  },
  {
   "cell_type": "markdown",
   "id": "elegant-ultimate",
   "metadata": {},
   "source": [
    "Initializing a new list of scores calculated after Iteration 1 is complete"
   ]
  },
  {
   "cell_type": "code",
   "execution_count": 17,
   "id": "temporal-antibody",
   "metadata": {},
   "outputs": [
    {
     "data": {
      "text/html": [
       "<div>\n",
       "<style scoped>\n",
       "    .dataframe tbody tr th:only-of-type {\n",
       "        vertical-align: middle;\n",
       "    }\n",
       "\n",
       "    .dataframe tbody tr th {\n",
       "        vertical-align: top;\n",
       "    }\n",
       "\n",
       "    .dataframe thead tr th {\n",
       "        text-align: left;\n",
       "    }\n",
       "</style>\n",
       "<table border=\"1\" class=\"dataframe\">\n",
       "  <thead>\n",
       "    <tr>\n",
       "      <th></th>\n",
       "      <th></th>\n",
       "      <th colspan=\"2\" halign=\"left\">Iteration0</th>\n",
       "      <th colspan=\"2\" halign=\"left\">Iteration1</th>\n",
       "      <th colspan=\"2\" halign=\"left\">Iteration2</th>\n",
       "      <th colspan=\"2\" halign=\"left\">Iteration3</th>\n",
       "    </tr>\n",
       "    <tr>\n",
       "      <th></th>\n",
       "      <th></th>\n",
       "      <th colspan=\"2\" halign=\"left\">NonScaled</th>\n",
       "      <th colspan=\"2\" halign=\"left\">Scaled</th>\n",
       "      <th colspan=\"2\" halign=\"left\">PCA</th>\n",
       "      <th colspan=\"2\" halign=\"left\">PCABoost</th>\n",
       "    </tr>\n",
       "    <tr>\n",
       "      <th></th>\n",
       "      <th></th>\n",
       "      <th>Train</th>\n",
       "      <th>Test</th>\n",
       "      <th>Train</th>\n",
       "      <th>Test</th>\n",
       "      <th>Train</th>\n",
       "      <th>Test</th>\n",
       "      <th>Train</th>\n",
       "      <th>Test</th>\n",
       "    </tr>\n",
       "  </thead>\n",
       "  <tbody>\n",
       "    <tr>\n",
       "      <th rowspan=\"2\" valign=\"top\">CatBoost</th>\n",
       "      <th>default</th>\n",
       "      <td>0.997689</td>\n",
       "      <td>0.931608</td>\n",
       "      <td>0.997689</td>\n",
       "      <td>0.928835</td>\n",
       "      <td>NaN</td>\n",
       "      <td>NaN</td>\n",
       "      <td>NaN</td>\n",
       "      <td>NaN</td>\n",
       "    </tr>\n",
       "    <tr>\n",
       "      <th>optimized</th>\n",
       "      <td>1.000000</td>\n",
       "      <td>0.930684</td>\n",
       "      <td>1.000000</td>\n",
       "      <td>0.928835</td>\n",
       "      <td>NaN</td>\n",
       "      <td>NaN</td>\n",
       "      <td>NaN</td>\n",
       "      <td>NaN</td>\n",
       "    </tr>\n",
       "    <tr>\n",
       "      <th rowspan=\"2\" valign=\"top\">LightGBM</th>\n",
       "      <th>default</th>\n",
       "      <td>1.000000</td>\n",
       "      <td>0.927911</td>\n",
       "      <td>1.000000</td>\n",
       "      <td>0.931608</td>\n",
       "      <td>NaN</td>\n",
       "      <td>NaN</td>\n",
       "      <td>NaN</td>\n",
       "      <td>NaN</td>\n",
       "    </tr>\n",
       "    <tr>\n",
       "      <th>optimized</th>\n",
       "      <td>1.000000</td>\n",
       "      <td>0.926987</td>\n",
       "      <td>1.000000</td>\n",
       "      <td>0.928835</td>\n",
       "      <td>NaN</td>\n",
       "      <td>NaN</td>\n",
       "      <td>NaN</td>\n",
       "      <td>NaN</td>\n",
       "    </tr>\n",
       "    <tr>\n",
       "      <th rowspan=\"2\" valign=\"top\">Logistic</th>\n",
       "      <th>default</th>\n",
       "      <td>NaN</td>\n",
       "      <td>NaN</td>\n",
       "      <td>0.937616</td>\n",
       "      <td>0.922366</td>\n",
       "      <td>NaN</td>\n",
       "      <td>NaN</td>\n",
       "      <td>NaN</td>\n",
       "      <td>NaN</td>\n",
       "    </tr>\n",
       "    <tr>\n",
       "      <th>optimized</th>\n",
       "      <td>NaN</td>\n",
       "      <td>NaN</td>\n",
       "      <td>0.936922</td>\n",
       "      <td>0.922366</td>\n",
       "      <td>NaN</td>\n",
       "      <td>NaN</td>\n",
       "      <td>NaN</td>\n",
       "      <td>NaN</td>\n",
       "    </tr>\n",
       "    <tr>\n",
       "      <th rowspan=\"2\" valign=\"top\">KNN</th>\n",
       "      <th>default</th>\n",
       "      <td>NaN</td>\n",
       "      <td>NaN</td>\n",
       "      <td>0.944547</td>\n",
       "      <td>0.916821</td>\n",
       "      <td>NaN</td>\n",
       "      <td>NaN</td>\n",
       "      <td>NaN</td>\n",
       "      <td>NaN</td>\n",
       "    </tr>\n",
       "    <tr>\n",
       "      <th>optimized</th>\n",
       "      <td>NaN</td>\n",
       "      <td>NaN</td>\n",
       "      <td>1.000000</td>\n",
       "      <td>0.922366</td>\n",
       "      <td>NaN</td>\n",
       "      <td>NaN</td>\n",
       "      <td>NaN</td>\n",
       "      <td>NaN</td>\n",
       "    </tr>\n",
       "    <tr>\n",
       "      <th rowspan=\"2\" valign=\"top\">LDA</th>\n",
       "      <th>default</th>\n",
       "      <td>NaN</td>\n",
       "      <td>NaN</td>\n",
       "      <td>0.935074</td>\n",
       "      <td>0.920518</td>\n",
       "      <td>NaN</td>\n",
       "      <td>NaN</td>\n",
       "      <td>NaN</td>\n",
       "      <td>NaN</td>\n",
       "    </tr>\n",
       "    <tr>\n",
       "      <th>optimized</th>\n",
       "      <td>NaN</td>\n",
       "      <td>NaN</td>\n",
       "      <td>0.935536</td>\n",
       "      <td>0.921442</td>\n",
       "      <td>NaN</td>\n",
       "      <td>NaN</td>\n",
       "      <td>NaN</td>\n",
       "      <td>NaN</td>\n",
       "    </tr>\n",
       "    <tr>\n",
       "      <th rowspan=\"2\" valign=\"top\">GNB</th>\n",
       "      <th>default</th>\n",
       "      <td>NaN</td>\n",
       "      <td>NaN</td>\n",
       "      <td>0.698937</td>\n",
       "      <td>0.668207</td>\n",
       "      <td>NaN</td>\n",
       "      <td>NaN</td>\n",
       "      <td>NaN</td>\n",
       "      <td>NaN</td>\n",
       "    </tr>\n",
       "    <tr>\n",
       "      <th>optimized</th>\n",
       "      <td>NaN</td>\n",
       "      <td>NaN</td>\n",
       "      <td>0.698937</td>\n",
       "      <td>0.668207</td>\n",
       "      <td>NaN</td>\n",
       "      <td>NaN</td>\n",
       "      <td>NaN</td>\n",
       "      <td>NaN</td>\n",
       "    </tr>\n",
       "    <tr>\n",
       "      <th rowspan=\"2\" valign=\"top\">SVC</th>\n",
       "      <th>default</th>\n",
       "      <td>NaN</td>\n",
       "      <td>NaN</td>\n",
       "      <td>0.939464</td>\n",
       "      <td>0.922366</td>\n",
       "      <td>NaN</td>\n",
       "      <td>NaN</td>\n",
       "      <td>NaN</td>\n",
       "      <td>NaN</td>\n",
       "    </tr>\n",
       "    <tr>\n",
       "      <th>optimized</th>\n",
       "      <td>NaN</td>\n",
       "      <td>NaN</td>\n",
       "      <td>0.937847</td>\n",
       "      <td>0.928835</td>\n",
       "      <td>NaN</td>\n",
       "      <td>NaN</td>\n",
       "      <td>NaN</td>\n",
       "      <td>NaN</td>\n",
       "    </tr>\n",
       "  </tbody>\n",
       "</table>\n",
       "</div>"
      ],
      "text/plain": [
       "                   Iteration0           Iteration1           Iteration2       \\\n",
       "                    NonScaled               Scaled                  PCA        \n",
       "                        Train      Test      Train      Test      Train Test   \n",
       "CatBoost default     0.997689  0.931608   0.997689  0.928835        NaN  NaN   \n",
       "         optimized   1.000000  0.930684   1.000000  0.928835        NaN  NaN   \n",
       "LightGBM default     1.000000  0.927911   1.000000  0.931608        NaN  NaN   \n",
       "         optimized   1.000000  0.926987   1.000000  0.928835        NaN  NaN   \n",
       "Logistic default          NaN       NaN   0.937616  0.922366        NaN  NaN   \n",
       "         optimized        NaN       NaN   0.936922  0.922366        NaN  NaN   \n",
       "KNN      default          NaN       NaN   0.944547  0.916821        NaN  NaN   \n",
       "         optimized        NaN       NaN   1.000000  0.922366        NaN  NaN   \n",
       "LDA      default          NaN       NaN   0.935074  0.920518        NaN  NaN   \n",
       "         optimized        NaN       NaN   0.935536  0.921442        NaN  NaN   \n",
       "GNB      default          NaN       NaN   0.698937  0.668207        NaN  NaN   \n",
       "         optimized        NaN       NaN   0.698937  0.668207        NaN  NaN   \n",
       "SVC      default          NaN       NaN   0.939464  0.922366        NaN  NaN   \n",
       "         optimized        NaN       NaN   0.937847  0.928835        NaN  NaN   \n",
       "\n",
       "                   Iteration3       \n",
       "                     PCABoost       \n",
       "                        Train Test  \n",
       "CatBoost default          NaN  NaN  \n",
       "         optimized        NaN  NaN  \n",
       "LightGBM default          NaN  NaN  \n",
       "         optimized        NaN  NaN  \n",
       "Logistic default          NaN  NaN  \n",
       "         optimized        NaN  NaN  \n",
       "KNN      default          NaN  NaN  \n",
       "         optimized        NaN  NaN  \n",
       "LDA      default          NaN  NaN  \n",
       "         optimized        NaN  NaN  \n",
       "GNB      default          NaN  NaN  \n",
       "         optimized        NaN  NaN  \n",
       "SVC      default          NaN  NaN  \n",
       "         optimized        NaN  NaN  "
      ]
     },
     "execution_count": 17,
     "metadata": {},
     "output_type": "execute_result"
    }
   ],
   "source": [
    "scores = []\n",
    "for idx in range(len(modellist)):\n",
    "    try:\n",
    "        scores.append(locals()[modellist[idx]])\n",
    "    except:\n",
    "        scores.append(np.nan)\n",
    "scoring_table(scores)"
   ]
  },
  {
   "cell_type": "markdown",
   "id": "bb3eed25",
   "metadata": {},
   "source": [
    "## Iteration 2: Give the Computer a Chance\n",
    "\n",
    "[Back to Top](#Machine-Learning-Processing)\n",
    "\n"
   ]
  },
  {
   "cell_type": "code",
   "execution_count": 18,
   "id": "focal-tribute",
   "metadata": {},
   "outputs": [],
   "source": [
    "# IT2: PCA Only\n",
    "from sklearn.decomposition import PCA "
   ]
  },
  {
   "cell_type": "code",
   "execution_count": 19,
   "id": "controversial-compensation",
   "metadata": {},
   "outputs": [
    {
     "name": "stdout",
     "output_type": "stream",
     "text": [
      "Best Params: {'catboost__depth': 8, 'catboost__min_data_in_leaf': 1}\n"
     ]
    }
   ],
   "source": [
    "# IT2: CatBoost Classifier\n",
    "cb_2 = Pipeline(steps=[('scaler', StandardScaler()),\n",
    "                       ('PCA', PCA(n_components=0.95, random_state=430)),\n",
    "                       ('catboost', CatBoostClassifier(random_state=430, verbose = False))])\n",
    "cb_2.fit(Xtrain, ytrain)\n",
    "cb_2_train, cb_2_test = cb_2.score(Xtrain, ytrain), cb_2.score(Xtest, ytest)\n",
    "\n",
    "cb_2_opt = GridSearchCV(cb_2, cb_grid, n_jobs=-2, cv=3)\n",
    "cb_2_opt.fit(Xtrain, ytrain)\n",
    "cb_2_opt_train, cb_2_opt_test, cb_2_opt_params = cb_2_opt.score(Xtrain, ytrain), cb_2_opt.score(Xtest, ytest), cb_2_opt.best_params_\n",
    "\n",
    "print('Best Params:', cb_2_opt.best_params_)"
   ]
  },
  {
   "cell_type": "code",
   "execution_count": 20,
   "id": "signed-watershed",
   "metadata": {
    "scrolled": true
   },
   "outputs": [
    {
     "name": "stdout",
     "output_type": "stream",
     "text": [
      "[LightGBM] [Warning] min_data_in_leaf is set=19, min_child_samples=20 will be ignored. Current value: min_data_in_leaf=19\n",
      "Best Params: {'lightgbm__max_depth': 11, 'lightgbm__min_data_in_leaf': 19, 'lightgbm__num_leaves': 48}\n"
     ]
    }
   ],
   "source": [
    "# IT2: Light Gradient Boosting Machine Classifier\n",
    "lgbm_2 = Pipeline(steps=[('scaler', StandardScaler()),\n",
    "                         ('PCA', PCA(n_components=0.95, random_state=430)),\n",
    "                         ('lightgbm', LGBMClassifier(n_jobs=-2, random_state=430))])\n",
    "lgbm_2.fit(Xtrain, ytrain.values.ravel())\n",
    "lgbm_2_train, lgbm_2_test = lgbm_2.score(Xtrain, ytrain.values.ravel()), lgbm_2.score(Xtest, ytest.values.ravel())\n",
    "\n",
    "lgbm_2_opt = GridSearchCV(lgbm_2, lgbm_grid, n_jobs=-2, cv=3)\n",
    "lgbm_2_opt.fit(Xtrain, ytrain.values.ravel())\n",
    "lgbm_2_opt_train, lgbm_2_opt_test, lgbm_2_opt_params = lgbm_2_opt.score(Xtrain, ytrain.values.ravel()), lgbm_2_opt.score(Xtest, ytest.values.ravel()), lgbm_2_opt.best_params_\n",
    "\n",
    "print('Best Params:', lgbm_2_opt.best_params_)"
   ]
  },
  {
   "cell_type": "code",
   "execution_count": 21,
   "id": "delayed-version",
   "metadata": {},
   "outputs": [
    {
     "name": "stderr",
     "output_type": "stream",
     "text": [
      "/home/theodore/anaconda3/lib/python3.8/site-packages/sklearn/model_selection/_search.py:922: UserWarning: One or more of the test scores are non-finite: [       nan        nan        nan        nan        nan        nan\n",
      "        nan        nan        nan        nan        nan        nan\n",
      "        nan        nan        nan        nan        nan        nan\n",
      "        nan        nan        nan        nan        nan        nan\n",
      "        nan        nan        nan        nan        nan        nan\n",
      "        nan        nan        nan        nan        nan        nan\n",
      "        nan        nan        nan        nan        nan        nan\n",
      "        nan        nan        nan        nan        nan        nan\n",
      "        nan        nan        nan 0.92999235        nan 0.92929887\n",
      "        nan 0.92929887        nan 0.92929887        nan 0.92929887\n",
      "        nan 0.92929887        nan 0.92929887        nan 0.92929887\n",
      "        nan 0.92929887        nan 0.92929887        nan 0.92929887\n",
      "        nan 0.92929887        nan 0.92929887        nan 0.92929887\n",
      "        nan 0.92929887        nan 0.92929887        nan 0.92929887\n",
      "        nan 0.92929887        nan 0.92929887        nan 0.92929887\n",
      "        nan 0.92929887        nan 0.92929887        nan 0.92929887\n",
      "        nan 0.92929887        nan 0.92929887]\n",
      "  warnings.warn(\n"
     ]
    },
    {
     "name": "stdout",
     "output_type": "stream",
     "text": [
      "Best Params: {'logistic__C': 0.08163265306122458, 'logistic__penalty': 'l2'}\n"
     ]
    }
   ],
   "source": [
    "# IT2: Logistic Regression\n",
    "lgr_2 = Pipeline(steps=[('scaler', StandardScaler()),\n",
    "                        ('PCA', PCA(n_components=0.95, random_state=430)),\n",
    "                        ('logistic', LogisticRegression(n_jobs=-2))])\n",
    "lgr_2.fit(Xtrain, ytrain.values.ravel())\n",
    "lgr_2_train, lgr_2_test = lgr_2.score(Xtrain, ytrain.values.ravel()), lgr_2.score(Xtest, ytest.values.ravel())\n",
    "\n",
    "lgr_2_opt = GridSearchCV(lgr_2, lgr_grid, n_jobs=-2, cv=3)\n",
    "lgr_2_opt.fit(Xtrain, ytrain.values.ravel())\n",
    "lgr_2_opt_train, lgr_2_opt_test, lgr_2_opt_params = lgr_2_opt.score(Xtrain, ytrain.values.ravel()), lgr_2_opt.score(Xtest, ytest.values.ravel()), lgr_2_opt.best_params_\n",
    "\n",
    "print('Best Params:', lgr_2_opt.best_params_)"
   ]
  },
  {
   "cell_type": "code",
   "execution_count": 22,
   "id": "reserved-hands",
   "metadata": {},
   "outputs": [
    {
     "name": "stdout",
     "output_type": "stream",
     "text": [
      "Best Params: {'knn__metric': 'euclidean', 'knn__n_neighbors': 69, 'knn__weights': 'distance'}\n"
     ]
    }
   ],
   "source": [
    "# IT2: K-Nearest Neighbors\n",
    "knn_2 = Pipeline(steps=[('scaler', StandardScaler()),\n",
    "                        ('PCA', PCA(n_components=0.95, random_state=430)),\n",
    "                        ('knn', KNeighborsClassifier(n_jobs=-2))])\n",
    "knn_2.fit(Xtrain, ytrain.values.ravel())\n",
    "knn_2_train, knn_2_test = knn_2.score(Xtrain, ytrain.values.ravel()), knn_2.score(Xtest, ytest.values.ravel())\n",
    "\n",
    "knn_2_opt = GridSearchCV(knn_2, knn_grid, n_jobs=-2, cv=3)\n",
    "knn_2_opt.fit(Xtrain, ytrain.values.ravel())\n",
    "knn_2_opt_train, knn_2_opt_test, knn_2_opt_params = knn_2_opt.score(Xtrain, ytrain.values.ravel()), knn_2_opt.score(Xtest, ytest.values.ravel()), knn_2_opt.best_params_\n",
    "\n",
    "print('Best Params:', knn_2_opt.best_params_)"
   ]
  },
  {
   "cell_type": "code",
   "execution_count": 23,
   "id": "cleared-sending",
   "metadata": {},
   "outputs": [
    {
     "name": "stdout",
     "output_type": "stream",
     "text": [
      "Best Params: {'lda__solver': 'svd'}\n"
     ]
    }
   ],
   "source": [
    "# IT2: Linear Discriminant Analysis\n",
    "lda_2 = Pipeline(steps=[('scaler', StandardScaler()),\n",
    "                        ('PCA', PCA(n_components=0.95, random_state=430)),\n",
    "                        ('lda', LinearDiscriminantAnalysis())])\n",
    "lda_2.fit(Xtrain, ytrain.values.ravel())\n",
    "lda_2_train, lda_2_test = lda_2.score(Xtrain, ytrain.values.ravel()), lda_2.score(Xtest, ytest.values.ravel())\n",
    "\n",
    "lda_2_opt = GridSearchCV(lda_2, lda_grid, n_jobs=-2, cv=3)\n",
    "lda_2_opt.fit(Xtrain, ytrain.values.ravel())\n",
    "lda_2_opt_train, lda_2_opt_test, lda_2_opt_params = lda_2_opt.score(Xtrain, ytrain.values.ravel()), lda_2_opt.score(Xtest, ytest.values.ravel()), lda_2_opt.best_params_\n",
    "\n",
    "print('Best Params:', lda_2_opt.best_params_)"
   ]
  },
  {
   "cell_type": "code",
   "execution_count": 24,
   "id": "coordinate-phone",
   "metadata": {},
   "outputs": [
    {
     "name": "stdout",
     "output_type": "stream",
     "text": [
      "Best Params: {'gnb__var_smoothing': 0.8111308307896871}\n"
     ]
    }
   ],
   "source": [
    "# IT2: Gaussian Naive Bayes\n",
    "gnb_2 = Pipeline(steps=[('scaler', StandardScaler()),\n",
    "                        ('PCA', PCA(n_components=0.95, random_state=430)),\n",
    "                        ('gnb', GaussianNB())])\n",
    "gnb_2.fit(Xtrain, ytrain.values.ravel())\n",
    "gnb_2_train, gnb_2_test = gnb_2.score(Xtrain, ytrain.values.ravel()), gnb_2.score(Xtest, ytest.values.ravel())\n",
    "\n",
    "gnb_2_opt = GridSearchCV(gnb_2, gnb_grid, n_jobs=-2, cv=3)\n",
    "gnb_2_opt.fit(Xtrain, ytrain.values.ravel())\n",
    "gnb_2_opt_train, gnb_2_opt_test, gnb_2_opt_params = gnb_2_opt.score(Xtrain, ytrain.values.ravel()), gnb_2_opt.score(Xtest, ytest.values.ravel()), gnb_2_opt.best_params_\n",
    "print('Best Params:', gnb_2_opt.best_params_)"
   ]
  },
  {
   "cell_type": "code",
   "execution_count": 25,
   "id": "approximate-halloween",
   "metadata": {},
   "outputs": [
    {
     "name": "stdout",
     "output_type": "stream",
     "text": [
      "Best Params: {'svc__C': 1, 'svc__gamma': 'scale', 'svc__kernel': 'rbf'}\n"
     ]
    }
   ],
   "source": [
    "# IT2: Support Vector Machine Classifier\n",
    "svc_2 = Pipeline(steps=[('scaler', StandardScaler()),\n",
    "                       ('PCA', PCA(n_components=0.95, random_state=430)),\n",
    "                       ('svc', SVC())])\n",
    "svc_2.fit(Xtrain, ytrain.values.ravel())\n",
    "svc_2_train, svc_2_test = svc_2.score(Xtrain, ytrain.values.ravel()), svc_2.score(Xtest, ytest.values.ravel())\n",
    "\n",
    "svc_2_opt = GridSearchCV(svc_2, svc_grid, n_jobs=-2, cv=3)\n",
    "svc_2_opt.fit(Xtrain, ytrain.values.ravel())\n",
    "svc_2_opt_train, svc_2_opt_test, svc_2_opt_params = svc_2_opt.score(Xtrain, ytrain.values.ravel()), svc_2_opt.score(Xtest, ytest.values.ravel()), svc_2_opt.best_params_\n",
    "print('Best Params:', svc_2_opt.best_params_)"
   ]
  },
  {
   "cell_type": "markdown",
   "id": "binary-still",
   "metadata": {},
   "source": [
    "Initializing a new list of scores calculated after Iteration 2 is complete"
   ]
  },
  {
   "cell_type": "code",
   "execution_count": 26,
   "id": "brutal-updating",
   "metadata": {
    "scrolled": false
   },
   "outputs": [
    {
     "data": {
      "text/html": [
       "<div>\n",
       "<style scoped>\n",
       "    .dataframe tbody tr th:only-of-type {\n",
       "        vertical-align: middle;\n",
       "    }\n",
       "\n",
       "    .dataframe tbody tr th {\n",
       "        vertical-align: top;\n",
       "    }\n",
       "\n",
       "    .dataframe thead tr th {\n",
       "        text-align: left;\n",
       "    }\n",
       "</style>\n",
       "<table border=\"1\" class=\"dataframe\">\n",
       "  <thead>\n",
       "    <tr>\n",
       "      <th></th>\n",
       "      <th></th>\n",
       "      <th colspan=\"2\" halign=\"left\">Iteration0</th>\n",
       "      <th colspan=\"2\" halign=\"left\">Iteration1</th>\n",
       "      <th colspan=\"2\" halign=\"left\">Iteration2</th>\n",
       "      <th colspan=\"2\" halign=\"left\">Iteration3</th>\n",
       "    </tr>\n",
       "    <tr>\n",
       "      <th></th>\n",
       "      <th></th>\n",
       "      <th colspan=\"2\" halign=\"left\">NonScaled</th>\n",
       "      <th colspan=\"2\" halign=\"left\">Scaled</th>\n",
       "      <th colspan=\"2\" halign=\"left\">PCA</th>\n",
       "      <th colspan=\"2\" halign=\"left\">PCABoost</th>\n",
       "    </tr>\n",
       "    <tr>\n",
       "      <th></th>\n",
       "      <th></th>\n",
       "      <th>Train</th>\n",
       "      <th>Test</th>\n",
       "      <th>Train</th>\n",
       "      <th>Test</th>\n",
       "      <th>Train</th>\n",
       "      <th>Test</th>\n",
       "      <th>Train</th>\n",
       "      <th>Test</th>\n",
       "    </tr>\n",
       "  </thead>\n",
       "  <tbody>\n",
       "    <tr>\n",
       "      <th rowspan=\"2\" valign=\"top\">CatBoost</th>\n",
       "      <th>default</th>\n",
       "      <td>0.997689</td>\n",
       "      <td>0.931608</td>\n",
       "      <td>0.997689</td>\n",
       "      <td>0.928835</td>\n",
       "      <td>0.998152</td>\n",
       "      <td>0.917745</td>\n",
       "      <td>NaN</td>\n",
       "      <td>NaN</td>\n",
       "    </tr>\n",
       "    <tr>\n",
       "      <th>optimized</th>\n",
       "      <td>1.000000</td>\n",
       "      <td>0.930684</td>\n",
       "      <td>1.000000</td>\n",
       "      <td>0.928835</td>\n",
       "      <td>1.000000</td>\n",
       "      <td>0.922366</td>\n",
       "      <td>NaN</td>\n",
       "      <td>NaN</td>\n",
       "    </tr>\n",
       "    <tr>\n",
       "      <th rowspan=\"2\" valign=\"top\">LightGBM</th>\n",
       "      <th>default</th>\n",
       "      <td>1.000000</td>\n",
       "      <td>0.927911</td>\n",
       "      <td>1.000000</td>\n",
       "      <td>0.931608</td>\n",
       "      <td>1.000000</td>\n",
       "      <td>0.919593</td>\n",
       "      <td>NaN</td>\n",
       "      <td>NaN</td>\n",
       "    </tr>\n",
       "    <tr>\n",
       "      <th>optimized</th>\n",
       "      <td>1.000000</td>\n",
       "      <td>0.926987</td>\n",
       "      <td>1.000000</td>\n",
       "      <td>0.928835</td>\n",
       "      <td>1.000000</td>\n",
       "      <td>0.916821</td>\n",
       "      <td>NaN</td>\n",
       "      <td>NaN</td>\n",
       "    </tr>\n",
       "    <tr>\n",
       "      <th rowspan=\"2\" valign=\"top\">Logistic</th>\n",
       "      <th>default</th>\n",
       "      <td>NaN</td>\n",
       "      <td>NaN</td>\n",
       "      <td>0.937616</td>\n",
       "      <td>0.922366</td>\n",
       "      <td>0.933457</td>\n",
       "      <td>0.917745</td>\n",
       "      <td>NaN</td>\n",
       "      <td>NaN</td>\n",
       "    </tr>\n",
       "    <tr>\n",
       "      <th>optimized</th>\n",
       "      <td>NaN</td>\n",
       "      <td>NaN</td>\n",
       "      <td>0.936922</td>\n",
       "      <td>0.922366</td>\n",
       "      <td>0.932763</td>\n",
       "      <td>0.916821</td>\n",
       "      <td>NaN</td>\n",
       "      <td>NaN</td>\n",
       "    </tr>\n",
       "    <tr>\n",
       "      <th rowspan=\"2\" valign=\"top\">KNN</th>\n",
       "      <th>default</th>\n",
       "      <td>NaN</td>\n",
       "      <td>NaN</td>\n",
       "      <td>0.944547</td>\n",
       "      <td>0.916821</td>\n",
       "      <td>0.945702</td>\n",
       "      <td>0.903882</td>\n",
       "      <td>NaN</td>\n",
       "      <td>NaN</td>\n",
       "    </tr>\n",
       "    <tr>\n",
       "      <th>optimized</th>\n",
       "      <td>NaN</td>\n",
       "      <td>NaN</td>\n",
       "      <td>1.000000</td>\n",
       "      <td>0.922366</td>\n",
       "      <td>1.000000</td>\n",
       "      <td>0.923290</td>\n",
       "      <td>NaN</td>\n",
       "      <td>NaN</td>\n",
       "    </tr>\n",
       "    <tr>\n",
       "      <th rowspan=\"2\" valign=\"top\">LDA</th>\n",
       "      <th>default</th>\n",
       "      <td>NaN</td>\n",
       "      <td>NaN</td>\n",
       "      <td>0.935074</td>\n",
       "      <td>0.920518</td>\n",
       "      <td>0.933688</td>\n",
       "      <td>0.914048</td>\n",
       "      <td>NaN</td>\n",
       "      <td>NaN</td>\n",
       "    </tr>\n",
       "    <tr>\n",
       "      <th>optimized</th>\n",
       "      <td>NaN</td>\n",
       "      <td>NaN</td>\n",
       "      <td>0.935536</td>\n",
       "      <td>0.921442</td>\n",
       "      <td>0.933688</td>\n",
       "      <td>0.914048</td>\n",
       "      <td>NaN</td>\n",
       "      <td>NaN</td>\n",
       "    </tr>\n",
       "    <tr>\n",
       "      <th rowspan=\"2\" valign=\"top\">GNB</th>\n",
       "      <th>default</th>\n",
       "      <td>NaN</td>\n",
       "      <td>NaN</td>\n",
       "      <td>0.698937</td>\n",
       "      <td>0.668207</td>\n",
       "      <td>0.554529</td>\n",
       "      <td>0.538817</td>\n",
       "      <td>NaN</td>\n",
       "      <td>NaN</td>\n",
       "    </tr>\n",
       "    <tr>\n",
       "      <th>optimized</th>\n",
       "      <td>NaN</td>\n",
       "      <td>NaN</td>\n",
       "      <td>0.698937</td>\n",
       "      <td>0.668207</td>\n",
       "      <td>0.926987</td>\n",
       "      <td>0.913124</td>\n",
       "      <td>NaN</td>\n",
       "      <td>NaN</td>\n",
       "    </tr>\n",
       "    <tr>\n",
       "      <th rowspan=\"2\" valign=\"top\">SVC</th>\n",
       "      <th>default</th>\n",
       "      <td>NaN</td>\n",
       "      <td>NaN</td>\n",
       "      <td>0.939464</td>\n",
       "      <td>0.922366</td>\n",
       "      <td>0.937616</td>\n",
       "      <td>0.920518</td>\n",
       "      <td>NaN</td>\n",
       "      <td>NaN</td>\n",
       "    </tr>\n",
       "    <tr>\n",
       "      <th>optimized</th>\n",
       "      <td>NaN</td>\n",
       "      <td>NaN</td>\n",
       "      <td>0.937847</td>\n",
       "      <td>0.928835</td>\n",
       "      <td>0.937616</td>\n",
       "      <td>0.920518</td>\n",
       "      <td>NaN</td>\n",
       "      <td>NaN</td>\n",
       "    </tr>\n",
       "  </tbody>\n",
       "</table>\n",
       "</div>"
      ],
      "text/plain": [
       "                   Iteration0           Iteration1           Iteration2  \\\n",
       "                    NonScaled               Scaled                  PCA   \n",
       "                        Train      Test      Train      Test      Train   \n",
       "CatBoost default     0.997689  0.931608   0.997689  0.928835   0.998152   \n",
       "         optimized   1.000000  0.930684   1.000000  0.928835   1.000000   \n",
       "LightGBM default     1.000000  0.927911   1.000000  0.931608   1.000000   \n",
       "         optimized   1.000000  0.926987   1.000000  0.928835   1.000000   \n",
       "Logistic default          NaN       NaN   0.937616  0.922366   0.933457   \n",
       "         optimized        NaN       NaN   0.936922  0.922366   0.932763   \n",
       "KNN      default          NaN       NaN   0.944547  0.916821   0.945702   \n",
       "         optimized        NaN       NaN   1.000000  0.922366   1.000000   \n",
       "LDA      default          NaN       NaN   0.935074  0.920518   0.933688   \n",
       "         optimized        NaN       NaN   0.935536  0.921442   0.933688   \n",
       "GNB      default          NaN       NaN   0.698937  0.668207   0.554529   \n",
       "         optimized        NaN       NaN   0.698937  0.668207   0.926987   \n",
       "SVC      default          NaN       NaN   0.939464  0.922366   0.937616   \n",
       "         optimized        NaN       NaN   0.937847  0.928835   0.937616   \n",
       "\n",
       "                             Iteration3       \n",
       "                               PCABoost       \n",
       "                        Test      Train Test  \n",
       "CatBoost default    0.917745        NaN  NaN  \n",
       "         optimized  0.922366        NaN  NaN  \n",
       "LightGBM default    0.919593        NaN  NaN  \n",
       "         optimized  0.916821        NaN  NaN  \n",
       "Logistic default    0.917745        NaN  NaN  \n",
       "         optimized  0.916821        NaN  NaN  \n",
       "KNN      default    0.903882        NaN  NaN  \n",
       "         optimized  0.923290        NaN  NaN  \n",
       "LDA      default    0.914048        NaN  NaN  \n",
       "         optimized  0.914048        NaN  NaN  \n",
       "GNB      default    0.538817        NaN  NaN  \n",
       "         optimized  0.913124        NaN  NaN  \n",
       "SVC      default    0.920518        NaN  NaN  \n",
       "         optimized  0.920518        NaN  NaN  "
      ]
     },
     "execution_count": 26,
     "metadata": {},
     "output_type": "execute_result"
    }
   ],
   "source": [
    "scores = []\n",
    "for idx in range(len(modellist)):\n",
    "    try:\n",
    "        scores.append(locals()[modellist[idx]])\n",
    "    except:\n",
    "        scores.append(np.nan)\n",
    "scoring_table(scores)"
   ]
  },
  {
   "cell_type": "markdown",
   "id": "flying-prior",
   "metadata": {},
   "source": [
    "# PCA Boosting Technique\n",
    "[Back to Top](#Machine-Learning-Processing)\n"
   ]
  },
  {
   "cell_type": "markdown",
   "id": "rising-edward",
   "metadata": {},
   "source": [
    "## Iteration 3: PCABoosted Modeling\n",
    "[Back to Top](#Machine-Learning-Processing)\n",
    "\n",
    "Considering that the bespoke function would not play well with Pipeline, we have pre-processed the data here, first with scaling and then with the PCA Boost. Therefore, we can simply fit the raw models in this first, un-optimized modeling procedure."
   ]
  },
  {
   "cell_type": "markdown",
   "id": "b5494cdc",
   "metadata": {},
   "source": [
    "## PCABoosted Report Card\n",
    "[Back to Top](#Machine-Learning-Processing)\n",
    "\n",
    "Rather than combine literally all of our information to this point, here I would like to summarize some of the best general performance and make an observation in the process: Pipelining PCA processing into a model generally seems to decrease overall testing performance across most models, which otherwise seemed to fare much better.\n",
    "\n",
    "By contrast, PCA Boosting clearly features some potential and should be a great contrast to our preceding results. Therefore we will direct our focus to our results in Pipelined Scaling & PCA Boosting Procedures.\n",
    "\n",
    "Compare\n",
    "\n",
    "[Original Unoptimized](#Progress-Report-Card)\n",
    "\n",
    "[Original Optimized](#Post-Optimization-Report-Card)"
   ]
  },
  {
   "cell_type": "code",
   "execution_count": 27,
   "id": "functioning-hepatitis",
   "metadata": {},
   "outputs": [],
   "source": [
    "def PCAmerge(train, test, n_comp=0.95, r_state = 42):\n",
    "    from sklearn.decomposition import PCA \n",
    "    pca = PCA(n_components = n_comp, random_state = r_state)\n",
    "    train_pca = pd.DataFrame(pca.fit_transform(train), index=train.index)\n",
    "    test_pca = pd.DataFrame(pca.transform(test), index=test.index)\n",
    "    PCA_col_list = []\n",
    "    for num in range(1, train_pca.shape[1]+1):\n",
    "        PCA_col_list.append(('PCA' + str(num)))\n",
    "    train_pca.columns = PCA_col_list\n",
    "    train = pd.concat([train, train_pca], axis=1)\n",
    "    test_pca.columns = PCA_col_list\n",
    "    test = pd.concat([test, test_pca], axis=1)\n",
    "    return train, test"
   ]
  },
  {
   "cell_type": "code",
   "execution_count": 28,
   "id": "atmospheric-abraham",
   "metadata": {},
   "outputs": [],
   "source": [
    "# IT3: PCA Boosted Models\n",
    "scaled = StandardScaler()\n",
    "Xtrain_Scaled = pd.DataFrame(scaled.fit_transform(Xtrain), columns = Xtrain.columns, index = Xtrain.index)\n",
    "Xtest_Scaled = pd.DataFrame(scaled.fit_transform(Xtest), columns = Xtest.columns, index = Xtest.index)\n",
    "XtrainPCA, XtestPCA = PCAmerge(Xtrain_Scaled, Xtest_Scaled, n_comp=0.95)"
   ]
  },
  {
   "cell_type": "code",
   "execution_count": 29,
   "id": "egyptian-surface",
   "metadata": {},
   "outputs": [
    {
     "name": "stdout",
     "output_type": "stream",
     "text": [
      "Best Params: {'depth': 8, 'min_data_in_leaf': 1}\n"
     ]
    }
   ],
   "source": [
    "# IT3: CatBoost Classifier\n",
    "cb_3 = CatBoostClassifier(random_state=430, verbose = False)\n",
    "cb_3.fit(XtrainPCA, ytrain)\n",
    "cb_3_train, cb_3_test = cb_3.score(XtrainPCA, ytrain), cb_3.score(XtestPCA, ytest)\n",
    "\n",
    "cb_grid = {'depth': [6, 8, 10],\n",
    "          'min_data_in_leaf': [1, 2, 4]}\n",
    "cb_3_opt = GridSearchCV(cb_3, cb_grid, n_jobs=-2, cv=3)\n",
    "cb_3_opt.fit(XtrainPCA, ytrain)\n",
    "cb_3_opt_train, cb_3_opt_test, cb_3_opt_params = cb_3_opt.score(XtrainPCA, ytrain), cb_3_opt.score(XtestPCA, ytest), cb_3_opt.best_params_\n",
    "\n",
    "print('Best Params:', cb_3_opt.best_params_)"
   ]
  },
  {
   "cell_type": "code",
   "execution_count": 30,
   "id": "authorized-quarter",
   "metadata": {},
   "outputs": [
    {
     "name": "stderr",
     "output_type": "stream",
     "text": [
      "/home/theodore/anaconda3/lib/python3.8/site-packages/joblib/externals/loky/process_executor.py:688: UserWarning: A worker stopped while some jobs were given to the executor. This can be caused by a too short worker timeout or by a memory leak.\n",
      "  warnings.warn(\n"
     ]
    },
    {
     "name": "stdout",
     "output_type": "stream",
     "text": [
      "[LightGBM] [Warning] min_data_in_leaf is set=15, min_child_samples=20 will be ignored. Current value: min_data_in_leaf=15\n",
      "Best Params: {'max_depth': 13, 'min_data_in_leaf': 15, 'num_leaves': 48}\n"
     ]
    }
   ],
   "source": [
    "# IT3: Light Gradient Boosting Machine Classifier\n",
    "lgbm_3 = LGBMClassifier(n_jobs=-2, random_state=430)\n",
    "lgbm_3.fit(XtrainPCA, ytrain.values.ravel())\n",
    "lgbm_3_train, lgbm_3_test = lgbm_3.score(XtrainPCA, ytrain.values.ravel()), lgbm_3.score(XtestPCA, ytest.values.ravel())\n",
    "\n",
    "lgbm_grid = {'num_leaves': [44, 46, 48],\n",
    "             'max_depth': [9, 11, 13],\n",
    "             'min_data_in_leaf': [15, 17, 19]}\n",
    "lgbm_3_opt = GridSearchCV(lgbm_3, lgbm_grid, n_jobs=-2, cv=3)\n",
    "lgbm_3_opt.fit(XtrainPCA, ytrain.values.ravel())\n",
    "lgbm_3_opt_train, lgbm_3_opt_test, lgbm_3_opt_params = lgbm_3_opt.score(XtrainPCA, ytrain.values.ravel()), lgbm_3_opt.score(XtestPCA, ytest.values.ravel()), lgbm_3_opt.best_params_\n",
    "\n",
    "print('Best Params:', lgbm_3_opt.best_params_)"
   ]
  },
  {
   "cell_type": "code",
   "execution_count": 31,
   "id": "solved-decline",
   "metadata": {},
   "outputs": [
    {
     "name": "stderr",
     "output_type": "stream",
     "text": [
      "/home/theodore/anaconda3/lib/python3.8/site-packages/sklearn/model_selection/_search.py:922: UserWarning: One or more of the test scores are non-finite: [       nan        nan        nan        nan        nan        nan\n",
      "        nan        nan        nan        nan        nan        nan\n",
      "        nan        nan        nan        nan        nan        nan\n",
      "        nan        nan        nan        nan        nan        nan\n",
      "        nan        nan        nan        nan        nan        nan\n",
      "        nan        nan        nan        nan        nan        nan\n",
      "        nan        nan        nan        nan        nan        nan\n",
      "        nan        nan        nan        nan        nan        nan\n",
      "        nan        nan        nan 0.93438168        nan 0.93461236\n",
      "        nan 0.93391888        nan 0.93438088        nan 0.93391856\n",
      "        nan 0.93368756        nan 0.93345639        nan 0.93322539\n",
      "        nan 0.93322555        nan 0.93322555        nan 0.93322555\n",
      "        nan 0.93345655        nan 0.93322555        nan 0.93322555\n",
      "        nan 0.93322555        nan 0.93368756        nan 0.93322555\n",
      "        nan 0.93322555        nan 0.93345655        nan 0.93345655\n",
      "        nan 0.93345655        nan 0.93368756        nan 0.93345655\n",
      "        nan 0.93345655        nan 0.93322539]\n",
      "  warnings.warn(\n"
     ]
    },
    {
     "name": "stdout",
     "output_type": "stream",
     "text": [
      "Best Params: {'C': 0.24489795918367285, 'penalty': 'l2'}\n"
     ]
    }
   ],
   "source": [
    "# IT3: Logistic Regression\n",
    "lgr_3 = LogisticRegression(n_jobs=-2)\n",
    "lgr_3.fit(XtrainPCA, ytrain.values.ravel())\n",
    "lgr_3_train, lgr_3_test = lgr_3.score(XtrainPCA, ytrain.values.ravel()), lgr_3.score(XtestPCA, ytest.values.ravel())\n",
    "\n",
    "lgr_grid = {'C': np.linspace(-4, 4, 50),\n",
    "            'penalty': ['l1', 'l2']}\n",
    "lgr_3_opt = GridSearchCV(lgr_3, lgr_grid, n_jobs=-2, cv=3)\n",
    "lgr_3_opt.fit(XtrainPCA, ytrain.values.ravel())\n",
    "lgr_3_opt_train, lgr_3_opt_test, lgr_3_opt_params = lgr_3_opt.score(XtrainPCA, ytrain.values.ravel()), lgr_3_opt.score(XtestPCA, ytest.values.ravel()), lgr_3_opt.best_params_\n",
    "\n",
    "print('Best Params:', lgr_3_opt.best_params_)"
   ]
  },
  {
   "cell_type": "code",
   "execution_count": 32,
   "id": "heard-grocery",
   "metadata": {},
   "outputs": [
    {
     "name": "stdout",
     "output_type": "stream",
     "text": [
      "Best Params: {'metric': 'euclidean', 'n_neighbors': 63, 'weights': 'distance'}\n"
     ]
    }
   ],
   "source": [
    "# IT3: K-Nearest Neighbors\n",
    "knn_3 = KNeighborsClassifier(n_jobs=-2)\n",
    "knn_3.fit(XtrainPCA, ytrain.values.ravel())\n",
    "knn_3_train, knn_3_test = knn_3.score(XtrainPCA, ytrain.values.ravel()), knn_3.score(XtestPCA, ytest.values.ravel())\n",
    "\n",
    "knn_grid = {'n_neighbors': [61, 63, 66, 69, 71],\n",
    "            'weights': ['uniform', 'distance'],\n",
    "            'metric': ['euclidean', 'manhattan']}\n",
    "knn_3_opt = GridSearchCV(knn_3, knn_grid, n_jobs=-2, cv=3)\n",
    "knn_3_opt.fit(XtrainPCA, ytrain.values.ravel())\n",
    "knn_3_opt_train, knn_3_opt_test, knn_3_opt_params = knn_3_opt.score(XtrainPCA, ytrain.values.ravel()), knn_3_opt.score(XtestPCA, ytest.values.ravel()), knn_3_opt.best_params_\n",
    "\n",
    "print('Best Params:', knn_3_opt.best_params_)"
   ]
  },
  {
   "cell_type": "code",
   "execution_count": 33,
   "id": "sorted-hours",
   "metadata": {},
   "outputs": [
    {
     "name": "stdout",
     "output_type": "stream",
     "text": [
      "Best Params: {'solver': 'lsqr'}\n"
     ]
    },
    {
     "name": "stderr",
     "output_type": "stream",
     "text": [
      "/home/theodore/anaconda3/lib/python3.8/site-packages/sklearn/model_selection/_search.py:922: UserWarning: One or more of the test scores are non-finite: [0.93438168 0.93461268        nan]\n",
      "  warnings.warn(\n"
     ]
    }
   ],
   "source": [
    "# IT3: Linear Discriminant Analysis\n",
    "lda_3 = LinearDiscriminantAnalysis()\n",
    "lda_3.fit(XtrainPCA, ytrain.values.ravel())\n",
    "lda_3_train, lda_3_test = lda_3.score(XtrainPCA, ytrain.values.ravel()), lda_3.score(XtestPCA, ytest.values.ravel())\n",
    "\n",
    "lda_grid = {'solver': ['svd', 'lsqr', 'eigen']}\n",
    "lda_3_opt = GridSearchCV(lda_3, lda_grid, n_jobs=-2, cv=3)\n",
    "lda_3_opt.fit(XtrainPCA, ytrain.values.ravel())\n",
    "lda_3_opt_train, lda_3_opt_test, lda_3_opt_params = lda_3_opt.score(XtrainPCA, ytrain.values.ravel()), lda_3_opt.score(XtestPCA, ytest.values.ravel()), lda_3_opt.best_params_\n",
    "\n",
    "print('Best Params:', lda_3_opt.best_params_)"
   ]
  },
  {
   "cell_type": "code",
   "execution_count": 34,
   "id": "unauthorized-ratio",
   "metadata": {},
   "outputs": [
    {
     "name": "stdout",
     "output_type": "stream",
     "text": [
      "Best Params: {'var_smoothing': 1.0}\n"
     ]
    }
   ],
   "source": [
    "# IT3: Gaussian Naive Bayes\n",
    "gnb_3 = GaussianNB()\n",
    "gnb_3.fit(XtrainPCA, ytrain.values.ravel())\n",
    "gnb_3_train, gnb_3_test = gnb_3.score(XtrainPCA, ytrain.values.ravel()), gnb_3.score(XtestPCA, ytest.values.ravel())\n",
    "\n",
    "gnb_grid = {'var_smoothing': np.logspace(0, -9, num = 100)}\n",
    "gnb_3_opt = GridSearchCV(gnb_3, gnb_grid, n_jobs=-2, cv=3)\n",
    "gnb_3_opt.fit(XtrainPCA, ytrain.values.ravel())\n",
    "gnb_3_opt_train, gnb_3_opt_test, gnb_3_opt_params = gnb_3_opt.score(XtrainPCA, ytrain.values.ravel()), gnb_3_opt.score(XtestPCA, ytest.values.ravel()), gnb_3_opt.best_params_\n",
    "print('Best Params:', gnb_3_opt.best_params_)"
   ]
  },
  {
   "cell_type": "code",
   "execution_count": 35,
   "id": "distributed-newark",
   "metadata": {},
   "outputs": [
    {
     "name": "stdout",
     "output_type": "stream",
     "text": [
      "Best Params: {'C': 0.1, 'gamma': 'scale', 'kernel': 'linear'}\n"
     ]
    }
   ],
   "source": [
    "# IT3: Support Vector Machine Classifier\n",
    "svc_3 = SVC()\n",
    "svc_3.fit(XtrainPCA, ytrain.values.ravel())\n",
    "svc_3_train, svc_3_test = svc_3.score(XtrainPCA, ytrain.values.ravel()), svc_3.score(XtestPCA, ytest.values.ravel())\n",
    "\n",
    "svc_grid = {'kernel': ['linear', 'poly', 'rbf', 'sigmoid'],\n",
    "            'gamma': ['scale'],\n",
    "            'C': [0.001, 0.01, 0.1, 1, 10, 100]}\n",
    "svc_3_opt = GridSearchCV(svc_3, svc_grid, n_jobs=-2, cv=3)\n",
    "svc_3_opt.fit(XtrainPCA, ytrain.values.ravel())\n",
    "svc_3_opt_train, svc_3_opt_test, svc_3_opt_params = svc_3_opt.score(XtrainPCA, ytrain.values.ravel()), svc_3_opt.score(XtestPCA, ytest.values.ravel()), svc_3_opt.best_params_\n",
    "print('Best Params:', svc_3_opt.best_params_)"
   ]
  },
  {
   "cell_type": "markdown",
   "id": "finished-edward",
   "metadata": {},
   "source": [
    "Initializing a final list of scores calculated after Iteration 3 is complete"
   ]
  },
  {
   "cell_type": "code",
   "execution_count": 36,
   "id": "marked-warner",
   "metadata": {},
   "outputs": [
    {
     "data": {
      "text/html": [
       "<div>\n",
       "<style scoped>\n",
       "    .dataframe tbody tr th:only-of-type {\n",
       "        vertical-align: middle;\n",
       "    }\n",
       "\n",
       "    .dataframe tbody tr th {\n",
       "        vertical-align: top;\n",
       "    }\n",
       "\n",
       "    .dataframe thead tr th {\n",
       "        text-align: left;\n",
       "    }\n",
       "</style>\n",
       "<table border=\"1\" class=\"dataframe\">\n",
       "  <thead>\n",
       "    <tr>\n",
       "      <th></th>\n",
       "      <th></th>\n",
       "      <th colspan=\"2\" halign=\"left\">Iteration0</th>\n",
       "      <th colspan=\"2\" halign=\"left\">Iteration1</th>\n",
       "      <th colspan=\"2\" halign=\"left\">Iteration2</th>\n",
       "      <th colspan=\"2\" halign=\"left\">Iteration3</th>\n",
       "    </tr>\n",
       "    <tr>\n",
       "      <th></th>\n",
       "      <th></th>\n",
       "      <th colspan=\"2\" halign=\"left\">NonScaled</th>\n",
       "      <th colspan=\"2\" halign=\"left\">Scaled</th>\n",
       "      <th colspan=\"2\" halign=\"left\">PCA</th>\n",
       "      <th colspan=\"2\" halign=\"left\">PCABoost</th>\n",
       "    </tr>\n",
       "    <tr>\n",
       "      <th></th>\n",
       "      <th></th>\n",
       "      <th>Train</th>\n",
       "      <th>Test</th>\n",
       "      <th>Train</th>\n",
       "      <th>Test</th>\n",
       "      <th>Train</th>\n",
       "      <th>Test</th>\n",
       "      <th>Train</th>\n",
       "      <th>Test</th>\n",
       "    </tr>\n",
       "  </thead>\n",
       "  <tbody>\n",
       "    <tr>\n",
       "      <th rowspan=\"2\" valign=\"top\">CatBoost</th>\n",
       "      <th>default</th>\n",
       "      <td>0.997689</td>\n",
       "      <td>0.931608</td>\n",
       "      <td>0.997689</td>\n",
       "      <td>0.928835</td>\n",
       "      <td>0.998152</td>\n",
       "      <td>0.917745</td>\n",
       "      <td>0.998614</td>\n",
       "      <td>0.920518</td>\n",
       "    </tr>\n",
       "    <tr>\n",
       "      <th>optimized</th>\n",
       "      <td>1.000000</td>\n",
       "      <td>0.930684</td>\n",
       "      <td>1.000000</td>\n",
       "      <td>0.928835</td>\n",
       "      <td>1.000000</td>\n",
       "      <td>0.922366</td>\n",
       "      <td>1.000000</td>\n",
       "      <td>0.926987</td>\n",
       "    </tr>\n",
       "    <tr>\n",
       "      <th rowspan=\"2\" valign=\"top\">LightGBM</th>\n",
       "      <th>default</th>\n",
       "      <td>1.000000</td>\n",
       "      <td>0.927911</td>\n",
       "      <td>1.000000</td>\n",
       "      <td>0.931608</td>\n",
       "      <td>1.000000</td>\n",
       "      <td>0.919593</td>\n",
       "      <td>1.000000</td>\n",
       "      <td>0.922366</td>\n",
       "    </tr>\n",
       "    <tr>\n",
       "      <th>optimized</th>\n",
       "      <td>1.000000</td>\n",
       "      <td>0.926987</td>\n",
       "      <td>1.000000</td>\n",
       "      <td>0.928835</td>\n",
       "      <td>1.000000</td>\n",
       "      <td>0.916821</td>\n",
       "      <td>1.000000</td>\n",
       "      <td>0.922366</td>\n",
       "    </tr>\n",
       "    <tr>\n",
       "      <th rowspan=\"2\" valign=\"top\">Logistic</th>\n",
       "      <th>default</th>\n",
       "      <td>NaN</td>\n",
       "      <td>NaN</td>\n",
       "      <td>0.937616</td>\n",
       "      <td>0.922366</td>\n",
       "      <td>0.933457</td>\n",
       "      <td>0.917745</td>\n",
       "      <td>0.937616</td>\n",
       "      <td>0.924214</td>\n",
       "    </tr>\n",
       "    <tr>\n",
       "      <th>optimized</th>\n",
       "      <td>NaN</td>\n",
       "      <td>NaN</td>\n",
       "      <td>0.936922</td>\n",
       "      <td>0.922366</td>\n",
       "      <td>0.932763</td>\n",
       "      <td>0.916821</td>\n",
       "      <td>0.937153</td>\n",
       "      <td>0.926987</td>\n",
       "    </tr>\n",
       "    <tr>\n",
       "      <th rowspan=\"2\" valign=\"top\">KNN</th>\n",
       "      <th>default</th>\n",
       "      <td>NaN</td>\n",
       "      <td>NaN</td>\n",
       "      <td>0.944547</td>\n",
       "      <td>0.916821</td>\n",
       "      <td>0.945702</td>\n",
       "      <td>0.903882</td>\n",
       "      <td>0.945009</td>\n",
       "      <td>0.909427</td>\n",
       "    </tr>\n",
       "    <tr>\n",
       "      <th>optimized</th>\n",
       "      <td>NaN</td>\n",
       "      <td>NaN</td>\n",
       "      <td>1.000000</td>\n",
       "      <td>0.922366</td>\n",
       "      <td>1.000000</td>\n",
       "      <td>0.923290</td>\n",
       "      <td>1.000000</td>\n",
       "      <td>0.919593</td>\n",
       "    </tr>\n",
       "    <tr>\n",
       "      <th rowspan=\"2\" valign=\"top\">LDA</th>\n",
       "      <th>default</th>\n",
       "      <td>NaN</td>\n",
       "      <td>NaN</td>\n",
       "      <td>0.935074</td>\n",
       "      <td>0.920518</td>\n",
       "      <td>0.933688</td>\n",
       "      <td>0.914048</td>\n",
       "      <td>0.935074</td>\n",
       "      <td>0.926987</td>\n",
       "    </tr>\n",
       "    <tr>\n",
       "      <th>optimized</th>\n",
       "      <td>NaN</td>\n",
       "      <td>NaN</td>\n",
       "      <td>0.935536</td>\n",
       "      <td>0.921442</td>\n",
       "      <td>0.933688</td>\n",
       "      <td>0.914048</td>\n",
       "      <td>0.935536</td>\n",
       "      <td>0.354898</td>\n",
       "    </tr>\n",
       "    <tr>\n",
       "      <th rowspan=\"2\" valign=\"top\">GNB</th>\n",
       "      <th>default</th>\n",
       "      <td>NaN</td>\n",
       "      <td>NaN</td>\n",
       "      <td>0.698937</td>\n",
       "      <td>0.668207</td>\n",
       "      <td>0.554529</td>\n",
       "      <td>0.538817</td>\n",
       "      <td>0.631238</td>\n",
       "      <td>0.637708</td>\n",
       "    </tr>\n",
       "    <tr>\n",
       "      <th>optimized</th>\n",
       "      <td>NaN</td>\n",
       "      <td>NaN</td>\n",
       "      <td>0.698937</td>\n",
       "      <td>0.668207</td>\n",
       "      <td>0.926987</td>\n",
       "      <td>0.913124</td>\n",
       "      <td>0.880776</td>\n",
       "      <td>0.875231</td>\n",
       "    </tr>\n",
       "    <tr>\n",
       "      <th rowspan=\"2\" valign=\"top\">SVC</th>\n",
       "      <th>default</th>\n",
       "      <td>NaN</td>\n",
       "      <td>NaN</td>\n",
       "      <td>0.939464</td>\n",
       "      <td>0.922366</td>\n",
       "      <td>0.937616</td>\n",
       "      <td>0.920518</td>\n",
       "      <td>0.938771</td>\n",
       "      <td>0.923290</td>\n",
       "    </tr>\n",
       "    <tr>\n",
       "      <th>optimized</th>\n",
       "      <td>NaN</td>\n",
       "      <td>NaN</td>\n",
       "      <td>0.937847</td>\n",
       "      <td>0.928835</td>\n",
       "      <td>0.937616</td>\n",
       "      <td>0.920518</td>\n",
       "      <td>0.937847</td>\n",
       "      <td>0.926063</td>\n",
       "    </tr>\n",
       "  </tbody>\n",
       "</table>\n",
       "</div>"
      ],
      "text/plain": [
       "                   Iteration0           Iteration1           Iteration2  \\\n",
       "                    NonScaled               Scaled                  PCA   \n",
       "                        Train      Test      Train      Test      Train   \n",
       "CatBoost default     0.997689  0.931608   0.997689  0.928835   0.998152   \n",
       "         optimized   1.000000  0.930684   1.000000  0.928835   1.000000   \n",
       "LightGBM default     1.000000  0.927911   1.000000  0.931608   1.000000   \n",
       "         optimized   1.000000  0.926987   1.000000  0.928835   1.000000   \n",
       "Logistic default          NaN       NaN   0.937616  0.922366   0.933457   \n",
       "         optimized        NaN       NaN   0.936922  0.922366   0.932763   \n",
       "KNN      default          NaN       NaN   0.944547  0.916821   0.945702   \n",
       "         optimized        NaN       NaN   1.000000  0.922366   1.000000   \n",
       "LDA      default          NaN       NaN   0.935074  0.920518   0.933688   \n",
       "         optimized        NaN       NaN   0.935536  0.921442   0.933688   \n",
       "GNB      default          NaN       NaN   0.698937  0.668207   0.554529   \n",
       "         optimized        NaN       NaN   0.698937  0.668207   0.926987   \n",
       "SVC      default          NaN       NaN   0.939464  0.922366   0.937616   \n",
       "         optimized        NaN       NaN   0.937847  0.928835   0.937616   \n",
       "\n",
       "                             Iteration3            \n",
       "                               PCABoost            \n",
       "                        Test      Train      Test  \n",
       "CatBoost default    0.917745   0.998614  0.920518  \n",
       "         optimized  0.922366   1.000000  0.926987  \n",
       "LightGBM default    0.919593   1.000000  0.922366  \n",
       "         optimized  0.916821   1.000000  0.922366  \n",
       "Logistic default    0.917745   0.937616  0.924214  \n",
       "         optimized  0.916821   0.937153  0.926987  \n",
       "KNN      default    0.903882   0.945009  0.909427  \n",
       "         optimized  0.923290   1.000000  0.919593  \n",
       "LDA      default    0.914048   0.935074  0.926987  \n",
       "         optimized  0.914048   0.935536  0.354898  \n",
       "GNB      default    0.538817   0.631238  0.637708  \n",
       "         optimized  0.913124   0.880776  0.875231  \n",
       "SVC      default    0.920518   0.938771  0.923290  \n",
       "         optimized  0.920518   0.937847  0.926063  "
      ]
     },
     "execution_count": 36,
     "metadata": {},
     "output_type": "execute_result"
    }
   ],
   "source": [
    "scores = []\n",
    "for idx in range(len(modellist)):\n",
    "    try:\n",
    "        scores.append(locals()[modellist[idx]])\n",
    "    except:\n",
    "        scores.append(np.nan)\n",
    "scoring_table(scores)"
   ]
  },
  {
   "cell_type": "markdown",
   "id": "selective-switch",
   "metadata": {},
   "source": [
    "## Best Models\n",
    "Creating a table of the best hypertransformations for each ML model, comparing test scores among all iterations.    \n",
    "These will guide our treatment of the full Xtrain data in the next section."
   ]
  },
  {
   "cell_type": "code",
   "execution_count": 37,
   "id": "mature-excitement",
   "metadata": {},
   "outputs": [
    {
     "data": {
      "text/html": [
       "<div>\n",
       "<style scoped>\n",
       "    .dataframe tbody tr th:only-of-type {\n",
       "        vertical-align: middle;\n",
       "    }\n",
       "\n",
       "    .dataframe tbody tr th {\n",
       "        vertical-align: top;\n",
       "    }\n",
       "\n",
       "    .dataframe thead th {\n",
       "        text-align: right;\n",
       "    }\n",
       "</style>\n",
       "<table border=\"1\" class=\"dataframe\">\n",
       "  <thead>\n",
       "    <tr style=\"text-align: right;\">\n",
       "      <th></th>\n",
       "      <th>Iteration</th>\n",
       "      <th>Transformation</th>\n",
       "      <th>Optimized</th>\n",
       "      <th>Test Score</th>\n",
       "    </tr>\n",
       "  </thead>\n",
       "  <tbody>\n",
       "    <tr>\n",
       "      <th>CatBoost</th>\n",
       "      <td>Iteration0</td>\n",
       "      <td>NonScaled</td>\n",
       "      <td>default</td>\n",
       "      <td>0.931608</td>\n",
       "    </tr>\n",
       "    <tr>\n",
       "      <th>LightGBM</th>\n",
       "      <td>Iteration1</td>\n",
       "      <td>Scaled</td>\n",
       "      <td>default</td>\n",
       "      <td>0.931608</td>\n",
       "    </tr>\n",
       "    <tr>\n",
       "      <th>Logistic</th>\n",
       "      <td>Iteration3</td>\n",
       "      <td>PCABoost</td>\n",
       "      <td>optimized</td>\n",
       "      <td>0.926987</td>\n",
       "    </tr>\n",
       "    <tr>\n",
       "      <th>KNN</th>\n",
       "      <td>Iteration2</td>\n",
       "      <td>PCA</td>\n",
       "      <td>optimized</td>\n",
       "      <td>0.923290</td>\n",
       "    </tr>\n",
       "    <tr>\n",
       "      <th>LDA</th>\n",
       "      <td>Iteration3</td>\n",
       "      <td>PCABoost</td>\n",
       "      <td>default</td>\n",
       "      <td>0.926987</td>\n",
       "    </tr>\n",
       "    <tr>\n",
       "      <th>GNB</th>\n",
       "      <td>Iteration2</td>\n",
       "      <td>PCA</td>\n",
       "      <td>optimized</td>\n",
       "      <td>0.913124</td>\n",
       "    </tr>\n",
       "    <tr>\n",
       "      <th>SVC</th>\n",
       "      <td>Iteration1</td>\n",
       "      <td>Scaled</td>\n",
       "      <td>optimized</td>\n",
       "      <td>0.928835</td>\n",
       "    </tr>\n",
       "  </tbody>\n",
       "</table>\n",
       "</div>"
      ],
      "text/plain": [
       "           Iteration Transformation  Optimized  Test Score\n",
       "CatBoost  Iteration0      NonScaled    default    0.931608\n",
       "LightGBM  Iteration1         Scaled    default    0.931608\n",
       "Logistic  Iteration3       PCABoost  optimized    0.926987\n",
       "KNN       Iteration2            PCA  optimized    0.923290\n",
       "LDA       Iteration3       PCABoost    default    0.926987\n",
       "GNB       Iteration2            PCA  optimized    0.913124\n",
       "SVC       Iteration1         Scaled  optimized    0.928835"
      ]
     },
     "execution_count": 37,
     "metadata": {},
     "output_type": "execute_result"
    }
   ],
   "source": [
    "models = ['CatBoost', 'LightGBM', 'Logistic', 'KNN', 'LDA', 'GNB', 'SVC']\n",
    "model_scores = scoring_table(scores)\n",
    "test_scores = model_scores.loc[:, model_scores.columns.get_level_values(2) == 'Test'].unstack(1).T\n",
    "best_models = pd.DataFrame([], columns = ['Iteration', 'Transformation', 'Test_Train', 'Optimized', 'Test Score'])\n",
    "for model in models:\n",
    "    best_models.loc[model] = test_scores[model].sort_values(ascending=False).reset_index().iloc[0].values\n",
    "best_models = best_models.drop('Test_Train', axis=1)\n",
    "best_models"
   ]
  },
  {
   "cell_type": "markdown",
   "id": "separated-absolute",
   "metadata": {},
   "source": [
    "Getting rid of '_0' entries by generating a reduced list of model names"
   ]
  },
  {
   "cell_type": "code",
   "execution_count": 38,
   "id": "aquatic-devil",
   "metadata": {
    "scrolled": true
   },
   "outputs": [
    {
     "data": {
      "text/plain": [
       "['cb_0_train',\n",
       " 'cb_0_test',\n",
       " 'cb_1_train',\n",
       " 'cb_1_test',\n",
       " 'cb_2_train',\n",
       " 'cb_2_test',\n",
       " 'cb_3_train',\n",
       " 'cb_3_test',\n",
       " 'cb_0_opt_train',\n",
       " 'cb_0_opt_test',\n",
       " 'cb_1_opt_train',\n",
       " 'cb_1_opt_test',\n",
       " 'cb_2_opt_train',\n",
       " 'cb_2_opt_test',\n",
       " 'cb_3_opt_train',\n",
       " 'cb_3_opt_test',\n",
       " 'lgbm_0_train',\n",
       " 'lgbm_0_test',\n",
       " 'lgbm_1_train',\n",
       " 'lgbm_1_test',\n",
       " 'lgbm_2_train',\n",
       " 'lgbm_2_test',\n",
       " 'lgbm_3_train',\n",
       " 'lgbm_3_test',\n",
       " 'lgbm_0_opt_train',\n",
       " 'lgbm_0_opt_test',\n",
       " 'lgbm_1_opt_train',\n",
       " 'lgbm_1_opt_test',\n",
       " 'lgbm_2_opt_train',\n",
       " 'lgbm_2_opt_test',\n",
       " 'lgbm_3_opt_train',\n",
       " 'lgbm_3_opt_test',\n",
       " 'lgr_1_train',\n",
       " 'lgr_1_test',\n",
       " 'lgr_2_train',\n",
       " 'lgr_2_test',\n",
       " 'lgr_3_train',\n",
       " 'lgr_3_test',\n",
       " 'lgr_1_opt_train',\n",
       " 'lgr_1_opt_test',\n",
       " 'lgr_2_opt_train',\n",
       " 'lgr_2_opt_test',\n",
       " 'lgr_3_opt_train',\n",
       " 'lgr_3_opt_test',\n",
       " 'knn_1_train',\n",
       " 'knn_1_test',\n",
       " 'knn_2_train',\n",
       " 'knn_2_test',\n",
       " 'knn_3_train',\n",
       " 'knn_3_test',\n",
       " 'knn_1_opt_train',\n",
       " 'knn_1_opt_test',\n",
       " 'knn_2_opt_train',\n",
       " 'knn_2_opt_test',\n",
       " 'knn_3_opt_train',\n",
       " 'knn_3_opt_test',\n",
       " 'lda_1_train',\n",
       " 'lda_1_test',\n",
       " 'lda_2_train',\n",
       " 'lda_2_test',\n",
       " 'lda_3_train',\n",
       " 'lda_3_test',\n",
       " 'lda_1_opt_train',\n",
       " 'lda_1_opt_test',\n",
       " 'lda_2_opt_train',\n",
       " 'lda_2_opt_test',\n",
       " 'lda_3_opt_train',\n",
       " 'lda_3_opt_test',\n",
       " 'gnb_1_train',\n",
       " 'gnb_1_test',\n",
       " 'gnb_2_train',\n",
       " 'gnb_2_test',\n",
       " 'gnb_3_train',\n",
       " 'gnb_3_test',\n",
       " 'gnb_1_opt_train',\n",
       " 'gnb_1_opt_test',\n",
       " 'gnb_2_opt_train',\n",
       " 'gnb_2_opt_test',\n",
       " 'gnb_3_opt_train',\n",
       " 'gnb_3_opt_test',\n",
       " 'svc_1_train',\n",
       " 'svc_1_test',\n",
       " 'svc_2_train',\n",
       " 'svc_2_test',\n",
       " 'svc_3_train',\n",
       " 'svc_3_test',\n",
       " 'svc_1_opt_train',\n",
       " 'svc_1_opt_test',\n",
       " 'svc_2_opt_train',\n",
       " 'svc_2_opt_test',\n",
       " 'svc_3_opt_train',\n",
       " 'svc_3_opt_test']"
      ]
     },
     "execution_count": 38,
     "metadata": {},
     "output_type": "execute_result"
    }
   ],
   "source": [
    "modellistreduced = modellist.copy()\n",
    "\n",
    "num_list = [105, 104]\n",
    "i = 0\n",
    "while i < 9:\n",
    "    max_idx = len(num_list) - 1\n",
    "    num_list.append(num_list[max_idx - 1] - 8)\n",
    "    num_list.append(num_list[max_idx] - 8)\n",
    "    i += 1\n",
    "\n",
    "for num in num_list:\n",
    "    modellistreduced.pop(num)\n",
    "modellistreduced"
   ]
  },
  {
   "cell_type": "markdown",
   "id": "labeled-yorkshire",
   "metadata": {},
   "source": [
    "Getting a list of model names"
   ]
  },
  {
   "cell_type": "code",
   "execution_count": 39,
   "id": "inside-fighter",
   "metadata": {
    "scrolled": true
   },
   "outputs": [
    {
     "data": {
      "text/plain": [
       "['cb_0',\n",
       " 'cb_1',\n",
       " 'cb_2',\n",
       " 'cb_3',\n",
       " 'cb_0_opt',\n",
       " 'cb_1_opt',\n",
       " 'cb_2_opt',\n",
       " 'cb_3_opt',\n",
       " 'lgbm_0',\n",
       " 'lgbm_1',\n",
       " 'lgbm_2',\n",
       " 'lgbm_3',\n",
       " 'lgbm_0_opt',\n",
       " 'lgbm_1_opt',\n",
       " 'lgbm_2_opt',\n",
       " 'lgbm_3_opt',\n",
       " 'lgr_1',\n",
       " 'lgr_2',\n",
       " 'lgr_3',\n",
       " 'lgr_1_opt',\n",
       " 'lgr_2_opt',\n",
       " 'lgr_3_opt',\n",
       " 'knn_1',\n",
       " 'knn_2',\n",
       " 'knn_3',\n",
       " 'knn_1_opt',\n",
       " 'knn_2_opt',\n",
       " 'knn_3_opt',\n",
       " 'lda_1',\n",
       " 'lda_2',\n",
       " 'lda_3',\n",
       " 'lda_1_opt',\n",
       " 'lda_2_opt',\n",
       " 'lda_3_opt',\n",
       " 'gnb_1',\n",
       " 'gnb_2',\n",
       " 'gnb_3',\n",
       " 'gnb_1_opt',\n",
       " 'gnb_2_opt',\n",
       " 'gnb_3_opt',\n",
       " 'svc_1',\n",
       " 'svc_2',\n",
       " 'svc_3',\n",
       " 'svc_1_opt',\n",
       " 'svc_2_opt',\n",
       " 'svc_3_opt']"
      ]
     },
     "execution_count": 39,
     "metadata": {},
     "output_type": "execute_result"
    }
   ],
   "source": [
    "modelinputlist = modellistreduced.copy()\n",
    "for idx in range(len(modelinputlist)):\n",
    "    if idx % 2 == 0:\n",
    "        modelinputlist[idx] = modelinputlist[idx][:-6]\n",
    "    else:\n",
    "        modelinputlist[idx] = modelinputlist[idx][:-5]\n",
    "modelinputlist = modelinputlist[::2]\n",
    "modelinputlist"
   ]
  },
  {
   "cell_type": "markdown",
   "id": "double-weekly",
   "metadata": {},
   "source": [
    "Getting a list of saved optimized parameters"
   ]
  },
  {
   "cell_type": "code",
   "execution_count": 40,
   "id": "directed-quality",
   "metadata": {
    "scrolled": true
   },
   "outputs": [],
   "source": [
    "dictlist = [ele for ele in ['cb', 'lgbm', 'lgr', 'knn', 'lda', 'gnb', 'svc'] for i in range(4)]\n",
    "iterdictlist = ['_0', '_1', '_2', '_3'] * 7\n",
    "for idx in range(len(dictlist)):\n",
    "    dictlist[idx] = dictlist[idx] + iterdictlist[idx] + '_opt_params'\n",
    "for num in [24, 20, 16, 12, 8]:\n",
    "    dictlist.pop(num)"
   ]
  },
  {
   "cell_type": "markdown",
   "id": "saved-strengthening",
   "metadata": {},
   "source": [
    "Combining these three lists to load all saved model elements into a single dictionary for pickling"
   ]
  },
  {
   "cell_type": "code",
   "execution_count": 41,
   "id": "impossible-aerospace",
   "metadata": {},
   "outputs": [],
   "source": [
    "model_dict = {}\n",
    "all_list = modelinputlist + modellistreduced + dictlist\n",
    "for ele in all_list:\n",
    "    model_dict[ele] = locals()[ele]"
   ]
  },
  {
   "cell_type": "code",
   "execution_count": 42,
   "id": "answering-opera",
   "metadata": {},
   "outputs": [],
   "source": [
    "pickle.dump(model_scores, open('model_scores.pickle', 'wb'))\n",
    "pickle.dump(best_models, open('best_models.pickle', 'wb'))\n",
    "pickle.dump(model_dict, open('model_dict.pickle', 'wb'))"
   ]
  },
  {
   "cell_type": "markdown",
   "id": "overall-fluid",
   "metadata": {},
   "source": [
    "## Running the Best Models for Full Training Data"
   ]
  },
  {
   "cell_type": "code",
   "execution_count": 1,
   "id": "adjusted-racing",
   "metadata": {},
   "outputs": [
    {
     "name": "stderr",
     "output_type": "stream",
     "text": [
      "C:\\Users\\gottl\\Anaconda3\\lib\\site-packages\\sklearn\\base.py:315: UserWarning: Trying to unpickle estimator StandardScaler from version 0.24.2 when using version 0.24.1. This might lead to breaking code or invalid results. Use at your own risk.\n",
      "  UserWarning)\n",
      "C:\\Users\\gottl\\Anaconda3\\lib\\site-packages\\sklearn\\base.py:315: UserWarning: Trying to unpickle estimator Pipeline from version 0.24.2 when using version 0.24.1. This might lead to breaking code or invalid results. Use at your own risk.\n",
      "  UserWarning)\n",
      "C:\\Users\\gottl\\Anaconda3\\lib\\site-packages\\sklearn\\base.py:315: UserWarning: Trying to unpickle estimator PCA from version 0.24.2 when using version 0.24.1. This might lead to breaking code or invalid results. Use at your own risk.\n",
      "  UserWarning)\n",
      "C:\\Users\\gottl\\Anaconda3\\lib\\site-packages\\sklearn\\base.py:315: UserWarning: Trying to unpickle estimator GridSearchCV from version 0.24.2 when using version 0.24.1. This might lead to breaking code or invalid results. Use at your own risk.\n",
      "  UserWarning)\n",
      "C:\\Users\\gottl\\Anaconda3\\lib\\site-packages\\sklearn\\base.py:315: UserWarning: Trying to unpickle estimator LabelEncoder from version 0.24.2 when using version 0.24.1. This might lead to breaking code or invalid results. Use at your own risk.\n",
      "  UserWarning)\n",
      "C:\\Users\\gottl\\Anaconda3\\lib\\site-packages\\sklearn\\base.py:315: UserWarning: Trying to unpickle estimator LogisticRegression from version 0.24.2 when using version 0.24.1. This might lead to breaking code or invalid results. Use at your own risk.\n",
      "  UserWarning)\n",
      "C:\\Users\\gottl\\Anaconda3\\lib\\site-packages\\sklearn\\base.py:315: UserWarning: Trying to unpickle estimator KNeighborsClassifier from version 0.24.2 when using version 0.24.1. This might lead to breaking code or invalid results. Use at your own risk.\n",
      "  UserWarning)\n",
      "C:\\Users\\gottl\\Anaconda3\\lib\\site-packages\\sklearn\\base.py:315: UserWarning: Trying to unpickle estimator LinearDiscriminantAnalysis from version 0.24.2 when using version 0.24.1. This might lead to breaking code or invalid results. Use at your own risk.\n",
      "  UserWarning)\n",
      "C:\\Users\\gottl\\Anaconda3\\lib\\site-packages\\sklearn\\base.py:315: UserWarning: Trying to unpickle estimator GaussianNB from version 0.24.2 when using version 0.24.1. This might lead to breaking code or invalid results. Use at your own risk.\n",
      "  UserWarning)\n",
      "C:\\Users\\gottl\\Anaconda3\\lib\\site-packages\\sklearn\\base.py:315: UserWarning: Trying to unpickle estimator SVC from version 0.24.2 when using version 0.24.1. This might lead to breaking code or invalid results. Use at your own risk.\n",
      "  UserWarning)\n"
     ]
    }
   ],
   "source": [
    "#### If starting from here, uncomment these #####\n",
    "import numpy as np\n",
    "import pandas as pd\n",
    "import pickle\n",
    "\n",
    "from sklearn.pipeline import Pipeline\n",
    "from catboost import CatBoostClassifier\n",
    "from lightgbm import LGBMClassifier\n",
    "from sklearn.linear_model import LogisticRegression\n",
    "from sklearn.preprocessing import StandardScaler\n",
    "from sklearn.neighbors import KNeighborsClassifier\n",
    "from sklearn.discriminant_analysis import LinearDiscriminantAnalysis\n",
    "from sklearn.naive_bayes import GaussianNB\n",
    "from sklearn.svm import SVC\n",
    "from sklearn.decomposition import PCA \n",
    "\n",
    "\n",
    "def PCAmerge(train, test, n_comp=0.95, r_state = 42):\n",
    "    from sklearn.decomposition import PCA \n",
    "    pca = PCA(n_components = n_comp, random_state = r_state)\n",
    "    train_pca = pd.DataFrame(pca.fit_transform(train), index=train.index)\n",
    "    test_pca = pd.DataFrame(pca.transform(test), index=test.index)\n",
    "    PCA_col_list = []\n",
    "    for num in range(1, train_pca.shape[1]+1):\n",
    "        PCA_col_list.append(('PCA' + str(num)))\n",
    "    train_pca.columns = PCA_col_list\n",
    "    train = pd.concat([train, train_pca], axis=1)\n",
    "    test_pca.columns = PCA_col_list\n",
    "    test = pd.concat([test, test_pca], axis=1)\n",
    "    return train, test\n",
    "\n",
    "model_scores = pickle.load(open('model_scores.pickle', 'rb'))\n",
    "best_models = pickle.load(open('best_models.pickle', 'rb'))\n",
    "model_dict = pickle.load(open('model_dict.pickle', 'rb'))"
   ]
  },
  {
   "cell_type": "code",
   "execution_count": 3,
   "id": "facial-heaven",
   "metadata": {},
   "outputs": [],
   "source": [
    "Xtrain_all = pickle.load(open('Xtrain.pickle', 'rb'))\n",
    "ytrain_all = pickle.load(open('ytrain.pickle', 'rb'))\n",
    "Xtest_all = pickle.load(open('Xtest.pickle', 'rb'))\n",
    "ytest_all = pickle.load(open('ytest.pickle', 'rb'))\n",
    "\n",
    "scaled = StandardScaler()\n",
    "Xtrain_all_Scaled = pd.DataFrame(scaled.fit_transform(Xtrain_all), columns = Xtrain_all.columns, index = Xtrain_all.index)\n",
    "Xtest_all_Scaled = pd.DataFrame(scaled.fit_transform(Xtest_all), columns = Xtest_all.columns, index = Xtest_all.index)\n",
    "Xtrain_all_PCA, Xtest_all_PCA = PCAmerge(Xtrain_all_Scaled, Xtest_all_Scaled, n_comp=0.95)"
   ]
  },
  {
   "cell_type": "code",
   "execution_count": 4,
   "id": "lightweight-disclaimer",
   "metadata": {},
   "outputs": [
    {
     "data": {
      "text/plain": [
       "84"
      ]
     },
     "execution_count": 4,
     "metadata": {},
     "output_type": "execute_result"
    }
   ],
   "source": [
    "best_cb = model_dict['cb_0']\n",
    "best_cb.fit(Xtrain_all, ytrain_all)\n",
    "ytest_cb = ytest_all.copy()\n",
    "ytest_cb['PotentialFraud'] = best_cb.predict(Xtest_all)\n",
    "sum(ytest_cb['PotentialFraud'])"
   ]
  },
  {
   "cell_type": "code",
   "execution_count": 5,
   "id": "manual-supervisor",
   "metadata": {},
   "outputs": [
    {
     "data": {
      "text/plain": [
       "86"
      ]
     },
     "execution_count": 5,
     "metadata": {},
     "output_type": "execute_result"
    }
   ],
   "source": [
    "best_lgbm = model_dict['lgbm_1']\n",
    "best_lgbm.fit(Xtrain_all, ytrain_all.values.ravel())\n",
    "ytest_lgbm = ytest_all.copy()\n",
    "ytest_lgbm['PotentialFraud'] = best_lgbm.predict(Xtest_all)\n",
    "sum(ytest_lgbm['PotentialFraud'])"
   ]
  },
  {
   "cell_type": "code",
   "execution_count": 6,
   "id": "attached-launch",
   "metadata": {},
   "outputs": [
    {
     "name": "stderr",
     "output_type": "stream",
     "text": [
      "C:\\Users\\gottl\\Anaconda3\\lib\\site-packages\\sklearn\\model_selection\\_search.py:921: UserWarning: One or more of the test scores are non-finite: [       nan        nan        nan        nan        nan        nan\n",
      "        nan        nan        nan        nan        nan        nan\n",
      "        nan        nan        nan        nan        nan        nan\n",
      "        nan        nan        nan        nan        nan        nan\n",
      "        nan        nan        nan        nan        nan        nan\n",
      "        nan        nan        nan        nan        nan        nan\n",
      "        nan        nan        nan        nan        nan        nan\n",
      "        nan        nan        nan        nan        nan        nan\n",
      "        nan        nan        nan 0.93160727        nan 0.9314225\n",
      "        nan 0.93123762        nan 0.93105285        nan 0.93123773\n",
      "        nan 0.93049842        nan 0.9306832         nan 0.929944\n",
      "        nan 0.929944          nan 0.929944          nan 0.93031375\n",
      "        nan 0.93031375        nan 0.9306835         nan 0.9306835\n",
      "        nan 0.93031375        nan 0.9306835         nan 0.93031375\n",
      "        nan 0.93049852        nan 0.93049863        nan 0.93049863\n",
      "        nan 0.93086838        nan 0.93086828        nan 0.9306835\n",
      "        nan 0.93105326        nan 0.9306835 ]\n",
      "  category=UserWarning\n"
     ]
    },
    {
     "data": {
      "text/plain": [
       "62"
      ]
     },
     "execution_count": 6,
     "metadata": {},
     "output_type": "execute_result"
    }
   ],
   "source": [
    "best_lgr = model_dict['lgr_3_opt']\n",
    "best_lgr.fit(Xtrain_all_PCA, ytrain_all.values.ravel())\n",
    "ytest_lgr = ytest_all.copy()\n",
    "ytest_lgr['PotentialFraud'] = best_lgr.predict(Xtest_all_PCA)\n",
    "sum(ytest_lgr['PotentialFraud'])"
   ]
  },
  {
   "cell_type": "code",
   "execution_count": 7,
   "id": "atlantic-acceptance",
   "metadata": {},
   "outputs": [
    {
     "data": {
      "text/plain": [
       "62"
      ]
     },
     "execution_count": 7,
     "metadata": {},
     "output_type": "execute_result"
    }
   ],
   "source": [
    "best_knn = model_dict['knn_2_opt']\n",
    "best_knn.fit(Xtrain_all, ytrain_all.values.ravel())\n",
    "ytest_knn = ytest_all.copy()\n",
    "ytest_knn['PotentialFraud'] = best_knn.predict(Xtest_all)\n",
    "sum(ytest_knn['PotentialFraud'])"
   ]
  },
  {
   "cell_type": "code",
   "execution_count": 8,
   "id": "fifth-lyric",
   "metadata": {},
   "outputs": [
    {
     "data": {
      "text/plain": [
       "71"
      ]
     },
     "execution_count": 8,
     "metadata": {},
     "output_type": "execute_result"
    }
   ],
   "source": [
    "best_lda = model_dict['lda_3']\n",
    "best_lda.fit(Xtrain_all_PCA, ytrain_all.values.ravel())\n",
    "ytest_lda = ytest_all.copy()\n",
    "ytest_lda['PotentialFraud'] = best_lda.predict(Xtest_all_PCA)\n",
    "sum(ytest_lda['PotentialFraud'])"
   ]
  },
  {
   "cell_type": "code",
   "execution_count": 9,
   "id": "appointed-vintage",
   "metadata": {},
   "outputs": [
    {
     "data": {
      "text/plain": [
       "27"
      ]
     },
     "execution_count": 9,
     "metadata": {},
     "output_type": "execute_result"
    }
   ],
   "source": [
    "best_gnb = model_dict['gnb_2_opt']\n",
    "best_gnb.fit(Xtrain_all, ytrain_all.values.ravel())\n",
    "ytest_gnb = ytest_all.copy()\n",
    "ytest_gnb['PotentialFraud'] = best_gnb.predict(Xtest_all)\n",
    "sum(ytest_gnb['PotentialFraud'])"
   ]
  },
  {
   "cell_type": "code",
   "execution_count": 10,
   "id": "assisted-malaysia",
   "metadata": {},
   "outputs": [
    {
     "data": {
      "text/plain": [
       "41"
      ]
     },
     "execution_count": 10,
     "metadata": {},
     "output_type": "execute_result"
    }
   ],
   "source": [
    "best_svc = model_dict['svc_1_opt']\n",
    "best_svc.fit(Xtrain_all, ytrain_all.values.ravel())\n",
    "ytest_svc = ytest_all.copy()\n",
    "ytest_svc['PotentialFraud'] = best_svc.predict(Xtest_all)\n",
    "sum(ytest_svc['PotentialFraud'])"
   ]
  },
  {
   "cell_type": "code",
   "execution_count": 11,
   "id": "consistent-ending",
   "metadata": {},
   "outputs": [
    {
     "data": {
      "text/html": [
       "<div>\n",
       "<style scoped>\n",
       "    .dataframe tbody tr th:only-of-type {\n",
       "        vertical-align: middle;\n",
       "    }\n",
       "\n",
       "    .dataframe tbody tr th {\n",
       "        vertical-align: top;\n",
       "    }\n",
       "\n",
       "    .dataframe thead th {\n",
       "        text-align: right;\n",
       "    }\n",
       "</style>\n",
       "<table border=\"1\" class=\"dataframe\">\n",
       "  <thead>\n",
       "    <tr style=\"text-align: right;\">\n",
       "      <th></th>\n",
       "      <th>PotentialFraud</th>\n",
       "    </tr>\n",
       "    <tr>\n",
       "      <th>Provider</th>\n",
       "      <th></th>\n",
       "    </tr>\n",
       "  </thead>\n",
       "  <tbody>\n",
       "    <tr>\n",
       "      <th>PRV51002</th>\n",
       "      <td>0.0</td>\n",
       "    </tr>\n",
       "    <tr>\n",
       "      <th>PRV51006</th>\n",
       "      <td>0.0</td>\n",
       "    </tr>\n",
       "    <tr>\n",
       "      <th>PRV51009</th>\n",
       "      <td>0.0</td>\n",
       "    </tr>\n",
       "    <tr>\n",
       "      <th>PRV51010</th>\n",
       "      <td>0.0</td>\n",
       "    </tr>\n",
       "    <tr>\n",
       "      <th>PRV51018</th>\n",
       "      <td>0.0</td>\n",
       "    </tr>\n",
       "    <tr>\n",
       "      <th>...</th>\n",
       "      <td>...</td>\n",
       "    </tr>\n",
       "    <tr>\n",
       "      <th>PRV57713</th>\n",
       "      <td>0.0</td>\n",
       "    </tr>\n",
       "    <tr>\n",
       "      <th>PRV57726</th>\n",
       "      <td>0.0</td>\n",
       "    </tr>\n",
       "    <tr>\n",
       "      <th>PRV57745</th>\n",
       "      <td>0.0</td>\n",
       "    </tr>\n",
       "    <tr>\n",
       "      <th>PRV57749</th>\n",
       "      <td>0.0</td>\n",
       "    </tr>\n",
       "    <tr>\n",
       "      <th>PRV57750</th>\n",
       "      <td>0.0</td>\n",
       "    </tr>\n",
       "  </tbody>\n",
       "</table>\n",
       "<p>1353 rows × 1 columns</p>\n",
       "</div>"
      ],
      "text/plain": [
       "          PotentialFraud\n",
       "Provider                \n",
       "PRV51002             0.0\n",
       "PRV51006             0.0\n",
       "PRV51009             0.0\n",
       "PRV51010             0.0\n",
       "PRV51018             0.0\n",
       "...                  ...\n",
       "PRV57713             0.0\n",
       "PRV57726             0.0\n",
       "PRV57745             0.0\n",
       "PRV57749             0.0\n",
       "PRV57750             0.0\n",
       "\n",
       "[1353 rows x 1 columns]"
      ]
     },
     "execution_count": 11,
     "metadata": {},
     "output_type": "execute_result"
    }
   ],
   "source": [
    "ytest_stack_confidence = ytest_all.copy()\n",
    "ytest_stack_confidence['PotentialFraud'] = (ytest_cb['PotentialFraud'] + ytest_lgbm['PotentialFraud'] + ytest_lgr['PotentialFraud'] + ytest_knn['PotentialFraud'] + ytest_lda['PotentialFraud'] + ytest_gnb['PotentialFraud'] + ytest_svc['PotentialFraud'])  / 7\n",
    "ytest_stack_confidence"
   ]
  },
  {
   "cell_type": "code",
   "execution_count": 12,
   "id": "interim-queensland",
   "metadata": {},
   "outputs": [
    {
     "data": {
      "text/html": [
       "<div>\n",
       "<style scoped>\n",
       "    .dataframe tbody tr th:only-of-type {\n",
       "        vertical-align: middle;\n",
       "    }\n",
       "\n",
       "    .dataframe tbody tr th {\n",
       "        vertical-align: top;\n",
       "    }\n",
       "\n",
       "    .dataframe thead th {\n",
       "        text-align: right;\n",
       "    }\n",
       "</style>\n",
       "<table border=\"1\" class=\"dataframe\">\n",
       "  <thead>\n",
       "    <tr style=\"text-align: right;\">\n",
       "      <th></th>\n",
       "      <th>PotentialFraud</th>\n",
       "    </tr>\n",
       "    <tr>\n",
       "      <th>Provider</th>\n",
       "      <th></th>\n",
       "    </tr>\n",
       "  </thead>\n",
       "  <tbody>\n",
       "    <tr>\n",
       "      <th>PRV51002</th>\n",
       "      <td>0.0</td>\n",
       "    </tr>\n",
       "    <tr>\n",
       "      <th>PRV51006</th>\n",
       "      <td>0.0</td>\n",
       "    </tr>\n",
       "    <tr>\n",
       "      <th>PRV51009</th>\n",
       "      <td>0.0</td>\n",
       "    </tr>\n",
       "    <tr>\n",
       "      <th>PRV51010</th>\n",
       "      <td>0.0</td>\n",
       "    </tr>\n",
       "    <tr>\n",
       "      <th>PRV51018</th>\n",
       "      <td>0.0</td>\n",
       "    </tr>\n",
       "    <tr>\n",
       "      <th>...</th>\n",
       "      <td>...</td>\n",
       "    </tr>\n",
       "    <tr>\n",
       "      <th>PRV57713</th>\n",
       "      <td>0.0</td>\n",
       "    </tr>\n",
       "    <tr>\n",
       "      <th>PRV57726</th>\n",
       "      <td>0.0</td>\n",
       "    </tr>\n",
       "    <tr>\n",
       "      <th>PRV57745</th>\n",
       "      <td>0.0</td>\n",
       "    </tr>\n",
       "    <tr>\n",
       "      <th>PRV57749</th>\n",
       "      <td>0.0</td>\n",
       "    </tr>\n",
       "    <tr>\n",
       "      <th>PRV57750</th>\n",
       "      <td>0.0</td>\n",
       "    </tr>\n",
       "  </tbody>\n",
       "</table>\n",
       "<p>1353 rows × 1 columns</p>\n",
       "</div>"
      ],
      "text/plain": [
       "          PotentialFraud\n",
       "Provider                \n",
       "PRV51002             0.0\n",
       "PRV51006             0.0\n",
       "PRV51009             0.0\n",
       "PRV51010             0.0\n",
       "PRV51018             0.0\n",
       "...                  ...\n",
       "PRV57713             0.0\n",
       "PRV57726             0.0\n",
       "PRV57745             0.0\n",
       "PRV57749             0.0\n",
       "PRV57750             0.0\n",
       "\n",
       "[1353 rows x 1 columns]"
      ]
     },
     "execution_count": 12,
     "metadata": {},
     "output_type": "execute_result"
    }
   ],
   "source": [
    "ytest_stacked = np.round(ytest_stack_confidence)\n",
    "ytest_stacked"
   ]
  },
  {
   "cell_type": "code",
   "execution_count": 13,
   "id": "employed-algorithm",
   "metadata": {},
   "outputs": [],
   "source": [
    "ytest_cb.to_csv('ytest_cb.csv', header=True)\n",
    "ytest_lgbm.to_csv('ytest_lgbm.csv', header=True)\n",
    "ytest_lgr.to_csv('ytest_lgr.csv', header=True)\n",
    "ytest_knn.to_csv('ytest_knn.csv', header=True)\n",
    "ytest_lda.to_csv('ytest_lda.csv', header=True)\n",
    "ytest_gnb.to_csv('ytest_gnb.csv', header=True)\n",
    "ytest_svc.to_csv('ytest_svc.csv', header=True)\n",
    "ytest_stack_confidence.to_csv('ytest_stack_confidence.csv', header=True)\n",
    "ytest_stacked.to_csv('ytest_stacked.csv', header=True)"
   ]
  },
  {
   "cell_type": "code",
   "execution_count": 101,
   "id": "accompanied-loading",
   "metadata": {},
   "outputs": [
    {
     "data": {
      "text/html": [
       "<div>\n",
       "<style scoped>\n",
       "    .dataframe tbody tr th:only-of-type {\n",
       "        vertical-align: middle;\n",
       "    }\n",
       "\n",
       "    .dataframe tbody tr th {\n",
       "        vertical-align: top;\n",
       "    }\n",
       "\n",
       "    .dataframe thead th {\n",
       "        text-align: right;\n",
       "    }\n",
       "</style>\n",
       "<table border=\"1\" class=\"dataframe\">\n",
       "  <thead>\n",
       "    <tr style=\"text-align: right;\">\n",
       "      <th></th>\n",
       "      <th>index</th>\n",
       "      <th>Provider</th>\n",
       "      <th>Percentage</th>\n",
       "    </tr>\n",
       "  </thead>\n",
       "  <tbody>\n",
       "    <tr>\n",
       "      <th>0</th>\n",
       "      <td>1</td>\n",
       "      <td>30</td>\n",
       "      <td>0.022173</td>\n",
       "    </tr>\n",
       "    <tr>\n",
       "      <th>1</th>\n",
       "      <td>2</td>\n",
       "      <td>30</td>\n",
       "      <td>0.022173</td>\n",
       "    </tr>\n",
       "    <tr>\n",
       "      <th>2</th>\n",
       "      <td>3</td>\n",
       "      <td>10</td>\n",
       "      <td>0.007391</td>\n",
       "    </tr>\n",
       "    <tr>\n",
       "      <th>3</th>\n",
       "      <td>4</td>\n",
       "      <td>14</td>\n",
       "      <td>0.010347</td>\n",
       "    </tr>\n",
       "    <tr>\n",
       "      <th>4</th>\n",
       "      <td>5</td>\n",
       "      <td>9</td>\n",
       "      <td>0.006652</td>\n",
       "    </tr>\n",
       "    <tr>\n",
       "      <th>5</th>\n",
       "      <td>6</td>\n",
       "      <td>12</td>\n",
       "      <td>0.008869</td>\n",
       "    </tr>\n",
       "    <tr>\n",
       "      <th>6</th>\n",
       "      <td>7</td>\n",
       "      <td>20</td>\n",
       "      <td>0.014782</td>\n",
       "    </tr>\n",
       "  </tbody>\n",
       "</table>\n",
       "</div>"
      ],
      "text/plain": [
       "   index  Provider  Percentage\n",
       "0      1        30    0.022173\n",
       "1      2        30    0.022173\n",
       "2      3        10    0.007391\n",
       "3      4        14    0.010347\n",
       "4      5         9    0.006652\n",
       "5      6        12    0.008869\n",
       "6      7        20    0.014782"
      ]
     },
     "execution_count": 101,
     "metadata": {},
     "output_type": "execute_result"
    }
   ],
   "source": [
    "ytest_stack_confidence_group = ytest_stack_confidence.reset_index().groupby('PotentialFraud').agg('count')\n",
    "ytest_stack_confidence_group.index = range(8)\n",
    "ytest_stack_confidence_group['Percentage'] = ytest_stack_confidence_group.Provider / np.sum(ytest_stack_confidence_group.Provider)\n",
    "ytest_stack_graph = ytest_stack_confidence_group.loc[1:].reset_index()\n",
    "ytest_stack_graph"
   ]
  },
  {
   "cell_type": "code",
   "execution_count": 31,
   "id": "finite-haven",
   "metadata": {},
   "outputs": [
    {
     "data": {
      "text/html": [
       "<div>\n",
       "<style scoped>\n",
       "    .dataframe tbody tr th:only-of-type {\n",
       "        vertical-align: middle;\n",
       "    }\n",
       "\n",
       "    .dataframe tbody tr th {\n",
       "        vertical-align: top;\n",
       "    }\n",
       "\n",
       "    .dataframe thead th {\n",
       "        text-align: right;\n",
       "    }\n",
       "</style>\n",
       "<table border=\"1\" class=\"dataframe\">\n",
       "  <thead>\n",
       "    <tr style=\"text-align: right;\">\n",
       "      <th></th>\n",
       "      <th>PotentialFraud</th>\n",
       "    </tr>\n",
       "    <tr>\n",
       "      <th>Provider</th>\n",
       "      <th></th>\n",
       "    </tr>\n",
       "  </thead>\n",
       "  <tbody>\n",
       "    <tr>\n",
       "      <th>PRV51407</th>\n",
       "      <td>1.000000</td>\n",
       "    </tr>\n",
       "    <tr>\n",
       "      <th>PRV52080</th>\n",
       "      <td>1.000000</td>\n",
       "    </tr>\n",
       "    <tr>\n",
       "      <th>PRV52338</th>\n",
       "      <td>1.000000</td>\n",
       "    </tr>\n",
       "    <tr>\n",
       "      <th>PRV52618</th>\n",
       "      <td>1.000000</td>\n",
       "    </tr>\n",
       "    <tr>\n",
       "      <th>PRV53105</th>\n",
       "      <td>1.000000</td>\n",
       "    </tr>\n",
       "    <tr>\n",
       "      <th>...</th>\n",
       "      <td>...</td>\n",
       "    </tr>\n",
       "    <tr>\n",
       "      <th>PRV56532</th>\n",
       "      <td>0.142857</td>\n",
       "    </tr>\n",
       "    <tr>\n",
       "      <th>PRV56558</th>\n",
       "      <td>0.142857</td>\n",
       "    </tr>\n",
       "    <tr>\n",
       "      <th>PRV56666</th>\n",
       "      <td>0.142857</td>\n",
       "    </tr>\n",
       "    <tr>\n",
       "      <th>PRV56913</th>\n",
       "      <td>0.142857</td>\n",
       "    </tr>\n",
       "    <tr>\n",
       "      <th>PRV57123</th>\n",
       "      <td>0.142857</td>\n",
       "    </tr>\n",
       "  </tbody>\n",
       "</table>\n",
       "<p>125 rows × 1 columns</p>\n",
       "</div>"
      ],
      "text/plain": [
       "          PotentialFraud\n",
       "Provider                \n",
       "PRV51407        1.000000\n",
       "PRV52080        1.000000\n",
       "PRV52338        1.000000\n",
       "PRV52618        1.000000\n",
       "PRV53105        1.000000\n",
       "...                  ...\n",
       "PRV56532        0.142857\n",
       "PRV56558        0.142857\n",
       "PRV56666        0.142857\n",
       "PRV56913        0.142857\n",
       "PRV57123        0.142857\n",
       "\n",
       "[125 rows x 1 columns]"
      ]
     },
     "execution_count": 31,
     "metadata": {},
     "output_type": "execute_result"
    }
   ],
   "source": [
    "PotentialFraud = ytest_stack_confidence[ytest_stack_confidence.PotentialFraud != 0].sort_values(['PotentialFraud','Provider'], ascending=[False, True])\n",
    "PotentialFraud"
   ]
  },
  {
   "cell_type": "code",
   "execution_count": 142,
   "id": "vocal-format",
   "metadata": {},
   "outputs": [
    {
     "data": {
      "image/png": "[encoded data removed]",
      "text/plain": [
       "<Figure size 576x432 with 1 Axes>"
      ]
     },
     "metadata": {
      "needs_background": "light"
     },
     "output_type": "display_data"
    }
   ],
   "source": [
    "import seaborn as sns\n",
    "import matplotlib.pyplot as plt\n",
    "from matplotlib.lines import Line2D\n",
    "plt.figure(figsize=(8,6))\n",
    "ax = sns.barplot(x=ytest_stack_graph['index'], y=ytest_stack_graph['Provider'], palette=\"coolwarm\")\n",
    "plt.title(\"Stacked Confidence for Suspected Provider Fraud\", size=14)\n",
    "plt.ylabel(\"Number of Providers\", size=12)\n",
    "plt.xlabel(\"Number of ML Models identifying a Provider as Fraudulent\", size=12)\n",
    "plt.ylim(0,33)\n",
    "patches = ax.patches\n",
    "for i in range(len(patches)):\n",
    "    x = patches[i].get_x() + patches[i].get_width() / 2\n",
    "    y = patches[i].get_height() + 1.5\n",
    "    ax.annotate('{:.0f}'.format(ytest_stack_graph['Provider'][i]), (x, y), ha='center')\n",
    "    x = patches[i].get_x() + patches[i].get_width() / 2\n",
    "    y = patches[i].get_height() + .35\n",
    "    ax.annotate('({:.3f}%)'.format(ytest_stack_graph['Percentage'][i]), (x, y), ha='center')"
   ]
  },
  {
   "cell_type": "markdown",
   "id": "6943af8d",
   "metadata": {},
   "source": [
    "# Results & Discussion\n",
    "[Back to Top](#Machine-Learning-Processing)\n",
    "\n",
    "To recap, much of our exploration here has been to probe the usefulness of unsupervised learning in a pipelined format versus its application as a boosting procedure. Simultaneously, we have employed a diverse number of model types, including some newer devices in the CatBoostClassifier and the LightGBMClassifier.\n",
    "\n",
    "From much of our results, we have revealed that both uses of PCA have their respective uses, the latter, the PCA Boosting Procedure, seems to have the greatest effect of narrowing overfit results. However, the greatest results of accuracy come to us through the raw, LightGBM results.\n",
    "\n",
    "With that said, we will now turn our attention to the matter of insight from our findings. To whit, we will break this down into three parts:\n",
    "   - Feature Importance\n",
    "   - Prediction Refinement\n",
    "   - Business Relevance & Benefits"
   ]
  },
  {
   "cell_type": "code",
   "execution_count": null,
   "id": "2ed64627",
   "metadata": {},
   "outputs": [],
   "source": []
  },
  {
   "cell_type": "code",
   "execution_count": null,
   "id": "e8907269",
   "metadata": {},
   "outputs": [],
   "source": []
  },
  {
   "cell_type": "code",
   "execution_count": null,
   "id": "06738aba",
   "metadata": {},
   "outputs": [],
   "source": []
  },
  {
   "cell_type": "code",
   "execution_count": null,
   "id": "6d516cf9",
   "metadata": {},
   "outputs": [],
   "source": []
  }
 ],
 "metadata": {
  "kernelspec": {
   "display_name": "Python 3",
   "language": "python",
   "name": "python3"
  },
  "language_info": {
   "codemirror_mode": {
    "name": "ipython",
    "version": 3
   },
   "file_extension": ".py",
   "mimetype": "text/x-python",
   "name": "python",
   "nbconvert_exporter": "python",
   "pygments_lexer": "ipython3",
   "version": "3.7.9"
  }
 },
 "nbformat": 4,
 "nbformat_minor": 5
}
