{
 "cells": [
  {
   "cell_type": "markdown",
   "id": "15c5589c",
   "metadata": {},
   "source": [
    "# Machine Learning Processing\n",
    "\n",
    "### Contents\n",
    "\n",
    " - I. [Data Importing & Processing](#Data-Import-and-Processing)\n",
    " - II. [Modling Plan](#Modeling-Plan)\n",
    "     - [Iteration 0](#Iteration-0:-Tree-based-Naivete)\n",
    "     - [Iteration 1]\n",
    "     - [Iteration 2]\n",
    " - III. [Results & Discussion]\n",
    "     - [Business Impact]\n",
    "     - [Permutation Importance]"
   ]
  },
  {
   "cell_type": "code",
   "execution_count": 70,
   "id": "88e3f429",
   "metadata": {},
   "outputs": [],
   "source": [
    "# Import packages etc.\n",
    "import pandas as pd\n",
    "import seaborn as sns\n",
    "import numpy as np\n",
    "import matplotlib.pyplot as plt\n",
    "from scipy import stats\n",
    "import pickle"
   ]
  },
  {
   "cell_type": "markdown",
   "id": "a22f8be7",
   "metadata": {},
   "source": [
    "## Data Import and Processing"
   ]
  },
  {
   "cell_type": "code",
   "execution_count": 71,
   "id": "8375dcdf",
   "metadata": {},
   "outputs": [],
   "source": [
    "provdat = pickle.load(open('Xtrain.pickle', 'rb'))\n",
    "provtarg = pickle.load(open('Xtest.pickle', 'rb'))\n",
    "provgroup = pickle.load(open('Xdata.pickle', 'rb'))"
   ]
  },
  {
   "cell_type": "code",
   "execution_count": 72,
   "id": "bb6c6577",
   "metadata": {},
   "outputs": [
    {
     "name": "stdout",
     "output_type": "stream",
     "text": [
      "Data Shape: (5410, 70)\n"
     ]
    },
    {
     "data": {
      "text/html": [
       "<div>\n",
       "<style scoped>\n",
       "    .dataframe tbody tr th:only-of-type {\n",
       "        vertical-align: middle;\n",
       "    }\n",
       "\n",
       "    .dataframe tbody tr th {\n",
       "        vertical-align: top;\n",
       "    }\n",
       "\n",
       "    .dataframe thead th {\n",
       "        text-align: right;\n",
       "    }\n",
       "</style>\n",
       "<table border=\"1\" class=\"dataframe\">\n",
       "  <thead>\n",
       "    <tr style=\"text-align: right;\">\n",
       "      <th></th>\n",
       "      <th>Number_of_Claims</th>\n",
       "      <th>Num_Unique_Patients</th>\n",
       "      <th>Num_Unique_Docs</th>\n",
       "      <th>Num_Unique_Diag_Codes</th>\n",
       "      <th>Num_Unique_Proc_Codes</th>\n",
       "      <th>Mean_InscClaimAmtReimbursed</th>\n",
       "      <th>Mean_DeductibleAmtPaid</th>\n",
       "      <th>Mean_Reimbursement_per_Day</th>\n",
       "      <th>Mean_Length_of_Stay</th>\n",
       "      <th>Mean_Length_of_Claim</th>\n",
       "      <th>...</th>\n",
       "      <th>Perc_ClaimStartDt_March</th>\n",
       "      <th>Perc_ClaimStartDt_April</th>\n",
       "      <th>Perc_ClaimStartDt_May</th>\n",
       "      <th>Perc_ClaimStartDt_June</th>\n",
       "      <th>Perc_ClaimStartDt_July</th>\n",
       "      <th>Perc_ClaimStartDt_August</th>\n",
       "      <th>Perc_ClaimStartDt_September</th>\n",
       "      <th>Perc_ClaimStartDt_October</th>\n",
       "      <th>Perc_ClaimStartDt_November</th>\n",
       "      <th>Perc_ClaimStartDt_December</th>\n",
       "    </tr>\n",
       "    <tr>\n",
       "      <th>Provider</th>\n",
       "      <th></th>\n",
       "      <th></th>\n",
       "      <th></th>\n",
       "      <th></th>\n",
       "      <th></th>\n",
       "      <th></th>\n",
       "      <th></th>\n",
       "      <th></th>\n",
       "      <th></th>\n",
       "      <th></th>\n",
       "      <th></th>\n",
       "      <th></th>\n",
       "      <th></th>\n",
       "      <th></th>\n",
       "      <th></th>\n",
       "      <th></th>\n",
       "      <th></th>\n",
       "      <th></th>\n",
       "      <th></th>\n",
       "      <th></th>\n",
       "      <th></th>\n",
       "    </tr>\n",
       "  </thead>\n",
       "  <tbody>\n",
       "    <tr>\n",
       "      <th>PRV51001</th>\n",
       "      <td>25</td>\n",
       "      <td>24</td>\n",
       "      <td>19</td>\n",
       "      <td>72</td>\n",
       "      <td>3</td>\n",
       "      <td>4185.60</td>\n",
       "      <td>213.60</td>\n",
       "      <td>3700.00</td>\n",
       "      <td>6.00</td>\n",
       "      <td>2.44</td>\n",
       "      <td>...</td>\n",
       "      <td>0.12</td>\n",
       "      <td>0.08</td>\n",
       "      <td>0.20</td>\n",
       "      <td>0.12</td>\n",
       "      <td>0.08</td>\n",
       "      <td>0.04</td>\n",
       "      <td>0.04</td>\n",
       "      <td>0.00</td>\n",
       "      <td>0.00</td>\n",
       "      <td>0.08</td>\n",
       "    </tr>\n",
       "    <tr>\n",
       "      <th>PRV51003</th>\n",
       "      <td>132</td>\n",
       "      <td>117</td>\n",
       "      <td>51</td>\n",
       "      <td>365</td>\n",
       "      <td>39</td>\n",
       "      <td>4588.41</td>\n",
       "      <td>502.17</td>\n",
       "      <td>2137.42</td>\n",
       "      <td>6.16</td>\n",
       "      <td>4.67</td>\n",
       "      <td>...</td>\n",
       "      <td>0.08</td>\n",
       "      <td>0.08</td>\n",
       "      <td>0.06</td>\n",
       "      <td>0.11</td>\n",
       "      <td>0.08</td>\n",
       "      <td>0.10</td>\n",
       "      <td>0.07</td>\n",
       "      <td>0.08</td>\n",
       "      <td>0.08</td>\n",
       "      <td>0.05</td>\n",
       "    </tr>\n",
       "    <tr>\n",
       "      <th>PRV51004</th>\n",
       "      <td>149</td>\n",
       "      <td>138</td>\n",
       "      <td>48</td>\n",
       "      <td>267</td>\n",
       "      <td>0</td>\n",
       "      <td>350.13</td>\n",
       "      <td>2.08</td>\n",
       "      <td>0.00</td>\n",
       "      <td>0.00</td>\n",
       "      <td>2.43</td>\n",
       "      <td>...</td>\n",
       "      <td>0.12</td>\n",
       "      <td>0.07</td>\n",
       "      <td>0.05</td>\n",
       "      <td>0.07</td>\n",
       "      <td>0.09</td>\n",
       "      <td>0.07</td>\n",
       "      <td>0.08</td>\n",
       "      <td>0.07</td>\n",
       "      <td>0.05</td>\n",
       "      <td>0.11</td>\n",
       "    </tr>\n",
       "    <tr>\n",
       "      <th>PRV51005</th>\n",
       "      <td>1165</td>\n",
       "      <td>495</td>\n",
       "      <td>7</td>\n",
       "      <td>1294</td>\n",
       "      <td>0</td>\n",
       "      <td>241.12</td>\n",
       "      <td>3.18</td>\n",
       "      <td>0.00</td>\n",
       "      <td>0.00</td>\n",
       "      <td>2.09</td>\n",
       "      <td>...</td>\n",
       "      <td>0.10</td>\n",
       "      <td>0.08</td>\n",
       "      <td>0.07</td>\n",
       "      <td>0.09</td>\n",
       "      <td>0.08</td>\n",
       "      <td>0.08</td>\n",
       "      <td>0.09</td>\n",
       "      <td>0.10</td>\n",
       "      <td>0.06</td>\n",
       "      <td>0.07</td>\n",
       "    </tr>\n",
       "    <tr>\n",
       "      <th>PRV51007</th>\n",
       "      <td>72</td>\n",
       "      <td>58</td>\n",
       "      <td>11</td>\n",
       "      <td>165</td>\n",
       "      <td>1</td>\n",
       "      <td>468.19</td>\n",
       "      <td>45.33</td>\n",
       "      <td>1080.56</td>\n",
       "      <td>6.33</td>\n",
       "      <td>1.96</td>\n",
       "      <td>...</td>\n",
       "      <td>0.12</td>\n",
       "      <td>0.06</td>\n",
       "      <td>0.12</td>\n",
       "      <td>0.12</td>\n",
       "      <td>0.04</td>\n",
       "      <td>0.08</td>\n",
       "      <td>0.10</td>\n",
       "      <td>0.03</td>\n",
       "      <td>0.08</td>\n",
       "      <td>0.08</td>\n",
       "    </tr>\n",
       "  </tbody>\n",
       "</table>\n",
       "<p>5 rows × 70 columns</p>\n",
       "</div>"
      ],
      "text/plain": [
       "          Number_of_Claims  Num_Unique_Patients  Num_Unique_Docs  \\\n",
       "Provider                                                           \n",
       "PRV51001                25                   24               19   \n",
       "PRV51003               132                  117               51   \n",
       "PRV51004               149                  138               48   \n",
       "PRV51005              1165                  495                7   \n",
       "PRV51007                72                   58               11   \n",
       "\n",
       "          Num_Unique_Diag_Codes  Num_Unique_Proc_Codes  \\\n",
       "Provider                                                 \n",
       "PRV51001                     72                      3   \n",
       "PRV51003                    365                     39   \n",
       "PRV51004                    267                      0   \n",
       "PRV51005                   1294                      0   \n",
       "PRV51007                    165                      1   \n",
       "\n",
       "          Mean_InscClaimAmtReimbursed  Mean_DeductibleAmtPaid  \\\n",
       "Provider                                                        \n",
       "PRV51001                      4185.60                  213.60   \n",
       "PRV51003                      4588.41                  502.17   \n",
       "PRV51004                       350.13                    2.08   \n",
       "PRV51005                       241.12                    3.18   \n",
       "PRV51007                       468.19                   45.33   \n",
       "\n",
       "          Mean_Reimbursement_per_Day  Mean_Length_of_Stay  \\\n",
       "Provider                                                    \n",
       "PRV51001                     3700.00                 6.00   \n",
       "PRV51003                     2137.42                 6.16   \n",
       "PRV51004                        0.00                 0.00   \n",
       "PRV51005                        0.00                 0.00   \n",
       "PRV51007                     1080.56                 6.33   \n",
       "\n",
       "          Mean_Length_of_Claim  ...  Perc_ClaimStartDt_March  \\\n",
       "Provider                        ...                            \n",
       "PRV51001                  2.44  ...                     0.12   \n",
       "PRV51003                  4.67  ...                     0.08   \n",
       "PRV51004                  2.43  ...                     0.12   \n",
       "PRV51005                  2.09  ...                     0.10   \n",
       "PRV51007                  1.96  ...                     0.12   \n",
       "\n",
       "          Perc_ClaimStartDt_April  Perc_ClaimStartDt_May  \\\n",
       "Provider                                                   \n",
       "PRV51001                     0.08                   0.20   \n",
       "PRV51003                     0.08                   0.06   \n",
       "PRV51004                     0.07                   0.05   \n",
       "PRV51005                     0.08                   0.07   \n",
       "PRV51007                     0.06                   0.12   \n",
       "\n",
       "          Perc_ClaimStartDt_June  Perc_ClaimStartDt_July  \\\n",
       "Provider                                                   \n",
       "PRV51001                    0.12                    0.08   \n",
       "PRV51003                    0.11                    0.08   \n",
       "PRV51004                    0.07                    0.09   \n",
       "PRV51005                    0.09                    0.08   \n",
       "PRV51007                    0.12                    0.04   \n",
       "\n",
       "          Perc_ClaimStartDt_August  Perc_ClaimStartDt_September  \\\n",
       "Provider                                                          \n",
       "PRV51001                      0.04                         0.04   \n",
       "PRV51003                      0.10                         0.07   \n",
       "PRV51004                      0.07                         0.08   \n",
       "PRV51005                      0.08                         0.09   \n",
       "PRV51007                      0.08                         0.10   \n",
       "\n",
       "          Perc_ClaimStartDt_October  Perc_ClaimStartDt_November  \\\n",
       "Provider                                                          \n",
       "PRV51001                       0.00                        0.00   \n",
       "PRV51003                       0.08                        0.08   \n",
       "PRV51004                       0.07                        0.05   \n",
       "PRV51005                       0.10                        0.06   \n",
       "PRV51007                       0.03                        0.08   \n",
       "\n",
       "          Perc_ClaimStartDt_December  \n",
       "Provider                              \n",
       "PRV51001                        0.08  \n",
       "PRV51003                        0.05  \n",
       "PRV51004                        0.11  \n",
       "PRV51005                        0.07  \n",
       "PRV51007                        0.08  \n",
       "\n",
       "[5 rows x 70 columns]"
      ]
     },
     "execution_count": 72,
     "metadata": {},
     "output_type": "execute_result"
    }
   ],
   "source": [
    "# Examining Pre-Aggregated Per-Provider Data\n",
    "print('Data Shape: ' + str(provdat.shape))\n",
    "provdat.head()"
   ]
  },
  {
   "cell_type": "code",
   "execution_count": 73,
   "id": "e77348c7",
   "metadata": {},
   "outputs": [
    {
     "name": "stdout",
     "output_type": "stream",
     "text": [
      "Data Shape: (5410,)\n"
     ]
    },
    {
     "data": {
      "text/plain": [
       "Provider\n",
       "PRV51001    0\n",
       "PRV51003    1\n",
       "PRV51004    0\n",
       "PRV51005    1\n",
       "PRV51007    0\n",
       "Name: PotentialFraud, dtype: int64"
      ]
     },
     "execution_count": 73,
     "metadata": {},
     "output_type": "execute_result"
    }
   ],
   "source": [
    "# Examining Per-Provider Incidence of Fradulence\n",
    "print('Data Shape: ' + str(provtarg.shape))\n",
    "provtarg.head()"
   ]
  },
  {
   "cell_type": "code",
   "execution_count": 74,
   "id": "4715a100",
   "metadata": {},
   "outputs": [
    {
     "data": {
      "text/html": [
       "<div>\n",
       "<style scoped>\n",
       "    .dataframe tbody tr th:only-of-type {\n",
       "        vertical-align: middle;\n",
       "    }\n",
       "\n",
       "    .dataframe tbody tr th {\n",
       "        vertical-align: top;\n",
       "    }\n",
       "\n",
       "    .dataframe thead th {\n",
       "        text-align: right;\n",
       "    }\n",
       "</style>\n",
       "<table border=\"1\" class=\"dataframe\">\n",
       "  <thead>\n",
       "    <tr style=\"text-align: right;\">\n",
       "      <th></th>\n",
       "      <th>Number_of_Claims</th>\n",
       "      <th>Num_Unique_Patients</th>\n",
       "      <th>Num_Unique_Docs</th>\n",
       "      <th>Num_Unique_Diag_Codes</th>\n",
       "      <th>Num_Unique_Proc_Codes</th>\n",
       "      <th>Mean_InscClaimAmtReimbursed</th>\n",
       "      <th>Mean_DeductibleAmtPaid</th>\n",
       "      <th>Mean_Reimbursement_per_Day</th>\n",
       "      <th>Mean_Length_of_Stay</th>\n",
       "      <th>Mean_Length_of_Claim</th>\n",
       "      <th>...</th>\n",
       "      <th>Perc_ClaimStartDt_April</th>\n",
       "      <th>Perc_ClaimStartDt_May</th>\n",
       "      <th>Perc_ClaimStartDt_June</th>\n",
       "      <th>Perc_ClaimStartDt_July</th>\n",
       "      <th>Perc_ClaimStartDt_August</th>\n",
       "      <th>Perc_ClaimStartDt_September</th>\n",
       "      <th>Perc_ClaimStartDt_October</th>\n",
       "      <th>Perc_ClaimStartDt_November</th>\n",
       "      <th>Perc_ClaimStartDt_December</th>\n",
       "      <th>PotentialFraud</th>\n",
       "    </tr>\n",
       "    <tr>\n",
       "      <th>Provider</th>\n",
       "      <th></th>\n",
       "      <th></th>\n",
       "      <th></th>\n",
       "      <th></th>\n",
       "      <th></th>\n",
       "      <th></th>\n",
       "      <th></th>\n",
       "      <th></th>\n",
       "      <th></th>\n",
       "      <th></th>\n",
       "      <th></th>\n",
       "      <th></th>\n",
       "      <th></th>\n",
       "      <th></th>\n",
       "      <th></th>\n",
       "      <th></th>\n",
       "      <th></th>\n",
       "      <th></th>\n",
       "      <th></th>\n",
       "      <th></th>\n",
       "      <th></th>\n",
       "    </tr>\n",
       "  </thead>\n",
       "  <tbody>\n",
       "    <tr>\n",
       "      <th>PRV51001</th>\n",
       "      <td>25</td>\n",
       "      <td>24</td>\n",
       "      <td>19</td>\n",
       "      <td>72</td>\n",
       "      <td>3</td>\n",
       "      <td>4185.60</td>\n",
       "      <td>213.60</td>\n",
       "      <td>3700.00</td>\n",
       "      <td>6.00</td>\n",
       "      <td>2.44</td>\n",
       "      <td>...</td>\n",
       "      <td>0.08</td>\n",
       "      <td>0.20</td>\n",
       "      <td>0.12</td>\n",
       "      <td>0.08</td>\n",
       "      <td>0.04</td>\n",
       "      <td>0.04</td>\n",
       "      <td>0.00</td>\n",
       "      <td>0.00</td>\n",
       "      <td>0.08</td>\n",
       "      <td>0</td>\n",
       "    </tr>\n",
       "    <tr>\n",
       "      <th>PRV51003</th>\n",
       "      <td>132</td>\n",
       "      <td>117</td>\n",
       "      <td>51</td>\n",
       "      <td>365</td>\n",
       "      <td>39</td>\n",
       "      <td>4588.41</td>\n",
       "      <td>502.17</td>\n",
       "      <td>2137.42</td>\n",
       "      <td>6.16</td>\n",
       "      <td>4.67</td>\n",
       "      <td>...</td>\n",
       "      <td>0.08</td>\n",
       "      <td>0.06</td>\n",
       "      <td>0.11</td>\n",
       "      <td>0.08</td>\n",
       "      <td>0.10</td>\n",
       "      <td>0.07</td>\n",
       "      <td>0.08</td>\n",
       "      <td>0.08</td>\n",
       "      <td>0.05</td>\n",
       "      <td>1</td>\n",
       "    </tr>\n",
       "    <tr>\n",
       "      <th>PRV51004</th>\n",
       "      <td>149</td>\n",
       "      <td>138</td>\n",
       "      <td>48</td>\n",
       "      <td>267</td>\n",
       "      <td>0</td>\n",
       "      <td>350.13</td>\n",
       "      <td>2.08</td>\n",
       "      <td>0.00</td>\n",
       "      <td>0.00</td>\n",
       "      <td>2.43</td>\n",
       "      <td>...</td>\n",
       "      <td>0.07</td>\n",
       "      <td>0.05</td>\n",
       "      <td>0.07</td>\n",
       "      <td>0.09</td>\n",
       "      <td>0.07</td>\n",
       "      <td>0.08</td>\n",
       "      <td>0.07</td>\n",
       "      <td>0.05</td>\n",
       "      <td>0.11</td>\n",
       "      <td>0</td>\n",
       "    </tr>\n",
       "    <tr>\n",
       "      <th>PRV51005</th>\n",
       "      <td>1165</td>\n",
       "      <td>495</td>\n",
       "      <td>7</td>\n",
       "      <td>1294</td>\n",
       "      <td>0</td>\n",
       "      <td>241.12</td>\n",
       "      <td>3.18</td>\n",
       "      <td>0.00</td>\n",
       "      <td>0.00</td>\n",
       "      <td>2.09</td>\n",
       "      <td>...</td>\n",
       "      <td>0.08</td>\n",
       "      <td>0.07</td>\n",
       "      <td>0.09</td>\n",
       "      <td>0.08</td>\n",
       "      <td>0.08</td>\n",
       "      <td>0.09</td>\n",
       "      <td>0.10</td>\n",
       "      <td>0.06</td>\n",
       "      <td>0.07</td>\n",
       "      <td>1</td>\n",
       "    </tr>\n",
       "    <tr>\n",
       "      <th>PRV51007</th>\n",
       "      <td>72</td>\n",
       "      <td>58</td>\n",
       "      <td>11</td>\n",
       "      <td>165</td>\n",
       "      <td>1</td>\n",
       "      <td>468.19</td>\n",
       "      <td>45.33</td>\n",
       "      <td>1080.56</td>\n",
       "      <td>6.33</td>\n",
       "      <td>1.96</td>\n",
       "      <td>...</td>\n",
       "      <td>0.06</td>\n",
       "      <td>0.12</td>\n",
       "      <td>0.12</td>\n",
       "      <td>0.04</td>\n",
       "      <td>0.08</td>\n",
       "      <td>0.10</td>\n",
       "      <td>0.03</td>\n",
       "      <td>0.08</td>\n",
       "      <td>0.08</td>\n",
       "      <td>0</td>\n",
       "    </tr>\n",
       "  </tbody>\n",
       "</table>\n",
       "<p>5 rows × 71 columns</p>\n",
       "</div>"
      ],
      "text/plain": [
       "          Number_of_Claims  Num_Unique_Patients  Num_Unique_Docs  \\\n",
       "Provider                                                           \n",
       "PRV51001                25                   24               19   \n",
       "PRV51003               132                  117               51   \n",
       "PRV51004               149                  138               48   \n",
       "PRV51005              1165                  495                7   \n",
       "PRV51007                72                   58               11   \n",
       "\n",
       "          Num_Unique_Diag_Codes  Num_Unique_Proc_Codes  \\\n",
       "Provider                                                 \n",
       "PRV51001                     72                      3   \n",
       "PRV51003                    365                     39   \n",
       "PRV51004                    267                      0   \n",
       "PRV51005                   1294                      0   \n",
       "PRV51007                    165                      1   \n",
       "\n",
       "          Mean_InscClaimAmtReimbursed  Mean_DeductibleAmtPaid  \\\n",
       "Provider                                                        \n",
       "PRV51001                      4185.60                  213.60   \n",
       "PRV51003                      4588.41                  502.17   \n",
       "PRV51004                       350.13                    2.08   \n",
       "PRV51005                       241.12                    3.18   \n",
       "PRV51007                       468.19                   45.33   \n",
       "\n",
       "          Mean_Reimbursement_per_Day  Mean_Length_of_Stay  \\\n",
       "Provider                                                    \n",
       "PRV51001                     3700.00                 6.00   \n",
       "PRV51003                     2137.42                 6.16   \n",
       "PRV51004                        0.00                 0.00   \n",
       "PRV51005                        0.00                 0.00   \n",
       "PRV51007                     1080.56                 6.33   \n",
       "\n",
       "          Mean_Length_of_Claim  ...  Perc_ClaimStartDt_April  \\\n",
       "Provider                        ...                            \n",
       "PRV51001                  2.44  ...                     0.08   \n",
       "PRV51003                  4.67  ...                     0.08   \n",
       "PRV51004                  2.43  ...                     0.07   \n",
       "PRV51005                  2.09  ...                     0.08   \n",
       "PRV51007                  1.96  ...                     0.06   \n",
       "\n",
       "          Perc_ClaimStartDt_May  Perc_ClaimStartDt_June  \\\n",
       "Provider                                                  \n",
       "PRV51001                   0.20                    0.12   \n",
       "PRV51003                   0.06                    0.11   \n",
       "PRV51004                   0.05                    0.07   \n",
       "PRV51005                   0.07                    0.09   \n",
       "PRV51007                   0.12                    0.12   \n",
       "\n",
       "          Perc_ClaimStartDt_July  Perc_ClaimStartDt_August  \\\n",
       "Provider                                                     \n",
       "PRV51001                    0.08                      0.04   \n",
       "PRV51003                    0.08                      0.10   \n",
       "PRV51004                    0.09                      0.07   \n",
       "PRV51005                    0.08                      0.08   \n",
       "PRV51007                    0.04                      0.08   \n",
       "\n",
       "          Perc_ClaimStartDt_September  Perc_ClaimStartDt_October  \\\n",
       "Provider                                                           \n",
       "PRV51001                         0.04                       0.00   \n",
       "PRV51003                         0.07                       0.08   \n",
       "PRV51004                         0.08                       0.07   \n",
       "PRV51005                         0.09                       0.10   \n",
       "PRV51007                         0.10                       0.03   \n",
       "\n",
       "          Perc_ClaimStartDt_November  Perc_ClaimStartDt_December  \\\n",
       "Provider                                                           \n",
       "PRV51001                        0.00                        0.08   \n",
       "PRV51003                        0.08                        0.05   \n",
       "PRV51004                        0.05                        0.11   \n",
       "PRV51005                        0.06                        0.07   \n",
       "PRV51007                        0.08                        0.08   \n",
       "\n",
       "          PotentialFraud  \n",
       "Provider                  \n",
       "PRV51001               0  \n",
       "PRV51003               1  \n",
       "PRV51004               0  \n",
       "PRV51005               1  \n",
       "PRV51007               0  \n",
       "\n",
       "[5 rows x 71 columns]"
      ]
     },
     "execution_count": 74,
     "metadata": {},
     "output_type": "execute_result"
    }
   ],
   "source": [
    "# Combining Target data with Provider data to generate supervised learning dataset\n",
    "xdata = pd.merge(provdat.reset_index(), provtarg.reset_index(), on='Provider').set_index('Provider')\n",
    "xdata.head()"
   ]
  },
  {
   "cell_type": "code",
   "execution_count": 75,
   "id": "0345fb83",
   "metadata": {},
   "outputs": [
    {
     "name": "stdout",
     "output_type": "stream",
     "text": [
      "Training Data shape: (4328, 70)\n",
      "Test Data Shape: (1082, 70)\n"
     ]
    }
   ],
   "source": [
    "from sklearn.model_selection import train_test_split\n",
    "\n",
    "# Split the data into train & test sets for supervised learning\n",
    "Xtrain, Xtest, ytrain, ytest = train_test_split(xdata.iloc[:, :-1],\n",
    "                                               xdata.iloc[:, -1:],\n",
    "                                               test_size=0.2,\n",
    "                                               random_state=430)\n",
    "\n",
    "# Quick Heads Up\n",
    "print('Training Data shape: ' + str(Xtrain.shape))\n",
    "print('Test Data Shape: ' + str(Xtest.shape))"
   ]
  },
  {
   "cell_type": "markdown",
   "id": "c1e25a40",
   "metadata": {},
   "source": [
    "## Modeling Plan\n",
    "The general strategy of our approach incorporates an initial, broad spectrum testing of models, including the following.\n",
    " - Logistic Regression\n",
    " - KNN\n",
    " - Discriminant Analysis\n",
    " - Naive Bayes\n",
    " - SVM\n",
    " - CatBoost\n",
    " - Light GBM\n",
    "\n",
    "This grouping should represent a decent collection of well-worn, classical methods with exceptionally long history & documentation as well as newer, useful methodologies. Of particular interest to this last point will be **Catboost & Light GBM**, two Gradient Boosting models that have shown a great deal of promise in terms of efficiency & accuracy.\n",
    "\n",
    "### Iterative Strategy | What We Care About \n",
    " - Iteration 0: Naive, untouched modeling with tree-based models; just fit.\n",
    " - Iteration 1: Pipeline == SCALE(No Norm) & FIT; no unsupervised.\n",
    "     - 1a for gridsearch?\n",
    " - Iteration 2: Pipeline == SCALE(No Norm), PCA, & FIT.\n",
    "     - 2a for gridsearch?\n",
    " \n",
    "### Naming Procedure\n",
    "We can abbreviate the model name alongside iteration number to keep track (eg. \"cb0\" for \"Catboost, Iteration 0)"
   ]
  },
  {
   "cell_type": "markdown",
   "id": "5bee1c09",
   "metadata": {},
   "source": [
    "### Iteration 0: Tree-based Naivete\n",
    "[Back to Top](#Machine-Learning-Processing)\n",
    "\n",
    "Both Catboost & Light GBM are quite capable of handling practically unprocessed data, such as we have imported. For further reference, please consult their respective documentation. Here we will process these for some initial yield results."
   ]
  },
  {
   "cell_type": "code",
   "execution_count": 76,
   "id": "facial-columbus",
   "metadata": {},
   "outputs": [
    {
     "name": "stdout",
     "output_type": "stream",
     "text": [
      "CatBoost Train R2 Score: 0.9972273567467652\n",
      "CatBoost Test R2 Score: 0.9316081330868762\n"
     ]
    }
   ],
   "source": [
    "from catboost import CatBoostClassifier\n",
    "cb0 = CatBoostClassifier(verbose=False)\n",
    "cb0.fit(Xtrain, ytrain)\n",
    "cb0.score(Xtest, ytest)\n",
    "print('CatBoost Train R2 Score:', cb0.score(Xtrain, ytrain))\n",
    "print('CatBoost Test R2 Score:', cb0.score(Xtest, ytest))"
   ]
  },
  {
   "cell_type": "code",
   "execution_count": 77,
   "id": "nonprofit-tuner",
   "metadata": {
    "scrolled": true
   },
   "outputs": [
    {
     "name": "stdout",
     "output_type": "stream",
     "text": [
      "LightGBM Boost Train R2 Score: 1.0\n",
      "LightGBM Boost Test R2 Score: 0.9343807763401109\n"
     ]
    },
    {
     "name": "stderr",
     "output_type": "stream",
     "text": [
      "/home/theodore/anaconda3/lib/python3.8/site-packages/sklearn/utils/validation.py:63: DataConversionWarning: A column-vector y was passed when a 1d array was expected. Please change the shape of y to (n_samples, ), for example using ravel().\n",
      "  return f(*args, **kwargs)\n"
     ]
    }
   ],
   "source": [
    "from lightgbm import LGBMClassifier\n",
    "lgbm0 = LGBMClassifier()\n",
    "lgbm0.fit(Xtrain, ytrain)\n",
    "print('LightGBM Boost Train R2 Score:', lgbm0.score(Xtrain, ytrain))\n",
    "print('LightGBM Boost Test R2 Score:', lgbm0.score(Xtest, ytest))"
   ]
  },
  {
   "cell_type": "markdown",
   "id": "1efafc4f",
   "metadata": {},
   "source": [
    "### Iteration 1: Baby's First Pipe\n",
    "Our goal here will be to test the results with some initial scaling built into a pipeline. "
   ]
  },
  {
   "cell_type": "code",
   "execution_count": 78,
   "id": "a1177238",
   "metadata": {},
   "outputs": [
    {
     "data": {
      "text/plain": [
       "27.769"
      ]
     },
     "execution_count": 78,
     "metadata": {},
     "output_type": "execute_result"
    }
   ],
   "source": [
    "Xtrain.iloc[-badindices[0], 24].mean()"
   ]
  },
  {
   "cell_type": "code",
   "execution_count": 79,
   "id": "bd2db1fd",
   "metadata": {},
   "outputs": [
    {
     "data": {
      "text/plain": [
       "(array([ 220, 1330, 1347, 2198, 2599, 2614, 2920, 2946, 3951, 4321]),\n",
       " array([24, 24, 24, 24, 24, 24, 24, 24, 24, 24]))"
      ]
     },
     "execution_count": 79,
     "metadata": {},
     "output_type": "execute_result"
    }
   ],
   "source": [
    "badindices = np.where(np.isinf(Xtrain))\n",
    "badindices"
   ]
  },
  {
   "cell_type": "code",
   "execution_count": 80,
   "id": "0bfe83d1",
   "metadata": {},
   "outputs": [],
   "source": [
    "Xtrain.iloc[badindices[0], 24] = Xtrain.iloc[-badindices[0], 24].mean()"
   ]
  },
  {
   "cell_type": "code",
   "execution_count": 81,
   "id": "67aa3fd8",
   "metadata": {},
   "outputs": [],
   "source": [
    "badtests = np.where(np.isinf(Xtest))\n",
    "Xtest.iloc[badtests[0], 24] = Xtrain.iloc[-badindices[0], 24].mean()"
   ]
  },
  {
   "cell_type": "code",
   "execution_count": 82,
   "id": "faf8d42c",
   "metadata": {},
   "outputs": [
    {
     "name": "stderr",
     "output_type": "stream",
     "text": [
      "/home/theodore/anaconda3/lib/python3.8/site-packages/sklearn/utils/validation.py:63: DataConversionWarning: A column-vector y was passed when a 1d array was expected. Please change the shape of y to (n_samples, ), for example using ravel().\n",
      "  return f(*args, **kwargs)\n"
     ]
    },
    {
     "name": "stdout",
     "output_type": "stream",
     "text": [
      "Logistic Regression Train Score: 0.9376155268022182\n",
      "Logistic Regression Test Score: 0.922365988909427\n"
     ]
    }
   ],
   "source": [
    "# IT1: Logistic Regression\n",
    "from sklearn.pipeline import Pipeline\n",
    "from sklearn.linear_model import LogisticRegression\n",
    "from sklearn.preprocessing import StandardScaler\n",
    "lgr1 = Pipeline(steps=[('scaler', StandardScaler()),\n",
    "                      ('logistic', LogisticRegression(n_jobs=-2))])\n",
    "lgr1.fit(Xtrain, ytrain)\n",
    "print('Logistic Regression Train Score:', lgr1.score(Xtrain, ytrain))\n",
    "print('Logistic Regression Test Score:', lgr1.score(Xtest, ytest))"
   ]
  },
  {
   "cell_type": "code",
   "execution_count": 84,
   "id": "298ca004",
   "metadata": {},
   "outputs": [
    {
     "name": "stderr",
     "output_type": "stream",
     "text": [
      "/home/theodore/anaconda3/lib/python3.8/site-packages/sklearn/neighbors/_classification.py:179: DataConversionWarning: A column-vector y was passed when a 1d array was expected. Please change the shape of y to (n_samples,), for example using ravel().\n",
      "  return self._fit(X, y)\n"
     ]
    },
    {
     "name": "stdout",
     "output_type": "stream",
     "text": [
      "KNearestNeighbors Train Score: 0.9396950092421442\n",
      "KNearestNeighbors Test Score: 0.9186691312384473\n"
     ]
    }
   ],
   "source": [
    "# IT1: KNN\n",
    "from sklearn.neighbors import KNeighborsClassifier\n",
    "knn1 = Pipeline(steps=[('scaler', StandardScaler()),\n",
    "                      ('knn', KNeighborsClassifier(n_jobs=-2))])\n",
    "knn1.fit(Xtrain, ytrain)\n",
    "print('KNearestNeighbors Train Score:', knn1.score(Xtrain, ytrain))\n",
    "print('KNearestNeighbors Test Score:', knn1.score(Xtest, ytest))"
   ]
  },
  {
   "cell_type": "code",
   "execution_count": 87,
   "id": "5ad9df74",
   "metadata": {},
   "outputs": [
    {
     "name": "stdout",
     "output_type": "stream",
     "text": [
      "LDA Train Score: 0.9348428835489834\n",
      "LDA Test Score: 0.9195933456561922\n"
     ]
    },
    {
     "name": "stderr",
     "output_type": "stream",
     "text": [
      "/home/theodore/anaconda3/lib/python3.8/site-packages/sklearn/utils/validation.py:63: DataConversionWarning: A column-vector y was passed when a 1d array was expected. Please change the shape of y to (n_samples, ), for example using ravel().\n",
      "  return f(*args, **kwargs)\n"
     ]
    }
   ],
   "source": [
    "# IT1: LDA\n",
    "from sklearn.discriminant_analysis import LinearDiscriminantAnalysis\n",
    "lda1 = Pipeline(steps=[('scaler', StandardScaler()),\n",
    "                      ('lda', LinearDiscriminantAnalysis())])\n",
    "lda1.fit(Xtrain, ytrain)\n",
    "print('LDA Train Score:', lda1.score(Xtrain, ytrain))\n",
    "print('LDA Test Score:', lda1.score(Xtest, ytest))"
   ]
  },
  {
   "cell_type": "code",
   "execution_count": 89,
   "id": "cc5b5e41",
   "metadata": {},
   "outputs": [
    {
     "name": "stdout",
     "output_type": "stream",
     "text": [
      "GNB Train Score 0.6984750462107209\n",
      "GNB Test Score 0.6728280961182994\n"
     ]
    },
    {
     "name": "stderr",
     "output_type": "stream",
     "text": [
      "/home/theodore/anaconda3/lib/python3.8/site-packages/sklearn/utils/validation.py:63: DataConversionWarning: A column-vector y was passed when a 1d array was expected. Please change the shape of y to (n_samples, ), for example using ravel().\n",
      "  return f(*args, **kwargs)\n"
     ]
    }
   ],
   "source": [
    "# IT1: GNB\n",
    "from sklearn.naive_bayes import GaussianNB\n",
    "gnb1 = Pipeline(steps=[('scaler', StandardScaler()),\n",
    "                      ('gnb', GaussianNB())])\n",
    "gnb1.fit(Xtrain, ytrain)\n",
    "print('GNB Train Score', gnb1.score(Xtrain, ytrain))\n",
    "print('GNB Test Score', gnb1.score(Xtest, ytest))"
   ]
  },
  {
   "cell_type": "code",
   "execution_count": null,
   "id": "165e8035",
   "metadata": {},
   "outputs": [],
   "source": []
  },
  {
   "cell_type": "code",
   "execution_count": 91,
   "id": "62eae190",
   "metadata": {},
   "outputs": [
    {
     "name": "stderr",
     "output_type": "stream",
     "text": [
      "/home/theodore/anaconda3/lib/python3.8/site-packages/sklearn/utils/validation.py:63: DataConversionWarning: A column-vector y was passed when a 1d array was expected. Please change the shape of y to (n_samples, ), for example using ravel().\n",
      "  return f(*args, **kwargs)\n"
     ]
    },
    {
     "name": "stdout",
     "output_type": "stream",
     "text": [
      "SVC Train Score 0.9413123844731978\n",
      "SVC Test Score 0.9242144177449169\n"
     ]
    }
   ],
   "source": [
    "# IT1: SVM\n",
    "from sklearn.svm import SVC\n",
    "svc1 = Pipeline(steps=[('scaler', StandardScaler()),\n",
    "                      ('svc', SVC())])\n",
    "svc1.fit(Xtrain, ytrain)\n",
    "print('SVC Train Score', svc1.score(Xtrain, ytrain))\n",
    "print('SVC Test Score', svc1.score(Xtest, ytest))"
   ]
  }
 ],
 "metadata": {
  "kernelspec": {
   "display_name": "Python 3",
   "language": "python",
   "name": "python3"
  },
  "language_info": {
   "codemirror_mode": {
    "name": "ipython",
    "version": 3
   },
   "file_extension": ".py",
   "mimetype": "text/x-python",
   "name": "python",
   "nbconvert_exporter": "python",
   "pygments_lexer": "ipython3",
   "version": "3.8.10"
  }
 },
 "nbformat": 4,
 "nbformat_minor": 5
}
