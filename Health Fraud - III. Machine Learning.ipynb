{
 "cells": [
  {
   "cell_type": "markdown",
   "id": "15c5589c",
   "metadata": {},
   "source": [
    "# Machine Learning Processing\n",
    "\n",
    "### Contents\n",
    "\n",
    " - I. [Data Importing & Processing](#Data-Import-and-Processing)\n",
    " - II. [Modeling Plan](#Modeling-Plan)\n",
    "     - [Iteration 0](#Iteration-0:-Tree-based-Naivete)\n",
    "     - [Iteration 1](#Iteration-1:-Baby's-First-Pipe)\n",
    "     - [Iteration 2](#Iteration-2:-Give-the-Computer-a-Chance)\n",
    "     - [Progress So Far](#Progress-Report-Card)\n",
    "     - [Iteration 1 Optimization](#Iteration-1-Optimizations)\n",
    "     - [Iteration 2 Optimization](#)\n",
    " - III. [PCA Weighted Approach](#)\n",
    " - IV. [Results & Discussion]\n",
    "     - [Business Impact]\n",
    "     - [Permutation Importance]"
   ]
  },
  {
   "cell_type": "code",
   "execution_count": 1,
   "id": "88e3f429",
   "metadata": {},
   "outputs": [],
   "source": [
    "# Import packages etc.\n",
    "import pandas as pd\n",
    "import seaborn as sns\n",
    "import numpy as np\n",
    "import matplotlib.pyplot as plt\n",
    "from scipy import stats\n",
    "import pickle"
   ]
  },
  {
   "cell_type": "markdown",
   "id": "a22f8be7",
   "metadata": {},
   "source": [
    "## Data Import and Processing"
   ]
  },
  {
   "cell_type": "code",
   "execution_count": 2,
   "id": "8375dcdf",
   "metadata": {},
   "outputs": [],
   "source": [
    "provdat = pickle.load(open('Xtrain.pickle', 'rb'))\n",
    "provtarg = pickle.load(open('Xtest.pickle', 'rb'))\n",
    "provgroup = pickle.load(open('Xdata.pickle', 'rb'))"
   ]
  },
  {
   "cell_type": "code",
   "execution_count": 3,
   "id": "bb6c6577",
   "metadata": {},
   "outputs": [
    {
     "name": "stdout",
     "output_type": "stream",
     "text": [
      "Data Shape: (5410, 70)\n"
     ]
    },
    {
     "data": {
      "text/html": [
       "<div>\n",
       "<style scoped>\n",
       "    .dataframe tbody tr th:only-of-type {\n",
       "        vertical-align: middle;\n",
       "    }\n",
       "\n",
       "    .dataframe tbody tr th {\n",
       "        vertical-align: top;\n",
       "    }\n",
       "\n",
       "    .dataframe thead th {\n",
       "        text-align: right;\n",
       "    }\n",
       "</style>\n",
       "<table border=\"1\" class=\"dataframe\">\n",
       "  <thead>\n",
       "    <tr style=\"text-align: right;\">\n",
       "      <th></th>\n",
       "      <th>Number_of_Claims</th>\n",
       "      <th>Num_Unique_Patients</th>\n",
       "      <th>Num_Unique_Docs</th>\n",
       "      <th>Num_Unique_Diag_Codes</th>\n",
       "      <th>Num_Unique_Proc_Codes</th>\n",
       "      <th>Mean_InscClaimAmtReimbursed</th>\n",
       "      <th>Mean_DeductibleAmtPaid</th>\n",
       "      <th>Mean_Reimbursement_per_Day</th>\n",
       "      <th>Mean_Length_of_Stay</th>\n",
       "      <th>Mean_Length_of_Claim</th>\n",
       "      <th>...</th>\n",
       "      <th>Perc_ClaimStartDt_March</th>\n",
       "      <th>Perc_ClaimStartDt_April</th>\n",
       "      <th>Perc_ClaimStartDt_May</th>\n",
       "      <th>Perc_ClaimStartDt_June</th>\n",
       "      <th>Perc_ClaimStartDt_July</th>\n",
       "      <th>Perc_ClaimStartDt_August</th>\n",
       "      <th>Perc_ClaimStartDt_September</th>\n",
       "      <th>Perc_ClaimStartDt_October</th>\n",
       "      <th>Perc_ClaimStartDt_November</th>\n",
       "      <th>Perc_ClaimStartDt_December</th>\n",
       "    </tr>\n",
       "    <tr>\n",
       "      <th>Provider</th>\n",
       "      <th></th>\n",
       "      <th></th>\n",
       "      <th></th>\n",
       "      <th></th>\n",
       "      <th></th>\n",
       "      <th></th>\n",
       "      <th></th>\n",
       "      <th></th>\n",
       "      <th></th>\n",
       "      <th></th>\n",
       "      <th></th>\n",
       "      <th></th>\n",
       "      <th></th>\n",
       "      <th></th>\n",
       "      <th></th>\n",
       "      <th></th>\n",
       "      <th></th>\n",
       "      <th></th>\n",
       "      <th></th>\n",
       "      <th></th>\n",
       "      <th></th>\n",
       "    </tr>\n",
       "  </thead>\n",
       "  <tbody>\n",
       "    <tr>\n",
       "      <th>PRV51001</th>\n",
       "      <td>25</td>\n",
       "      <td>24</td>\n",
       "      <td>19</td>\n",
       "      <td>72</td>\n",
       "      <td>3</td>\n",
       "      <td>4185.60</td>\n",
       "      <td>213.60</td>\n",
       "      <td>3700.00</td>\n",
       "      <td>6.00</td>\n",
       "      <td>2.44</td>\n",
       "      <td>...</td>\n",
       "      <td>0.12</td>\n",
       "      <td>0.08</td>\n",
       "      <td>0.20</td>\n",
       "      <td>0.12</td>\n",
       "      <td>0.08</td>\n",
       "      <td>0.04</td>\n",
       "      <td>0.04</td>\n",
       "      <td>0.00</td>\n",
       "      <td>0.00</td>\n",
       "      <td>0.08</td>\n",
       "    </tr>\n",
       "    <tr>\n",
       "      <th>PRV51003</th>\n",
       "      <td>132</td>\n",
       "      <td>117</td>\n",
       "      <td>51</td>\n",
       "      <td>365</td>\n",
       "      <td>39</td>\n",
       "      <td>4588.41</td>\n",
       "      <td>502.17</td>\n",
       "      <td>2137.42</td>\n",
       "      <td>6.16</td>\n",
       "      <td>4.67</td>\n",
       "      <td>...</td>\n",
       "      <td>0.08</td>\n",
       "      <td>0.08</td>\n",
       "      <td>0.06</td>\n",
       "      <td>0.11</td>\n",
       "      <td>0.08</td>\n",
       "      <td>0.10</td>\n",
       "      <td>0.07</td>\n",
       "      <td>0.08</td>\n",
       "      <td>0.08</td>\n",
       "      <td>0.05</td>\n",
       "    </tr>\n",
       "    <tr>\n",
       "      <th>PRV51004</th>\n",
       "      <td>149</td>\n",
       "      <td>138</td>\n",
       "      <td>48</td>\n",
       "      <td>267</td>\n",
       "      <td>0</td>\n",
       "      <td>350.13</td>\n",
       "      <td>2.08</td>\n",
       "      <td>0.00</td>\n",
       "      <td>0.00</td>\n",
       "      <td>2.43</td>\n",
       "      <td>...</td>\n",
       "      <td>0.12</td>\n",
       "      <td>0.07</td>\n",
       "      <td>0.05</td>\n",
       "      <td>0.07</td>\n",
       "      <td>0.09</td>\n",
       "      <td>0.07</td>\n",
       "      <td>0.08</td>\n",
       "      <td>0.07</td>\n",
       "      <td>0.05</td>\n",
       "      <td>0.11</td>\n",
       "    </tr>\n",
       "    <tr>\n",
       "      <th>PRV51005</th>\n",
       "      <td>1165</td>\n",
       "      <td>495</td>\n",
       "      <td>7</td>\n",
       "      <td>1294</td>\n",
       "      <td>0</td>\n",
       "      <td>241.12</td>\n",
       "      <td>3.18</td>\n",
       "      <td>0.00</td>\n",
       "      <td>0.00</td>\n",
       "      <td>2.09</td>\n",
       "      <td>...</td>\n",
       "      <td>0.10</td>\n",
       "      <td>0.08</td>\n",
       "      <td>0.07</td>\n",
       "      <td>0.09</td>\n",
       "      <td>0.08</td>\n",
       "      <td>0.08</td>\n",
       "      <td>0.09</td>\n",
       "      <td>0.10</td>\n",
       "      <td>0.06</td>\n",
       "      <td>0.07</td>\n",
       "    </tr>\n",
       "    <tr>\n",
       "      <th>PRV51007</th>\n",
       "      <td>72</td>\n",
       "      <td>58</td>\n",
       "      <td>11</td>\n",
       "      <td>165</td>\n",
       "      <td>1</td>\n",
       "      <td>468.19</td>\n",
       "      <td>45.33</td>\n",
       "      <td>1080.56</td>\n",
       "      <td>6.33</td>\n",
       "      <td>1.96</td>\n",
       "      <td>...</td>\n",
       "      <td>0.12</td>\n",
       "      <td>0.06</td>\n",
       "      <td>0.12</td>\n",
       "      <td>0.12</td>\n",
       "      <td>0.04</td>\n",
       "      <td>0.08</td>\n",
       "      <td>0.10</td>\n",
       "      <td>0.03</td>\n",
       "      <td>0.08</td>\n",
       "      <td>0.08</td>\n",
       "    </tr>\n",
       "  </tbody>\n",
       "</table>\n",
       "<p>5 rows × 70 columns</p>\n",
       "</div>"
      ],
      "text/plain": [
       "          Number_of_Claims  Num_Unique_Patients  Num_Unique_Docs  \\\n",
       "Provider                                                           \n",
       "PRV51001                25                   24               19   \n",
       "PRV51003               132                  117               51   \n",
       "PRV51004               149                  138               48   \n",
       "PRV51005              1165                  495                7   \n",
       "PRV51007                72                   58               11   \n",
       "\n",
       "          Num_Unique_Diag_Codes  Num_Unique_Proc_Codes  \\\n",
       "Provider                                                 \n",
       "PRV51001                     72                      3   \n",
       "PRV51003                    365                     39   \n",
       "PRV51004                    267                      0   \n",
       "PRV51005                   1294                      0   \n",
       "PRV51007                    165                      1   \n",
       "\n",
       "          Mean_InscClaimAmtReimbursed  Mean_DeductibleAmtPaid  \\\n",
       "Provider                                                        \n",
       "PRV51001                      4185.60                  213.60   \n",
       "PRV51003                      4588.41                  502.17   \n",
       "PRV51004                       350.13                    2.08   \n",
       "PRV51005                       241.12                    3.18   \n",
       "PRV51007                       468.19                   45.33   \n",
       "\n",
       "          Mean_Reimbursement_per_Day  Mean_Length_of_Stay  \\\n",
       "Provider                                                    \n",
       "PRV51001                     3700.00                 6.00   \n",
       "PRV51003                     2137.42                 6.16   \n",
       "PRV51004                        0.00                 0.00   \n",
       "PRV51005                        0.00                 0.00   \n",
       "PRV51007                     1080.56                 6.33   \n",
       "\n",
       "          Mean_Length_of_Claim  ...  Perc_ClaimStartDt_March  \\\n",
       "Provider                        ...                            \n",
       "PRV51001                  2.44  ...                     0.12   \n",
       "PRV51003                  4.67  ...                     0.08   \n",
       "PRV51004                  2.43  ...                     0.12   \n",
       "PRV51005                  2.09  ...                     0.10   \n",
       "PRV51007                  1.96  ...                     0.12   \n",
       "\n",
       "          Perc_ClaimStartDt_April  Perc_ClaimStartDt_May  \\\n",
       "Provider                                                   \n",
       "PRV51001                     0.08                   0.20   \n",
       "PRV51003                     0.08                   0.06   \n",
       "PRV51004                     0.07                   0.05   \n",
       "PRV51005                     0.08                   0.07   \n",
       "PRV51007                     0.06                   0.12   \n",
       "\n",
       "          Perc_ClaimStartDt_June  Perc_ClaimStartDt_July  \\\n",
       "Provider                                                   \n",
       "PRV51001                    0.12                    0.08   \n",
       "PRV51003                    0.11                    0.08   \n",
       "PRV51004                    0.07                    0.09   \n",
       "PRV51005                    0.09                    0.08   \n",
       "PRV51007                    0.12                    0.04   \n",
       "\n",
       "          Perc_ClaimStartDt_August  Perc_ClaimStartDt_September  \\\n",
       "Provider                                                          \n",
       "PRV51001                      0.04                         0.04   \n",
       "PRV51003                      0.10                         0.07   \n",
       "PRV51004                      0.07                         0.08   \n",
       "PRV51005                      0.08                         0.09   \n",
       "PRV51007                      0.08                         0.10   \n",
       "\n",
       "          Perc_ClaimStartDt_October  Perc_ClaimStartDt_November  \\\n",
       "Provider                                                          \n",
       "PRV51001                       0.00                        0.00   \n",
       "PRV51003                       0.08                        0.08   \n",
       "PRV51004                       0.07                        0.05   \n",
       "PRV51005                       0.10                        0.06   \n",
       "PRV51007                       0.03                        0.08   \n",
       "\n",
       "          Perc_ClaimStartDt_December  \n",
       "Provider                              \n",
       "PRV51001                        0.08  \n",
       "PRV51003                        0.05  \n",
       "PRV51004                        0.11  \n",
       "PRV51005                        0.07  \n",
       "PRV51007                        0.08  \n",
       "\n",
       "[5 rows x 70 columns]"
      ]
     },
     "execution_count": 3,
     "metadata": {},
     "output_type": "execute_result"
    }
   ],
   "source": [
    "# Examining Pre-Aggregated Per-Provider Data\n",
    "print('Data Shape: ' + str(provdat.shape))\n",
    "provdat.head()"
   ]
  },
  {
   "cell_type": "code",
   "execution_count": 4,
   "id": "e77348c7",
   "metadata": {},
   "outputs": [
    {
     "name": "stdout",
     "output_type": "stream",
     "text": [
      "Data Shape: (5410,)\n"
     ]
    },
    {
     "data": {
      "text/plain": [
       "Provider\n",
       "PRV51001    0\n",
       "PRV51003    1\n",
       "PRV51004    0\n",
       "PRV51005    1\n",
       "PRV51007    0\n",
       "Name: PotentialFraud, dtype: int64"
      ]
     },
     "execution_count": 4,
     "metadata": {},
     "output_type": "execute_result"
    }
   ],
   "source": [
    "# Examining Per-Provider Incidence of Fradulence\n",
    "print('Data Shape: ' + str(provtarg.shape))\n",
    "provtarg.head()"
   ]
  },
  {
   "cell_type": "code",
   "execution_count": 5,
   "id": "4715a100",
   "metadata": {},
   "outputs": [
    {
     "data": {
      "text/html": [
       "<div>\n",
       "<style scoped>\n",
       "    .dataframe tbody tr th:only-of-type {\n",
       "        vertical-align: middle;\n",
       "    }\n",
       "\n",
       "    .dataframe tbody tr th {\n",
       "        vertical-align: top;\n",
       "    }\n",
       "\n",
       "    .dataframe thead th {\n",
       "        text-align: right;\n",
       "    }\n",
       "</style>\n",
       "<table border=\"1\" class=\"dataframe\">\n",
       "  <thead>\n",
       "    <tr style=\"text-align: right;\">\n",
       "      <th></th>\n",
       "      <th>Number_of_Claims</th>\n",
       "      <th>Num_Unique_Patients</th>\n",
       "      <th>Num_Unique_Docs</th>\n",
       "      <th>Num_Unique_Diag_Codes</th>\n",
       "      <th>Num_Unique_Proc_Codes</th>\n",
       "      <th>Mean_InscClaimAmtReimbursed</th>\n",
       "      <th>Mean_DeductibleAmtPaid</th>\n",
       "      <th>Mean_Reimbursement_per_Day</th>\n",
       "      <th>Mean_Length_of_Stay</th>\n",
       "      <th>Mean_Length_of_Claim</th>\n",
       "      <th>...</th>\n",
       "      <th>Perc_ClaimStartDt_April</th>\n",
       "      <th>Perc_ClaimStartDt_May</th>\n",
       "      <th>Perc_ClaimStartDt_June</th>\n",
       "      <th>Perc_ClaimStartDt_July</th>\n",
       "      <th>Perc_ClaimStartDt_August</th>\n",
       "      <th>Perc_ClaimStartDt_September</th>\n",
       "      <th>Perc_ClaimStartDt_October</th>\n",
       "      <th>Perc_ClaimStartDt_November</th>\n",
       "      <th>Perc_ClaimStartDt_December</th>\n",
       "      <th>PotentialFraud</th>\n",
       "    </tr>\n",
       "    <tr>\n",
       "      <th>Provider</th>\n",
       "      <th></th>\n",
       "      <th></th>\n",
       "      <th></th>\n",
       "      <th></th>\n",
       "      <th></th>\n",
       "      <th></th>\n",
       "      <th></th>\n",
       "      <th></th>\n",
       "      <th></th>\n",
       "      <th></th>\n",
       "      <th></th>\n",
       "      <th></th>\n",
       "      <th></th>\n",
       "      <th></th>\n",
       "      <th></th>\n",
       "      <th></th>\n",
       "      <th></th>\n",
       "      <th></th>\n",
       "      <th></th>\n",
       "      <th></th>\n",
       "      <th></th>\n",
       "    </tr>\n",
       "  </thead>\n",
       "  <tbody>\n",
       "    <tr>\n",
       "      <th>PRV51001</th>\n",
       "      <td>25</td>\n",
       "      <td>24</td>\n",
       "      <td>19</td>\n",
       "      <td>72</td>\n",
       "      <td>3</td>\n",
       "      <td>4185.60</td>\n",
       "      <td>213.60</td>\n",
       "      <td>3700.00</td>\n",
       "      <td>6.00</td>\n",
       "      <td>2.44</td>\n",
       "      <td>...</td>\n",
       "      <td>0.08</td>\n",
       "      <td>0.20</td>\n",
       "      <td>0.12</td>\n",
       "      <td>0.08</td>\n",
       "      <td>0.04</td>\n",
       "      <td>0.04</td>\n",
       "      <td>0.00</td>\n",
       "      <td>0.00</td>\n",
       "      <td>0.08</td>\n",
       "      <td>0</td>\n",
       "    </tr>\n",
       "    <tr>\n",
       "      <th>PRV51003</th>\n",
       "      <td>132</td>\n",
       "      <td>117</td>\n",
       "      <td>51</td>\n",
       "      <td>365</td>\n",
       "      <td>39</td>\n",
       "      <td>4588.41</td>\n",
       "      <td>502.17</td>\n",
       "      <td>2137.42</td>\n",
       "      <td>6.16</td>\n",
       "      <td>4.67</td>\n",
       "      <td>...</td>\n",
       "      <td>0.08</td>\n",
       "      <td>0.06</td>\n",
       "      <td>0.11</td>\n",
       "      <td>0.08</td>\n",
       "      <td>0.10</td>\n",
       "      <td>0.07</td>\n",
       "      <td>0.08</td>\n",
       "      <td>0.08</td>\n",
       "      <td>0.05</td>\n",
       "      <td>1</td>\n",
       "    </tr>\n",
       "    <tr>\n",
       "      <th>PRV51004</th>\n",
       "      <td>149</td>\n",
       "      <td>138</td>\n",
       "      <td>48</td>\n",
       "      <td>267</td>\n",
       "      <td>0</td>\n",
       "      <td>350.13</td>\n",
       "      <td>2.08</td>\n",
       "      <td>0.00</td>\n",
       "      <td>0.00</td>\n",
       "      <td>2.43</td>\n",
       "      <td>...</td>\n",
       "      <td>0.07</td>\n",
       "      <td>0.05</td>\n",
       "      <td>0.07</td>\n",
       "      <td>0.09</td>\n",
       "      <td>0.07</td>\n",
       "      <td>0.08</td>\n",
       "      <td>0.07</td>\n",
       "      <td>0.05</td>\n",
       "      <td>0.11</td>\n",
       "      <td>0</td>\n",
       "    </tr>\n",
       "    <tr>\n",
       "      <th>PRV51005</th>\n",
       "      <td>1165</td>\n",
       "      <td>495</td>\n",
       "      <td>7</td>\n",
       "      <td>1294</td>\n",
       "      <td>0</td>\n",
       "      <td>241.12</td>\n",
       "      <td>3.18</td>\n",
       "      <td>0.00</td>\n",
       "      <td>0.00</td>\n",
       "      <td>2.09</td>\n",
       "      <td>...</td>\n",
       "      <td>0.08</td>\n",
       "      <td>0.07</td>\n",
       "      <td>0.09</td>\n",
       "      <td>0.08</td>\n",
       "      <td>0.08</td>\n",
       "      <td>0.09</td>\n",
       "      <td>0.10</td>\n",
       "      <td>0.06</td>\n",
       "      <td>0.07</td>\n",
       "      <td>1</td>\n",
       "    </tr>\n",
       "    <tr>\n",
       "      <th>PRV51007</th>\n",
       "      <td>72</td>\n",
       "      <td>58</td>\n",
       "      <td>11</td>\n",
       "      <td>165</td>\n",
       "      <td>1</td>\n",
       "      <td>468.19</td>\n",
       "      <td>45.33</td>\n",
       "      <td>1080.56</td>\n",
       "      <td>6.33</td>\n",
       "      <td>1.96</td>\n",
       "      <td>...</td>\n",
       "      <td>0.06</td>\n",
       "      <td>0.12</td>\n",
       "      <td>0.12</td>\n",
       "      <td>0.04</td>\n",
       "      <td>0.08</td>\n",
       "      <td>0.10</td>\n",
       "      <td>0.03</td>\n",
       "      <td>0.08</td>\n",
       "      <td>0.08</td>\n",
       "      <td>0</td>\n",
       "    </tr>\n",
       "  </tbody>\n",
       "</table>\n",
       "<p>5 rows × 71 columns</p>\n",
       "</div>"
      ],
      "text/plain": [
       "          Number_of_Claims  Num_Unique_Patients  Num_Unique_Docs  \\\n",
       "Provider                                                           \n",
       "PRV51001                25                   24               19   \n",
       "PRV51003               132                  117               51   \n",
       "PRV51004               149                  138               48   \n",
       "PRV51005              1165                  495                7   \n",
       "PRV51007                72                   58               11   \n",
       "\n",
       "          Num_Unique_Diag_Codes  Num_Unique_Proc_Codes  \\\n",
       "Provider                                                 \n",
       "PRV51001                     72                      3   \n",
       "PRV51003                    365                     39   \n",
       "PRV51004                    267                      0   \n",
       "PRV51005                   1294                      0   \n",
       "PRV51007                    165                      1   \n",
       "\n",
       "          Mean_InscClaimAmtReimbursed  Mean_DeductibleAmtPaid  \\\n",
       "Provider                                                        \n",
       "PRV51001                      4185.60                  213.60   \n",
       "PRV51003                      4588.41                  502.17   \n",
       "PRV51004                       350.13                    2.08   \n",
       "PRV51005                       241.12                    3.18   \n",
       "PRV51007                       468.19                   45.33   \n",
       "\n",
       "          Mean_Reimbursement_per_Day  Mean_Length_of_Stay  \\\n",
       "Provider                                                    \n",
       "PRV51001                     3700.00                 6.00   \n",
       "PRV51003                     2137.42                 6.16   \n",
       "PRV51004                        0.00                 0.00   \n",
       "PRV51005                        0.00                 0.00   \n",
       "PRV51007                     1080.56                 6.33   \n",
       "\n",
       "          Mean_Length_of_Claim  ...  Perc_ClaimStartDt_April  \\\n",
       "Provider                        ...                            \n",
       "PRV51001                  2.44  ...                     0.08   \n",
       "PRV51003                  4.67  ...                     0.08   \n",
       "PRV51004                  2.43  ...                     0.07   \n",
       "PRV51005                  2.09  ...                     0.08   \n",
       "PRV51007                  1.96  ...                     0.06   \n",
       "\n",
       "          Perc_ClaimStartDt_May  Perc_ClaimStartDt_June  \\\n",
       "Provider                                                  \n",
       "PRV51001                   0.20                    0.12   \n",
       "PRV51003                   0.06                    0.11   \n",
       "PRV51004                   0.05                    0.07   \n",
       "PRV51005                   0.07                    0.09   \n",
       "PRV51007                   0.12                    0.12   \n",
       "\n",
       "          Perc_ClaimStartDt_July  Perc_ClaimStartDt_August  \\\n",
       "Provider                                                     \n",
       "PRV51001                    0.08                      0.04   \n",
       "PRV51003                    0.08                      0.10   \n",
       "PRV51004                    0.09                      0.07   \n",
       "PRV51005                    0.08                      0.08   \n",
       "PRV51007                    0.04                      0.08   \n",
       "\n",
       "          Perc_ClaimStartDt_September  Perc_ClaimStartDt_October  \\\n",
       "Provider                                                           \n",
       "PRV51001                         0.04                       0.00   \n",
       "PRV51003                         0.07                       0.08   \n",
       "PRV51004                         0.08                       0.07   \n",
       "PRV51005                         0.09                       0.10   \n",
       "PRV51007                         0.10                       0.03   \n",
       "\n",
       "          Perc_ClaimStartDt_November  Perc_ClaimStartDt_December  \\\n",
       "Provider                                                           \n",
       "PRV51001                        0.00                        0.08   \n",
       "PRV51003                        0.08                        0.05   \n",
       "PRV51004                        0.05                        0.11   \n",
       "PRV51005                        0.06                        0.07   \n",
       "PRV51007                        0.08                        0.08   \n",
       "\n",
       "          PotentialFraud  \n",
       "Provider                  \n",
       "PRV51001               0  \n",
       "PRV51003               1  \n",
       "PRV51004               0  \n",
       "PRV51005               1  \n",
       "PRV51007               0  \n",
       "\n",
       "[5 rows x 71 columns]"
      ]
     },
     "execution_count": 5,
     "metadata": {},
     "output_type": "execute_result"
    }
   ],
   "source": [
    "# Combining Target data with Provider data to generate supervised learning dataset\n",
    "xdata = pd.merge(provdat.reset_index(), provtarg.reset_index(), on='Provider').set_index('Provider')\n",
    "xdata.head()"
   ]
  },
  {
   "cell_type": "code",
   "execution_count": 6,
   "id": "0345fb83",
   "metadata": {},
   "outputs": [
    {
     "name": "stdout",
     "output_type": "stream",
     "text": [
      "Training Data shape: (4328, 70)\n",
      "Test Data Shape: (1082, 70)\n"
     ]
    }
   ],
   "source": [
    "from sklearn.model_selection import train_test_split\n",
    "\n",
    "# Split the data into train & test sets for supervised learning\n",
    "Xtrain, Xtest, ytrain, ytest = train_test_split(xdata.iloc[:, :-1],\n",
    "                                               xdata.iloc[:, -1:],\n",
    "                                               test_size=0.2,\n",
    "                                               random_state=430)\n",
    "\n",
    "# Quick Heads Up\n",
    "print('Training Data shape: ' + str(Xtrain.shape))\n",
    "print('Test Data Shape: ' + str(Xtest.shape))"
   ]
  },
  {
   "cell_type": "markdown",
   "id": "c1e25a40",
   "metadata": {},
   "source": [
    "## Modeling Plan\n",
    "The general strategy of our approach incorporates an initial, broad spectrum testing of models, including the following.\n",
    " - Logistic Regression\n",
    " - KNN\n",
    " - Discriminant Analysis\n",
    " - Naive Bayes\n",
    " - SVM\n",
    " - CatBoost\n",
    " - Light GBM\n",
    "\n",
    "This grouping should represent a decent collection of well-worn, classical methods with exceptionally long history & documentation as well as newer, useful methodologies. Of particular interest to this last point will be **Catboost & Light GBM**, two Gradient Boosting models that have shown a great deal of promise in terms of efficiency & accuracy.\n",
    "\n",
    "### Iterative Strategy | What We Care About \n",
    " - Iteration 0: Naive, untouched modeling with tree-based models; just fit.\n",
    " - Iteration 1: Pipeline == SCALE(No Norm) & FIT; no unsupervised.\n",
    "     - 1a for gridsearch?\n",
    " - Iteration 2: Pipeline == SCALE(No Norm), PCA, & FIT.\n",
    "     - 2a for gridsearch?\n",
    " \n",
    "### Naming Procedure\n",
    "We can abbreviate the model name alongside iteration number to keep track (eg. \"cb0\" for \"Catboost, Iteration 0)"
   ]
  },
  {
   "cell_type": "markdown",
   "id": "db6e6268",
   "metadata": {},
   "source": [
    "### Iteration 0: Tree-based Naivete\n",
    "[Back to Top](#Machine-Learning-Processing)\n",
    "\n",
    "Both Catboost & Light GBM are quite capable of handling practically unprocessed data, such as we have imported. For further reference, please consult their respective documentation. Here we will process these for some initial yield results."
   ]
  },
  {
   "cell_type": "code",
   "execution_count": 7,
   "id": "facial-columbus",
   "metadata": {},
   "outputs": [
    {
     "name": "stdout",
     "output_type": "stream",
     "text": [
      "CatBoost Train R2 Score: 0.9972273567467652\n",
      "CatBoost Test R2 Score: 0.9316081330868762\n"
     ]
    }
   ],
   "source": [
    "from catboost import CatBoostClassifier\n",
    "cb0 = CatBoostClassifier(verbose=False)\n",
    "cb0.fit(Xtrain, ytrain)\n",
    "cb0.score(Xtest, ytest)\n",
    "print('CatBoost Train R2 Score:', cb0.score(Xtrain, ytrain))\n",
    "print('CatBoost Test R2 Score:', cb0.score(Xtest, ytest))"
   ]
  },
  {
   "cell_type": "code",
   "execution_count": 8,
   "id": "nonprofit-tuner",
   "metadata": {
    "scrolled": true
   },
   "outputs": [
    {
     "name": "stderr",
     "output_type": "stream",
     "text": [
      "/home/theodore/anaconda3/lib/python3.8/site-packages/sklearn/utils/validation.py:63: DataConversionWarning: A column-vector y was passed when a 1d array was expected. Please change the shape of y to (n_samples, ), for example using ravel().\n",
      "  return f(*args, **kwargs)\n"
     ]
    },
    {
     "name": "stdout",
     "output_type": "stream",
     "text": [
      "LightGBM Boost Train R2 Score: 1.0\n",
      "LightGBM Boost Test R2 Score: 0.9343807763401109\n"
     ]
    }
   ],
   "source": [
    "from lightgbm import LGBMClassifier\n",
    "lgbm0 = LGBMClassifier()\n",
    "lgbm0.fit(Xtrain, ytrain)\n",
    "print('LightGBM Boost Train R2 Score:', lgbm0.score(Xtrain, ytrain))\n",
    "print('LightGBM Boost Test R2 Score:', lgbm0.score(Xtest, ytest))"
   ]
  },
  {
   "cell_type": "markdown",
   "id": "9cd9349d",
   "metadata": {},
   "source": [
    "### Iteration 1: Baby's First Pipe\n",
    "[Back to Top](#Machine-Learning-Processing)\n",
    "\n",
    "Our goal here will be to test the results with some initial scaling built into a pipeline. "
   ]
  },
  {
   "cell_type": "code",
   "execution_count": 9,
   "id": "8df78efe",
   "metadata": {},
   "outputs": [
    {
     "data": {
      "text/plain": [
       "(array([ 220, 1330, 1347, 2198, 2599, 2614, 2920, 2946, 3951, 4321]),\n",
       " array([24, 24, 24, 24, 24, 24, 24, 24, 24, 24]))"
      ]
     },
     "execution_count": 9,
     "metadata": {},
     "output_type": "execute_result"
    }
   ],
   "source": [
    "badindices = np.where(np.isinf(Xtrain))\n",
    "badindices"
   ]
  },
  {
   "cell_type": "code",
   "execution_count": 10,
   "id": "324b2aa8",
   "metadata": {},
   "outputs": [
    {
     "data": {
      "text/plain": [
       "27.769"
      ]
     },
     "execution_count": 10,
     "metadata": {},
     "output_type": "execute_result"
    }
   ],
   "source": [
    "Xtrain.iloc[-badindices[0], 24].mean()"
   ]
  },
  {
   "cell_type": "code",
   "execution_count": 11,
   "id": "a7a26d9f",
   "metadata": {},
   "outputs": [],
   "source": [
    "Xtrain.iloc[badindices[0], 24] = Xtrain.iloc[-badindices[0], 24].mean()"
   ]
  },
  {
   "cell_type": "code",
   "execution_count": 12,
   "id": "a5bd3a74",
   "metadata": {},
   "outputs": [],
   "source": [
    "badtests = np.where(np.isinf(Xtest))\n",
    "Xtest.iloc[badtests[0], 24] = Xtrain.iloc[-badindices[0], 24].mean()"
   ]
  },
  {
   "cell_type": "code",
   "execution_count": 13,
   "id": "860eab9c",
   "metadata": {},
   "outputs": [
    {
     "name": "stderr",
     "output_type": "stream",
     "text": [
      "/home/theodore/anaconda3/lib/python3.8/site-packages/sklearn/utils/validation.py:63: DataConversionWarning: A column-vector y was passed when a 1d array was expected. Please change the shape of y to (n_samples, ), for example using ravel().\n",
      "  return f(*args, **kwargs)\n"
     ]
    },
    {
     "name": "stdout",
     "output_type": "stream",
     "text": [
      "Logistic Regression Train Score: 0.9376155268022182\n",
      "Logistic Regression Test Score: 0.922365988909427\n"
     ]
    }
   ],
   "source": [
    "# IT1: Logistic Regression\n",
    "from sklearn.pipeline import Pipeline\n",
    "from sklearn.linear_model import LogisticRegression\n",
    "from sklearn.preprocessing import StandardScaler\n",
    "lgr1 = Pipeline(steps=[('scaler', StandardScaler()),\n",
    "                      ('logistic', LogisticRegression(n_jobs=-2))])\n",
    "lgr1.fit(Xtrain, ytrain)\n",
    "print('Logistic Regression Train Score:', lgr1.score(Xtrain, ytrain))\n",
    "print('Logistic Regression Test Score:', lgr1.score(Xtest, ytest))"
   ]
  },
  {
   "cell_type": "code",
   "execution_count": 14,
   "id": "16380225",
   "metadata": {},
   "outputs": [
    {
     "name": "stderr",
     "output_type": "stream",
     "text": [
      "/home/theodore/anaconda3/lib/python3.8/site-packages/sklearn/neighbors/_classification.py:179: DataConversionWarning: A column-vector y was passed when a 1d array was expected. Please change the shape of y to (n_samples,), for example using ravel().\n",
      "  return self._fit(X, y)\n"
     ]
    },
    {
     "name": "stdout",
     "output_type": "stream",
     "text": [
      "KNearestNeighbors Train Score: 0.9396950092421442\n",
      "KNearestNeighbors Test Score: 0.9186691312384473\n"
     ]
    }
   ],
   "source": [
    "# IT1: KNN\n",
    "from sklearn.neighbors import KNeighborsClassifier\n",
    "knn1 = Pipeline(steps=[('scaler', StandardScaler()),\n",
    "                      ('knn', KNeighborsClassifier(n_jobs=-2))])\n",
    "knn1.fit(Xtrain, ytrain)\n",
    "print('KNearestNeighbors Train Score:', knn1.score(Xtrain, ytrain))\n",
    "print('KNearestNeighbors Test Score:', knn1.score(Xtest, ytest))"
   ]
  },
  {
   "cell_type": "code",
   "execution_count": 15,
   "id": "050f4360",
   "metadata": {},
   "outputs": [
    {
     "name": "stdout",
     "output_type": "stream",
     "text": [
      "LDA Train Score: 0.9348428835489834\n",
      "LDA Test Score: 0.9195933456561922\n"
     ]
    },
    {
     "name": "stderr",
     "output_type": "stream",
     "text": [
      "/home/theodore/anaconda3/lib/python3.8/site-packages/sklearn/utils/validation.py:63: DataConversionWarning: A column-vector y was passed when a 1d array was expected. Please change the shape of y to (n_samples, ), for example using ravel().\n",
      "  return f(*args, **kwargs)\n"
     ]
    }
   ],
   "source": [
    "# IT1: LDA\n",
    "from sklearn.discriminant_analysis import LinearDiscriminantAnalysis\n",
    "lda1 = Pipeline(steps=[('scaler', StandardScaler()),\n",
    "                      ('lda', LinearDiscriminantAnalysis())])\n",
    "lda1.fit(Xtrain, ytrain)\n",
    "print('LDA Train Score:', lda1.score(Xtrain, ytrain))\n",
    "print('LDA Test Score:', lda1.score(Xtest, ytest))"
   ]
  },
  {
   "cell_type": "code",
   "execution_count": 16,
   "id": "ae277d25",
   "metadata": {},
   "outputs": [
    {
     "name": "stdout",
     "output_type": "stream",
     "text": [
      "GNB Train Score 0.6984750462107209\n",
      "GNB Test Score 0.6728280961182994\n"
     ]
    },
    {
     "name": "stderr",
     "output_type": "stream",
     "text": [
      "/home/theodore/anaconda3/lib/python3.8/site-packages/sklearn/utils/validation.py:63: DataConversionWarning: A column-vector y was passed when a 1d array was expected. Please change the shape of y to (n_samples, ), for example using ravel().\n",
      "  return f(*args, **kwargs)\n"
     ]
    }
   ],
   "source": [
    "# IT1: GNB\n",
    "from sklearn.naive_bayes import GaussianNB\n",
    "gnb1 = Pipeline(steps=[('scaler', StandardScaler()),\n",
    "                      ('gnb', GaussianNB())])\n",
    "gnb1.fit(Xtrain, ytrain)\n",
    "print('GNB Train Score', gnb1.score(Xtrain, ytrain))\n",
    "print('GNB Test Score', gnb1.score(Xtest, ytest))"
   ]
  },
  {
   "cell_type": "code",
   "execution_count": 17,
   "id": "6f94fa8d",
   "metadata": {
    "scrolled": true
   },
   "outputs": [
    {
     "name": "stderr",
     "output_type": "stream",
     "text": [
      "/home/theodore/anaconda3/lib/python3.8/site-packages/sklearn/utils/validation.py:63: DataConversionWarning: A column-vector y was passed when a 1d array was expected. Please change the shape of y to (n_samples, ), for example using ravel().\n",
      "  return f(*args, **kwargs)\n"
     ]
    },
    {
     "name": "stdout",
     "output_type": "stream",
     "text": [
      "SVC Train Score 0.9413123844731978\n",
      "SVC Test Score 0.9242144177449169\n"
     ]
    }
   ],
   "source": [
    "# IT1: SVM\n",
    "from sklearn.svm import SVC\n",
    "svc1 = Pipeline(steps=[('scaler', StandardScaler()),\n",
    "                      ('svc', SVC())])\n",
    "svc1.fit(Xtrain, ytrain)\n",
    "print('SVC Train Score', svc1.score(Xtrain, ytrain))\n",
    "print('SVC Test Score', svc1.score(Xtest, ytest))"
   ]
  },
  {
   "cell_type": "code",
   "execution_count": 18,
   "id": "4454df16",
   "metadata": {},
   "outputs": [
    {
     "name": "stdout",
     "output_type": "stream",
     "text": [
      "Catboost Train Score 0.9976894639556377\n",
      "Catboost Test Score 0.9353049907578558\n"
     ]
    }
   ],
   "source": [
    "# IT1: CatBoost\n",
    "cb1 = Pipeline(steps=[('scaler', StandardScaler()),\n",
    "                     ('catboost', CatBoostClassifier(random_state=430, verbose=False))])\n",
    "cb1.fit(Xtrain, ytrain)\n",
    "print('Catboost Train Score', cb1.score(Xtrain, ytrain))\n",
    "print('Catboost Test Score', cb1.score(Xtest, ytest))"
   ]
  },
  {
   "cell_type": "code",
   "execution_count": 19,
   "id": "7d817ba7",
   "metadata": {},
   "outputs": [
    {
     "name": "stderr",
     "output_type": "stream",
     "text": [
      "/home/theodore/anaconda3/lib/python3.8/site-packages/sklearn/utils/validation.py:63: DataConversionWarning: A column-vector y was passed when a 1d array was expected. Please change the shape of y to (n_samples, ), for example using ravel().\n",
      "  return f(*args, **kwargs)\n"
     ]
    },
    {
     "name": "stdout",
     "output_type": "stream",
     "text": [
      "LightGBM Train Score 1.0\n",
      "LightGBM Test Score 0.9343807763401109\n"
     ]
    }
   ],
   "source": [
    "# IT1: LightGBM\n",
    "lgbm1 = Pipeline(steps=[('scaler', StandardScaler()),\n",
    "                       ('lightgbm', LGBMClassifier(n_jobs=-2, random_state=430))])\n",
    "lgbm1.fit(Xtrain, ytrain)\n",
    "print('LightGBM Train Score', lgbm1.score(Xtrain, ytrain))\n",
    "print('LightGBM Test Score', lgbm1.score(Xtest, ytest))"
   ]
  },
  {
   "cell_type": "markdown",
   "id": "bb3eed25",
   "metadata": {},
   "source": [
    "## Iteration 2: Give the Computer a Chance\n",
    "\n",
    "[Back to Top](#Machine-Learning-Processing)\n",
    "\n"
   ]
  },
  {
   "cell_type": "code",
   "execution_count": 20,
   "id": "2c94b81f",
   "metadata": {},
   "outputs": [
    {
     "name": "stdout",
     "output_type": "stream",
     "text": [
      "LightGBM Train Score 1.0\n",
      "LightGBM Test Score 0.9242144177449169\n"
     ]
    },
    {
     "name": "stderr",
     "output_type": "stream",
     "text": [
      "/home/theodore/anaconda3/lib/python3.8/site-packages/sklearn/utils/validation.py:63: DataConversionWarning: A column-vector y was passed when a 1d array was expected. Please change the shape of y to (n_samples, ), for example using ravel().\n",
      "  return f(*args, **kwargs)\n"
     ]
    }
   ],
   "source": [
    "# IT2: Logistic\n",
    "from sklearn.decomposition import PCA \n",
    "lgr2 = Pipeline(steps=[('scaler', StandardScaler()),\n",
    "                       ('PCA', PCA(n_components=0.99, random_state=430)),\n",
    "                       ('logistic', LogisticRegression(n_jobs=-2))])\n",
    "lgr2.fit(Xtrain, ytrain)\n",
    "print('LightGBM Train Score', lgr2.score(Xtrain, ytrain))\n",
    "print('LightGBM Test Score', lgr2.score(Xtest, ytest))"
   ]
  },
  {
   "cell_type": "code",
   "execution_count": 21,
   "id": "9c7b533e",
   "metadata": {},
   "outputs": [
    {
     "name": "stderr",
     "output_type": "stream",
     "text": [
      "/home/theodore/anaconda3/lib/python3.8/site-packages/sklearn/neighbors/_classification.py:179: DataConversionWarning: A column-vector y was passed when a 1d array was expected. Please change the shape of y to (n_samples,), for example using ravel().\n",
      "  return self._fit(X, y)\n"
     ]
    },
    {
     "name": "stdout",
     "output_type": "stream",
     "text": [
      "LightGBM Train Score 0.9396950092421442\n",
      "LightGBM Test Score 0.9214417744916821\n"
     ]
    }
   ],
   "source": [
    "# IT2: KNN\n",
    "knn2 = Pipeline(steps=[('scaler', StandardScaler()),\n",
    "                       ('PCA', PCA(n_components=0.99, random_state=430)),\n",
    "                       ('knn', KNeighborsClassifier(n_jobs=-2))])\n",
    "knn2.fit(Xtrain, ytrain)\n",
    "print('LightGBM Train Score', knn2.score(Xtrain, ytrain))\n",
    "print('LightGBM Test Score', knn2.score(Xtest, ytest))"
   ]
  },
  {
   "cell_type": "code",
   "execution_count": 22,
   "id": "ad79f333",
   "metadata": {},
   "outputs": [
    {
     "name": "stdout",
     "output_type": "stream",
     "text": [
      "LightGBM Train Score 0.9336876155268022\n",
      "LightGBM Test Score 0.9232902033271719\n"
     ]
    },
    {
     "name": "stderr",
     "output_type": "stream",
     "text": [
      "/home/theodore/anaconda3/lib/python3.8/site-packages/sklearn/utils/validation.py:63: DataConversionWarning: A column-vector y was passed when a 1d array was expected. Please change the shape of y to (n_samples, ), for example using ravel().\n",
      "  return f(*args, **kwargs)\n"
     ]
    }
   ],
   "source": [
    "# IT2: LDA\n",
    "lda2 = Pipeline(steps=[('scaler', StandardScaler()),\n",
    "                       ('PCA', PCA(n_components=0.99, random_state=430)),\n",
    "                       ('lda', LinearDiscriminantAnalysis())])\n",
    "lda2.fit(Xtrain, ytrain)\n",
    "print('LightGBM Train Score', lda2.score(Xtrain, ytrain))\n",
    "print('LightGBM Test Score', lda2.score(Xtest, ytest))"
   ]
  },
  {
   "cell_type": "code",
   "execution_count": 23,
   "id": "c92d16cc",
   "metadata": {},
   "outputs": [
    {
     "name": "stdout",
     "output_type": "stream",
     "text": [
      "LightGBM Train Score 0.5459796672828097\n",
      "LightGBM Test Score 0.5425138632162662\n"
     ]
    },
    {
     "name": "stderr",
     "output_type": "stream",
     "text": [
      "/home/theodore/anaconda3/lib/python3.8/site-packages/sklearn/utils/validation.py:63: DataConversionWarning: A column-vector y was passed when a 1d array was expected. Please change the shape of y to (n_samples, ), for example using ravel().\n",
      "  return f(*args, **kwargs)\n"
     ]
    }
   ],
   "source": [
    "# IT2: GNB\n",
    "gnb2 = Pipeline(steps=[('scaler', StandardScaler()),\n",
    "                       ('PCA', PCA(n_components=0.99, random_state=430)),\n",
    "                       ('gnb', GaussianNB())])\n",
    "gnb2.fit(Xtrain, ytrain)\n",
    "print('LightGBM Train Score', gnb2.score(Xtrain, ytrain))\n",
    "print('LightGBM Test Score', gnb2.score(Xtest, ytest))"
   ]
  },
  {
   "cell_type": "code",
   "execution_count": 24,
   "id": "be28644a",
   "metadata": {},
   "outputs": [
    {
     "name": "stderr",
     "output_type": "stream",
     "text": [
      "/home/theodore/anaconda3/lib/python3.8/site-packages/sklearn/utils/validation.py:63: DataConversionWarning: A column-vector y was passed when a 1d array was expected. Please change the shape of y to (n_samples, ), for example using ravel().\n",
      "  return f(*args, **kwargs)\n"
     ]
    },
    {
     "name": "stdout",
     "output_type": "stream",
     "text": [
      "LightGBM Train Score 0.9394639556377079\n",
      "LightGBM Test Score 0.9242144177449169\n"
     ]
    }
   ],
   "source": [
    "# IT2: SVM\n",
    "svc2 = Pipeline(steps=[('scaler', StandardScaler()),\n",
    "                       ('PCA', PCA(n_components=0.99, random_state=430)),\n",
    "                       ('svc', SVC())])\n",
    "svc2.fit(Xtrain, ytrain)\n",
    "print('LightGBM Train Score', svc2.score(Xtrain, ytrain))\n",
    "print('LightGBM Test Score', svc2.score(Xtest, ytest))"
   ]
  },
  {
   "cell_type": "code",
   "execution_count": 25,
   "id": "5945dbee",
   "metadata": {},
   "outputs": [
    {
     "name": "stdout",
     "output_type": "stream",
     "text": [
      "LightGBM Train Score 0.9988447319778189\n",
      "LightGBM Test Score 0.9205175600739371\n"
     ]
    }
   ],
   "source": [
    "# IT2: CatBoost\n",
    "cb2 = Pipeline(steps=[('scaler', StandardScaler()),\n",
    "                       ('PCA', PCA(n_components=0.99, random_state=430)),\n",
    "                       ('Catboost', CatBoostClassifier(random_state=430, verbose=False))])\n",
    "cb2.fit(Xtrain, ytrain)\n",
    "print('LightGBM Train Score', cb2.score(Xtrain, ytrain))\n",
    "print('LightGBM Test Score', cb2.score(Xtest, ytest))"
   ]
  },
  {
   "cell_type": "code",
   "execution_count": 26,
   "id": "69cedf25",
   "metadata": {
    "scrolled": true
   },
   "outputs": [
    {
     "name": "stderr",
     "output_type": "stream",
     "text": [
      "/home/theodore/anaconda3/lib/python3.8/site-packages/sklearn/utils/validation.py:63: DataConversionWarning: A column-vector y was passed when a 1d array was expected. Please change the shape of y to (n_samples, ), for example using ravel().\n",
      "  return f(*args, **kwargs)\n"
     ]
    },
    {
     "name": "stdout",
     "output_type": "stream",
     "text": [
      "LightGBM Train Score 1.0\n",
      "LightGBM Test Score 0.9242144177449169\n"
     ]
    }
   ],
   "source": [
    "# IT2: LightGBM\n",
    "lgbm2 = Pipeline(steps=[('scaler', StandardScaler()),\n",
    "                       ('PCA', PCA(n_components=0.99, random_state=430)),\n",
    "                       ('LightGBM', LGBMClassifier(random_state=430))])\n",
    "lgbm2.fit(Xtrain, ytrain)\n",
    "print('LightGBM Train Score', lgbm2.score(Xtrain, ytrain))\n",
    "print('LightGBM Test Score', lgbm2.score(Xtest, ytest))"
   ]
  },
  {
   "cell_type": "markdown",
   "id": "31ad4773",
   "metadata": {},
   "source": [
    "### Progress Report Card\n",
    "\n",
    "[Back to Top](#Machine-Learning-Processing)"
   ]
  },
  {
   "cell_type": "code",
   "execution_count": 27,
   "id": "a22b804b",
   "metadata": {},
   "outputs": [
    {
     "data": {
      "text/html": [
       "<div>\n",
       "<style scoped>\n",
       "    .dataframe tbody tr th:only-of-type {\n",
       "        vertical-align: middle;\n",
       "    }\n",
       "\n",
       "    .dataframe tbody tr th {\n",
       "        vertical-align: top;\n",
       "    }\n",
       "\n",
       "    .dataframe thead th {\n",
       "        text-align: right;\n",
       "    }\n",
       "</style>\n",
       "<table border=\"1\" class=\"dataframe\">\n",
       "  <thead>\n",
       "    <tr style=\"text-align: right;\">\n",
       "      <th></th>\n",
       "      <th>Logistic</th>\n",
       "      <th>KNN</th>\n",
       "      <th>LDA</th>\n",
       "      <th>GNB</th>\n",
       "      <th>SVM</th>\n",
       "      <th>CatBoost</th>\n",
       "      <th>LightGBM</th>\n",
       "    </tr>\n",
       "    <tr>\n",
       "      <th>Model</th>\n",
       "      <th></th>\n",
       "      <th></th>\n",
       "      <th></th>\n",
       "      <th></th>\n",
       "      <th></th>\n",
       "      <th></th>\n",
       "      <th></th>\n",
       "    </tr>\n",
       "  </thead>\n",
       "  <tbody>\n",
       "    <tr>\n",
       "      <th>Iteration0 Train</th>\n",
       "      <td>NA</td>\n",
       "      <td>NA</td>\n",
       "      <td>NA</td>\n",
       "      <td>NA</td>\n",
       "      <td>NA</td>\n",
       "      <td>0.997227</td>\n",
       "      <td>1.0</td>\n",
       "    </tr>\n",
       "    <tr>\n",
       "      <th>Iteration0 Test</th>\n",
       "      <td>NA</td>\n",
       "      <td>NA</td>\n",
       "      <td>NA</td>\n",
       "      <td>NA</td>\n",
       "      <td>NA</td>\n",
       "      <td>0.931608</td>\n",
       "      <td>0.934381</td>\n",
       "    </tr>\n",
       "    <tr>\n",
       "      <th>Iteration1 Train</th>\n",
       "      <td>0.937616</td>\n",
       "      <td>0.939695</td>\n",
       "      <td>0.934843</td>\n",
       "      <td>0.698475</td>\n",
       "      <td>0.941312</td>\n",
       "      <td>0.997689</td>\n",
       "      <td>1.0</td>\n",
       "    </tr>\n",
       "    <tr>\n",
       "      <th>Iteration1 Test</th>\n",
       "      <td>0.922366</td>\n",
       "      <td>0.918669</td>\n",
       "      <td>0.919593</td>\n",
       "      <td>0.672828</td>\n",
       "      <td>0.924214</td>\n",
       "      <td>0.935305</td>\n",
       "      <td>0.934381</td>\n",
       "    </tr>\n",
       "    <tr>\n",
       "      <th>Iteration2 Train</th>\n",
       "      <td>1.0</td>\n",
       "      <td>0.939695</td>\n",
       "      <td>0.933688</td>\n",
       "      <td>0.54598</td>\n",
       "      <td>0.939464</td>\n",
       "      <td>0.998845</td>\n",
       "      <td>1.0</td>\n",
       "    </tr>\n",
       "    <tr>\n",
       "      <th>Iteration2 Test</th>\n",
       "      <td>0.924214</td>\n",
       "      <td>0.921442</td>\n",
       "      <td>0.92329</td>\n",
       "      <td>0.542514</td>\n",
       "      <td>0.924214</td>\n",
       "      <td>0.920518</td>\n",
       "      <td>0.924214</td>\n",
       "    </tr>\n",
       "  </tbody>\n",
       "</table>\n",
       "</div>"
      ],
      "text/plain": [
       "                  Logistic       KNN       LDA       GNB       SVM  CatBoost  \\\n",
       "Model                                                                          \n",
       "Iteration0 Train        NA        NA        NA        NA        NA  0.997227   \n",
       "Iteration0 Test         NA        NA        NA        NA        NA  0.931608   \n",
       "Iteration1 Train  0.937616  0.939695  0.934843  0.698475  0.941312  0.997689   \n",
       "Iteration1 Test   0.922366  0.918669  0.919593  0.672828  0.924214  0.935305   \n",
       "Iteration2 Train       1.0  0.939695  0.933688   0.54598  0.939464  0.998845   \n",
       "Iteration2 Test   0.924214  0.921442   0.92329  0.542514  0.924214  0.920518   \n",
       "\n",
       "                  LightGBM  \n",
       "Model                       \n",
       "Iteration0 Train       1.0  \n",
       "Iteration0 Test   0.934381  \n",
       "Iteration1 Train       1.0  \n",
       "Iteration1 Test   0.934381  \n",
       "Iteration2 Train       1.0  \n",
       "Iteration2 Test   0.924214  "
      ]
     },
     "execution_count": 27,
     "metadata": {},
     "output_type": "execute_result"
    }
   ],
   "source": [
    "# Generate Progress Report Card\n",
    "resul = pd.DataFrame(columns=['Model', 'Logistic', 'KNN', 'LDA', 'GNB', 'SVM', 'CatBoost', 'LightGBM'])\n",
    "resul.set_index('Model', inplace=True)\n",
    "resul.loc['Iteration0 Train'] = ['NA','NA','NA','NA','NA',0,0]\n",
    "resul.loc['Iteration0 Test'] = ['NA','NA','NA','NA','NA',0,0]\n",
    "resul.loc['Iteration1 Train'] = [0,0,0,0,0,0,0]\n",
    "resul.loc['Iteration1 Test'] = [0,0,0,0,0,0,0]\n",
    "resul.loc['Iteration2 Train'] = [0,0,0,0,0,0,0]\n",
    "resul.loc['Iteration2 Test'] = [0,0,0,0,0,0,0]\n",
    "\n",
    "# Group the Models\n",
    "it0 = [cb0, lgbm0]\n",
    "it1 = [lgr1, knn1, lda1, gnb1, svc1, cb1, lgbm1]\n",
    "it2 = [lgr2, knn2, lda2, gnb2, svc2, cb2, lgbm2]\n",
    "\n",
    "# Tabulate Iteration 0; only Catboost & LGBM\n",
    "col = 5\n",
    "for model in it0:\n",
    "    resul.iloc[0, col] = model.score(Xtrain, ytrain)\n",
    "    resul.iloc[1, col] = model.score(Xtest, ytest)\n",
    "    col+=1\n",
    "    \n",
    "# Tabulate Iteration 1; Piped w/ Scaler\n",
    "col = 0\n",
    "for model in it1:\n",
    "    resul.iloc[2, col] = model.score(Xtrain, ytrain)\n",
    "    resul.iloc[3, col] = model.score(Xtest, ytest)\n",
    "    col+=1\n",
    "\n",
    "col = 0\n",
    "for model in it2:\n",
    "    resul.iloc[4, col] = model.score(Xtrain, ytrain)\n",
    "    resul.iloc[5, col] = model.score(Xtest, ytest)\n",
    "    col+=1\n",
    "    \n",
    "resul.head(6)"
   ]
  },
  {
   "cell_type": "markdown",
   "id": "89a4ff92",
   "metadata": {},
   "source": [
    "## Optimized Testing\n",
    "[Back to Top](#Machine-Learning-Processing)\n",
    "\n",
    "### Iteration 0 Optimizations"
   ]
  },
  {
   "cell_type": "code",
   "execution_count": 83,
   "id": "9d1de25d",
   "metadata": {
    "scrolled": true
   },
   "outputs": [
    {
     "name": "stdout",
     "output_type": "stream",
     "text": [
      "CB Optimized Train Score: 0.9946857670979667\n",
      "CB Optimized Test Score: 0.9279112754158965\n",
      "Best Params: {'depth': 5, 'min_data_in_leaf': 1}\n"
     ]
    }
   ],
   "source": [
    "# IT0-A: Optimized Naive Catboost\n",
    "grid = {'depth': [5, 6, 7, 8, 9],\n",
    "       'min_data_in_leaf': [1, 2, 4]}\n",
    "cb0_a = GridSearchCV(CatBoostClassifier(verbose=False, random_state=430),\n",
    "                    grid, n_jobs=-2, cv=3)\n",
    "cb0_a.fit(Xtrain, ytrain)\n",
    "\n",
    "print('CB Optimized Train Score:', cb0_a.score(Xtrain, ytrain))\n",
    "print('CB Optimized Test Score:', cb0_a.score(Xtest, ytest))\n",
    "print('Best Params:', cb0_a.best_params_)"
   ]
  },
  {
   "cell_type": "code",
   "execution_count": 84,
   "id": "757d14f0",
   "metadata": {},
   "outputs": [
    {
     "name": "stderr",
     "output_type": "stream",
     "text": [
      "/home/theodore/anaconda3/lib/python3.8/site-packages/sklearn/utils/validation.py:63: DataConversionWarning: A column-vector y was passed when a 1d array was expected. Please change the shape of y to (n_samples, ), for example using ravel().\n",
      "  return f(*args, **kwargs)\n"
     ]
    },
    {
     "name": "stdout",
     "output_type": "stream",
     "text": [
      "[LightGBM] [Warning] min_data_in_leaf is set=17, min_child_samples=20 will be ignored. Current value: min_data_in_leaf=17\n",
      "LightGBM Optimized Train Score: 1.0\n",
      "LightGBM Optimized Test Score: 0.9297597042513863\n",
      "Best Params: {'max_depth': 12, 'min_data_in_leaf': 17, 'num_leaves': 46}\n"
     ]
    }
   ],
   "source": [
    "# IT0-A: Optimized LightGBM\n",
    "grid = {'num_leaves': [44, 45, 46, 47, 48],\n",
    "       'max_depth': [9, 10, 11, 12, 13],\n",
    "       'min_data_in_leaf': [15, 16, 17, 18, 19]}\n",
    "lgbm0_a = GridSearchCV(LGBMClassifier(n_jobs=-2, random_state=430),\n",
    "                      grid, n_jobs=-2, cv=3)\n",
    "lgbm0_a.fit(Xtrain, ytrain)\n",
    "\n",
    "print('LightGBM Optimized Train Score:', lgbm0_a.score(Xtrain, ytrain))\n",
    "print('LightGBM Optimized Test Score:', lgbm0_a.score(Xtest, ytest))\n",
    "print('Best Params:', lgbm0_a.best_params_)"
   ]
  },
  {
   "cell_type": "markdown",
   "id": "a87a86fa",
   "metadata": {},
   "source": [
    "### Iteration 1 Optimizations\n",
    "[Back to Top](#Machine-Learning-Processing)\n"
   ]
  },
  {
   "cell_type": "code",
   "execution_count": 36,
   "id": "8e8741a8",
   "metadata": {},
   "outputs": [
    {
     "name": "stderr",
     "output_type": "stream",
     "text": [
      "/home/theodore/anaconda3/lib/python3.8/site-packages/sklearn/model_selection/_search.py:922: UserWarning: One or more of the test scores are non-finite: [       nan        nan        nan        nan        nan        nan\n",
      "        nan        nan        nan        nan        nan        nan\n",
      "        nan        nan        nan        nan        nan        nan\n",
      "        nan        nan        nan        nan        nan        nan\n",
      "        nan        nan        nan        nan        nan        nan\n",
      "        nan        nan        nan        nan        nan        nan\n",
      "        nan        nan        nan        nan        nan        nan\n",
      "        nan        nan        nan        nan        nan        nan\n",
      "        nan        nan        nan 0.9336882         nan 0.93345704\n",
      "        nan 0.93299455        nan 0.93253239        nan 0.93230139\n",
      "        nan 0.93230139        nan 0.93207039        nan 0.93230139\n",
      "        nan 0.93276355        nan 0.93276355        nan 0.93276355\n",
      "        nan 0.93299471        nan 0.93299471        nan 0.93299471\n",
      "        nan 0.93253255        nan 0.93253255        nan 0.93253255\n",
      "        nan 0.93253255        nan 0.93253255        nan 0.93276355\n",
      "        nan 0.93276355        nan 0.93276355        nan 0.93253239\n",
      "        nan 0.93276355        nan 0.93276355]\n",
      "  warnings.warn(\n",
      "/home/theodore/anaconda3/lib/python3.8/site-packages/sklearn/utils/validation.py:63: DataConversionWarning: A column-vector y was passed when a 1d array was expected. Please change the shape of y to (n_samples, ), for example using ravel().\n",
      "  return f(*args, **kwargs)\n"
     ]
    },
    {
     "name": "stdout",
     "output_type": "stream",
     "text": [
      "LogisticRegression Optimized Train Score: 0.9369223659889094\n",
      "LogisticRegression Optimized Test Score: 0.9242144177449169\n",
      "Best Params: {'logistic__C': 0.08163265306122458, 'logistic__penalty': 'l2'}\n"
     ]
    }
   ],
   "source": [
    "# IT1-A: Optimized LogisticRegression, lgr1_a\n",
    "from sklearn.model_selection import GridSearchCV\n",
    "pipeline = Pipeline(steps=[('scaler', StandardScaler()),\n",
    "                          ('logistic', LogisticRegression(n_jobs=-2))])\n",
    "grid = {'logistic__C': np.linspace(-4, 4, 50),\n",
    "       'logistic__penalty': ['l1', 'l2']}\n",
    "lgr1_a = GridSearchCV(pipeline, grid, n_jobs=-2, cv=3)\n",
    "lgr1_a.fit(Xtrain, ytrain)\n",
    "\n",
    "print('LogisticRegression Optimized Train Score:', lgr1_a.score(Xtrain, ytrain))\n",
    "print('LogisticRegression Optimized Test Score:', lgr1_a.score(Xtest, ytest))\n",
    "print('Best Params:', lgr1_a.best_params_)"
   ]
  },
  {
   "cell_type": "code",
   "execution_count": 46,
   "id": "6362bd54",
   "metadata": {},
   "outputs": [
    {
     "name": "stderr",
     "output_type": "stream",
     "text": [
      "/home/theodore/anaconda3/lib/python3.8/site-packages/sklearn/neighbors/_classification.py:179: DataConversionWarning: A column-vector y was passed when a 1d array was expected. Please change the shape of y to (n_samples,), for example using ravel().\n",
      "  return self._fit(X, y)\n"
     ]
    },
    {
     "name": "stdout",
     "output_type": "stream",
     "text": [
      "KNN Optimized Train Score: 1.0\n",
      "KNN Optimized Test Score: 0.9242144177449169\n",
      "Best Params: {'knn__metric': 'euclidean', 'knn__n_neighbors': 66, 'knn__weights': 'distance'}\n"
     ]
    }
   ],
   "source": [
    "# IT1-A: Optimized KNN, knn1_a\n",
    "ksqrt = int(np.round(np.sqrt(Xtrain.shape[0])))       # Get sqrt of observations for k\n",
    "pipeline = Pipeline(steps=[('scaler', StandardScaler()),\n",
    "                          ('knn', KNeighborsClassifier(n_jobs=-2))])\n",
    "grid = {'knn__n_neighbors': [ksqrt-5, ksqrt-3, ksqrt, ksqrt+3, ksqrt+5],\n",
    "       'knn__weights': ['uniform', 'distance'],\n",
    "       'knn__metric': ['euclidean', 'manhattan']}\n",
    "knn1_a = GridSearchCV(pipeline, grid, n_jobs=-2, cv=3)\n",
    "knn1_a.fit(Xtrain, ytrain)\n",
    "\n",
    "print('KNN Optimized Train Score:', knn1_a.score(Xtrain, ytrain))\n",
    "print('KNN Optimized Test Score:', knn1_a.score(Xtest, ytest))\n",
    "print('Best Params:', knn1_a.best_params_)"
   ]
  },
  {
   "cell_type": "code",
   "execution_count": 69,
   "id": "bab5d71b",
   "metadata": {},
   "outputs": [
    {
     "name": "stdout",
     "output_type": "stream",
     "text": [
      "LDA Optimized Train Score: 0.9359981515711645\n",
      "LDA Optimized Test Score: 0.9195933456561922\n",
      "Best Params: {'lda__solver': 'lsqr'}\n"
     ]
    },
    {
     "name": "stderr",
     "output_type": "stream",
     "text": [
      "/home/theodore/anaconda3/lib/python3.8/site-packages/sklearn/utils/validation.py:63: DataConversionWarning: A column-vector y was passed when a 1d array was expected. Please change the shape of y to (n_samples, ), for example using ravel().\n",
      "  return f(*args, **kwargs)\n"
     ]
    }
   ],
   "source": [
    "# IT1-A: Optimized LDA\n",
    "pipeline = Pipeline(steps=[('scaler', StandardScaler()),\n",
    "                          ('lda', LinearDiscriminantAnalysis())])\n",
    "grid = {'lda__solver': ['svd', 'lsqr', 'eigen']}\n",
    "lda1_a = GridSearchCV(pipeline, grid, n_jobs=-2, cv=3)\n",
    "lda1_a.fit(Xtrain, ytrain)\n",
    "\n",
    "print('LDA Optimized Train Score:', lda1_a.score(Xtrain, ytrain))\n",
    "print('LDA Optimized Test Score:', lda1_a.score(Xtest, ytest))\n",
    "print('Best Params:', lda1_a.best_params_)"
   ]
  },
  {
   "cell_type": "code",
   "execution_count": 68,
   "id": "1b9cb089",
   "metadata": {},
   "outputs": [
    {
     "name": "stdout",
     "output_type": "stream",
     "text": [
      "GNB Optimized Train Score: 0.6984750462107209\n",
      "GNB Optimized Test Score: 0.6728280961182994\n",
      "Best Params: {'gnb__var_smoothing': 0.0002310129700083158}\n"
     ]
    },
    {
     "name": "stderr",
     "output_type": "stream",
     "text": [
      "/home/theodore/anaconda3/lib/python3.8/site-packages/sklearn/utils/validation.py:63: DataConversionWarning: A column-vector y was passed when a 1d array was expected. Please change the shape of y to (n_samples, ), for example using ravel().\n",
      "  return f(*args, **kwargs)\n"
     ]
    }
   ],
   "source": [
    "# IT1-A: Optimized GNB\n",
    "pipeline = Pipeline(steps=[('scaler', StandardScaler()),\n",
    "                          ('gnb', GaussianNB())])\n",
    "grid = {'gnb__var_smoothing': np.logspace(0, -9, num=100)}\n",
    "gnb1_a = GridSearchCV(pipeline, grid, n_jobs=-2, cv=3)\n",
    "gnb1_a.fit(Xtrain, ytrain)\n",
    "\n",
    "print('GNB Optimized Train Score:', gnb1_a.score(Xtrain, ytrain))\n",
    "print('GNB Optimized Test Score:', gnb1_a.score(Xtest, ytest))\n",
    "print('Best Params:', gnb1_a.best_params_)"
   ]
  },
  {
   "cell_type": "code",
   "execution_count": 47,
   "id": "162b0faa",
   "metadata": {},
   "outputs": [
    {
     "name": "stderr",
     "output_type": "stream",
     "text": [
      "/home/theodore/anaconda3/lib/python3.8/site-packages/sklearn/utils/validation.py:63: DataConversionWarning: A column-vector y was passed when a 1d array was expected. Please change the shape of y to (n_samples, ), for example using ravel().\n",
      "  return f(*args, **kwargs)\n"
     ]
    },
    {
     "name": "stdout",
     "output_type": "stream",
     "text": [
      "SVC Optimized Train Score: 0.9376155268022182\n",
      "SVC Optimized Test Score: 0.9306839186691312\n",
      "Best Params: {'svc__C': 0.1, 'svc__gamma': 'scale', 'svc__kernel': 'linear'}\n"
     ]
    }
   ],
   "source": [
    "# IT1-A: Optimized SVM\n",
    "pipeline = Pipeline(steps=[('scaler', StandardScaler()),\n",
    "                          ('svc', SVC())])\n",
    "grid = {'svc__kernel': ['linear', 'poly', 'rbf', 'sigmoid'],\n",
    "       'svc__gamma': ['scale'],\n",
    "       'svc__C': [0.001, 0.01, 0.1, 1, 10, 100]}\n",
    "svc1_a = GridSearchCV(pipeline, grid, n_jobs=-2, cv=3)\n",
    "svc1_a.fit(Xtrain, ytrain)\n",
    "\n",
    "print('SVC Optimized Train Score:', svc1_a.score(Xtrain, ytrain))\n",
    "print('SVC Optimized Test Score:', svc1_a.score(Xtest, ytest))\n",
    "print('Best Params:', svc1_a.best_params_)"
   ]
  },
  {
   "cell_type": "code",
   "execution_count": 66,
   "id": "ed4b5232",
   "metadata": {},
   "outputs": [
    {
     "name": "stdout",
     "output_type": "stream",
     "text": [
      "CB Optimized Train Score: 0.9993068391866913\n",
      "CB Optimized Test Score: 0.9316081330868762\n",
      "Best Params: {'catboost__depth': 7, 'catboost__min_data_in_leaf': 1}\n"
     ]
    }
   ],
   "source": [
    "# IT1-A: Optimized CatBoost\n",
    "pipeline = Pipeline(steps=[('scaler', StandardScaler()),\n",
    "                          ('catboost', CatBoostClassifier(verbose=False))])\n",
    "grid = {'catboost__depth': [5, 6, 7, 8, 9],\n",
    "       'catboost__min_data_in_leaf': [1, 2, 4]}\n",
    "cb1_a = GridSearchCV(pipeline, grid, n_jobs=-2, cv=3)\n",
    "cb1_a.fit(Xtrain, ytrain)\n",
    "\n",
    "print('CB Optimized Train Score:', cb1_a.score(Xtrain, ytrain))\n",
    "print('CB Optimized Test Score:', cb1_a.score(Xtest, ytest))\n",
    "print('Best Params:', cb1_a.best_params_)"
   ]
  },
  {
   "cell_type": "code",
   "execution_count": 64,
   "id": "e994b34b",
   "metadata": {},
   "outputs": [
    {
     "name": "stderr",
     "output_type": "stream",
     "text": [
      "/home/theodore/anaconda3/lib/python3.8/site-packages/sklearn/utils/validation.py:63: DataConversionWarning: A column-vector y was passed when a 1d array was expected. Please change the shape of y to (n_samples, ), for example using ravel().\n",
      "  return f(*args, **kwargs)\n"
     ]
    },
    {
     "name": "stdout",
     "output_type": "stream",
     "text": [
      "[LightGBM] [Warning] min_data_in_leaf is set=17, min_child_samples=20 will be ignored. Current value: min_data_in_leaf=17\n",
      "LightGBM Optimized Train Score: 1.0\n",
      "LightGBM Optimized Test Score: 0.9306839186691312\n",
      "Best Params: {'lgbm__max_depth': 11, 'lgbm__min_data_in_leaf': 17, 'lgbm__num_leaves': 46}\n"
     ]
    }
   ],
   "source": [
    "# IT1-A: Optimized LightGBM\n",
    "pipeline = Pipeline(steps=[('scaler', StandardScaler()),\n",
    "                          ('lgbm', LGBMClassifier(n_jobs=-2, random_state=430))])\n",
    "grid = {'lgbm__num_leaves': [44, 45, 46, 47, 48],\n",
    "       'lgbm__max_depth': [9, 10, 11, 12, 13],\n",
    "       'lgbm__min_data_in_leaf': [15, 16, 17, 18, 19]}\n",
    "lgbm1_a = GridSearchCV(pipeline, grid, n_jobs=-2, cv=3)\n",
    "lgbm1_a.fit(Xtrain, ytrain)\n",
    "\n",
    "print('LightGBM Optimized Train Score:', lgbm1_a.score(Xtrain, ytrain))\n",
    "print('LightGBM Optimized Test Score:', lgbm1_a.score(Xtest, ytest))\n",
    "print('Best Params:', lgbm1_a.best_params_)"
   ]
  },
  {
   "cell_type": "markdown",
   "id": "79b9df64",
   "metadata": {},
   "source": [
    "### Iteration 2 Optimizations\n",
    "[Back to Top](#Machine-Learning-Processing)"
   ]
  },
  {
   "cell_type": "code",
   "execution_count": 74,
   "id": "93e03d5b",
   "metadata": {},
   "outputs": [
    {
     "name": "stderr",
     "output_type": "stream",
     "text": [
      "/home/theodore/anaconda3/lib/python3.8/site-packages/sklearn/model_selection/_search.py:922: UserWarning: One or more of the test scores are non-finite: [       nan        nan        nan        nan        nan        nan\n",
      "        nan        nan        nan        nan        nan        nan\n",
      "        nan        nan        nan        nan        nan        nan\n",
      "        nan        nan        nan        nan        nan        nan\n",
      "        nan        nan        nan        nan        nan        nan\n",
      "        nan        nan        nan        nan        nan        nan\n",
      "        nan        nan        nan        nan        nan        nan\n",
      "        nan        nan        nan        nan        nan        nan\n",
      "        nan        nan        nan 0.93392           nan 0.93415084\n",
      "        nan 0.934151          nan 0.93391984        nan 0.93391984\n",
      "        nan 0.93391984        nan 0.93391984        nan 0.93391984\n",
      "        nan 0.93391984        nan 0.93391984        nan 0.93391984\n",
      "        nan 0.93391984        nan 0.93368868        nan 0.93345752\n",
      "        nan 0.93345752        nan 0.93345752        nan 0.93345752\n",
      "        nan 0.93345752        nan 0.93345752        nan 0.93345752\n",
      "        nan 0.93345752        nan 0.93345752        nan 0.93345752\n",
      "        nan 0.93345752        nan 0.93322652]\n",
      "  warnings.warn(\n",
      "/home/theodore/anaconda3/lib/python3.8/site-packages/sklearn/utils/validation.py:63: DataConversionWarning: A column-vector y was passed when a 1d array was expected. Please change the shape of y to (n_samples, ), for example using ravel().\n",
      "  return f(*args, **kwargs)\n"
     ]
    },
    {
     "name": "stdout",
     "output_type": "stream",
     "text": [
      "LogisticRegression Optimized Train Score: 0.9366913123844732\n",
      "LogisticRegression Optimized Test Score: 0.9214417744916821\n",
      "Best Params: {'logistic__C': 0.408163265306122, 'logistic__penalty': 'l2', 'pca__n_components': 0.99}\n"
     ]
    }
   ],
   "source": [
    "# IT2-A: Optimized PCA'd LogisticRegression\n",
    "pipeline = Pipeline(steps=[('scaler', StandardScaler()),\n",
    "                           ('pca', PCA(random_state=430)),\n",
    "                           ('logistic', LogisticRegression(n_jobs=-2))])\n",
    "grid = {'pca__n_components': [0.99],\n",
    "       'logistic__C': np.linspace(-4, 4, 50),\n",
    "       'logistic__penalty': ['l1', 'l2']}\n",
    "lgr2_a = GridSearchCV(pipeline, grid, n_jobs=-2, cv=3)\n",
    "lgr2_a.fit(Xtrain, ytrain)\n",
    "\n",
    "print('LogisticRegression Optimized Train Score:', lgr2_a.score(Xtrain, ytrain))\n",
    "print('LogisticRegression Optimized Test Score:', lgr2_a.score(Xtest, ytest))\n",
    "print('Best Params:', lgr2_a.best_params_)"
   ]
  },
  {
   "cell_type": "code",
   "execution_count": 75,
   "id": "feddb8f1",
   "metadata": {},
   "outputs": [
    {
     "name": "stderr",
     "output_type": "stream",
     "text": [
      "/home/theodore/anaconda3/lib/python3.8/site-packages/sklearn/neighbors/_classification.py:179: DataConversionWarning: A column-vector y was passed when a 1d array was expected. Please change the shape of y to (n_samples,), for example using ravel().\n",
      "  return self._fit(X, y)\n"
     ]
    },
    {
     "name": "stdout",
     "output_type": "stream",
     "text": [
      "KNN Optimized Train Score: 1.0\n",
      "KNN Optimized Test Score: 0.9242144177449169\n",
      "Best Params: {'knn__metric': 'euclidean', 'knn__n_neighbors': 61, 'knn__weights': 'distance', 'pca__n_components': 0.99}\n"
     ]
    }
   ],
   "source": [
    "# IT2-A: Optimized, PCA'd KNN     \n",
    "pipeline = Pipeline(steps=[('scaler', StandardScaler()),\n",
    "                           ('pca', PCA(random_state=430)),\n",
    "                           ('knn', KNeighborsClassifier(n_jobs=-2))])\n",
    "grid = {'pca__n_components': [0.99],\n",
    "       'knn__n_neighbors': [ksqrt-5, ksqrt-3, ksqrt, ksqrt+3, ksqrt+5],   # already collected ksqrt\n",
    "       'knn__weights': ['uniform', 'distance'],\n",
    "       'knn__metric': ['euclidean', 'manhattan']}\n",
    "knn2_a = GridSearchCV(pipeline, grid, n_jobs=-2, cv=3)\n",
    "knn2_a.fit(Xtrain, ytrain)\n",
    "\n",
    "print('KNN Optimized Train Score:', knn2_a.score(Xtrain, ytrain))\n",
    "print('KNN Optimized Test Score:', knn2_a.score(Xtest, ytest))\n",
    "print('Best Params:', knn2_a.best_params_)"
   ]
  },
  {
   "cell_type": "code",
   "execution_count": 76,
   "id": "04bfdb28",
   "metadata": {},
   "outputs": [
    {
     "name": "stdout",
     "output_type": "stream",
     "text": [
      "LDA Optimized Train Score: 0.9336876155268022\n",
      "LDA Optimized Test Score: 0.9232902033271719\n",
      "Best Params: {'lda__solver': 'svd', 'pca__n_components': 0.99}\n"
     ]
    },
    {
     "name": "stderr",
     "output_type": "stream",
     "text": [
      "/home/theodore/anaconda3/lib/python3.8/site-packages/sklearn/utils/validation.py:63: DataConversionWarning: A column-vector y was passed when a 1d array was expected. Please change the shape of y to (n_samples, ), for example using ravel().\n",
      "  return f(*args, **kwargs)\n"
     ]
    }
   ],
   "source": [
    "# IT2-A: Optimized, PCA'd LDA\n",
    "pipeline = Pipeline(steps=[('scaler', StandardScaler()),\n",
    "                           ('pca', PCA(random_state=430)),\n",
    "                           ('lda', LinearDiscriminantAnalysis())])\n",
    "grid = {'pca__n_components': [0.99],\n",
    "        'lda__solver': ['svd', 'lsqr', 'eigen']}\n",
    "lda2_a = GridSearchCV(pipeline, grid, n_jobs=-2, cv=3)\n",
    "lda2_a.fit(Xtrain, ytrain)\n",
    "\n",
    "print('LDA Optimized Train Score:', lda2_a.score(Xtrain, ytrain))\n",
    "print('LDA Optimized Test Score:', lda2_a.score(Xtest, ytest))\n",
    "print('Best Params:', lda2_a.best_params_)"
   ]
  },
  {
   "cell_type": "code",
   "execution_count": 77,
   "id": "37175385",
   "metadata": {},
   "outputs": [
    {
     "name": "stdout",
     "output_type": "stream",
     "text": [
      "GNB Optimized Train Score: 0.927449168207024\n",
      "GNB Optimized Test Score: 0.9149722735674677\n",
      "Best Params: {'gnb__var_smoothing': 0.8111308307896871, 'pca__n_components': 0.99}\n"
     ]
    },
    {
     "name": "stderr",
     "output_type": "stream",
     "text": [
      "/home/theodore/anaconda3/lib/python3.8/site-packages/sklearn/utils/validation.py:63: DataConversionWarning: A column-vector y was passed when a 1d array was expected. Please change the shape of y to (n_samples, ), for example using ravel().\n",
      "  return f(*args, **kwargs)\n"
     ]
    }
   ],
   "source": [
    "# IT2-A: Optimized, PCA'd GNB\n",
    "pipeline = Pipeline(steps=[('scaler', StandardScaler()),\n",
    "                           ('pca', PCA(random_state=430)),\n",
    "                           ('gnb', GaussianNB())])\n",
    "grid = {'pca__n_components': [0.99],\n",
    "        'gnb__var_smoothing': np.logspace(0, -9, num=100)}\n",
    "gnb2_a = GridSearchCV(pipeline, grid, n_jobs=-2, cv=3)\n",
    "gnb2_a.fit(Xtrain, ytrain)\n",
    "\n",
    "print('GNB Optimized Train Score:', gnb2_a.score(Xtrain, ytrain))\n",
    "print('GNB Optimized Test Score:', gnb2_a.score(Xtest, ytest))\n",
    "print('Best Params:', gnb2_a.best_params_)"
   ]
  },
  {
   "cell_type": "code",
   "execution_count": 78,
   "id": "c86c9c11",
   "metadata": {},
   "outputs": [
    {
     "name": "stderr",
     "output_type": "stream",
     "text": [
      "/home/theodore/anaconda3/lib/python3.8/site-packages/sklearn/utils/validation.py:63: DataConversionWarning: A column-vector y was passed when a 1d array was expected. Please change the shape of y to (n_samples, ), for example using ravel().\n",
      "  return f(*args, **kwargs)\n"
     ]
    },
    {
     "name": "stdout",
     "output_type": "stream",
     "text": [
      "SVC Optimized Train Score: 0.9376155268022182\n",
      "SVC Optimized Test Score: 0.9269870609981515\n",
      "Best Params: {'pca__n_components': 0.99, 'svc__C': 0.1, 'svc__gamma': 'scale', 'svc__kernel': 'linear'}\n"
     ]
    }
   ],
   "source": [
    "# IT2-A: Optimized, PCA'd SVM\n",
    "pipeline = Pipeline(steps=[('scaler', StandardScaler()),\n",
    "                           ('pca', PCA(random_state=430)),\n",
    "                           ('svc', SVC())])\n",
    "grid = {'pca__n_components': [0.99],\n",
    "       'svc__kernel': ['linear', 'poly', 'rbf', 'sigmoid'],\n",
    "       'svc__gamma': ['scale'],\n",
    "       'svc__C': [0.001, 0.01, 0.1, 1, 10, 100]}\n",
    "svc2_a = GridSearchCV(pipeline, grid, n_jobs=-2, cv=3)\n",
    "svc2_a.fit(Xtrain, ytrain)\n",
    "\n",
    "print('SVC Optimized Train Score:', svc2_a.score(Xtrain, ytrain))\n",
    "print('SVC Optimized Test Score:', svc2_a.score(Xtest, ytest))\n",
    "print('Best Params:', svc2_a.best_params_)"
   ]
  },
  {
   "cell_type": "code",
   "execution_count": 79,
   "id": "2eda6575",
   "metadata": {},
   "outputs": [
    {
     "name": "stdout",
     "output_type": "stream",
     "text": [
      "CB Optimized Train Score: 1.0\n",
      "CB Optimized Test Score: 0.9195933456561922\n",
      "Best Params: {'catboost__depth': 9, 'catboost__min_data_in_leaf': 1, 'pca__n_components': 0.99}\n"
     ]
    }
   ],
   "source": [
    "# IT2-A: Optimized, PCA'd CatBoost\n",
    "pipeline = Pipeline(steps=[('scaler', StandardScaler()),\n",
    "                           ('pca', PCA(random_state=430)),\n",
    "                           ('catboost', CatBoostClassifier(verbose=False))])\n",
    "grid = {'pca__n_components': [0.99],\n",
    "       'catboost__depth': [5, 6, 7, 8, 9],\n",
    "       'catboost__min_data_in_leaf': [1, 2, 4]}\n",
    "cb2_a = GridSearchCV(pipeline, grid, n_jobs=-2, cv=3)\n",
    "cb2_a.fit(Xtrain, ytrain)\n",
    "\n",
    "print('CB Optimized Train Score:', cb2_a.score(Xtrain, ytrain))\n",
    "print('CB Optimized Test Score:', cb2_a.score(Xtest, ytest))\n",
    "print('Best Params:', cb2_a.best_params_)"
   ]
  },
  {
   "cell_type": "code",
   "execution_count": 80,
   "id": "b50e6726",
   "metadata": {},
   "outputs": [
    {
     "name": "stderr",
     "output_type": "stream",
     "text": [
      "/home/theodore/anaconda3/lib/python3.8/site-packages/joblib/externals/loky/process_executor.py:688: UserWarning: A worker stopped while some jobs were given to the executor. This can be caused by a too short worker timeout or by a memory leak.\n",
      "  warnings.warn(\n",
      "/home/theodore/anaconda3/lib/python3.8/site-packages/sklearn/utils/validation.py:63: DataConversionWarning: A column-vector y was passed when a 1d array was expected. Please change the shape of y to (n_samples, ), for example using ravel().\n",
      "  return f(*args, **kwargs)\n"
     ]
    },
    {
     "name": "stdout",
     "output_type": "stream",
     "text": [
      "[LightGBM] [Warning] min_data_in_leaf is set=17, min_child_samples=20 will be ignored. Current value: min_data_in_leaf=17\n",
      "LightGBM Optimized Train Score: 1.0\n",
      "LightGBM Optimized Test Score: 0.922365988909427\n",
      "Best Params: {'lgbm__max_depth': 15, 'lgbm__min_data_in_leaf': 17, 'lgbm__num_leaves': 41, 'pca__n_components': 0.99}\n"
     ]
    }
   ],
   "source": [
    "# IT2-A: Optimized, PCA'd LightGBM\n",
    "pipeline = Pipeline(steps=[('scaler', StandardScaler()),\n",
    "                           ('pca', PCA(random_state=430)),\n",
    "                           ('lgbm', LGBMClassifier(n_jobs=-2, random_state=430))])\n",
    "grid = {'pca__n_components': [0.99],\n",
    "       'lgbm__num_leaves': [31, 36, 41, 46, 51],\n",
    "       'lgbm__max_depth': [5, 7, 9, 11, 13, 15, 17],\n",
    "       'lgbm__min_data_in_leaf': [15, 16, 17, 18, 19]}\n",
    "lgbm2_a = GridSearchCV(pipeline, grid, n_jobs=-2, cv=3)\n",
    "lgbm2_a.fit(Xtrain, ytrain)\n",
    "\n",
    "print('LightGBM Optimized Train Score:', lgbm2_a.score(Xtrain, ytrain))\n",
    "print('LightGBM Optimized Test Score:', lgbm2_a.score(Xtest, ytest))\n",
    "print('Best Params:', lgbm2_a.best_params_)"
   ]
  },
  {
   "cell_type": "markdown",
   "id": "27a38981",
   "metadata": {},
   "source": [
    "### Post-Optimization Report Card\n",
    "[Back to Top](#Machine-Learning-Optimization)"
   ]
  },
  {
   "cell_type": "code",
   "execution_count": 85,
   "id": "f1fd63c1",
   "metadata": {},
   "outputs": [
    {
     "data": {
      "text/html": [
       "<div>\n",
       "<style scoped>\n",
       "    .dataframe tbody tr th:only-of-type {\n",
       "        vertical-align: middle;\n",
       "    }\n",
       "\n",
       "    .dataframe tbody tr th {\n",
       "        vertical-align: top;\n",
       "    }\n",
       "\n",
       "    .dataframe thead th {\n",
       "        text-align: right;\n",
       "    }\n",
       "</style>\n",
       "<table border=\"1\" class=\"dataframe\">\n",
       "  <thead>\n",
       "    <tr style=\"text-align: right;\">\n",
       "      <th></th>\n",
       "      <th>Logistic</th>\n",
       "      <th>KNN</th>\n",
       "      <th>LDA</th>\n",
       "      <th>GNB</th>\n",
       "      <th>SVM</th>\n",
       "      <th>CatBoost</th>\n",
       "      <th>LightGBM</th>\n",
       "    </tr>\n",
       "    <tr>\n",
       "      <th>Model</th>\n",
       "      <th></th>\n",
       "      <th></th>\n",
       "      <th></th>\n",
       "      <th></th>\n",
       "      <th></th>\n",
       "      <th></th>\n",
       "      <th></th>\n",
       "    </tr>\n",
       "  </thead>\n",
       "  <tbody>\n",
       "    <tr>\n",
       "      <th>Iteration0 Train</th>\n",
       "      <td>NA</td>\n",
       "      <td>NA</td>\n",
       "      <td>NA</td>\n",
       "      <td>NA</td>\n",
       "      <td>NA</td>\n",
       "      <td>0.994686</td>\n",
       "      <td>1.0</td>\n",
       "    </tr>\n",
       "    <tr>\n",
       "      <th>Iteration0 Test</th>\n",
       "      <td>NA</td>\n",
       "      <td>NA</td>\n",
       "      <td>NA</td>\n",
       "      <td>NA</td>\n",
       "      <td>NA</td>\n",
       "      <td>0.927911</td>\n",
       "      <td>0.92976</td>\n",
       "    </tr>\n",
       "    <tr>\n",
       "      <th>Iteration1 Train</th>\n",
       "      <td>0.936922</td>\n",
       "      <td>1.0</td>\n",
       "      <td>0.935998</td>\n",
       "      <td>0.698475</td>\n",
       "      <td>0.937616</td>\n",
       "      <td>0.999307</td>\n",
       "      <td>1.0</td>\n",
       "    </tr>\n",
       "    <tr>\n",
       "      <th>Iteration1 Test</th>\n",
       "      <td>0.924214</td>\n",
       "      <td>0.924214</td>\n",
       "      <td>0.919593</td>\n",
       "      <td>0.672828</td>\n",
       "      <td>0.930684</td>\n",
       "      <td>0.931608</td>\n",
       "      <td>0.930684</td>\n",
       "    </tr>\n",
       "    <tr>\n",
       "      <th>Iteration2 Train</th>\n",
       "      <td>0.936691</td>\n",
       "      <td>1.0</td>\n",
       "      <td>0.933688</td>\n",
       "      <td>0.927449</td>\n",
       "      <td>0.937616</td>\n",
       "      <td>1.0</td>\n",
       "      <td>1.0</td>\n",
       "    </tr>\n",
       "    <tr>\n",
       "      <th>Iteration2 Test</th>\n",
       "      <td>0.921442</td>\n",
       "      <td>0.924214</td>\n",
       "      <td>0.92329</td>\n",
       "      <td>0.914972</td>\n",
       "      <td>0.926987</td>\n",
       "      <td>0.919593</td>\n",
       "      <td>0.922366</td>\n",
       "    </tr>\n",
       "  </tbody>\n",
       "</table>\n",
       "</div>"
      ],
      "text/plain": [
       "                  Logistic       KNN       LDA       GNB       SVM  CatBoost  \\\n",
       "Model                                                                          \n",
       "Iteration0 Train        NA        NA        NA        NA        NA  0.994686   \n",
       "Iteration0 Test         NA        NA        NA        NA        NA  0.927911   \n",
       "Iteration1 Train  0.936922       1.0  0.935998  0.698475  0.937616  0.999307   \n",
       "Iteration1 Test   0.924214  0.924214  0.919593  0.672828  0.930684  0.931608   \n",
       "Iteration2 Train  0.936691       1.0  0.933688  0.927449  0.937616       1.0   \n",
       "Iteration2 Test   0.921442  0.924214   0.92329  0.914972  0.926987  0.919593   \n",
       "\n",
       "                  LightGBM  \n",
       "Model                       \n",
       "Iteration0 Train       1.0  \n",
       "Iteration0 Test    0.92976  \n",
       "Iteration1 Train       1.0  \n",
       "Iteration1 Test   0.930684  \n",
       "Iteration2 Train       1.0  \n",
       "Iteration2 Test   0.922366  "
      ]
     },
     "execution_count": 85,
     "metadata": {},
     "output_type": "execute_result"
    }
   ],
   "source": [
    "# Generate Progress Report Card\n",
    "resul_a = pd.DataFrame(columns=['Model', 'Logistic', 'KNN', 'LDA', 'GNB', 'SVM', 'CatBoost', 'LightGBM'])\n",
    "resul_a.set_index('Model', inplace=True)\n",
    "resul_a.loc['Iteration0 Train'] = ['NA','NA','NA','NA','NA',0,0]\n",
    "resul_a.loc['Iteration0 Test'] = ['NA','NA','NA','NA','NA',0,0]\n",
    "resul_a.loc['Iteration1 Train'] = [0,0,0,0,0,0,0]\n",
    "resul_a.loc['Iteration1 Test'] = [0,0,0,0,0,0,0]\n",
    "resul_a.loc['Iteration2 Train'] = [0,0,0,0,0,0,0]\n",
    "resul_a.loc['Iteration2 Test'] = [0,0,0,0,0,0,0]\n",
    "\n",
    "# Group the Models\n",
    "it0_a = [cb0_a, lgbm0_a]\n",
    "it1_a = [lgr1_a, knn1_a, lda1_a, gnb1_a, svc1_a, cb1_a, lgbm1_a]\n",
    "it2_a = [lgr2_a, knn2_a, lda2_a, gnb2_a, svc2_a, cb2_a, lgbm2_a]\n",
    "\n",
    "# Tabulate Iteration 0; only Catboost & LGBM\n",
    "col = 5\n",
    "for model in it0_a:\n",
    "    resul.iloc[0, col] = model.score(Xtrain, ytrain)\n",
    "    resul.iloc[1, col] = model.score(Xtest, ytest)\n",
    "    col+=1\n",
    "    \n",
    "# Tabulate Iteration 1; Piped w/ Scaler\n",
    "col = 0\n",
    "for model in it1_a:\n",
    "    resul.iloc[2, col] = model.score(Xtrain, ytrain)\n",
    "    resul.iloc[3, col] = model.score(Xtest, ytest)\n",
    "    col+=1\n",
    "\n",
    "col = 0\n",
    "for model in it2_a:\n",
    "    resul.iloc[4, col] = model.score(Xtrain, ytrain)\n",
    "    resul.iloc[5, col] = model.score(Xtest, ytest)\n",
    "    col+=1\n",
    "    \n",
    "resul.head(6)"
   ]
  },
  {
   "cell_type": "code",
   "execution_count": null,
   "id": "a89e03de",
   "metadata": {},
   "outputs": [],
   "source": []
  },
  {
   "cell_type": "code",
   "execution_count": null,
   "id": "3e3c8116",
   "metadata": {},
   "outputs": [],
   "source": []
  },
  {
   "cell_type": "markdown",
   "id": "730c7a2d",
   "metadata": {},
   "source": [
    "# Testing PCA Functions\n",
    "[Back to Top](#Machine-Learning-Processing)"
   ]
  },
  {
   "cell_type": "code",
   "execution_count": 20,
   "id": "f7978137",
   "metadata": {},
   "outputs": [],
   "source": [
    "# Function to merge PCA data back to original\n",
    "def PCAmerge(df, n_comp = 0.99, r_state = 42):\n",
    "    from sklearn.decomposition import PCA \n",
    "    pca = PCA(n_components = n_comp, random_state = r_state)\n",
    "    df_pca = pd.DataFrame(pca.fit_transform(df), index=df.index)\n",
    "    PCA_col_list = []\n",
    "    for num in range(1, df_pca.shape[1]+1):\n",
    "        PCA_col_list.append(('PCA' + str(num)))\n",
    "    df_pca.columns = PCA_col_list\n",
    "    df = pd.concat([df, df_pca], axis=1)\n",
    "    return df\n",
    "    "
   ]
  },
  {
   "cell_type": "code",
   "execution_count": 27,
   "id": "supported-crash",
   "metadata": {},
   "outputs": [],
   "source": [
    "# TRYING TO MAKE IT PIPELINE-COMPATIBLE. NOT SO EASY BUT HAVE A LEAD ON SOMETHING CALLED KEDRO\n",
    "# https://towardsdatascience.com/kedro-prepare-to-pimp-your-pipeline-f8f68c263466\n",
    "# from sklearn.base import BaseEstimator, TransformerMixin\n",
    "# class PCAmergePipe(BaseEstimator, TransformerMixin):\n",
    "#     def __init__(self, n_comp = 0.99, r_state = 42):\n",
    "#             self.n_comp = n_comp\n",
    "#             self.r_state = r_state\n",
    "#     def fit_transform(self, X, y):\n",
    "#             from sklearn.decomposition import PCA \n",
    "#             pca = PCA(n_components = n_comp, random_state = r_state)\n",
    "#             df_pca = pd.DataFrame(pca.fit_transform(self), index=self.index)\n",
    "#             PCA_col_list = []\n",
    "#             for num in range(1, df_pca.shape[1]+1):\n",
    "#                 PCA_col_list.append(('PCA' + str(num)))\n",
    "#             df_pca.columns = PCA_col_list\n",
    "#             self = pd.concat([self, df_pca], axis=1)\n",
    "#             return self\n",
    "# #     def transform(self, x):\n",
    "# #             return x[self.ind_feature,:]"
   ]
  },
  {
   "cell_type": "code",
   "execution_count": 21,
   "id": "ce98f494",
   "metadata": {},
   "outputs": [
    {
     "data": {
      "text/html": [
       "<div>\n",
       "<style scoped>\n",
       "    .dataframe tbody tr th:only-of-type {\n",
       "        vertical-align: middle;\n",
       "    }\n",
       "\n",
       "    .dataframe tbody tr th {\n",
       "        vertical-align: top;\n",
       "    }\n",
       "\n",
       "    .dataframe thead th {\n",
       "        text-align: right;\n",
       "    }\n",
       "</style>\n",
       "<table border=\"1\" class=\"dataframe\">\n",
       "  <thead>\n",
       "    <tr style=\"text-align: right;\">\n",
       "      <th></th>\n",
       "      <th>Number_of_Claims</th>\n",
       "      <th>Num_Unique_Patients</th>\n",
       "      <th>Num_Unique_Docs</th>\n",
       "      <th>Num_Unique_Diag_Codes</th>\n",
       "      <th>Num_Unique_Proc_Codes</th>\n",
       "      <th>Mean_InscClaimAmtReimbursed</th>\n",
       "      <th>Mean_DeductibleAmtPaid</th>\n",
       "      <th>Mean_Reimbursement_per_Day</th>\n",
       "      <th>Mean_Length_of_Stay</th>\n",
       "      <th>Mean_Length_of_Claim</th>\n",
       "      <th>...</th>\n",
       "      <th>Perc_ClaimStartDt_July</th>\n",
       "      <th>Perc_ClaimStartDt_August</th>\n",
       "      <th>Perc_ClaimStartDt_September</th>\n",
       "      <th>Perc_ClaimStartDt_October</th>\n",
       "      <th>Perc_ClaimStartDt_November</th>\n",
       "      <th>Perc_ClaimStartDt_December</th>\n",
       "      <th>PCA1</th>\n",
       "      <th>PCA2</th>\n",
       "      <th>PCA3</th>\n",
       "      <th>PCA4</th>\n",
       "    </tr>\n",
       "    <tr>\n",
       "      <th>Provider</th>\n",
       "      <th></th>\n",
       "      <th></th>\n",
       "      <th></th>\n",
       "      <th></th>\n",
       "      <th></th>\n",
       "      <th></th>\n",
       "      <th></th>\n",
       "      <th></th>\n",
       "      <th></th>\n",
       "      <th></th>\n",
       "      <th></th>\n",
       "      <th></th>\n",
       "      <th></th>\n",
       "      <th></th>\n",
       "      <th></th>\n",
       "      <th></th>\n",
       "      <th></th>\n",
       "      <th></th>\n",
       "      <th></th>\n",
       "      <th></th>\n",
       "      <th></th>\n",
       "    </tr>\n",
       "  </thead>\n",
       "  <tbody>\n",
       "    <tr>\n",
       "      <th>PRV56682</th>\n",
       "      <td>19</td>\n",
       "      <td>19</td>\n",
       "      <td>11</td>\n",
       "      <td>66</td>\n",
       "      <td>4</td>\n",
       "      <td>863.68</td>\n",
       "      <td>168.63</td>\n",
       "      <td>1400.00</td>\n",
       "      <td>4.67</td>\n",
       "      <td>2.68</td>\n",
       "      <td>...</td>\n",
       "      <td>0.11</td>\n",
       "      <td>0.11</td>\n",
       "      <td>0.11</td>\n",
       "      <td>0.00</td>\n",
       "      <td>0.11</td>\n",
       "      <td>0.16</td>\n",
       "      <td>2721.536335</td>\n",
       "      <td>1510.184013</td>\n",
       "      <td>-13.625119</td>\n",
       "      <td>797.323463</td>\n",
       "    </tr>\n",
       "    <tr>\n",
       "      <th>PRV54630</th>\n",
       "      <td>85</td>\n",
       "      <td>23</td>\n",
       "      <td>4</td>\n",
       "      <td>173</td>\n",
       "      <td>0</td>\n",
       "      <td>302.12</td>\n",
       "      <td>1.18</td>\n",
       "      <td>0.00</td>\n",
       "      <td>0.00</td>\n",
       "      <td>2.58</td>\n",
       "      <td>...</td>\n",
       "      <td>0.12</td>\n",
       "      <td>0.12</td>\n",
       "      <td>0.06</td>\n",
       "      <td>0.12</td>\n",
       "      <td>0.07</td>\n",
       "      <td>0.05</td>\n",
       "      <td>-1335.867823</td>\n",
       "      <td>1104.179480</td>\n",
       "      <td>-797.684800</td>\n",
       "      <td>-412.460162</td>\n",
       "    </tr>\n",
       "    <tr>\n",
       "      <th>PRV55179</th>\n",
       "      <td>74</td>\n",
       "      <td>66</td>\n",
       "      <td>33</td>\n",
       "      <td>195</td>\n",
       "      <td>14</td>\n",
       "      <td>2417.97</td>\n",
       "      <td>223.01</td>\n",
       "      <td>2034.73</td>\n",
       "      <td>5.06</td>\n",
       "      <td>3.01</td>\n",
       "      <td>...</td>\n",
       "      <td>0.09</td>\n",
       "      <td>0.07</td>\n",
       "      <td>0.14</td>\n",
       "      <td>0.07</td>\n",
       "      <td>0.08</td>\n",
       "      <td>0.07</td>\n",
       "      <td>986.023464</td>\n",
       "      <td>-598.616462</td>\n",
       "      <td>637.878703</td>\n",
       "      <td>1041.106514</td>\n",
       "    </tr>\n",
       "    <tr>\n",
       "      <th>PRV57312</th>\n",
       "      <td>334</td>\n",
       "      <td>137</td>\n",
       "      <td>20</td>\n",
       "      <td>492</td>\n",
       "      <td>0</td>\n",
       "      <td>273.41</td>\n",
       "      <td>3.92</td>\n",
       "      <td>0.00</td>\n",
       "      <td>0.00</td>\n",
       "      <td>2.99</td>\n",
       "      <td>...</td>\n",
       "      <td>0.09</td>\n",
       "      <td>0.09</td>\n",
       "      <td>0.08</td>\n",
       "      <td>0.08</td>\n",
       "      <td>0.08</td>\n",
       "      <td>0.06</td>\n",
       "      <td>-4582.450114</td>\n",
       "      <td>427.695665</td>\n",
       "      <td>188.733308</td>\n",
       "      <td>-431.012063</td>\n",
       "    </tr>\n",
       "    <tr>\n",
       "      <th>PRV54923</th>\n",
       "      <td>79</td>\n",
       "      <td>57</td>\n",
       "      <td>21</td>\n",
       "      <td>149</td>\n",
       "      <td>0</td>\n",
       "      <td>384.81</td>\n",
       "      <td>0.25</td>\n",
       "      <td>0.00</td>\n",
       "      <td>0.00</td>\n",
       "      <td>2.32</td>\n",
       "      <td>...</td>\n",
       "      <td>0.13</td>\n",
       "      <td>0.11</td>\n",
       "      <td>0.08</td>\n",
       "      <td>0.08</td>\n",
       "      <td>0.09</td>\n",
       "      <td>0.08</td>\n",
       "      <td>3447.416497</td>\n",
       "      <td>2657.819578</td>\n",
       "      <td>4.046877</td>\n",
       "      <td>-407.644689</td>\n",
       "    </tr>\n",
       "    <tr>\n",
       "      <th>...</th>\n",
       "      <td>...</td>\n",
       "      <td>...</td>\n",
       "      <td>...</td>\n",
       "      <td>...</td>\n",
       "      <td>...</td>\n",
       "      <td>...</td>\n",
       "      <td>...</td>\n",
       "      <td>...</td>\n",
       "      <td>...</td>\n",
       "      <td>...</td>\n",
       "      <td>...</td>\n",
       "      <td>...</td>\n",
       "      <td>...</td>\n",
       "      <td>...</td>\n",
       "      <td>...</td>\n",
       "      <td>...</td>\n",
       "      <td>...</td>\n",
       "      <td>...</td>\n",
       "      <td>...</td>\n",
       "      <td>...</td>\n",
       "      <td>...</td>\n",
       "    </tr>\n",
       "    <tr>\n",
       "      <th>PRV55620</th>\n",
       "      <td>15</td>\n",
       "      <td>14</td>\n",
       "      <td>2</td>\n",
       "      <td>36</td>\n",
       "      <td>0</td>\n",
       "      <td>122.67</td>\n",
       "      <td>13.33</td>\n",
       "      <td>0.00</td>\n",
       "      <td>0.00</td>\n",
       "      <td>1.00</td>\n",
       "      <td>...</td>\n",
       "      <td>0.07</td>\n",
       "      <td>0.20</td>\n",
       "      <td>0.07</td>\n",
       "      <td>0.00</td>\n",
       "      <td>0.20</td>\n",
       "      <td>0.07</td>\n",
       "      <td>-3546.492028</td>\n",
       "      <td>532.989551</td>\n",
       "      <td>-1060.429670</td>\n",
       "      <td>-408.405878</td>\n",
       "    </tr>\n",
       "    <tr>\n",
       "      <th>PRV55267</th>\n",
       "      <td>144</td>\n",
       "      <td>78</td>\n",
       "      <td>12</td>\n",
       "      <td>285</td>\n",
       "      <td>0</td>\n",
       "      <td>250.14</td>\n",
       "      <td>2.85</td>\n",
       "      <td>0.00</td>\n",
       "      <td>0.00</td>\n",
       "      <td>2.46</td>\n",
       "      <td>...</td>\n",
       "      <td>0.09</td>\n",
       "      <td>0.12</td>\n",
       "      <td>0.08</td>\n",
       "      <td>0.07</td>\n",
       "      <td>0.08</td>\n",
       "      <td>0.09</td>\n",
       "      <td>-2798.762230</td>\n",
       "      <td>697.676356</td>\n",
       "      <td>-782.952063</td>\n",
       "      <td>-419.406958</td>\n",
       "    </tr>\n",
       "    <tr>\n",
       "      <th>PRV52407</th>\n",
       "      <td>43</td>\n",
       "      <td>18</td>\n",
       "      <td>5</td>\n",
       "      <td>103</td>\n",
       "      <td>0</td>\n",
       "      <td>371.40</td>\n",
       "      <td>9.53</td>\n",
       "      <td>0.00</td>\n",
       "      <td>0.00</td>\n",
       "      <td>1.53</td>\n",
       "      <td>...</td>\n",
       "      <td>0.16</td>\n",
       "      <td>0.05</td>\n",
       "      <td>0.02</td>\n",
       "      <td>0.12</td>\n",
       "      <td>0.07</td>\n",
       "      <td>0.09</td>\n",
       "      <td>1978.409508</td>\n",
       "      <td>2053.424472</td>\n",
       "      <td>-709.897248</td>\n",
       "      <td>-400.561357</td>\n",
       "    </tr>\n",
       "    <tr>\n",
       "      <th>PRV54154</th>\n",
       "      <td>12</td>\n",
       "      <td>11</td>\n",
       "      <td>10</td>\n",
       "      <td>28</td>\n",
       "      <td>0</td>\n",
       "      <td>136.67</td>\n",
       "      <td>0.00</td>\n",
       "      <td>0.00</td>\n",
       "      <td>0.00</td>\n",
       "      <td>2.75</td>\n",
       "      <td>...</td>\n",
       "      <td>0.08</td>\n",
       "      <td>0.08</td>\n",
       "      <td>0.17</td>\n",
       "      <td>0.17</td>\n",
       "      <td>0.00</td>\n",
       "      <td>0.00</td>\n",
       "      <td>-7403.879256</td>\n",
       "      <td>-608.482271</td>\n",
       "      <td>-1064.031067</td>\n",
       "      <td>-435.582912</td>\n",
       "    </tr>\n",
       "    <tr>\n",
       "      <th>PRV53896</th>\n",
       "      <td>43</td>\n",
       "      <td>38</td>\n",
       "      <td>33</td>\n",
       "      <td>84</td>\n",
       "      <td>0</td>\n",
       "      <td>254.65</td>\n",
       "      <td>3.26</td>\n",
       "      <td>0.00</td>\n",
       "      <td>0.00</td>\n",
       "      <td>2.16</td>\n",
       "      <td>...</td>\n",
       "      <td>0.07</td>\n",
       "      <td>0.07</td>\n",
       "      <td>0.12</td>\n",
       "      <td>0.02</td>\n",
       "      <td>0.09</td>\n",
       "      <td>0.14</td>\n",
       "      <td>-6260.131823</td>\n",
       "      <td>-137.021692</td>\n",
       "      <td>-130.546221</td>\n",
       "      <td>-466.104759</td>\n",
       "    </tr>\n",
       "  </tbody>\n",
       "</table>\n",
       "<p>4328 rows × 74 columns</p>\n",
       "</div>"
      ],
      "text/plain": [
       "          Number_of_Claims  Num_Unique_Patients  Num_Unique_Docs  \\\n",
       "Provider                                                           \n",
       "PRV56682                19                   19               11   \n",
       "PRV54630                85                   23                4   \n",
       "PRV55179                74                   66               33   \n",
       "PRV57312               334                  137               20   \n",
       "PRV54923                79                   57               21   \n",
       "...                    ...                  ...              ...   \n",
       "PRV55620                15                   14                2   \n",
       "PRV55267               144                   78               12   \n",
       "PRV52407                43                   18                5   \n",
       "PRV54154                12                   11               10   \n",
       "PRV53896                43                   38               33   \n",
       "\n",
       "          Num_Unique_Diag_Codes  Num_Unique_Proc_Codes  \\\n",
       "Provider                                                 \n",
       "PRV56682                     66                      4   \n",
       "PRV54630                    173                      0   \n",
       "PRV55179                    195                     14   \n",
       "PRV57312                    492                      0   \n",
       "PRV54923                    149                      0   \n",
       "...                         ...                    ...   \n",
       "PRV55620                     36                      0   \n",
       "PRV55267                    285                      0   \n",
       "PRV52407                    103                      0   \n",
       "PRV54154                     28                      0   \n",
       "PRV53896                     84                      0   \n",
       "\n",
       "          Mean_InscClaimAmtReimbursed  Mean_DeductibleAmtPaid  \\\n",
       "Provider                                                        \n",
       "PRV56682                       863.68                  168.63   \n",
       "PRV54630                       302.12                    1.18   \n",
       "PRV55179                      2417.97                  223.01   \n",
       "PRV57312                       273.41                    3.92   \n",
       "PRV54923                       384.81                    0.25   \n",
       "...                               ...                     ...   \n",
       "PRV55620                       122.67                   13.33   \n",
       "PRV55267                       250.14                    2.85   \n",
       "PRV52407                       371.40                    9.53   \n",
       "PRV54154                       136.67                    0.00   \n",
       "PRV53896                       254.65                    3.26   \n",
       "\n",
       "          Mean_Reimbursement_per_Day  Mean_Length_of_Stay  \\\n",
       "Provider                                                    \n",
       "PRV56682                     1400.00                 4.67   \n",
       "PRV54630                        0.00                 0.00   \n",
       "PRV55179                     2034.73                 5.06   \n",
       "PRV57312                        0.00                 0.00   \n",
       "PRV54923                        0.00                 0.00   \n",
       "...                              ...                  ...   \n",
       "PRV55620                        0.00                 0.00   \n",
       "PRV55267                        0.00                 0.00   \n",
       "PRV52407                        0.00                 0.00   \n",
       "PRV54154                        0.00                 0.00   \n",
       "PRV53896                        0.00                 0.00   \n",
       "\n",
       "          Mean_Length_of_Claim  ...  Perc_ClaimStartDt_July  \\\n",
       "Provider                        ...                           \n",
       "PRV56682                  2.68  ...                    0.11   \n",
       "PRV54630                  2.58  ...                    0.12   \n",
       "PRV55179                  3.01  ...                    0.09   \n",
       "PRV57312                  2.99  ...                    0.09   \n",
       "PRV54923                  2.32  ...                    0.13   \n",
       "...                        ...  ...                     ...   \n",
       "PRV55620                  1.00  ...                    0.07   \n",
       "PRV55267                  2.46  ...                    0.09   \n",
       "PRV52407                  1.53  ...                    0.16   \n",
       "PRV54154                  2.75  ...                    0.08   \n",
       "PRV53896                  2.16  ...                    0.07   \n",
       "\n",
       "          Perc_ClaimStartDt_August  Perc_ClaimStartDt_September  \\\n",
       "Provider                                                          \n",
       "PRV56682                      0.11                         0.11   \n",
       "PRV54630                      0.12                         0.06   \n",
       "PRV55179                      0.07                         0.14   \n",
       "PRV57312                      0.09                         0.08   \n",
       "PRV54923                      0.11                         0.08   \n",
       "...                            ...                          ...   \n",
       "PRV55620                      0.20                         0.07   \n",
       "PRV55267                      0.12                         0.08   \n",
       "PRV52407                      0.05                         0.02   \n",
       "PRV54154                      0.08                         0.17   \n",
       "PRV53896                      0.07                         0.12   \n",
       "\n",
       "          Perc_ClaimStartDt_October  Perc_ClaimStartDt_November  \\\n",
       "Provider                                                          \n",
       "PRV56682                       0.00                        0.11   \n",
       "PRV54630                       0.12                        0.07   \n",
       "PRV55179                       0.07                        0.08   \n",
       "PRV57312                       0.08                        0.08   \n",
       "PRV54923                       0.08                        0.09   \n",
       "...                             ...                         ...   \n",
       "PRV55620                       0.00                        0.20   \n",
       "PRV55267                       0.07                        0.08   \n",
       "PRV52407                       0.12                        0.07   \n",
       "PRV54154                       0.17                        0.00   \n",
       "PRV53896                       0.02                        0.09   \n",
       "\n",
       "          Perc_ClaimStartDt_December         PCA1         PCA2         PCA3  \\\n",
       "Provider                                                                      \n",
       "PRV56682                        0.16  2721.536335  1510.184013   -13.625119   \n",
       "PRV54630                        0.05 -1335.867823  1104.179480  -797.684800   \n",
       "PRV55179                        0.07   986.023464  -598.616462   637.878703   \n",
       "PRV57312                        0.06 -4582.450114   427.695665   188.733308   \n",
       "PRV54923                        0.08  3447.416497  2657.819578     4.046877   \n",
       "...                              ...          ...          ...          ...   \n",
       "PRV55620                        0.07 -3546.492028   532.989551 -1060.429670   \n",
       "PRV55267                        0.09 -2798.762230   697.676356  -782.952063   \n",
       "PRV52407                        0.09  1978.409508  2053.424472  -709.897248   \n",
       "PRV54154                        0.00 -7403.879256  -608.482271 -1064.031067   \n",
       "PRV53896                        0.14 -6260.131823  -137.021692  -130.546221   \n",
       "\n",
       "                 PCA4  \n",
       "Provider               \n",
       "PRV56682   797.323463  \n",
       "PRV54630  -412.460162  \n",
       "PRV55179  1041.106514  \n",
       "PRV57312  -431.012063  \n",
       "PRV54923  -407.644689  \n",
       "...               ...  \n",
       "PRV55620  -408.405878  \n",
       "PRV55267  -419.406958  \n",
       "PRV52407  -400.561357  \n",
       "PRV54154  -435.582912  \n",
       "PRV53896  -466.104759  \n",
       "\n",
       "[4328 rows x 74 columns]"
      ]
     },
     "execution_count": 21,
     "metadata": {},
     "output_type": "execute_result"
    }
   ],
   "source": [
    "PCAmerge(Xtrain, 0.99, 430)"
   ]
  },
  {
   "cell_type": "markdown",
   "id": "occupational-charity",
   "metadata": {},
   "source": [
    "## Iteration 3: Give the PCA some backup\n",
    "\n",
    "[Back to Top](#Machine-Learning-Processing)\n",
    "\n"
   ]
  },
  {
   "cell_type": "code",
   "execution_count": 28,
   "id": "theoretical-prediction",
   "metadata": {},
   "outputs": [
    {
     "ename": "TypeError",
     "evalue": "All intermediate steps should be transformers and implement fit and transform or be the string 'passthrough' 'PCAmergePipe()' (type <class '__main__.PCAmergePipe'>) doesn't",
     "output_type": "error",
     "traceback": [
      "\u001b[1;31m---------------------------------------------------------------------------\u001b[0m",
      "\u001b[1;31mTypeError\u001b[0m                                 Traceback (most recent call last)",
      "\u001b[1;32m<ipython-input-28-434c53f4ca0e>\u001b[0m in \u001b[0;36m<module>\u001b[1;34m\u001b[0m\n\u001b[0;32m      4\u001b[0m lgr3 = Pipeline(steps=[('scaler', StandardScaler()),\n\u001b[0;32m      5\u001b[0m                        \u001b[1;33m(\u001b[0m\u001b[1;34m'PCAmergePipe'\u001b[0m\u001b[1;33m,\u001b[0m \u001b[0mPCAmergePipe\u001b[0m\u001b[1;33m(\u001b[0m\u001b[1;33m)\u001b[0m\u001b[1;33m)\u001b[0m\u001b[1;33m,\u001b[0m\u001b[1;33m\u001b[0m\u001b[1;33m\u001b[0m\u001b[0m\n\u001b[1;32m----> 6\u001b[1;33m                        ('lightgbm', LGBMClassifier(n_jobs=-2))])\n\u001b[0m\u001b[0;32m      7\u001b[0m \u001b[0mlgr3\u001b[0m\u001b[1;33m.\u001b[0m\u001b[0mfit\u001b[0m\u001b[1;33m(\u001b[0m\u001b[0mXtrain\u001b[0m\u001b[1;33m,\u001b[0m \u001b[0mytrain\u001b[0m\u001b[1;33m)\u001b[0m\u001b[1;33m\u001b[0m\u001b[1;33m\u001b[0m\u001b[0m\n\u001b[0;32m      8\u001b[0m \u001b[0mprint\u001b[0m\u001b[1;33m(\u001b[0m\u001b[1;34m'LightGBM Train Score'\u001b[0m\u001b[1;33m,\u001b[0m \u001b[0mlgr3\u001b[0m\u001b[1;33m.\u001b[0m\u001b[0mscore\u001b[0m\u001b[1;33m(\u001b[0m\u001b[0mXtrain\u001b[0m\u001b[1;33m,\u001b[0m \u001b[0mytrain\u001b[0m\u001b[1;33m)\u001b[0m\u001b[1;33m)\u001b[0m\u001b[1;33m\u001b[0m\u001b[1;33m\u001b[0m\u001b[0m\n",
      "\u001b[1;32m~\\Anaconda3\\lib\\site-packages\\sklearn\\utils\\validation.py\u001b[0m in \u001b[0;36minner_f\u001b[1;34m(*args, **kwargs)\u001b[0m\n\u001b[0;32m     61\u001b[0m             \u001b[0mextra_args\u001b[0m \u001b[1;33m=\u001b[0m \u001b[0mlen\u001b[0m\u001b[1;33m(\u001b[0m\u001b[0margs\u001b[0m\u001b[1;33m)\u001b[0m \u001b[1;33m-\u001b[0m \u001b[0mlen\u001b[0m\u001b[1;33m(\u001b[0m\u001b[0mall_args\u001b[0m\u001b[1;33m)\u001b[0m\u001b[1;33m\u001b[0m\u001b[1;33m\u001b[0m\u001b[0m\n\u001b[0;32m     62\u001b[0m             \u001b[1;32mif\u001b[0m \u001b[0mextra_args\u001b[0m \u001b[1;33m<=\u001b[0m \u001b[1;36m0\u001b[0m\u001b[1;33m:\u001b[0m\u001b[1;33m\u001b[0m\u001b[1;33m\u001b[0m\u001b[0m\n\u001b[1;32m---> 63\u001b[1;33m                 \u001b[1;32mreturn\u001b[0m \u001b[0mf\u001b[0m\u001b[1;33m(\u001b[0m\u001b[1;33m*\u001b[0m\u001b[0margs\u001b[0m\u001b[1;33m,\u001b[0m \u001b[1;33m**\u001b[0m\u001b[0mkwargs\u001b[0m\u001b[1;33m)\u001b[0m\u001b[1;33m\u001b[0m\u001b[1;33m\u001b[0m\u001b[0m\n\u001b[0m\u001b[0;32m     64\u001b[0m \u001b[1;33m\u001b[0m\u001b[0m\n\u001b[0;32m     65\u001b[0m             \u001b[1;31m# extra_args > 0\u001b[0m\u001b[1;33m\u001b[0m\u001b[1;33m\u001b[0m\u001b[1;33m\u001b[0m\u001b[0m\n",
      "\u001b[1;32m~\\Anaconda3\\lib\\site-packages\\sklearn\\pipeline.py\u001b[0m in \u001b[0;36m__init__\u001b[1;34m(self, steps, memory, verbose)\u001b[0m\n\u001b[0;32m    116\u001b[0m         \u001b[0mself\u001b[0m\u001b[1;33m.\u001b[0m\u001b[0mmemory\u001b[0m \u001b[1;33m=\u001b[0m \u001b[0mmemory\u001b[0m\u001b[1;33m\u001b[0m\u001b[1;33m\u001b[0m\u001b[0m\n\u001b[0;32m    117\u001b[0m         \u001b[0mself\u001b[0m\u001b[1;33m.\u001b[0m\u001b[0mverbose\u001b[0m \u001b[1;33m=\u001b[0m \u001b[0mverbose\u001b[0m\u001b[1;33m\u001b[0m\u001b[1;33m\u001b[0m\u001b[0m\n\u001b[1;32m--> 118\u001b[1;33m         \u001b[0mself\u001b[0m\u001b[1;33m.\u001b[0m\u001b[0m_validate_steps\u001b[0m\u001b[1;33m(\u001b[0m\u001b[1;33m)\u001b[0m\u001b[1;33m\u001b[0m\u001b[1;33m\u001b[0m\u001b[0m\n\u001b[0m\u001b[0;32m    119\u001b[0m \u001b[1;33m\u001b[0m\u001b[0m\n\u001b[0;32m    120\u001b[0m     \u001b[1;32mdef\u001b[0m \u001b[0mget_params\u001b[0m\u001b[1;33m(\u001b[0m\u001b[0mself\u001b[0m\u001b[1;33m,\u001b[0m \u001b[0mdeep\u001b[0m\u001b[1;33m=\u001b[0m\u001b[1;32mTrue\u001b[0m\u001b[1;33m)\u001b[0m\u001b[1;33m:\u001b[0m\u001b[1;33m\u001b[0m\u001b[1;33m\u001b[0m\u001b[0m\n",
      "\u001b[1;32m~\\Anaconda3\\lib\\site-packages\\sklearn\\pipeline.py\u001b[0m in \u001b[0;36m_validate_steps\u001b[1;34m(self)\u001b[0m\n\u001b[0;32m    169\u001b[0m                                 \u001b[1;34m\"transformers and implement fit and transform \"\u001b[0m\u001b[1;33m\u001b[0m\u001b[1;33m\u001b[0m\u001b[0m\n\u001b[0;32m    170\u001b[0m                                 \u001b[1;34m\"or be the string 'passthrough' \"\u001b[0m\u001b[1;33m\u001b[0m\u001b[1;33m\u001b[0m\u001b[0m\n\u001b[1;32m--> 171\u001b[1;33m                                 \"'%s' (type %s) doesn't\" % (t, type(t)))\n\u001b[0m\u001b[0;32m    172\u001b[0m \u001b[1;33m\u001b[0m\u001b[0m\n\u001b[0;32m    173\u001b[0m         \u001b[1;31m# We allow last estimator to be None as an identity transformation\u001b[0m\u001b[1;33m\u001b[0m\u001b[1;33m\u001b[0m\u001b[1;33m\u001b[0m\u001b[0m\n",
      "\u001b[1;31mTypeError\u001b[0m: All intermediate steps should be transformers and implement fit and transform or be the string 'passthrough' 'PCAmergePipe()' (type <class '__main__.PCAmergePipe'>) doesn't"
     ]
    }
   ],
   "source": [
    "# IT3: Logistic\n",
    "from sklearn.decomposition import PCA \n",
    "from lightgbm import LGBMClassifier\n",
    "lgr3 = Pipeline(steps=[('scaler', StandardScaler()),\n",
    "                       ('PCAmergePipe', PCAmergePipe()),\n",
    "                       ('lightgbm', LGBMClassifier(n_jobs=-2))])\n",
    "lgr3.fit(Xtrain, ytrain)\n",
    "print('LightGBM Train Score', lgr3.score(Xtrain, ytrain))\n",
    "print('LightGBM Test Score', lgr3.score(Xtest, ytest))"
   ]
  },
  {
   "cell_type": "code",
   "execution_count": 105,
   "id": "greatest-poster",
   "metadata": {},
   "outputs": [
    {
     "name": "stderr",
     "output_type": "stream",
     "text": [
      "/home/theodore/anaconda3/lib/python3.8/site-packages/sklearn/neighbors/_classification.py:179: DataConversionWarning: A column-vector y was passed when a 1d array was expected. Please change the shape of y to (n_samples,), for example using ravel().\n",
      "  return self._fit(X, y)\n"
     ]
    },
    {
     "name": "stdout",
     "output_type": "stream",
     "text": [
      "LightGBM Train Score 0.9396950092421442\n",
      "LightGBM Test Score 0.9214417744916821\n"
     ]
    }
   ],
   "source": [
    "# IT2: KNN\n",
    "knn2 = Pipeline(steps=[('scaler', StandardScaler()),\n",
    "                       ('PCA', PCA(n_components=0.99, random_state=430)),\n",
    "                       ('knn', KNeighborsClassifier(n_jobs=-2))])\n",
    "knn2.fit(Xtrain, ytrain)\n",
    "print('LightGBM Train Score', knn2.score(Xtrain, ytrain))\n",
    "print('LightGBM Test Score', knn2.score(Xtest, ytest))"
   ]
  },
  {
   "cell_type": "code",
   "execution_count": 106,
   "id": "thirty-player",
   "metadata": {},
   "outputs": [
    {
     "name": "stdout",
     "output_type": "stream",
     "text": [
      "LightGBM Train Score 0.9336876155268022\n",
      "LightGBM Test Score 0.9232902033271719\n"
     ]
    },
    {
     "name": "stderr",
     "output_type": "stream",
     "text": [
      "/home/theodore/anaconda3/lib/python3.8/site-packages/sklearn/utils/validation.py:63: DataConversionWarning: A column-vector y was passed when a 1d array was expected. Please change the shape of y to (n_samples, ), for example using ravel().\n",
      "  return f(*args, **kwargs)\n"
     ]
    }
   ],
   "source": [
    "# IT2: LDA\n",
    "lda2 = Pipeline(steps=[('scaler', StandardScaler()),\n",
    "                       ('PCA', PCA(n_components=0.99, random_state=430)),\n",
    "                       ('lda', LinearDiscriminantAnalysis())])\n",
    "lda2.fit(Xtrain, ytrain)\n",
    "print('LightGBM Train Score', lda2.score(Xtrain, ytrain))\n",
    "print('LightGBM Test Score', lda2.score(Xtest, ytest))"
   ]
  },
  {
   "cell_type": "code",
   "execution_count": 107,
   "id": "asian-finnish",
   "metadata": {},
   "outputs": [
    {
     "name": "stdout",
     "output_type": "stream",
     "text": [
      "LightGBM Train Score 0.5459796672828097\n",
      "LightGBM Test Score 0.5425138632162662\n"
     ]
    },
    {
     "name": "stderr",
     "output_type": "stream",
     "text": [
      "/home/theodore/anaconda3/lib/python3.8/site-packages/sklearn/utils/validation.py:63: DataConversionWarning: A column-vector y was passed when a 1d array was expected. Please change the shape of y to (n_samples, ), for example using ravel().\n",
      "  return f(*args, **kwargs)\n"
     ]
    }
   ],
   "source": [
    "# IT2: GNB\n",
    "gnb2 = Pipeline(steps=[('scaler', StandardScaler()),\n",
    "                       ('PCA', PCA(n_components=0.99, random_state=430)),\n",
    "                       ('gnb', GaussianNB())])\n",
    "gnb2.fit(Xtrain, ytrain)\n",
    "print('LightGBM Train Score', gnb2.score(Xtrain, ytrain))\n",
    "print('LightGBM Test Score', gnb2.score(Xtest, ytest))"
   ]
  },
  {
   "cell_type": "code",
   "execution_count": 108,
   "id": "invisible-tuner",
   "metadata": {},
   "outputs": [
    {
     "name": "stderr",
     "output_type": "stream",
     "text": [
      "/home/theodore/anaconda3/lib/python3.8/site-packages/sklearn/utils/validation.py:63: DataConversionWarning: A column-vector y was passed when a 1d array was expected. Please change the shape of y to (n_samples, ), for example using ravel().\n",
      "  return f(*args, **kwargs)\n"
     ]
    },
    {
     "name": "stdout",
     "output_type": "stream",
     "text": [
      "LightGBM Train Score 0.9394639556377079\n",
      "LightGBM Test Score 0.9242144177449169\n"
     ]
    }
   ],
   "source": [
    "# IT2: SVM\n",
    "svc2 = Pipeline(steps=[('scaler', StandardScaler()),\n",
    "                       ('PCA', PCA(n_components=0.99, random_state=430)),\n",
    "                       ('svc', SVC())])\n",
    "svc2.fit(Xtrain, ytrain)\n",
    "print('LightGBM Train Score', svc2.score(Xtrain, ytrain))\n",
    "print('LightGBM Test Score', svc2.score(Xtest, ytest))"
   ]
  },
  {
   "cell_type": "code",
   "execution_count": 109,
   "id": "swiss-venture",
   "metadata": {},
   "outputs": [
    {
     "name": "stdout",
     "output_type": "stream",
     "text": [
      "LightGBM Train Score 0.9988447319778189\n",
      "LightGBM Test Score 0.9205175600739371\n"
     ]
    }
   ],
   "source": [
    "# IT2: CatBoost\n",
    "cb2 = Pipeline(steps=[('scaler', StandardScaler()),\n",
    "                       ('PCA', PCA(n_components=0.99, random_state=430)),\n",
    "                       ('Catboost', CatBoostClassifier(verbose=False))])\n",
    "cb2.fit(Xtrain, ytrain)\n",
    "print('LightGBM Train Score', cb2.score(Xtrain, ytrain))\n",
    "print('LightGBM Test Score', cb2.score(Xtest, ytest))"
   ]
  },
  {
   "cell_type": "code",
   "execution_count": 110,
   "id": "aboriginal-defensive",
   "metadata": {
    "scrolled": true
   },
   "outputs": [
    {
     "name": "stderr",
     "output_type": "stream",
     "text": [
      "/home/theodore/anaconda3/lib/python3.8/site-packages/sklearn/utils/validation.py:63: DataConversionWarning: A column-vector y was passed when a 1d array was expected. Please change the shape of y to (n_samples, ), for example using ravel().\n",
      "  return f(*args, **kwargs)\n"
     ]
    },
    {
     "name": "stdout",
     "output_type": "stream",
     "text": [
      "LightGBM Train Score 1.0\n",
      "LightGBM Test Score 0.9242144177449169\n"
     ]
    }
   ],
   "source": [
    "# IT2: LightGBM\n",
    "lgbm2 = Pipeline(steps=[('scaler', StandardScaler()),\n",
    "                       ('PCA', PCA(n_components=0.99, random_state=430)),\n",
    "                       ('LightGBM', LGBMClassifier())])\n",
    "lgbm2.fit(Xtrain, ytrain)\n",
    "print('LightGBM Train Score', lgbm2.score(Xtrain, ytrain))\n",
    "print('LightGBM Test Score', lgbm2.score(Xtest, ytest))"
   ]
  }
 ],
 "metadata": {
  "kernelspec": {
   "display_name": "Python 3",
   "language": "python",
   "name": "python3"
  },
  "language_info": {
   "codemirror_mode": {
    "name": "ipython",
    "version": 3
   },
   "file_extension": ".py",
   "mimetype": "text/x-python",
   "name": "python",
   "nbconvert_exporter": "python",
   "pygments_lexer": "ipython3",
   "version": "3.8.10"
  }
 },
 "nbformat": 4,
 "nbformat_minor": 5
}
