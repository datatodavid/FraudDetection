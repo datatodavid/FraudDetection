{
 "cells": [
  {
   "cell_type": "markdown",
   "id": "48dafbb8",
   "metadata": {},
   "source": [
    "# Exploratory Analysis\n",
    "\n",
    "## Very Much a WIP, so More to Fill Out"
   ]
  },
  {
   "cell_type": "markdown",
   "id": "feb1025c",
   "metadata": {},
   "source": [
    "## Contents\n",
    " - [I. Exploring Raw Data](#Exploring-Raw-Data)\n",
    " - [II. Missing Data](#Examining-Missing-Data)\n",
    " - [III. Deeper EDA](#Digging-Deeper:-EDA)"
   ]
  },
  {
   "cell_type": "code",
   "execution_count": null,
   "id": "a83918bd",
   "metadata": {},
   "outputs": [],
   "source": []
  },
  {
   "cell_type": "code",
   "execution_count": 3,
   "id": "2ce6fa31",
   "metadata": {},
   "outputs": [],
   "source": [
    "# Import packages etc.\n",
    "import pandas as pd\n",
    "import seaborn as sns\n",
    "import numpy as np\n",
    "import matplotlib.pyplot as plt\n",
    "from scipy import stats\n",
    "import missingno as msno"
   ]
  },
  {
   "cell_type": "code",
   "execution_count": 4,
   "id": "3bc680cf",
   "metadata": {},
   "outputs": [],
   "source": [
    "# Import the old data\n",
    "# Trains\n",
    "xtrain_outp = pd.read_csv('Train_Outpatientdata-1542865627584.csv')\n",
    "xtrain_inp = pd.read_csv('Train_Inpatientdata-1542865627584.csv')\n",
    "xtrain_benef = pd.read_csv('Train_Beneficiarydata-1542865627584.csv')\n",
    "ytrain = pd.read_csv('Train-1542865627584.csv')\n",
    "\n",
    "# Tests\n",
    "xtest_outp = pd.read_csv('Test_Outpatientdata-1542969243754.csv')\n",
    "xtest_inp = pd.read_csv('Test_Inpatientdata-1542969243754.csv')\n",
    "xtest_benef = pd.read_csv('Test_Beneficiarydata-1542969243754.csv')\n",
    "ytest = pd.read_csv('Test-1542969243754.csv')"
   ]
  },
  {
   "cell_type": "code",
   "execution_count": 5,
   "id": "7bbe1ba0",
   "metadata": {},
   "outputs": [
    {
     "name": "stdout",
     "output_type": "stream",
     "text": [
      "(40474, 30)\n"
     ]
    },
    {
     "data": {
      "text/html": [
       "<div>\n",
       "<style scoped>\n",
       "    .dataframe tbody tr th:only-of-type {\n",
       "        vertical-align: middle;\n",
       "    }\n",
       "\n",
       "    .dataframe tbody tr th {\n",
       "        vertical-align: top;\n",
       "    }\n",
       "\n",
       "    .dataframe thead th {\n",
       "        text-align: right;\n",
       "    }\n",
       "</style>\n",
       "<table border=\"1\" class=\"dataframe\">\n",
       "  <thead>\n",
       "    <tr style=\"text-align: right;\">\n",
       "      <th></th>\n",
       "      <th>BeneID</th>\n",
       "      <th>ClaimID</th>\n",
       "      <th>ClaimStartDt</th>\n",
       "      <th>ClaimEndDt</th>\n",
       "      <th>Provider</th>\n",
       "      <th>InscClaimAmtReimbursed</th>\n",
       "      <th>AttendingPhysician</th>\n",
       "      <th>OperatingPhysician</th>\n",
       "      <th>OtherPhysician</th>\n",
       "      <th>AdmissionDt</th>\n",
       "      <th>...</th>\n",
       "      <th>ClmDiagnosisCode_7</th>\n",
       "      <th>ClmDiagnosisCode_8</th>\n",
       "      <th>ClmDiagnosisCode_9</th>\n",
       "      <th>ClmDiagnosisCode_10</th>\n",
       "      <th>ClmProcedureCode_1</th>\n",
       "      <th>ClmProcedureCode_2</th>\n",
       "      <th>ClmProcedureCode_3</th>\n",
       "      <th>ClmProcedureCode_4</th>\n",
       "      <th>ClmProcedureCode_5</th>\n",
       "      <th>ClmProcedureCode_6</th>\n",
       "    </tr>\n",
       "  </thead>\n",
       "  <tbody>\n",
       "    <tr>\n",
       "      <th>0</th>\n",
       "      <td>BENE11001</td>\n",
       "      <td>CLM46614</td>\n",
       "      <td>2009-04-12</td>\n",
       "      <td>2009-04-18</td>\n",
       "      <td>PRV55912</td>\n",
       "      <td>26000</td>\n",
       "      <td>PHY390922</td>\n",
       "      <td>NaN</td>\n",
       "      <td>NaN</td>\n",
       "      <td>2009-04-12</td>\n",
       "      <td>...</td>\n",
       "      <td>2724</td>\n",
       "      <td>19889</td>\n",
       "      <td>5849</td>\n",
       "      <td>NaN</td>\n",
       "      <td>NaN</td>\n",
       "      <td>NaN</td>\n",
       "      <td>NaN</td>\n",
       "      <td>NaN</td>\n",
       "      <td>NaN</td>\n",
       "      <td>NaN</td>\n",
       "    </tr>\n",
       "    <tr>\n",
       "      <th>1</th>\n",
       "      <td>BENE11001</td>\n",
       "      <td>CLM66048</td>\n",
       "      <td>2009-08-31</td>\n",
       "      <td>2009-09-02</td>\n",
       "      <td>PRV55907</td>\n",
       "      <td>5000</td>\n",
       "      <td>PHY318495</td>\n",
       "      <td>PHY318495</td>\n",
       "      <td>NaN</td>\n",
       "      <td>2009-08-31</td>\n",
       "      <td>...</td>\n",
       "      <td>NaN</td>\n",
       "      <td>NaN</td>\n",
       "      <td>NaN</td>\n",
       "      <td>NaN</td>\n",
       "      <td>7092.0</td>\n",
       "      <td>NaN</td>\n",
       "      <td>NaN</td>\n",
       "      <td>NaN</td>\n",
       "      <td>NaN</td>\n",
       "      <td>NaN</td>\n",
       "    </tr>\n",
       "    <tr>\n",
       "      <th>2</th>\n",
       "      <td>BENE11001</td>\n",
       "      <td>CLM68358</td>\n",
       "      <td>2009-09-17</td>\n",
       "      <td>2009-09-20</td>\n",
       "      <td>PRV56046</td>\n",
       "      <td>5000</td>\n",
       "      <td>PHY372395</td>\n",
       "      <td>NaN</td>\n",
       "      <td>PHY324689</td>\n",
       "      <td>2009-09-17</td>\n",
       "      <td>...</td>\n",
       "      <td>NaN</td>\n",
       "      <td>NaN</td>\n",
       "      <td>NaN</td>\n",
       "      <td>NaN</td>\n",
       "      <td>NaN</td>\n",
       "      <td>NaN</td>\n",
       "      <td>NaN</td>\n",
       "      <td>NaN</td>\n",
       "      <td>NaN</td>\n",
       "      <td>NaN</td>\n",
       "    </tr>\n",
       "    <tr>\n",
       "      <th>3</th>\n",
       "      <td>BENE11011</td>\n",
       "      <td>CLM38412</td>\n",
       "      <td>2009-02-14</td>\n",
       "      <td>2009-02-22</td>\n",
       "      <td>PRV52405</td>\n",
       "      <td>5000</td>\n",
       "      <td>PHY369659</td>\n",
       "      <td>PHY392961</td>\n",
       "      <td>PHY349768</td>\n",
       "      <td>2009-02-14</td>\n",
       "      <td>...</td>\n",
       "      <td>25062</td>\n",
       "      <td>40390</td>\n",
       "      <td>4019</td>\n",
       "      <td>NaN</td>\n",
       "      <td>331.0</td>\n",
       "      <td>NaN</td>\n",
       "      <td>NaN</td>\n",
       "      <td>NaN</td>\n",
       "      <td>NaN</td>\n",
       "      <td>NaN</td>\n",
       "    </tr>\n",
       "    <tr>\n",
       "      <th>4</th>\n",
       "      <td>BENE11014</td>\n",
       "      <td>CLM63689</td>\n",
       "      <td>2009-08-13</td>\n",
       "      <td>2009-08-30</td>\n",
       "      <td>PRV56614</td>\n",
       "      <td>10000</td>\n",
       "      <td>PHY379376</td>\n",
       "      <td>PHY398258</td>\n",
       "      <td>NaN</td>\n",
       "      <td>2009-08-13</td>\n",
       "      <td>...</td>\n",
       "      <td>5119</td>\n",
       "      <td>29620</td>\n",
       "      <td>20300</td>\n",
       "      <td>NaN</td>\n",
       "      <td>3893.0</td>\n",
       "      <td>NaN</td>\n",
       "      <td>NaN</td>\n",
       "      <td>NaN</td>\n",
       "      <td>NaN</td>\n",
       "      <td>NaN</td>\n",
       "    </tr>\n",
       "  </tbody>\n",
       "</table>\n",
       "<p>5 rows × 30 columns</p>\n",
       "</div>"
      ],
      "text/plain": [
       "      BeneID   ClaimID ClaimStartDt  ClaimEndDt  Provider  \\\n",
       "0  BENE11001  CLM46614   2009-04-12  2009-04-18  PRV55912   \n",
       "1  BENE11001  CLM66048   2009-08-31  2009-09-02  PRV55907   \n",
       "2  BENE11001  CLM68358   2009-09-17  2009-09-20  PRV56046   \n",
       "3  BENE11011  CLM38412   2009-02-14  2009-02-22  PRV52405   \n",
       "4  BENE11014  CLM63689   2009-08-13  2009-08-30  PRV56614   \n",
       "\n",
       "   InscClaimAmtReimbursed AttendingPhysician OperatingPhysician  \\\n",
       "0                   26000          PHY390922                NaN   \n",
       "1                    5000          PHY318495          PHY318495   \n",
       "2                    5000          PHY372395                NaN   \n",
       "3                    5000          PHY369659          PHY392961   \n",
       "4                   10000          PHY379376          PHY398258   \n",
       "\n",
       "  OtherPhysician AdmissionDt  ... ClmDiagnosisCode_7  ClmDiagnosisCode_8  \\\n",
       "0            NaN  2009-04-12  ...               2724               19889   \n",
       "1            NaN  2009-08-31  ...                NaN                 NaN   \n",
       "2      PHY324689  2009-09-17  ...                NaN                 NaN   \n",
       "3      PHY349768  2009-02-14  ...              25062               40390   \n",
       "4            NaN  2009-08-13  ...               5119               29620   \n",
       "\n",
       "  ClmDiagnosisCode_9 ClmDiagnosisCode_10 ClmProcedureCode_1  \\\n",
       "0               5849                 NaN                NaN   \n",
       "1                NaN                 NaN             7092.0   \n",
       "2                NaN                 NaN                NaN   \n",
       "3               4019                 NaN              331.0   \n",
       "4              20300                 NaN             3893.0   \n",
       "\n",
       "  ClmProcedureCode_2 ClmProcedureCode_3 ClmProcedureCode_4 ClmProcedureCode_5  \\\n",
       "0                NaN                NaN                NaN                NaN   \n",
       "1                NaN                NaN                NaN                NaN   \n",
       "2                NaN                NaN                NaN                NaN   \n",
       "3                NaN                NaN                NaN                NaN   \n",
       "4                NaN                NaN                NaN                NaN   \n",
       "\n",
       "  ClmProcedureCode_6  \n",
       "0                NaN  \n",
       "1                NaN  \n",
       "2                NaN  \n",
       "3                NaN  \n",
       "4                NaN  \n",
       "\n",
       "[5 rows x 30 columns]"
      ]
     },
     "execution_count": 5,
     "metadata": {},
     "output_type": "execute_result"
    }
   ],
   "source": [
    "# xtrain INPATIENT Data\n",
    "print(xtrain_inp.shape)\n",
    "xtrain_inp.head()"
   ]
  },
  {
   "cell_type": "code",
   "execution_count": 6,
   "id": "cfd99cbd",
   "metadata": {},
   "outputs": [
    {
     "name": "stdout",
     "output_type": "stream",
     "text": [
      "(517737, 27)\n"
     ]
    },
    {
     "data": {
      "text/html": [
       "<div>\n",
       "<style scoped>\n",
       "    .dataframe tbody tr th:only-of-type {\n",
       "        vertical-align: middle;\n",
       "    }\n",
       "\n",
       "    .dataframe tbody tr th {\n",
       "        vertical-align: top;\n",
       "    }\n",
       "\n",
       "    .dataframe thead th {\n",
       "        text-align: right;\n",
       "    }\n",
       "</style>\n",
       "<table border=\"1\" class=\"dataframe\">\n",
       "  <thead>\n",
       "    <tr style=\"text-align: right;\">\n",
       "      <th></th>\n",
       "      <th>BeneID</th>\n",
       "      <th>ClaimID</th>\n",
       "      <th>ClaimStartDt</th>\n",
       "      <th>ClaimEndDt</th>\n",
       "      <th>Provider</th>\n",
       "      <th>InscClaimAmtReimbursed</th>\n",
       "      <th>AttendingPhysician</th>\n",
       "      <th>OperatingPhysician</th>\n",
       "      <th>OtherPhysician</th>\n",
       "      <th>ClmDiagnosisCode_1</th>\n",
       "      <th>...</th>\n",
       "      <th>ClmDiagnosisCode_9</th>\n",
       "      <th>ClmDiagnosisCode_10</th>\n",
       "      <th>ClmProcedureCode_1</th>\n",
       "      <th>ClmProcedureCode_2</th>\n",
       "      <th>ClmProcedureCode_3</th>\n",
       "      <th>ClmProcedureCode_4</th>\n",
       "      <th>ClmProcedureCode_5</th>\n",
       "      <th>ClmProcedureCode_6</th>\n",
       "      <th>DeductibleAmtPaid</th>\n",
       "      <th>ClmAdmitDiagnosisCode</th>\n",
       "    </tr>\n",
       "  </thead>\n",
       "  <tbody>\n",
       "    <tr>\n",
       "      <th>0</th>\n",
       "      <td>BENE11002</td>\n",
       "      <td>CLM624349</td>\n",
       "      <td>2009-10-11</td>\n",
       "      <td>2009-10-11</td>\n",
       "      <td>PRV56011</td>\n",
       "      <td>30</td>\n",
       "      <td>PHY326117</td>\n",
       "      <td>NaN</td>\n",
       "      <td>NaN</td>\n",
       "      <td>78943</td>\n",
       "      <td>...</td>\n",
       "      <td>NaN</td>\n",
       "      <td>NaN</td>\n",
       "      <td>NaN</td>\n",
       "      <td>NaN</td>\n",
       "      <td>NaN</td>\n",
       "      <td>NaN</td>\n",
       "      <td>NaN</td>\n",
       "      <td>NaN</td>\n",
       "      <td>0</td>\n",
       "      <td>56409</td>\n",
       "    </tr>\n",
       "    <tr>\n",
       "      <th>1</th>\n",
       "      <td>BENE11003</td>\n",
       "      <td>CLM189947</td>\n",
       "      <td>2009-02-12</td>\n",
       "      <td>2009-02-12</td>\n",
       "      <td>PRV57610</td>\n",
       "      <td>80</td>\n",
       "      <td>PHY362868</td>\n",
       "      <td>NaN</td>\n",
       "      <td>NaN</td>\n",
       "      <td>6115</td>\n",
       "      <td>...</td>\n",
       "      <td>NaN</td>\n",
       "      <td>NaN</td>\n",
       "      <td>NaN</td>\n",
       "      <td>NaN</td>\n",
       "      <td>NaN</td>\n",
       "      <td>NaN</td>\n",
       "      <td>NaN</td>\n",
       "      <td>NaN</td>\n",
       "      <td>0</td>\n",
       "      <td>79380</td>\n",
       "    </tr>\n",
       "    <tr>\n",
       "      <th>2</th>\n",
       "      <td>BENE11003</td>\n",
       "      <td>CLM438021</td>\n",
       "      <td>2009-06-27</td>\n",
       "      <td>2009-06-27</td>\n",
       "      <td>PRV57595</td>\n",
       "      <td>10</td>\n",
       "      <td>PHY328821</td>\n",
       "      <td>NaN</td>\n",
       "      <td>NaN</td>\n",
       "      <td>2723</td>\n",
       "      <td>...</td>\n",
       "      <td>NaN</td>\n",
       "      <td>NaN</td>\n",
       "      <td>NaN</td>\n",
       "      <td>NaN</td>\n",
       "      <td>NaN</td>\n",
       "      <td>NaN</td>\n",
       "      <td>NaN</td>\n",
       "      <td>NaN</td>\n",
       "      <td>0</td>\n",
       "      <td>NaN</td>\n",
       "    </tr>\n",
       "    <tr>\n",
       "      <th>3</th>\n",
       "      <td>BENE11004</td>\n",
       "      <td>CLM121801</td>\n",
       "      <td>2009-01-06</td>\n",
       "      <td>2009-01-06</td>\n",
       "      <td>PRV56011</td>\n",
       "      <td>40</td>\n",
       "      <td>PHY334319</td>\n",
       "      <td>NaN</td>\n",
       "      <td>NaN</td>\n",
       "      <td>71988</td>\n",
       "      <td>...</td>\n",
       "      <td>NaN</td>\n",
       "      <td>NaN</td>\n",
       "      <td>NaN</td>\n",
       "      <td>NaN</td>\n",
       "      <td>NaN</td>\n",
       "      <td>NaN</td>\n",
       "      <td>NaN</td>\n",
       "      <td>NaN</td>\n",
       "      <td>0</td>\n",
       "      <td>NaN</td>\n",
       "    </tr>\n",
       "    <tr>\n",
       "      <th>4</th>\n",
       "      <td>BENE11004</td>\n",
       "      <td>CLM150998</td>\n",
       "      <td>2009-01-22</td>\n",
       "      <td>2009-01-22</td>\n",
       "      <td>PRV56011</td>\n",
       "      <td>200</td>\n",
       "      <td>PHY403831</td>\n",
       "      <td>NaN</td>\n",
       "      <td>NaN</td>\n",
       "      <td>82382</td>\n",
       "      <td>...</td>\n",
       "      <td>NaN</td>\n",
       "      <td>NaN</td>\n",
       "      <td>NaN</td>\n",
       "      <td>NaN</td>\n",
       "      <td>NaN</td>\n",
       "      <td>NaN</td>\n",
       "      <td>NaN</td>\n",
       "      <td>NaN</td>\n",
       "      <td>0</td>\n",
       "      <td>71947</td>\n",
       "    </tr>\n",
       "  </tbody>\n",
       "</table>\n",
       "<p>5 rows × 27 columns</p>\n",
       "</div>"
      ],
      "text/plain": [
       "      BeneID    ClaimID ClaimStartDt  ClaimEndDt  Provider  \\\n",
       "0  BENE11002  CLM624349   2009-10-11  2009-10-11  PRV56011   \n",
       "1  BENE11003  CLM189947   2009-02-12  2009-02-12  PRV57610   \n",
       "2  BENE11003  CLM438021   2009-06-27  2009-06-27  PRV57595   \n",
       "3  BENE11004  CLM121801   2009-01-06  2009-01-06  PRV56011   \n",
       "4  BENE11004  CLM150998   2009-01-22  2009-01-22  PRV56011   \n",
       "\n",
       "   InscClaimAmtReimbursed AttendingPhysician OperatingPhysician  \\\n",
       "0                      30          PHY326117                NaN   \n",
       "1                      80          PHY362868                NaN   \n",
       "2                      10          PHY328821                NaN   \n",
       "3                      40          PHY334319                NaN   \n",
       "4                     200          PHY403831                NaN   \n",
       "\n",
       "  OtherPhysician ClmDiagnosisCode_1  ... ClmDiagnosisCode_9  \\\n",
       "0            NaN              78943  ...                NaN   \n",
       "1            NaN               6115  ...                NaN   \n",
       "2            NaN               2723  ...                NaN   \n",
       "3            NaN              71988  ...                NaN   \n",
       "4            NaN              82382  ...                NaN   \n",
       "\n",
       "  ClmDiagnosisCode_10 ClmProcedureCode_1 ClmProcedureCode_2  \\\n",
       "0                 NaN                NaN                NaN   \n",
       "1                 NaN                NaN                NaN   \n",
       "2                 NaN                NaN                NaN   \n",
       "3                 NaN                NaN                NaN   \n",
       "4                 NaN                NaN                NaN   \n",
       "\n",
       "  ClmProcedureCode_3 ClmProcedureCode_4 ClmProcedureCode_5 ClmProcedureCode_6  \\\n",
       "0                NaN                NaN                NaN                NaN   \n",
       "1                NaN                NaN                NaN                NaN   \n",
       "2                NaN                NaN                NaN                NaN   \n",
       "3                NaN                NaN                NaN                NaN   \n",
       "4                NaN                NaN                NaN                NaN   \n",
       "\n",
       "  DeductibleAmtPaid  ClmAdmitDiagnosisCode  \n",
       "0                 0                  56409  \n",
       "1                 0                  79380  \n",
       "2                 0                    NaN  \n",
       "3                 0                    NaN  \n",
       "4                 0                  71947  \n",
       "\n",
       "[5 rows x 27 columns]"
      ]
     },
     "execution_count": 6,
     "metadata": {},
     "output_type": "execute_result"
    }
   ],
   "source": [
    "# xtrain OUTPATIENT Data\n",
    "print(xtrain_outp.shape)\n",
    "xtrain_outp.head()"
   ]
  },
  {
   "cell_type": "code",
   "execution_count": 7,
   "id": "0e3ebed9",
   "metadata": {},
   "outputs": [
    {
     "name": "stdout",
     "output_type": "stream",
     "text": [
      "(138556, 25)\n"
     ]
    },
    {
     "data": {
      "text/html": [
       "<div>\n",
       "<style scoped>\n",
       "    .dataframe tbody tr th:only-of-type {\n",
       "        vertical-align: middle;\n",
       "    }\n",
       "\n",
       "    .dataframe tbody tr th {\n",
       "        vertical-align: top;\n",
       "    }\n",
       "\n",
       "    .dataframe thead th {\n",
       "        text-align: right;\n",
       "    }\n",
       "</style>\n",
       "<table border=\"1\" class=\"dataframe\">\n",
       "  <thead>\n",
       "    <tr style=\"text-align: right;\">\n",
       "      <th></th>\n",
       "      <th>BeneID</th>\n",
       "      <th>DOB</th>\n",
       "      <th>DOD</th>\n",
       "      <th>Gender</th>\n",
       "      <th>Race</th>\n",
       "      <th>RenalDiseaseIndicator</th>\n",
       "      <th>State</th>\n",
       "      <th>County</th>\n",
       "      <th>NoOfMonths_PartACov</th>\n",
       "      <th>NoOfMonths_PartBCov</th>\n",
       "      <th>...</th>\n",
       "      <th>ChronicCond_Depression</th>\n",
       "      <th>ChronicCond_Diabetes</th>\n",
       "      <th>ChronicCond_IschemicHeart</th>\n",
       "      <th>ChronicCond_Osteoporasis</th>\n",
       "      <th>ChronicCond_rheumatoidarthritis</th>\n",
       "      <th>ChronicCond_stroke</th>\n",
       "      <th>IPAnnualReimbursementAmt</th>\n",
       "      <th>IPAnnualDeductibleAmt</th>\n",
       "      <th>OPAnnualReimbursementAmt</th>\n",
       "      <th>OPAnnualDeductibleAmt</th>\n",
       "    </tr>\n",
       "  </thead>\n",
       "  <tbody>\n",
       "    <tr>\n",
       "      <th>0</th>\n",
       "      <td>BENE11001</td>\n",
       "      <td>1943-01-01</td>\n",
       "      <td>NaN</td>\n",
       "      <td>1</td>\n",
       "      <td>1</td>\n",
       "      <td>0</td>\n",
       "      <td>39</td>\n",
       "      <td>230</td>\n",
       "      <td>12</td>\n",
       "      <td>12</td>\n",
       "      <td>...</td>\n",
       "      <td>1</td>\n",
       "      <td>1</td>\n",
       "      <td>1</td>\n",
       "      <td>2</td>\n",
       "      <td>1</td>\n",
       "      <td>1</td>\n",
       "      <td>36000</td>\n",
       "      <td>3204</td>\n",
       "      <td>60</td>\n",
       "      <td>70</td>\n",
       "    </tr>\n",
       "    <tr>\n",
       "      <th>1</th>\n",
       "      <td>BENE11002</td>\n",
       "      <td>1936-09-01</td>\n",
       "      <td>NaN</td>\n",
       "      <td>2</td>\n",
       "      <td>1</td>\n",
       "      <td>0</td>\n",
       "      <td>39</td>\n",
       "      <td>280</td>\n",
       "      <td>12</td>\n",
       "      <td>12</td>\n",
       "      <td>...</td>\n",
       "      <td>2</td>\n",
       "      <td>2</td>\n",
       "      <td>2</td>\n",
       "      <td>2</td>\n",
       "      <td>2</td>\n",
       "      <td>2</td>\n",
       "      <td>0</td>\n",
       "      <td>0</td>\n",
       "      <td>30</td>\n",
       "      <td>50</td>\n",
       "    </tr>\n",
       "    <tr>\n",
       "      <th>2</th>\n",
       "      <td>BENE11003</td>\n",
       "      <td>1936-08-01</td>\n",
       "      <td>NaN</td>\n",
       "      <td>1</td>\n",
       "      <td>1</td>\n",
       "      <td>0</td>\n",
       "      <td>52</td>\n",
       "      <td>590</td>\n",
       "      <td>12</td>\n",
       "      <td>12</td>\n",
       "      <td>...</td>\n",
       "      <td>2</td>\n",
       "      <td>2</td>\n",
       "      <td>1</td>\n",
       "      <td>2</td>\n",
       "      <td>2</td>\n",
       "      <td>2</td>\n",
       "      <td>0</td>\n",
       "      <td>0</td>\n",
       "      <td>90</td>\n",
       "      <td>40</td>\n",
       "    </tr>\n",
       "    <tr>\n",
       "      <th>3</th>\n",
       "      <td>BENE11004</td>\n",
       "      <td>1922-07-01</td>\n",
       "      <td>NaN</td>\n",
       "      <td>1</td>\n",
       "      <td>1</td>\n",
       "      <td>0</td>\n",
       "      <td>39</td>\n",
       "      <td>270</td>\n",
       "      <td>12</td>\n",
       "      <td>12</td>\n",
       "      <td>...</td>\n",
       "      <td>2</td>\n",
       "      <td>1</td>\n",
       "      <td>1</td>\n",
       "      <td>1</td>\n",
       "      <td>1</td>\n",
       "      <td>2</td>\n",
       "      <td>0</td>\n",
       "      <td>0</td>\n",
       "      <td>1810</td>\n",
       "      <td>760</td>\n",
       "    </tr>\n",
       "    <tr>\n",
       "      <th>4</th>\n",
       "      <td>BENE11005</td>\n",
       "      <td>1935-09-01</td>\n",
       "      <td>NaN</td>\n",
       "      <td>1</td>\n",
       "      <td>1</td>\n",
       "      <td>0</td>\n",
       "      <td>24</td>\n",
       "      <td>680</td>\n",
       "      <td>12</td>\n",
       "      <td>12</td>\n",
       "      <td>...</td>\n",
       "      <td>2</td>\n",
       "      <td>1</td>\n",
       "      <td>2</td>\n",
       "      <td>2</td>\n",
       "      <td>2</td>\n",
       "      <td>2</td>\n",
       "      <td>0</td>\n",
       "      <td>0</td>\n",
       "      <td>1790</td>\n",
       "      <td>1200</td>\n",
       "    </tr>\n",
       "  </tbody>\n",
       "</table>\n",
       "<p>5 rows × 25 columns</p>\n",
       "</div>"
      ],
      "text/plain": [
       "      BeneID         DOB  DOD  Gender  Race RenalDiseaseIndicator  State  \\\n",
       "0  BENE11001  1943-01-01  NaN       1     1                     0     39   \n",
       "1  BENE11002  1936-09-01  NaN       2     1                     0     39   \n",
       "2  BENE11003  1936-08-01  NaN       1     1                     0     52   \n",
       "3  BENE11004  1922-07-01  NaN       1     1                     0     39   \n",
       "4  BENE11005  1935-09-01  NaN       1     1                     0     24   \n",
       "\n",
       "   County  NoOfMonths_PartACov  NoOfMonths_PartBCov  ...  \\\n",
       "0     230                   12                   12  ...   \n",
       "1     280                   12                   12  ...   \n",
       "2     590                   12                   12  ...   \n",
       "3     270                   12                   12  ...   \n",
       "4     680                   12                   12  ...   \n",
       "\n",
       "   ChronicCond_Depression  ChronicCond_Diabetes  ChronicCond_IschemicHeart  \\\n",
       "0                       1                     1                          1   \n",
       "1                       2                     2                          2   \n",
       "2                       2                     2                          1   \n",
       "3                       2                     1                          1   \n",
       "4                       2                     1                          2   \n",
       "\n",
       "   ChronicCond_Osteoporasis  ChronicCond_rheumatoidarthritis  \\\n",
       "0                         2                                1   \n",
       "1                         2                                2   \n",
       "2                         2                                2   \n",
       "3                         1                                1   \n",
       "4                         2                                2   \n",
       "\n",
       "   ChronicCond_stroke  IPAnnualReimbursementAmt  IPAnnualDeductibleAmt  \\\n",
       "0                   1                     36000                   3204   \n",
       "1                   2                         0                      0   \n",
       "2                   2                         0                      0   \n",
       "3                   2                         0                      0   \n",
       "4                   2                         0                      0   \n",
       "\n",
       "   OPAnnualReimbursementAmt  OPAnnualDeductibleAmt  \n",
       "0                        60                     70  \n",
       "1                        30                     50  \n",
       "2                        90                     40  \n",
       "3                      1810                    760  \n",
       "4                      1790                   1200  \n",
       "\n",
       "[5 rows x 25 columns]"
      ]
     },
     "execution_count": 7,
     "metadata": {},
     "output_type": "execute_result"
    }
   ],
   "source": [
    "print(xtrain_benef.shape)\n",
    "xtrain_benef.head()"
   ]
  },
  {
   "cell_type": "markdown",
   "id": "b934065b",
   "metadata": {},
   "source": [
    "From the shapes, we notice here that the column counts are inconsistent between the inpatient & outpatient sets of data."
   ]
  },
  {
   "cell_type": "code",
   "execution_count": 8,
   "id": "34efcf41",
   "metadata": {},
   "outputs": [
    {
     "data": {
      "text/plain": [
       "{'AdmissionDt', 'DiagnosisGroupCode', 'DischargeDt'}"
      ]
     },
     "execution_count": 8,
     "metadata": {},
     "output_type": "execute_result"
    }
   ],
   "source": [
    "# Ascertain which Inpatient features NOT in Outpatient Data\n",
    "set(xtrain_inp.columns) - set(xtrain_outp.columns)"
   ]
  },
  {
   "cell_type": "code",
   "execution_count": 9,
   "id": "dac519f3",
   "metadata": {},
   "outputs": [
    {
     "name": "stdout",
     "output_type": "stream",
     "text": [
      "(5410, 2)\n"
     ]
    },
    {
     "data": {
      "text/html": [
       "<div>\n",
       "<style scoped>\n",
       "    .dataframe tbody tr th:only-of-type {\n",
       "        vertical-align: middle;\n",
       "    }\n",
       "\n",
       "    .dataframe tbody tr th {\n",
       "        vertical-align: top;\n",
       "    }\n",
       "\n",
       "    .dataframe thead th {\n",
       "        text-align: right;\n",
       "    }\n",
       "</style>\n",
       "<table border=\"1\" class=\"dataframe\">\n",
       "  <thead>\n",
       "    <tr style=\"text-align: right;\">\n",
       "      <th></th>\n",
       "      <th>Provider</th>\n",
       "      <th>PotentialFraud</th>\n",
       "    </tr>\n",
       "  </thead>\n",
       "  <tbody>\n",
       "    <tr>\n",
       "      <th>0</th>\n",
       "      <td>PRV51001</td>\n",
       "      <td>No</td>\n",
       "    </tr>\n",
       "    <tr>\n",
       "      <th>1</th>\n",
       "      <td>PRV51003</td>\n",
       "      <td>Yes</td>\n",
       "    </tr>\n",
       "    <tr>\n",
       "      <th>2</th>\n",
       "      <td>PRV51004</td>\n",
       "      <td>No</td>\n",
       "    </tr>\n",
       "    <tr>\n",
       "      <th>3</th>\n",
       "      <td>PRV51005</td>\n",
       "      <td>Yes</td>\n",
       "    </tr>\n",
       "    <tr>\n",
       "      <th>4</th>\n",
       "      <td>PRV51007</td>\n",
       "      <td>No</td>\n",
       "    </tr>\n",
       "  </tbody>\n",
       "</table>\n",
       "</div>"
      ],
      "text/plain": [
       "   Provider PotentialFraud\n",
       "0  PRV51001             No\n",
       "1  PRV51003            Yes\n",
       "2  PRV51004             No\n",
       "3  PRV51005            Yes\n",
       "4  PRV51007             No"
      ]
     },
     "execution_count": 9,
     "metadata": {},
     "output_type": "execute_result"
    }
   ],
   "source": [
    "# Examine Target Data, here divvied by Provider\n",
    "print(ytrain.shape)\n",
    "ytrain.head()"
   ]
  },
  {
   "cell_type": "markdown",
   "id": "eb9bf0fa",
   "metadata": {},
   "source": [
    "# Processing Thus Far\n",
    "\n",
    "David's processing:\n",
    "- Combined Inpatient & Outpatient Rawdata\n",
    "    - Added Admission_Type Feature\n",
    "- Merged that with Potential Fraud\n",
    "- Generated train_all to contain!"
   ]
  },
  {
   "cell_type": "markdown",
   "id": "d42c63c6",
   "metadata": {},
   "source": [
    "### Next Processing Steps\n",
    "**Feature Engineering:**\n",
    "- Generated Length_of_Claim feature from ClaimEndDt & ClaimStartDt\n",
    "- Generated Num_Physicians, Num_ClmProcedureCodes, NumClmDiagnosisCodes, MismatchedAdmitDiagnosisCode\n",
    "\n",
    "**Combined Beneficiary data:**\n",
    "- Left Merge on 'BeneID'\n",
    "- Generated Bene_Age_at_ClaimStartDt from DOB\n",
    "\n",
    "**Generated Train_All_Provider_Stats_EDITED with:**\n",
    "- Stats on Train_All.drop(Non-nNumberlist)\n",
    "    - Mean, Median, 0's, NA's, Mode, Modefreq, mode2, mode2freq, mode3, mode3freq, num_unique\n",
    "\n"
   ]
  },
  {
   "cell_type": "code",
   "execution_count": 10,
   "id": "93b0ef6a",
   "metadata": {},
   "outputs": [
    {
     "ename": "FileNotFoundError",
     "evalue": "[Errno 2] No such file or directory: './Pickle_Jar/Train_All.pickle'",
     "output_type": "error",
     "traceback": [
      "\u001b[0;31m---------------------------------------------------------------------------\u001b[0m",
      "\u001b[0;31mFileNotFoundError\u001b[0m                         Traceback (most recent call last)",
      "\u001b[0;32m<ipython-input-10-0e4c510f2b10>\u001b[0m in \u001b[0;36m<module>\u001b[0;34m\u001b[0m\n\u001b[1;32m      7\u001b[0m \u001b[0;34m\u001b[0m\u001b[0m\n\u001b[1;32m      8\u001b[0m \u001b[0;31m# utterly Raw\u001b[0m\u001b[0;34m\u001b[0m\u001b[0;34m\u001b[0m\u001b[0;34m\u001b[0m\u001b[0m\n\u001b[0;32m----> 9\u001b[0;31m \u001b[0mxtrain_base\u001b[0m \u001b[0;34m=\u001b[0m \u001b[0mpickle\u001b[0m\u001b[0;34m.\u001b[0m\u001b[0mload\u001b[0m\u001b[0;34m(\u001b[0m\u001b[0mopen\u001b[0m\u001b[0;34m(\u001b[0m\u001b[0;34m'./Pickle_Jar/Train_All.pickle'\u001b[0m\u001b[0;34m,\u001b[0m \u001b[0;34m'rb'\u001b[0m\u001b[0;34m)\u001b[0m\u001b[0;34m)\u001b[0m\u001b[0;34m\u001b[0m\u001b[0;34m\u001b[0m\u001b[0m\n\u001b[0m\u001b[1;32m     10\u001b[0m \u001b[0mxtrain_basestats\u001b[0m \u001b[0;34m=\u001b[0m \u001b[0mpickle\u001b[0m\u001b[0;34m.\u001b[0m\u001b[0mload\u001b[0m\u001b[0;34m(\u001b[0m\u001b[0mopen\u001b[0m\u001b[0;34m(\u001b[0m\u001b[0;34m'./Pickle_Jar/Train_All_Stats_EDITED.pickle'\u001b[0m\u001b[0;34m,\u001b[0m \u001b[0;34m'rb'\u001b[0m\u001b[0;34m)\u001b[0m\u001b[0;34m)\u001b[0m\u001b[0;34m\u001b[0m\u001b[0;34m\u001b[0m\u001b[0m\n\u001b[1;32m     11\u001b[0m \u001b[0;34m\u001b[0m\u001b[0m\n",
      "\u001b[0;31mFileNotFoundError\u001b[0m: [Errno 2] No such file or directory: './Pickle_Jar/Train_All.pickle'"
     ]
    }
   ],
   "source": [
    "###################################################\n",
    "### THIS ONLY WORKS WITH PICKLE_JAR FILE FOLDER ###\n",
    "###################################################\n",
    "\n",
    "# Import Gottlieb & Tel's Fine Produce branded pickle jar\n",
    "import pickle\n",
    "\n",
    "# utterly Raw\n",
    "xtrain_base = pickle.load(open('./Pickle_Jar/Train_All.pickle', 'rb'))\n",
    "xtrain_basestats = pickle.load(open('./Pickle_Jar/Train_All_Stats_EDITED.pickle', 'rb'))\n",
    "\n",
    "# beneficiary\n",
    "xtrain_bene = pickle.load(open('./Pickle_Jar/Train_All_Bene.pickle', 'rb'))\n",
    "xtrain_bene_stats = pickle.load(open('./Pickle_Jar/Train_All_Bene_Stats.pickle', 'rb'))\n",
    "xtrain_bene_statsEDIT = pickle.load(open('./Pickle_Jar/Train_All_Bene_Stats_EDITED.pickle', 'rb'))\n",
    "\n",
    "# provider\n",
    "xtrain_prov_stats = pickle.load(open('./Pickle_Jar/Train_All_Provider_Stats.pickle', 'rb'))\n",
    "xtrain_prov_statsEDIT = pickle.load(open('./Pickle_Jar/Train_All_Provider_Stats_EDITED.pickle', 'rb'))\n",
    "xtrain_prov_statsALL = pickle.load(open('./Pickle_Jar/Train_All_Provider_Stats_All.pickle', 'rb'))\n",
    "\n"
   ]
  },
  {
   "cell_type": "code",
   "execution_count": null,
   "id": "43dcc296",
   "metadata": {
    "scrolled": false
   },
   "outputs": [],
   "source": [
    "print(xtrain_base.columns.to_list())"
   ]
  },
  {
   "cell_type": "markdown",
   "id": "a0f72c29",
   "metadata": {},
   "source": [
    "# First Looks"
   ]
  },
  {
   "cell_type": "code",
   "execution_count": null,
   "id": "1aed7e55",
   "metadata": {
    "scrolled": true
   },
   "outputs": [],
   "source": [
    "# First Looks @ DG's Engineering\n",
    "first_look = [xtrain_base, xtrain_basestats, \n",
    "              xtrain_bene, xtrain_bene_stats, xtrain_bene_statsEDIT, \n",
    "              xtrain_prov_stats, xtrain_prov_statsEDIT, \n",
    "              xtrain_prov_statsALL]\n",
    "firstnames = ['Train All', 'Train AllStats Edit',\n",
    "             'Train All Bene', 'Train All BeneStats', 'Train All BeneStatsEdit',\n",
    "             'Train All ProviderStats', 'Train All ProviderStatsEdit', 'Train All ProviderStatsAll']\n",
    "n = 0\n",
    "\n",
    "# Shapes, Data Types, Amt. of NA's\n",
    "for df in first_look:\n",
    "    print(50*'-')\n",
    "    print(firstnames[n])\n",
    "    print()\n",
    "    print('Shape: ' + str(df.shape))\n",
    "    print('Dtypes: ' + str(df.dtypes.unique()))\n",
    "    print('Missingness: ' + str(df.isna().sum().sum()))\n",
    "    print()\n",
    "    \n",
    "    n += 1"
   ]
  },
  {
   "cell_type": "markdown",
   "id": "59e80cf8",
   "metadata": {},
   "source": [
    "# Exploring Raw Data\n",
    "\n",
    "[[Back to Top]](#Exploratory-Analysis)\n",
    "\n",
    "For parsing original information, data dictionaries can be found with https://www.cms.gov/Research-Statistics-Data-and-Systems/Files-for-Order/LimitedDataSets/StandardAnalyticalFiles. \n",
    "\n",
    "With processing to this point, "
   ]
  },
  {
   "cell_type": "code",
   "execution_count": null,
   "id": "c462c39f",
   "metadata": {},
   "outputs": [],
   "source": [
    "print('Columns: ' + str(xtrain_prov_statsALL.columns.levels[0].to_list()) + '\\n')\n",
    "print('# Cols: ' + str(len(xtrain_prov_statsALL.columns.levels[0].to_list())))\n",
    "xtrain_prov_statsALL.head()"
   ]
  },
  {
   "cell_type": "code",
   "execution_count": null,
   "id": "2ebd2f01",
   "metadata": {},
   "outputs": [],
   "source": [
    "print('Columns: ' + str(xtrain_bene_statsEDIT.columns.levels[0].to_list()) + '\\n')\n",
    "print('# Cols: ' + str(len(xtrain_bene_statsEDIT.columns.levels[0].to_list())))\n",
    "xtrain_bene_statsEDIT.head()"
   ]
  },
  {
   "cell_type": "code",
   "execution_count": null,
   "id": "3def8e34",
   "metadata": {},
   "outputs": [],
   "source": [
    "# Explore Heatmap of Interrelated Features\n",
    "import seaborn as sns\n",
    "\n",
    "fig = plt.figure(figsize=(18, 15))\n",
    "sns.heatmap(xtrain_bene.corr())"
   ]
  },
  {
   "cell_type": "markdown",
   "id": "6d9fd88b",
   "metadata": {},
   "source": [
    "### What Else We See\n",
    "\n",
    "**Direct:** \n",
    "    - InsClaimAmtReimbursed, DeductibleAmtPaid --> Num_ClmProcedureCodes\n",
    "\n",
    "**Inverse:**"
   ]
  },
  {
   "cell_type": "markdown",
   "id": "1ba23eea",
   "metadata": {},
   "source": [
    "# Examining Missing Data\n",
    "[[Back to Top]](#Exploratory-Analysis)"
   ]
  },
  {
   "cell_type": "code",
   "execution_count": null,
   "id": "832a91d7",
   "metadata": {
    "scrolled": false
   },
   "outputs": [],
   "source": [
    "import missingno as msno\n",
    "\n",
    "msno.matrix(xtrain_bene.iloc[:, :15])\n",
    "msno.matrix(xtrain_bene.iloc[:, 15:30])\n",
    "msno.matrix(xtrain_bene.iloc[:, 30:45])\n",
    "msno.matrix(xtrain_bene.iloc[:, 45:])"
   ]
  },
  {
   "cell_type": "code",
   "execution_count": null,
   "id": "d8cd7966",
   "metadata": {},
   "outputs": [],
   "source": [
    "# Explore Interrelatedness Specifically\n",
    "msno.heatmap(xtrain_bene)"
   ]
  },
  {
   "cell_type": "code",
   "execution_count": null,
   "id": "f4373ad7",
   "metadata": {},
   "outputs": [],
   "source": []
  },
  {
   "cell_type": "markdown",
   "id": "23460419",
   "metadata": {},
   "source": [
    "# Warmup Targeted EDA\n",
    "[Back to Top](#Exploratory-Analysis)\n",
    "\n",
    "### Section 1\n",
    "\n",
    "Examine Physicians from Inpatient & Outpatient data"
   ]
  },
  {
   "cell_type": "code",
   "execution_count": null,
   "id": "17276275",
   "metadata": {},
   "outputs": [],
   "source": [
    "def GetPhysicianList(df):\n",
    "    # generate list of physicians from 3 relevant columns\n",
    "    # both df's have AttendingPhysician, OperatingPhysician, & OtherPhysician\n",
    "    phys = df['AttendingPhysician'].value_counts().index.to_list()\n",
    "    phys.extend(df['OperatingPhysician'].value_counts().index)\n",
    "    phys.extend(df['OtherPhysician'].value_counts().index)\n",
    "    \n",
    "    # use dict() function to remove duplicates; dicts can't have duplicate keys\n",
    "    phys = list(dict.fromkeys(phys))\n",
    "    return phys\n",
    "\n",
    "def CheckUniquePhys(p_list1, p_list2):\n",
    "    firstlist = len(set(p_list1) - set(p_list2))\n",
    "    seconlist = len(set(p_list2) - set(p_list1))\n",
    "    \n",
    "    if firstlist > 0:\n",
    "        print('The first list has uniques!' + ' - ' + str(firstlist))\n",
    "    if seconlist > 0:\n",
    "        print('The second list has uniques!' + ' - ' + str(seconlist))\n",
    "    if (firstlist == 0) & (seconlist == 0):\n",
    "        print('No uniques in either!')\n",
    "        "
   ]
  },
  {
   "cell_type": "code",
   "execution_count": null,
   "id": "863977da",
   "metadata": {},
   "outputs": [],
   "source": []
  },
  {
   "cell_type": "code",
   "execution_count": null,
   "id": "3d3c4b32",
   "metadata": {
    "scrolled": true
   },
   "outputs": [],
   "source": [
    "outp_phys = GetPhysicianList(xtrain_outp)\n",
    "inp_phys = GetPhysicianList(xtrain_inp)\n",
    "\n",
    "CheckUniquePhys(outp_phys, inp_phys)\n",
    "print('Total Doctors: ' + str(len(outp_phys)))"
   ]
  },
  {
   "cell_type": "markdown",
   "id": "0a26f9d1",
   "metadata": {},
   "source": [
    "**Inpatients vs. Outpatients: Let's Get Chronic**\n",
    "\n",
    "Do inpatients show worse health (chronic diseases) than outpatients, typically speaking? Or do patients with MORE visits have worse health?"
   ]
  },
  {
   "cell_type": "code",
   "execution_count": null,
   "id": "e77c0d67",
   "metadata": {},
   "outputs": [],
   "source": [
    "# List all chronics\n",
    "conds = ['ChronicCond_Alzheimer', 'ChronicCond_Heartfailure', 'ChronicCond_KidneyDisease',\n",
    "         'ChronicCond_Cancer', 'ChronicCond_ObstrPulmonary', 'ChronicCond_Depression', \n",
    "         'ChronicCond_Diabetes', 'ChronicCond_IschemicHeart', 'ChronicCond_Osteoporasis',\n",
    "         'ChronicCond_rheumatoidarthritis', 'ChronicCond_stroke']\n",
    "\n",
    "# Ensure all are ints and absolute vals\n",
    "for cond in conds:\n",
    "    xtrain_bene[cond] = list(map(lambda x: np.abs(int(x)), xtrain_bene[cond]))\n",
    "    \n",
    "# Generate Number of Chronic Conds\n",
    "xtrain_bene.loc[:,'Num_ChronicConds'] = xtrain_bene[conds].sum(axis=1)"
   ]
  },
  {
   "cell_type": "code",
   "execution_count": null,
   "id": "30699e69",
   "metadata": {
    "scrolled": true
   },
   "outputs": [],
   "source": [
    "sns.boxplot(x=xtrain_bene['Num_ChronicConds'], y=xtrain_bene['Admission_Type'])"
   ]
  },
  {
   "cell_type": "code",
   "execution_count": null,
   "id": "c874a288",
   "metadata": {},
   "outputs": [],
   "source": [
    "xtrain_bene.head()"
   ]
  },
  {
   "cell_type": "code",
   "execution_count": null,
   "id": "c796e867",
   "metadata": {},
   "outputs": [],
   "source": [
    "fig, ax = plt.subplots(figsize=(20,8))\n",
    "\n",
    "bene_conds = xtrain_bene.groupby(by='BeneID').agg(['count', 'mean'])['Num_ChronicConds']\n",
    "\n",
    "#################FIX THIS; Histplot?\n",
    "\n",
    "sns.histplot(x=bene_conds['mean'])"
   ]
  },
  {
   "cell_type": "code",
   "execution_count": null,
   "id": "606a295b",
   "metadata": {},
   "outputs": [],
   "source": [
    "print('Total Beneficiaries:  ' + str(bene_conds.shape[0]))"
   ]
  },
  {
   "cell_type": "markdown",
   "id": "c3b46d97",
   "metadata": {},
   "source": [
    "Do doctors serve different providers? Distribution of hospital counts/doctor? Is it possible to characterize those doctors who move around among different providers?"
   ]
  },
  {
   "cell_type": "code",
   "execution_count": null,
   "id": "893c2012",
   "metadata": {},
   "outputs": [],
   "source": [
    "fig, ax = plt.subplots(figsize=(20,8))\n",
    "\n",
    "doct_prov = xtrain_bene.groupby(by='AttendingPhysician').agg('count').reset_index()[['AttendingPhysician', 'Provider']]\n",
    "sns.kdeplot(x=doct_prov['Provider'])"
   ]
  },
  {
   "cell_type": "code",
   "execution_count": null,
   "id": "ac1f93bb",
   "metadata": {},
   "outputs": [],
   "source": [
    "doct_prov.describe()"
   ]
  },
  {
   "cell_type": "markdown",
   "id": "14ef2472",
   "metadata": {},
   "source": [
    "Do patients go to different hospitals? Distribution of hospital counts/patient? Is it possible to characterize patients who receive services from many hospitals?"
   ]
  },
  {
   "cell_type": "code",
   "execution_count": null,
   "id": "ae5997b7",
   "metadata": {},
   "outputs": [],
   "source": [
    "fig, ax = plt.subplots(figsize=(20,8))\n",
    "\n",
    "# Concentration of Beneficiaries per Provider\n",
    "bene_hosp = xtrain_bene.groupby(by='BeneID').agg('count').reset_index()[['BeneID', 'Provider']]\n",
    "sns.kdeplot(x=bene_hosp['Provider'])"
   ]
  },
  {
   "cell_type": "code",
   "execution_count": null,
   "id": "a1630a08",
   "metadata": {},
   "outputs": [],
   "source": [
    "test = pd.merge(xtrain_bene, bene_hosp, on='BeneID')\n",
    "test.head()"
   ]
  },
  {
   "cell_type": "markdown",
   "id": "c8ce25cc",
   "metadata": {},
   "source": [
    "Do the same providers provide both inpatient & outpatient services?"
   ]
  },
  {
   "cell_type": "code",
   "execution_count": null,
   "id": "5ceb1757",
   "metadata": {},
   "outputs": [],
   "source": [
    "eng_inp = xtrain_bene.loc[xtrain_bene['Admission_Type'] == 'Inpatient']\n",
    "eng_outp = xtrain_bene.loc[xtrain_bene['Admission_Type'] == 'Outpatient']\n",
    "\n",
    "# Get unique provider ID's\n",
    "all_provs = xtrain_bene['Provider'].value_counts().index\n",
    "prov_inp = set(eng_inp['Provider'].value_counts().index)\n",
    "prov_outp = set(eng_outp['Provider'].value_counts().index)\n",
    "\n",
    "# Ascertain how many serve inpatients & outpatients respectively\n",
    "inps_only = len(prov_inp - prov_outp)\n",
    "outps_only = len(prov_outp - prov_inp)\n",
    "serves_both = len(all_provs) - (inps_only + outps_only)\n",
    "\n",
    "print('Uniquely Inpatient Providers: ' + str(inps_only))\n",
    "print('Uniquely Outpatient Providers: ' + str(outps_only))\n",
    "print('Serves Inpatient & Outpatient: ' + str(serves_both))"
   ]
  },
  {
   "cell_type": "markdown",
   "id": "593f51d2",
   "metadata": {},
   "source": [
    "Do some of the patients receive both inpatient and outpatient services?"
   ]
  },
  {
   "cell_type": "code",
   "execution_count": null,
   "id": "343a41a6",
   "metadata": {},
   "outputs": [],
   "source": [
    "all_bens = xtrain_bene['BeneID'].value_counts().index\n",
    "bens_inp = set(eng_inp['BeneID'].value_counts().index)\n",
    "bens_outp = set(eng_outp['BeneID'].value_counts().index)\n",
    "\n",
    "inps_only = len(bens_inp - bens_outp)\n",
    "outps_only = len(bens_outp - bens_inp)\n",
    "gets_both = len(all_bens) - (inps_only + outps_only)\n",
    "\n",
    "print('Uniquely Inpatient Beneficiaries: ' + str(inps_only))\n",
    "print('Uniquely Outpatient Beneficiaries: ' + str(outps_only))\n",
    "print('Serves Inpatient & Outpatient: ' + str(gets_both))"
   ]
  },
  {
   "cell_type": "markdown",
   "id": "9777d88f",
   "metadata": {},
   "source": [
    "### Part, the 2nd\n",
    "Relationship btwn patient ages (at the time of service) & counts of medical claims\n",
    "\n",
    "We have already engineered patient's ages at the time of claim"
   ]
  },
  {
   "cell_type": "code",
   "execution_count": null,
   "id": "034c8441",
   "metadata": {},
   "outputs": [],
   "source": [
    "fig, ax = plt.subplots(figsize=(20,8))\n",
    "\n",
    "sns.histplot(x=xtrain_bene['Bene_Age_at_ClaimStartDt'])"
   ]
  },
  {
   "cell_type": "markdown",
   "id": "0b94f32c",
   "metadata": {},
   "source": [
    "Relationship btwn patient age and chronic conditions. Within train-samples, do these chronics show a definite trend with increasing age?"
   ]
  },
  {
   "cell_type": "code",
   "execution_count": null,
   "id": "e48609f3",
   "metadata": {},
   "outputs": [],
   "source": [
    "fig, ax = plt.subplots(figsize=(15, 12))\n",
    "\n",
    "sns.kdeplot(x=xtrain_bene['Bene_Age_at_ClaimStartDt'], y=xtrain_bene['Num_ChronicConds'],\n",
    "              cmap=sns.cubehelix_palette(light=1, as_cmap=True), fill=True)"
   ]
  },
  {
   "cell_type": "markdown",
   "id": "68d9c3ed",
   "metadata": {},
   "source": [
    "Categorize patients according to resource usage - what types of patients would make more outpatient visits."
   ]
  },
  {
   "cell_type": "code",
   "execution_count": null,
   "id": "538994d4",
   "metadata": {
    "scrolled": false
   },
   "outputs": [],
   "source": [
    "# admission type: outpatient, eng_outp \n",
    "# Scatterplots, dots are beneficiaries\n",
    "# y=outpatient visits, x is whatever we're examining, targ_chars\n",
    "\n",
    "# Generate resources aggregation stats\n",
    "resources_out = eng_outp.groupby('BeneID').agg({'Num_ChronicConds': 'mean',\n",
    "                               'InscClaimAmtReimbursed': 'sum',\n",
    "                               'ClaimID': 'count',\n",
    "                               'ChronicCond_Alzheimer': 'max',\n",
    "                               'ChronicCond_Heartfailure': 'max', # These signify whether a patient HAS it\n",
    "                               'ChronicCond_KidneyDisease': 'max',\n",
    "                               'ChronicCond_Cancer': 'max',\n",
    "                               'ChronicCond_ObstrPulmonary': 'max',\n",
    "                               'ChronicCond_Depression': 'max',\n",
    "                               'ChronicCond_Diabetes': 'max',\n",
    "                               'ChronicCond_IschemicHeart': 'max',\n",
    "                               'ChronicCond_Osteoporasis': 'max',\n",
    "                               'ChronicCond_rheumatoidarthritis': 'max',\n",
    "                               'ChronicCond_stroke': 'max'})\n",
    "print(resources_out.columns)\n",
    "resources_out.rename(columns={'ClaimID': 'Num_Claims'}, inplace=True)\n",
    "resources_out.head()"
   ]
  },
  {
   "cell_type": "code",
   "execution_count": null,
   "id": "576d40a0",
   "metadata": {},
   "outputs": [],
   "source": [
    "# Generally examine resource aggregates\n",
    "resources_out.describe()"
   ]
  },
  {
   "cell_type": "markdown",
   "id": "40892d28",
   "metadata": {},
   "source": [
    "Ditto, but Inpatient visits"
   ]
  },
  {
   "cell_type": "code",
   "execution_count": null,
   "id": "c0a27250",
   "metadata": {},
   "outputs": [],
   "source": [
    "#############################\n",
    "### Inpatient Examination ###\n",
    "#############################\n",
    "\n",
    "# Generate resources aggregation stats\n",
    "resources_inp = eng_inp.groupby('BeneID').agg({'Num_ChronicConds': 'mean',\n",
    "                               'InscClaimAmtReimbursed': 'sum',\n",
    "                               'ClaimID': 'count',\n",
    "                               'ChronicCond_Alzheimer': 'max',\n",
    "                               'ChronicCond_Heartfailure': 'max', # These signify whether a patient HAS it\n",
    "                               'ChronicCond_KidneyDisease': 'max',\n",
    "                               'ChronicCond_Cancer': 'max',\n",
    "                               'ChronicCond_ObstrPulmonary': 'max',\n",
    "                               'ChronicCond_Depression': 'max',\n",
    "                               'ChronicCond_Diabetes': 'max',\n",
    "                               'ChronicCond_IschemicHeart': 'max',\n",
    "                               'ChronicCond_Osteoporasis': 'max',\n",
    "                               'ChronicCond_rheumatoidarthritis': 'max',\n",
    "                               'ChronicCond_stroke': 'max'})\n",
    "print(resources_inp.columns)\n",
    "resources_inp.rename(columns={'ClaimID': 'Num_Claims'}, inplace=True)\n",
    "resources_inp.head()"
   ]
  },
  {
   "cell_type": "code",
   "execution_count": null,
   "id": "ae2b6294",
   "metadata": {},
   "outputs": [],
   "source": [
    "resources_inp.describe()"
   ]
  },
  {
   "cell_type": "markdown",
   "id": "3de6cc8f",
   "metadata": {},
   "source": [
    "Analyze patterns of the total reimbursed amounts (avg reimbursed / visit) vs different types of patients."
   ]
  },
  {
   "cell_type": "code",
   "execution_count": null,
   "id": "da70473b",
   "metadata": {},
   "outputs": [],
   "source": []
  },
  {
   "cell_type": "markdown",
   "id": "bd2c3253",
   "metadata": {},
   "source": [
    "Which types of patients contribute more to the providers in terms of aggregate charges or the average charge per visit"
   ]
  },
  {
   "cell_type": "code",
   "execution_count": null,
   "id": "70c73222",
   "metadata": {},
   "outputs": [],
   "source": []
  },
  {
   "cell_type": "code",
   "execution_count": null,
   "id": "44328a38",
   "metadata": {},
   "outputs": [],
   "source": []
  },
  {
   "cell_type": "code",
   "execution_count": null,
   "id": "6ff1483b",
   "metadata": {},
   "outputs": [],
   "source": [
    "print(xtrain_inp.columns)\n",
    "xtrain_inp.head()"
   ]
  },
  {
   "cell_type": "code",
   "execution_count": null,
   "id": "306894cb",
   "metadata": {},
   "outputs": [],
   "source": [
    "print(xtrain_outp.columns)\n",
    "xtrain_outp.head()"
   ]
  },
  {
   "cell_type": "code",
   "execution_count": null,
   "id": "7d8791b2",
   "metadata": {},
   "outputs": [],
   "source": [
    "print(xtrain_benef.columns)\n",
    "xtrain_benef.head()"
   ]
  },
  {
   "cell_type": "code",
   "execution_count": null,
   "id": "334a1675",
   "metadata": {},
   "outputs": [],
   "source": [
    "print(xtrain_bene.columns)\n",
    "xtrain_bene[['ClaimID', 'Provider', 'PotentialFraud', 'InscClaimAmtReimbursed', 'MismatchedAdmitDiagnosisCode']].head()"
   ]
  },
  {
   "cell_type": "markdown",
   "id": "5c9ab0ee",
   "metadata": {},
   "source": [
    "### Part, the 3rd? Time series???"
   ]
  },
  {
   "cell_type": "markdown",
   "id": "2da688c1",
   "metadata": {},
   "source": [
    "# Digging Deeper: EDA\n",
    "\n",
    "[Back to Top](#Exploratory-Analysis)"
   ]
  },
  {
   "cell_type": "code",
   "execution_count": null,
   "id": "e1a6f4e1",
   "metadata": {},
   "outputs": [],
   "source": [
    "nonnums_described = set(['ClmProcedureCode_1', 'ClmProcedureCode_2', 'ClmProcedureCode_3',\n",
    "                    'ClmProcedureCode_4', 'ClmProcedureCode_5', 'ClmProcedureCode_6',\n",
    "                    'PotentialFraud', 'MismatchedAdmitDiagnosisCode', 'Gender', 'Race',\n",
    "                    'RenalDiseaseIndicator', 'State', 'County', 'ChronicCond_Alzheimer',\n",
    "                    'ChronicCond_Heartfailure', 'ChronicCond_KidneyDisease',\n",
    "                    'ChronicCond_Cancer', 'ChronicCond_ObstrPulmonary',\n",
    "                    'ChronicCond_Depression', 'ChronicCond_Diabetes',\n",
    "                    'ChronicCond_IschemicHeart', 'ChronicCond_Osteoporasis',\n",
    "                    'ChronicCond_rheumatoidarthritis', 'ChronicCond_stroke'])\n",
    "\n",
    "xtb_nums = list(set(xtrain_bene.describe().columns) - nonnums_described)\n",
    "xtb_nonnums = list(set(xtrain_bene.columns) - set(xtb_nums))\n",
    "print('Numerical Columns: ' + str(xtb_nums) + '\\n')\n",
    "print('Non-numerical Columns: ' + str(xtb_nonnums) + '\\n')\n",
    "print('Total Cols Named: ' + str(len(xtb_nonnums) + len(xtb_nums)))\n",
    "print('Total DF Cols: ' + str(len(xtrain_bene.columns)))"
   ]
  },
  {
   "cell_type": "code",
   "execution_count": null,
   "id": "22a1b8c9",
   "metadata": {},
   "outputs": [],
   "source": [
    "def basic_3barplotting(df):\n",
    "    \n",
    "    # define graphical bounds\n",
    "    rows = int(np.ceil(len(df.columns) / 3))\n",
    "    fig, axs = plt.subplots(rows, 3, figsize = (12, (4 * rows)))\n",
    "    \n",
    "    # use Seaborne to plot both Numerical & Categorical Features\n",
    "    for ax, feature in zip(axs.flat, df.columns.to_list()):\n",
    "        try:\n",
    "            sns.histplot(df[feature], ax = ax)\n",
    "        except:\n",
    "            sns.histplot(df[feature].fillna('N/A'), ax = ax)"
   ]
  },
  {
   "cell_type": "code",
   "execution_count": null,
   "id": "1cc7eb0a",
   "metadata": {},
   "outputs": [],
   "source": [
    "\n",
    "basic_3barplotting(xtrain_bene)"
   ]
  }
 ],
 "metadata": {
  "kernelspec": {
   "display_name": "Python 3",
   "language": "python",
   "name": "python3"
  },
  "language_info": {
   "codemirror_mode": {
    "name": "ipython",
    "version": 3
   },
   "file_extension": ".py",
   "mimetype": "text/x-python",
   "name": "python",
   "nbconvert_exporter": "python",
   "pygments_lexer": "ipython3",
   "version": "3.7.9"
  }
 },
 "nbformat": 4,
 "nbformat_minor": 5
}
